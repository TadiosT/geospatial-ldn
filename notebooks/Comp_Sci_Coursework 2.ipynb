{
 "cells": [
  {
   "cell_type": "markdown",
   "metadata": {
    "id": "qCcHIGCoyARr"
   },
   "source": [
    "Pip Installs"
   ]
  },
  {
   "cell_type": "code",
   "execution_count": 12,
   "metadata": {
    "colab": {
     "base_uri": "https://localhost:8080/"
    },
    "executionInfo": {
     "elapsed": 40510,
     "status": "ok",
     "timestamp": 1632862851881,
     "user": {
      "displayName": "Tadios Temesgen",
      "photoUrl": "https://lh3.googleusercontent.com/a-/AOh14GjPz8qJ8wtzgP8FA7Sm1ND2Sm6F5Byhb5l2qRhx=s64",
      "userId": "12685772300065794066"
     },
     "user_tz": -60
    },
    "id": "RTXuhvtRMxs3",
    "outputId": "33eefc1b-a035-4041-a80a-2427cba89065"
   },
   "outputs": [
    {
     "name": "stdout",
     "output_type": "stream",
     "text": [
      "Collecting keplergl\n",
      "  Downloading keplergl-0.3.2.tar.gz (9.7 MB)\n",
      "\u001B[K     |████████████████████████████████| 9.7 MB 4.4 MB/s \n",
      "\u001B[?25h  Installing build dependencies ... \u001B[?25l\u001B[?25hdone\n",
      "  Getting requirements to build wheel ... \u001B[?25l\u001B[?25hdone\n",
      "    Preparing wheel metadata ... \u001B[?25l\u001B[?25hdone\n",
      "Collecting traittypes>=0.2.1\n",
      "  Downloading traittypes-0.2.1-py2.py3-none-any.whl (8.6 kB)\n",
      "Requirement already satisfied: pandas>=0.23.0 in /usr/local/lib/python3.7/dist-packages (from keplergl) (1.1.5)\n",
      "Requirement already satisfied: geopandas>=0.5.0 in /usr/local/lib/python3.7/dist-packages (from keplergl) (0.9.0)\n",
      "Requirement already satisfied: ipywidgets<8,>=7.0.0 in /usr/local/lib/python3.7/dist-packages (from keplergl) (7.6.5)\n",
      "Requirement already satisfied: Shapely>=1.6.4.post2 in /usr/local/lib/python3.7/dist-packages (from keplergl) (1.7.1)\n",
      "Requirement already satisfied: fiona>=1.8 in /usr/local/lib/python3.7/dist-packages (from geopandas>=0.5.0->keplergl) (1.8.20)\n",
      "Requirement already satisfied: pyproj>=2.2.0 in /usr/local/lib/python3.7/dist-packages (from geopandas>=0.5.0->keplergl) (3.2.1)\n",
      "Requirement already satisfied: click>=4.0 in /usr/local/lib/python3.7/dist-packages (from fiona>=1.8->geopandas>=0.5.0->keplergl) (7.1.2)\n",
      "Requirement already satisfied: setuptools in /usr/local/lib/python3.7/dist-packages (from fiona>=1.8->geopandas>=0.5.0->keplergl) (57.4.0)\n",
      "Requirement already satisfied: munch in /usr/local/lib/python3.7/dist-packages (from fiona>=1.8->geopandas>=0.5.0->keplergl) (2.5.0)\n",
      "Requirement already satisfied: cligj>=0.5 in /usr/local/lib/python3.7/dist-packages (from fiona>=1.8->geopandas>=0.5.0->keplergl) (0.7.2)\n",
      "Requirement already satisfied: certifi in /usr/local/lib/python3.7/dist-packages (from fiona>=1.8->geopandas>=0.5.0->keplergl) (2021.5.30)\n",
      "Requirement already satisfied: six>=1.7 in /usr/local/lib/python3.7/dist-packages (from fiona>=1.8->geopandas>=0.5.0->keplergl) (1.15.0)\n",
      "Requirement already satisfied: click-plugins>=1.0 in /usr/local/lib/python3.7/dist-packages (from fiona>=1.8->geopandas>=0.5.0->keplergl) (1.1.1)\n",
      "Requirement already satisfied: attrs>=17 in /usr/local/lib/python3.7/dist-packages (from fiona>=1.8->geopandas>=0.5.0->keplergl) (21.2.0)\n",
      "Requirement already satisfied: ipykernel>=4.5.1 in /usr/local/lib/python3.7/dist-packages (from ipywidgets<8,>=7.0.0->keplergl) (4.10.1)\n",
      "Requirement already satisfied: traitlets>=4.3.1 in /usr/local/lib/python3.7/dist-packages (from ipywidgets<8,>=7.0.0->keplergl) (5.1.0)\n",
      "Requirement already satisfied: ipython-genutils~=0.2.0 in /usr/local/lib/python3.7/dist-packages (from ipywidgets<8,>=7.0.0->keplergl) (0.2.0)\n",
      "Requirement already satisfied: nbformat>=4.2.0 in /usr/local/lib/python3.7/dist-packages (from ipywidgets<8,>=7.0.0->keplergl) (5.1.3)\n",
      "Requirement already satisfied: jupyterlab-widgets>=1.0.0 in /usr/local/lib/python3.7/dist-packages (from ipywidgets<8,>=7.0.0->keplergl) (1.0.2)\n",
      "Requirement already satisfied: ipython>=4.0.0 in /usr/local/lib/python3.7/dist-packages (from ipywidgets<8,>=7.0.0->keplergl) (5.5.0)\n",
      "Requirement already satisfied: widgetsnbextension~=3.5.0 in /usr/local/lib/python3.7/dist-packages (from ipywidgets<8,>=7.0.0->keplergl) (3.5.1)\n",
      "Requirement already satisfied: jupyter-client in /usr/local/lib/python3.7/dist-packages (from ipykernel>=4.5.1->ipywidgets<8,>=7.0.0->keplergl) (5.3.5)\n",
      "Requirement already satisfied: tornado>=4.0 in /usr/local/lib/python3.7/dist-packages (from ipykernel>=4.5.1->ipywidgets<8,>=7.0.0->keplergl) (5.1.1)\n",
      "Requirement already satisfied: simplegeneric>0.8 in /usr/local/lib/python3.7/dist-packages (from ipython>=4.0.0->ipywidgets<8,>=7.0.0->keplergl) (0.8.1)\n",
      "Requirement already satisfied: pygments in /usr/local/lib/python3.7/dist-packages (from ipython>=4.0.0->ipywidgets<8,>=7.0.0->keplergl) (2.6.1)\n",
      "Requirement already satisfied: pexpect in /usr/local/lib/python3.7/dist-packages (from ipython>=4.0.0->ipywidgets<8,>=7.0.0->keplergl) (4.8.0)\n",
      "Requirement already satisfied: prompt-toolkit<2.0.0,>=1.0.4 in /usr/local/lib/python3.7/dist-packages (from ipython>=4.0.0->ipywidgets<8,>=7.0.0->keplergl) (1.0.18)\n",
      "Requirement already satisfied: decorator in /usr/local/lib/python3.7/dist-packages (from ipython>=4.0.0->ipywidgets<8,>=7.0.0->keplergl) (4.4.2)\n",
      "Requirement already satisfied: pickleshare in /usr/local/lib/python3.7/dist-packages (from ipython>=4.0.0->ipywidgets<8,>=7.0.0->keplergl) (0.7.5)\n",
      "Requirement already satisfied: jupyter-core in /usr/local/lib/python3.7/dist-packages (from nbformat>=4.2.0->ipywidgets<8,>=7.0.0->keplergl) (4.8.1)\n",
      "Requirement already satisfied: jsonschema!=2.5.0,>=2.4 in /usr/local/lib/python3.7/dist-packages (from nbformat>=4.2.0->ipywidgets<8,>=7.0.0->keplergl) (2.6.0)\n",
      "Requirement already satisfied: python-dateutil>=2.7.3 in /usr/local/lib/python3.7/dist-packages (from pandas>=0.23.0->keplergl) (2.8.2)\n",
      "Requirement already satisfied: numpy>=1.15.4 in /usr/local/lib/python3.7/dist-packages (from pandas>=0.23.0->keplergl) (1.19.5)\n",
      "Requirement already satisfied: pytz>=2017.2 in /usr/local/lib/python3.7/dist-packages (from pandas>=0.23.0->keplergl) (2018.9)\n",
      "Requirement already satisfied: wcwidth in /usr/local/lib/python3.7/dist-packages (from prompt-toolkit<2.0.0,>=1.0.4->ipython>=4.0.0->ipywidgets<8,>=7.0.0->keplergl) (0.2.5)\n",
      "Requirement already satisfied: notebook>=4.4.1 in /usr/local/lib/python3.7/dist-packages (from widgetsnbextension~=3.5.0->ipywidgets<8,>=7.0.0->keplergl) (5.3.1)\n",
      "Requirement already satisfied: jinja2 in /usr/local/lib/python3.7/dist-packages (from notebook>=4.4.1->widgetsnbextension~=3.5.0->ipywidgets<8,>=7.0.0->keplergl) (2.11.3)\n",
      "Requirement already satisfied: terminado>=0.8.1 in /usr/local/lib/python3.7/dist-packages (from notebook>=4.4.1->widgetsnbextension~=3.5.0->ipywidgets<8,>=7.0.0->keplergl) (0.12.1)\n",
      "Requirement already satisfied: Send2Trash in /usr/local/lib/python3.7/dist-packages (from notebook>=4.4.1->widgetsnbextension~=3.5.0->ipywidgets<8,>=7.0.0->keplergl) (1.8.0)\n",
      "Requirement already satisfied: nbconvert in /usr/local/lib/python3.7/dist-packages (from notebook>=4.4.1->widgetsnbextension~=3.5.0->ipywidgets<8,>=7.0.0->keplergl) (5.6.1)\n",
      "Requirement already satisfied: pyzmq>=13 in /usr/local/lib/python3.7/dist-packages (from jupyter-client->ipykernel>=4.5.1->ipywidgets<8,>=7.0.0->keplergl) (22.3.0)\n",
      "Requirement already satisfied: ptyprocess in /usr/local/lib/python3.7/dist-packages (from terminado>=0.8.1->notebook>=4.4.1->widgetsnbextension~=3.5.0->ipywidgets<8,>=7.0.0->keplergl) (0.7.0)\n",
      "Requirement already satisfied: MarkupSafe>=0.23 in /usr/local/lib/python3.7/dist-packages (from jinja2->notebook>=4.4.1->widgetsnbextension~=3.5.0->ipywidgets<8,>=7.0.0->keplergl) (2.0.1)\n",
      "Requirement already satisfied: pandocfilters>=1.4.1 in /usr/local/lib/python3.7/dist-packages (from nbconvert->notebook>=4.4.1->widgetsnbextension~=3.5.0->ipywidgets<8,>=7.0.0->keplergl) (1.5.0)\n",
      "Requirement already satisfied: testpath in /usr/local/lib/python3.7/dist-packages (from nbconvert->notebook>=4.4.1->widgetsnbextension~=3.5.0->ipywidgets<8,>=7.0.0->keplergl) (0.5.0)\n",
      "Requirement already satisfied: bleach in /usr/local/lib/python3.7/dist-packages (from nbconvert->notebook>=4.4.1->widgetsnbextension~=3.5.0->ipywidgets<8,>=7.0.0->keplergl) (4.1.0)\n",
      "Requirement already satisfied: entrypoints>=0.2.2 in /usr/local/lib/python3.7/dist-packages (from nbconvert->notebook>=4.4.1->widgetsnbextension~=3.5.0->ipywidgets<8,>=7.0.0->keplergl) (0.3)\n",
      "Requirement already satisfied: defusedxml in /usr/local/lib/python3.7/dist-packages (from nbconvert->notebook>=4.4.1->widgetsnbextension~=3.5.0->ipywidgets<8,>=7.0.0->keplergl) (0.7.1)\n",
      "Requirement already satisfied: mistune<2,>=0.8.1 in /usr/local/lib/python3.7/dist-packages (from nbconvert->notebook>=4.4.1->widgetsnbextension~=3.5.0->ipywidgets<8,>=7.0.0->keplergl) (0.8.4)\n",
      "Requirement already satisfied: packaging in /usr/local/lib/python3.7/dist-packages (from bleach->nbconvert->notebook>=4.4.1->widgetsnbextension~=3.5.0->ipywidgets<8,>=7.0.0->keplergl) (21.0)\n",
      "Requirement already satisfied: webencodings in /usr/local/lib/python3.7/dist-packages (from bleach->nbconvert->notebook>=4.4.1->widgetsnbextension~=3.5.0->ipywidgets<8,>=7.0.0->keplergl) (0.5.1)\n",
      "Requirement already satisfied: pyparsing>=2.0.2 in /usr/local/lib/python3.7/dist-packages (from packaging->bleach->nbconvert->notebook>=4.4.1->widgetsnbextension~=3.5.0->ipywidgets<8,>=7.0.0->keplergl) (2.4.7)\n",
      "Building wheels for collected packages: keplergl\n",
      "  Building wheel for keplergl (PEP 517) ... \u001B[?25l\u001B[?25hdone\n",
      "  Created wheel for keplergl: filename=keplergl-0.3.2-py2.py3-none-any.whl size=17922343 sha256=144031d2306434d12bf3f596e4bf78ee05273562cf3499bb34343247e0a3c9fb\n",
      "  Stored in directory: /root/.cache/pip/wheels/4b/19/e5/0852b7888ee350e9c57087ccc61eeab9daf50f5caac9c690ec\n",
      "Successfully built keplergl\n",
      "Installing collected packages: traittypes, keplergl\n",
      "Successfully installed keplergl-0.3.2 traittypes-0.2.1\n"
     ]
    }
   ],
   "source": [
    "pip install keplergl"
   ]
  },
  {
   "cell_type": "code",
   "execution_count": 2,
   "metadata": {
    "colab": {
     "base_uri": "https://localhost:8080/"
    },
    "executionInfo": {
     "elapsed": 4862,
     "status": "ok",
     "timestamp": 1632856416132,
     "user": {
      "displayName": "Tadios Temesgen",
      "photoUrl": "https://lh3.googleusercontent.com/a-/AOh14GjPz8qJ8wtzgP8FA7Sm1ND2Sm6F5Byhb5l2qRhx=s64",
      "userId": "12685772300065794066"
     },
     "user_tz": -60
    },
    "id": "FzQsftUZx_uh",
    "outputId": "d672f25a-190e-4ca8-a872-ed96e32ee363"
   },
   "outputs": [
    {
     "name": "stdout",
     "output_type": "stream",
     "text": [
      "Collecting hvplot\n",
      "  Downloading hvplot-0.7.3-py2.py3-none-any.whl (3.1 MB)\n",
      "\u001B[K     |████████████████████████████████| 3.1 MB 5.3 MB/s \n",
      "\u001B[?25hRequirement already satisfied: holoviews>=1.11.0 in /usr/local/lib/python3.7/dist-packages (from hvplot) (1.14.6)\n",
      "Requirement already satisfied: bokeh>=1.0.0 in /usr/local/lib/python3.7/dist-packages (from hvplot) (2.3.3)\n",
      "Requirement already satisfied: colorcet>=2 in /usr/local/lib/python3.7/dist-packages (from hvplot) (2.0.6)\n",
      "Requirement already satisfied: pandas in /usr/local/lib/python3.7/dist-packages (from hvplot) (1.1.5)\n",
      "Requirement already satisfied: numpy>=1.15 in /usr/local/lib/python3.7/dist-packages (from hvplot) (1.19.5)\n",
      "Requirement already satisfied: tornado>=5.1 in /usr/local/lib/python3.7/dist-packages (from bokeh>=1.0.0->hvplot) (5.1.1)\n",
      "Requirement already satisfied: PyYAML>=3.10 in /usr/local/lib/python3.7/dist-packages (from bokeh>=1.0.0->hvplot) (3.13)\n",
      "Requirement already satisfied: packaging>=16.8 in /usr/local/lib/python3.7/dist-packages (from bokeh>=1.0.0->hvplot) (21.0)\n",
      "Requirement already satisfied: pillow>=7.1.0 in /usr/local/lib/python3.7/dist-packages (from bokeh>=1.0.0->hvplot) (7.1.2)\n",
      "Requirement already satisfied: Jinja2>=2.9 in /usr/local/lib/python3.7/dist-packages (from bokeh>=1.0.0->hvplot) (2.11.3)\n",
      "Requirement already satisfied: typing-extensions>=3.7.4 in /usr/local/lib/python3.7/dist-packages (from bokeh>=1.0.0->hvplot) (3.7.4.3)\n",
      "Requirement already satisfied: python-dateutil>=2.1 in /usr/local/lib/python3.7/dist-packages (from bokeh>=1.0.0->hvplot) (2.8.2)\n",
      "Requirement already satisfied: pyct>=0.4.4 in /usr/local/lib/python3.7/dist-packages (from colorcet>=2->hvplot) (0.4.8)\n",
      "Requirement already satisfied: param>=1.7.0 in /usr/local/lib/python3.7/dist-packages (from colorcet>=2->hvplot) (1.11.1)\n",
      "Requirement already satisfied: pyviz-comms>=0.7.4 in /usr/local/lib/python3.7/dist-packages (from holoviews>=1.11.0->hvplot) (2.1.0)\n",
      "Requirement already satisfied: panel>=0.8.0 in /usr/local/lib/python3.7/dist-packages (from holoviews>=1.11.0->hvplot) (0.12.1)\n",
      "Requirement already satisfied: MarkupSafe>=0.23 in /usr/local/lib/python3.7/dist-packages (from Jinja2>=2.9->bokeh>=1.0.0->hvplot) (2.0.1)\n",
      "Requirement already satisfied: pyparsing>=2.0.2 in /usr/local/lib/python3.7/dist-packages (from packaging>=16.8->bokeh>=1.0.0->hvplot) (2.4.7)\n",
      "Requirement already satisfied: pytz>=2017.2 in /usr/local/lib/python3.7/dist-packages (from pandas->hvplot) (2018.9)\n",
      "Requirement already satisfied: bleach in /usr/local/lib/python3.7/dist-packages (from panel>=0.8.0->holoviews>=1.11.0->hvplot) (4.1.0)\n",
      "Requirement already satisfied: requests in /usr/local/lib/python3.7/dist-packages (from panel>=0.8.0->holoviews>=1.11.0->hvplot) (2.23.0)\n",
      "Requirement already satisfied: markdown in /usr/local/lib/python3.7/dist-packages (from panel>=0.8.0->holoviews>=1.11.0->hvplot) (3.3.4)\n",
      "Requirement already satisfied: tqdm>=4.48.0 in /usr/local/lib/python3.7/dist-packages (from panel>=0.8.0->holoviews>=1.11.0->hvplot) (4.62.3)\n",
      "Requirement already satisfied: six>=1.5 in /usr/local/lib/python3.7/dist-packages (from python-dateutil>=2.1->bokeh>=1.0.0->hvplot) (1.15.0)\n",
      "Requirement already satisfied: webencodings in /usr/local/lib/python3.7/dist-packages (from bleach->panel>=0.8.0->holoviews>=1.11.0->hvplot) (0.5.1)\n",
      "Requirement already satisfied: importlib-metadata in /usr/local/lib/python3.7/dist-packages (from markdown->panel>=0.8.0->holoviews>=1.11.0->hvplot) (4.8.1)\n",
      "Requirement already satisfied: zipp>=0.5 in /usr/local/lib/python3.7/dist-packages (from importlib-metadata->markdown->panel>=0.8.0->holoviews>=1.11.0->hvplot) (3.5.0)\n",
      "Requirement already satisfied: certifi>=2017.4.17 in /usr/local/lib/python3.7/dist-packages (from requests->panel>=0.8.0->holoviews>=1.11.0->hvplot) (2021.5.30)\n",
      "Requirement already satisfied: idna<3,>=2.5 in /usr/local/lib/python3.7/dist-packages (from requests->panel>=0.8.0->holoviews>=1.11.0->hvplot) (2.10)\n",
      "Requirement already satisfied: urllib3!=1.25.0,!=1.25.1,<1.26,>=1.21.1 in /usr/local/lib/python3.7/dist-packages (from requests->panel>=0.8.0->holoviews>=1.11.0->hvplot) (1.24.3)\n",
      "Requirement already satisfied: chardet<4,>=3.0.2 in /usr/local/lib/python3.7/dist-packages (from requests->panel>=0.8.0->holoviews>=1.11.0->hvplot) (3.0.4)\n",
      "Installing collected packages: hvplot\n",
      "Successfully installed hvplot-0.7.3\n"
     ]
    }
   ],
   "source": [
    "pip install hvplot"
   ]
  },
  {
   "cell_type": "code",
   "execution_count": 3,
   "metadata": {
    "colab": {
     "base_uri": "https://localhost:8080/"
    },
    "executionInfo": {
     "elapsed": 7030,
     "status": "ok",
     "timestamp": 1632856423156,
     "user": {
      "displayName": "Tadios Temesgen",
      "photoUrl": "https://lh3.googleusercontent.com/a-/AOh14GjPz8qJ8wtzgP8FA7Sm1ND2Sm6F5Byhb5l2qRhx=s64",
      "userId": "12685772300065794066"
     },
     "user_tz": -60
    },
    "id": "GT3c-F67yRxa",
    "outputId": "66d3d6d1-7bd7-4f46-ed9c-24e193cde87e"
   },
   "outputs": [
    {
     "name": "stdout",
     "output_type": "stream",
     "text": [
      "Collecting geopandas\n",
      "  Downloading geopandas-0.9.0-py2.py3-none-any.whl (994 kB)\n",
      "\u001B[K     |████████████████████████████████| 994 kB 5.2 MB/s \n",
      "\u001B[?25hCollecting pyproj>=2.2.0\n",
      "  Downloading pyproj-3.2.1-cp37-cp37m-manylinux2010_x86_64.whl (6.3 MB)\n",
      "\u001B[K     |████████████████████████████████| 6.3 MB 49.5 MB/s \n",
      "\u001B[?25hRequirement already satisfied: shapely>=1.6 in /usr/local/lib/python3.7/dist-packages (from geopandas) (1.7.1)\n",
      "Requirement already satisfied: pandas>=0.24.0 in /usr/local/lib/python3.7/dist-packages (from geopandas) (1.1.5)\n",
      "Collecting fiona>=1.8\n",
      "  Downloading Fiona-1.8.20-cp37-cp37m-manylinux1_x86_64.whl (15.4 MB)\n",
      "\u001B[K     |████████████████████████████████| 15.4 MB 37 kB/s \n",
      "\u001B[?25hCollecting click-plugins>=1.0\n",
      "  Downloading click_plugins-1.1.1-py2.py3-none-any.whl (7.5 kB)\n",
      "Collecting munch\n",
      "  Downloading munch-2.5.0-py2.py3-none-any.whl (10 kB)\n",
      "Collecting cligj>=0.5\n",
      "  Downloading cligj-0.7.2-py3-none-any.whl (7.1 kB)\n",
      "Requirement already satisfied: click>=4.0 in /usr/local/lib/python3.7/dist-packages (from fiona>=1.8->geopandas) (7.1.2)\n",
      "Requirement already satisfied: attrs>=17 in /usr/local/lib/python3.7/dist-packages (from fiona>=1.8->geopandas) (21.2.0)\n",
      "Requirement already satisfied: setuptools in /usr/local/lib/python3.7/dist-packages (from fiona>=1.8->geopandas) (57.4.0)\n",
      "Requirement already satisfied: certifi in /usr/local/lib/python3.7/dist-packages (from fiona>=1.8->geopandas) (2021.5.30)\n",
      "Requirement already satisfied: six>=1.7 in /usr/local/lib/python3.7/dist-packages (from fiona>=1.8->geopandas) (1.15.0)\n",
      "Requirement already satisfied: python-dateutil>=2.7.3 in /usr/local/lib/python3.7/dist-packages (from pandas>=0.24.0->geopandas) (2.8.2)\n",
      "Requirement already satisfied: numpy>=1.15.4 in /usr/local/lib/python3.7/dist-packages (from pandas>=0.24.0->geopandas) (1.19.5)\n",
      "Requirement already satisfied: pytz>=2017.2 in /usr/local/lib/python3.7/dist-packages (from pandas>=0.24.0->geopandas) (2018.9)\n",
      "Installing collected packages: munch, cligj, click-plugins, pyproj, fiona, geopandas\n",
      "Successfully installed click-plugins-1.1.1 cligj-0.7.2 fiona-1.8.20 geopandas-0.9.0 munch-2.5.0 pyproj-3.2.1\n"
     ]
    }
   ],
   "source": [
    "pip install geopandas"
   ]
  },
  {
   "cell_type": "code",
   "execution_count": 4,
   "metadata": {
    "colab": {
     "base_uri": "https://localhost:8080/"
    },
    "executionInfo": {
     "elapsed": 50067,
     "status": "ok",
     "timestamp": 1632856473206,
     "user": {
      "displayName": "Tadios Temesgen",
      "photoUrl": "https://lh3.googleusercontent.com/a-/AOh14GjPz8qJ8wtzgP8FA7Sm1ND2Sm6F5Byhb5l2qRhx=s64",
      "userId": "12685772300065794066"
     },
     "user_tz": -60
    },
    "id": "Gg0siCEnyrVH",
    "outputId": "3cd1d977-1d31-40b0-d3a0-7c07a45ba80b"
   },
   "outputs": [
    {
     "name": "stdout",
     "output_type": "stream",
     "text": [
      "Collecting geoviews\n",
      "  Downloading geoviews-1.9.1-py2.py3-none-any.whl (502 kB)\n",
      "\u001B[?25l\r",
      "\u001B[K     |▋                               | 10 kB 26.2 MB/s eta 0:00:01\r",
      "\u001B[K     |█▎                              | 20 kB 29.1 MB/s eta 0:00:01\r",
      "\u001B[K     |██                              | 30 kB 19.3 MB/s eta 0:00:01\r",
      "\u001B[K     |██▋                             | 40 kB 15.5 MB/s eta 0:00:01\r",
      "\u001B[K     |███▎                            | 51 kB 5.5 MB/s eta 0:00:01\r",
      "\u001B[K     |████                            | 61 kB 6.1 MB/s eta 0:00:01\r",
      "\u001B[K     |████▋                           | 71 kB 5.5 MB/s eta 0:00:01\r",
      "\u001B[K     |█████▏                          | 81 kB 6.1 MB/s eta 0:00:01\r",
      "\u001B[K     |█████▉                          | 92 kB 6.1 MB/s eta 0:00:01\r",
      "\u001B[K     |██████▌                         | 102 kB 5.2 MB/s eta 0:00:01\r",
      "\u001B[K     |███████▏                        | 112 kB 5.2 MB/s eta 0:00:01\r",
      "\u001B[K     |███████▉                        | 122 kB 5.2 MB/s eta 0:00:01\r",
      "\u001B[K     |████████▌                       | 133 kB 5.2 MB/s eta 0:00:01\r",
      "\u001B[K     |█████████▏                      | 143 kB 5.2 MB/s eta 0:00:01\r",
      "\u001B[K     |█████████▉                      | 153 kB 5.2 MB/s eta 0:00:01\r",
      "\u001B[K     |██████████▍                     | 163 kB 5.2 MB/s eta 0:00:01\r",
      "\u001B[K     |███████████                     | 174 kB 5.2 MB/s eta 0:00:01\r",
      "\u001B[K     |███████████▊                    | 184 kB 5.2 MB/s eta 0:00:01\r",
      "\u001B[K     |████████████▍                   | 194 kB 5.2 MB/s eta 0:00:01\r",
      "\u001B[K     |█████████████                   | 204 kB 5.2 MB/s eta 0:00:01\r",
      "\u001B[K     |█████████████▊                  | 215 kB 5.2 MB/s eta 0:00:01\r",
      "\u001B[K     |██████████████▍                 | 225 kB 5.2 MB/s eta 0:00:01\r",
      "\u001B[K     |███████████████                 | 235 kB 5.2 MB/s eta 0:00:01\r",
      "\u001B[K     |███████████████▋                | 245 kB 5.2 MB/s eta 0:00:01\r",
      "\u001B[K     |████████████████▎               | 256 kB 5.2 MB/s eta 0:00:01\r",
      "\u001B[K     |█████████████████               | 266 kB 5.2 MB/s eta 0:00:01\r",
      "\u001B[K     |█████████████████▋              | 276 kB 5.2 MB/s eta 0:00:01\r",
      "\u001B[K     |██████████████████▎             | 286 kB 5.2 MB/s eta 0:00:01\r",
      "\u001B[K     |███████████████████             | 296 kB 5.2 MB/s eta 0:00:01\r",
      "\u001B[K     |███████████████████▋            | 307 kB 5.2 MB/s eta 0:00:01\r",
      "\u001B[K     |████████████████████▏           | 317 kB 5.2 MB/s eta 0:00:01\r",
      "\u001B[K     |████████████████████▉           | 327 kB 5.2 MB/s eta 0:00:01\r",
      "\u001B[K     |█████████████████████▌          | 337 kB 5.2 MB/s eta 0:00:01\r",
      "\u001B[K     |██████████████████████▏         | 348 kB 5.2 MB/s eta 0:00:01\r",
      "\u001B[K     |██████████████████████▉         | 358 kB 5.2 MB/s eta 0:00:01\r",
      "\u001B[K     |███████████████████████▌        | 368 kB 5.2 MB/s eta 0:00:01\r",
      "\u001B[K     |████████████████████████▏       | 378 kB 5.2 MB/s eta 0:00:01\r",
      "\u001B[K     |████████████████████████▊       | 389 kB 5.2 MB/s eta 0:00:01\r",
      "\u001B[K     |█████████████████████████▍      | 399 kB 5.2 MB/s eta 0:00:01\r",
      "\u001B[K     |██████████████████████████      | 409 kB 5.2 MB/s eta 0:00:01\r",
      "\u001B[K     |██████████████████████████▊     | 419 kB 5.2 MB/s eta 0:00:01\r",
      "\u001B[K     |███████████████████████████▍    | 430 kB 5.2 MB/s eta 0:00:01\r",
      "\u001B[K     |████████████████████████████    | 440 kB 5.2 MB/s eta 0:00:01\r",
      "\u001B[K     |████████████████████████████▊   | 450 kB 5.2 MB/s eta 0:00:01\r",
      "\u001B[K     |█████████████████████████████▍  | 460 kB 5.2 MB/s eta 0:00:01\r",
      "\u001B[K     |██████████████████████████████  | 471 kB 5.2 MB/s eta 0:00:01\r",
      "\u001B[K     |██████████████████████████████▋ | 481 kB 5.2 MB/s eta 0:00:01\r",
      "\u001B[K     |███████████████████████████████▎| 491 kB 5.2 MB/s eta 0:00:01\r",
      "\u001B[K     |████████████████████████████████| 501 kB 5.2 MB/s eta 0:00:01\r",
      "\u001B[K     |████████████████████████████████| 502 kB 5.2 MB/s \n",
      "\u001B[?25hRequirement already satisfied: holoviews>=1.14.2 in /usr/local/lib/python3.7/dist-packages (from geoviews) (1.14.6)\n",
      "Requirement already satisfied: bokeh<2.4,>=2.3.0 in /usr/local/lib/python3.7/dist-packages (from geoviews) (2.3.3)\n",
      "Collecting cartopy>=0.17.0\n",
      "  Downloading Cartopy-0.20.0.tar.gz (10.8 MB)\n",
      "\u001B[K     |████████████████████████████████| 10.8 MB 39 kB/s \n",
      "\u001B[?25h  Installing build dependencies ... \u001B[?25l\u001B[?25hdone\n",
      "  Getting requirements to build wheel ... \u001B[?25l\u001B[?25herror\n",
      "\u001B[33mWARNING: Discarding https://files.pythonhosted.org/packages/0f/c0/58453b036e79046d211f083880d58dcce787e7e07647ac25dc46c6555099/Cartopy-0.20.0.tar.gz#sha256=eae58aff26806e63cf115b2bce9477cedc4aa9f578c5e477b2c25cfa404f2b7a (from https://pypi.org/simple/cartopy/) (requires-python:>=3.7). Command errored out with exit status 1: /usr/bin/python3 /usr/local/lib/python3.7/dist-packages/pip/_vendor/pep517/in_process/_in_process.py get_requires_for_build_wheel /tmp/tmp4grneld7 Check the logs for full command output.\u001B[0m\n",
      "  Downloading Cartopy-0.19.0.post1.tar.gz (12.1 MB)\n",
      "\u001B[K     |████████████████████████████████| 12.1 MB 47.0 MB/s \n",
      "\u001B[?25h  Installing build dependencies ... \u001B[?25l\u001B[?25hdone\n",
      "  Getting requirements to build wheel ... \u001B[?25l\u001B[?25hdone\n",
      "    Preparing wheel metadata ... \u001B[?25l\u001B[?25hdone\n",
      "Requirement already satisfied: numpy>=1.11.3 in /usr/local/lib/python3.7/dist-packages (from bokeh<2.4,>=2.3.0->geoviews) (1.19.5)\n",
      "Requirement already satisfied: tornado>=5.1 in /usr/local/lib/python3.7/dist-packages (from bokeh<2.4,>=2.3.0->geoviews) (5.1.1)\n",
      "Requirement already satisfied: packaging>=16.8 in /usr/local/lib/python3.7/dist-packages (from bokeh<2.4,>=2.3.0->geoviews) (21.0)\n",
      "Requirement already satisfied: pillow>=7.1.0 in /usr/local/lib/python3.7/dist-packages (from bokeh<2.4,>=2.3.0->geoviews) (7.1.2)\n",
      "Requirement already satisfied: python-dateutil>=2.1 in /usr/local/lib/python3.7/dist-packages (from bokeh<2.4,>=2.3.0->geoviews) (2.8.2)\n",
      "Requirement already satisfied: typing-extensions>=3.7.4 in /usr/local/lib/python3.7/dist-packages (from bokeh<2.4,>=2.3.0->geoviews) (3.7.4.3)\n",
      "Requirement already satisfied: PyYAML>=3.10 in /usr/local/lib/python3.7/dist-packages (from bokeh<2.4,>=2.3.0->geoviews) (3.13)\n",
      "Requirement already satisfied: Jinja2>=2.9 in /usr/local/lib/python3.7/dist-packages (from bokeh<2.4,>=2.3.0->geoviews) (2.11.3)\n",
      "Requirement already satisfied: shapely>=1.5.6 in /usr/local/lib/python3.7/dist-packages (from cartopy>=0.17.0->geoviews) (1.7.1)\n",
      "Collecting pyshp>=2\n",
      "  Downloading pyshp-2.1.3.tar.gz (219 kB)\n",
      "\u001B[K     |████████████████████████████████| 219 kB 54.1 MB/s \n",
      "\u001B[?25hRequirement already satisfied: param<2.0,>=1.9.3 in /usr/local/lib/python3.7/dist-packages (from holoviews>=1.14.2->geoviews) (1.11.1)\n",
      "Requirement already satisfied: pyviz-comms>=0.7.4 in /usr/local/lib/python3.7/dist-packages (from holoviews>=1.14.2->geoviews) (2.1.0)\n",
      "Requirement already satisfied: colorcet in /usr/local/lib/python3.7/dist-packages (from holoviews>=1.14.2->geoviews) (2.0.6)\n",
      "Requirement already satisfied: pandas>=0.20.0 in /usr/local/lib/python3.7/dist-packages (from holoviews>=1.14.2->geoviews) (1.1.5)\n",
      "Requirement already satisfied: panel>=0.8.0 in /usr/local/lib/python3.7/dist-packages (from holoviews>=1.14.2->geoviews) (0.12.1)\n",
      "Requirement already satisfied: MarkupSafe>=0.23 in /usr/local/lib/python3.7/dist-packages (from Jinja2>=2.9->bokeh<2.4,>=2.3.0->geoviews) (2.0.1)\n",
      "Requirement already satisfied: pyparsing>=2.0.2 in /usr/local/lib/python3.7/dist-packages (from packaging>=16.8->bokeh<2.4,>=2.3.0->geoviews) (2.4.7)\n",
      "Requirement already satisfied: pytz>=2017.2 in /usr/local/lib/python3.7/dist-packages (from pandas>=0.20.0->holoviews>=1.14.2->geoviews) (2018.9)\n",
      "Requirement already satisfied: requests in /usr/local/lib/python3.7/dist-packages (from panel>=0.8.0->holoviews>=1.14.2->geoviews) (2.23.0)\n",
      "Requirement already satisfied: tqdm>=4.48.0 in /usr/local/lib/python3.7/dist-packages (from panel>=0.8.0->holoviews>=1.14.2->geoviews) (4.62.3)\n",
      "Requirement already satisfied: bleach in /usr/local/lib/python3.7/dist-packages (from panel>=0.8.0->holoviews>=1.14.2->geoviews) (4.1.0)\n",
      "Requirement already satisfied: markdown in /usr/local/lib/python3.7/dist-packages (from panel>=0.8.0->holoviews>=1.14.2->geoviews) (3.3.4)\n",
      "Requirement already satisfied: pyct>=0.4.4 in /usr/local/lib/python3.7/dist-packages (from panel>=0.8.0->holoviews>=1.14.2->geoviews) (0.4.8)\n",
      "Requirement already satisfied: six>=1.5 in /usr/local/lib/python3.7/dist-packages (from python-dateutil>=2.1->bokeh<2.4,>=2.3.0->geoviews) (1.15.0)\n",
      "Requirement already satisfied: webencodings in /usr/local/lib/python3.7/dist-packages (from bleach->panel>=0.8.0->holoviews>=1.14.2->geoviews) (0.5.1)\n",
      "Requirement already satisfied: importlib-metadata in /usr/local/lib/python3.7/dist-packages (from markdown->panel>=0.8.0->holoviews>=1.14.2->geoviews) (4.8.1)\n",
      "Requirement already satisfied: zipp>=0.5 in /usr/local/lib/python3.7/dist-packages (from importlib-metadata->markdown->panel>=0.8.0->holoviews>=1.14.2->geoviews) (3.5.0)\n",
      "Requirement already satisfied: urllib3!=1.25.0,!=1.25.1,<1.26,>=1.21.1 in /usr/local/lib/python3.7/dist-packages (from requests->panel>=0.8.0->holoviews>=1.14.2->geoviews) (1.24.3)\n",
      "Requirement already satisfied: certifi>=2017.4.17 in /usr/local/lib/python3.7/dist-packages (from requests->panel>=0.8.0->holoviews>=1.14.2->geoviews) (2021.5.30)\n",
      "Requirement already satisfied: idna<3,>=2.5 in /usr/local/lib/python3.7/dist-packages (from requests->panel>=0.8.0->holoviews>=1.14.2->geoviews) (2.10)\n",
      "Requirement already satisfied: chardet<4,>=3.0.2 in /usr/local/lib/python3.7/dist-packages (from requests->panel>=0.8.0->holoviews>=1.14.2->geoviews) (3.0.4)\n",
      "Building wheels for collected packages: cartopy, pyshp\n",
      "  Building wheel for cartopy (PEP 517) ... \u001B[?25l\u001B[?25hdone\n",
      "  Created wheel for cartopy: filename=Cartopy-0.19.0.post1-cp37-cp37m-linux_x86_64.whl size=12516265 sha256=20021862dd3c1e66b1aab8becd73053b17cdb2319b2f48b8c5115010235b6ba6\n",
      "  Stored in directory: /root/.cache/pip/wheels/98/01/f7/bd10aeb96fe4b518cde5f7c4f5e12c7202f85b7353a5017847\n",
      "  Building wheel for pyshp (setup.py) ... \u001B[?25l\u001B[?25hdone\n",
      "  Created wheel for pyshp: filename=pyshp-2.1.3-py3-none-any.whl size=37325 sha256=1a8d7db6a7048bac20f2cbdecd59df58cec2b561f2e29b1cdff9a4c2d9258fbe\n",
      "  Stored in directory: /root/.cache/pip/wheels/43/f8/87/53c8cd41545ba20e536ea29a8fcb5431b5f477ca50d5dffbbe\n",
      "Successfully built cartopy pyshp\n",
      "Installing collected packages: pyshp, cartopy, geoviews\n",
      "Successfully installed cartopy-0.19.0.post1 geoviews-1.9.1 pyshp-2.1.3\n"
     ]
    }
   ],
   "source": [
    "pip install geoviews"
   ]
  },
  {
   "cell_type": "markdown",
   "metadata": {
    "id": "btixZKzR6IFc"
   },
   "source": [
    "## Mapping "
   ]
  },
  {
   "cell_type": "code",
   "execution_count": null,
   "metadata": {
    "colab": {
     "base_uri": "https://localhost:8080/",
     "height": 1000
    },
    "executionInfo": {
     "elapsed": 456,
     "status": "ok",
     "timestamp": 1632298919748,
     "user": {
      "displayName": "Tadios Temesgen",
      "photoUrl": "https://lh3.googleusercontent.com/a-/AOh14GjPz8qJ8wtzgP8FA7Sm1ND2Sm6F5Byhb5l2qRhx=s64",
      "userId": "12685772300065794066"
     },
     "user_tz": -60
    },
    "id": "e3vNQdbCkPgE",
    "outputId": "b778ae1d-b689-4f9d-f7df-fce1213b0f0c"
   },
   "outputs": [
    {
     "data": {
      "text/html": [
       "<div style=\"width:100%;\"><div style=\"position:relative;width:100%;height:0;padding-bottom:60%;\"><span style=\"color:#565656\">Make this Notebook Trusted to load map: File -> Trust Notebook</span><iframe src=\"about:blank\" style=\"position:absolute;width:100%;height:100%;left:0;top:0;border:none !important;\" data-html=%3C%21DOCTYPE%20html%3E%0A%3Chead%3E%20%20%20%20%0A%20%20%20%20%3Cmeta%20http-equiv%3D%22content-type%22%20content%3D%22text/html%3B%20charset%3DUTF-8%22%20/%3E%0A%20%20%20%20%3Cscript%3EL_PREFER_CANVAS%3Dfalse%3B%20L_NO_TOUCH%3Dfalse%3B%20L_DISABLE_3D%3Dfalse%3B%3C/script%3E%0A%20%20%20%20%3Cscript%20src%3D%22https%3A//cdn.jsdelivr.net/npm/leaflet%401.4.0/dist/leaflet.js%22%3E%3C/script%3E%0A%20%20%20%20%3Cscript%20src%3D%22https%3A//code.jquery.com/jquery-1.12.4.min.js%22%3E%3C/script%3E%0A%20%20%20%20%3Cscript%20src%3D%22https%3A//maxcdn.bootstrapcdn.com/bootstrap/3.2.0/js/bootstrap.min.js%22%3E%3C/script%3E%0A%20%20%20%20%3Cscript%20src%3D%22https%3A//cdnjs.cloudflare.com/ajax/libs/Leaflet.awesome-markers/2.0.2/leaflet.awesome-markers.js%22%3E%3C/script%3E%0A%20%20%20%20%3Clink%20rel%3D%22stylesheet%22%20href%3D%22https%3A//cdn.jsdelivr.net/npm/leaflet%401.4.0/dist/leaflet.css%22/%3E%0A%20%20%20%20%3Clink%20rel%3D%22stylesheet%22%20href%3D%22https%3A//maxcdn.bootstrapcdn.com/bootstrap/3.2.0/css/bootstrap.min.css%22/%3E%0A%20%20%20%20%3Clink%20rel%3D%22stylesheet%22%20href%3D%22https%3A//maxcdn.bootstrapcdn.com/bootstrap/3.2.0/css/bootstrap-theme.min.css%22/%3E%0A%20%20%20%20%3Clink%20rel%3D%22stylesheet%22%20href%3D%22https%3A//maxcdn.bootstrapcdn.com/font-awesome/4.6.3/css/font-awesome.min.css%22/%3E%0A%20%20%20%20%3Clink%20rel%3D%22stylesheet%22%20href%3D%22https%3A//cdnjs.cloudflare.com/ajax/libs/Leaflet.awesome-markers/2.0.2/leaflet.awesome-markers.css%22/%3E%0A%20%20%20%20%3Clink%20rel%3D%22stylesheet%22%20href%3D%22https%3A//rawcdn.githack.com/python-visualization/folium/master/folium/templates/leaflet.awesome.rotate.css%22/%3E%0A%20%20%20%20%3Cstyle%3Ehtml%2C%20body%20%7Bwidth%3A%20100%25%3Bheight%3A%20100%25%3Bmargin%3A%200%3Bpadding%3A%200%3B%7D%3C/style%3E%0A%20%20%20%20%3Cstyle%3E%23map%20%7Bposition%3Aabsolute%3Btop%3A0%3Bbottom%3A0%3Bright%3A0%3Bleft%3A0%3B%7D%3C/style%3E%0A%20%20%20%20%0A%20%20%20%20%3Cmeta%20name%3D%22viewport%22%20content%3D%22width%3Ddevice-width%2C%0A%20%20%20%20%20%20%20%20initial-scale%3D1.0%2C%20maximum-scale%3D1.0%2C%20user-scalable%3Dno%22%20/%3E%0A%20%20%20%20%3Cstyle%3E%23map_2e5a3f7180d64f0f959fb60e2fdb5245%20%7B%0A%20%20%20%20%20%20%20%20position%3A%20relative%3B%0A%20%20%20%20%20%20%20%20width%3A%20100.0%25%3B%0A%20%20%20%20%20%20%20%20height%3A%20100.0%25%3B%0A%20%20%20%20%20%20%20%20left%3A%200.0%25%3B%0A%20%20%20%20%20%20%20%20top%3A%200.0%25%3B%0A%20%20%20%20%20%20%20%20%7D%0A%20%20%20%20%3C/style%3E%0A%3C/head%3E%0A%3Cbody%3E%20%20%20%20%0A%20%20%20%20%0A%20%20%20%20%3Cdiv%20class%3D%22folium-map%22%20id%3D%22map_2e5a3f7180d64f0f959fb60e2fdb5245%22%20%3E%3C/div%3E%0A%3C/body%3E%0A%3Cscript%3E%20%20%20%20%0A%20%20%20%20%0A%20%20%20%20%0A%20%20%20%20%20%20%20%20var%20bounds%20%3D%20null%3B%0A%20%20%20%20%0A%0A%20%20%20%20var%20map_2e5a3f7180d64f0f959fb60e2fdb5245%20%3D%20L.map%28%0A%20%20%20%20%20%20%20%20%27map_2e5a3f7180d64f0f959fb60e2fdb5245%27%2C%20%7B%0A%20%20%20%20%20%20%20%20center%3A%20%5B51.5074%2C%200.1278%5D%2C%0A%20%20%20%20%20%20%20%20zoom%3A%2010%2C%0A%20%20%20%20%20%20%20%20maxBounds%3A%20bounds%2C%0A%20%20%20%20%20%20%20%20layers%3A%20%5B%5D%2C%0A%20%20%20%20%20%20%20%20worldCopyJump%3A%20false%2C%0A%20%20%20%20%20%20%20%20crs%3A%20L.CRS.EPSG3857%2C%0A%20%20%20%20%20%20%20%20zoomControl%3A%20true%2C%0A%20%20%20%20%20%20%20%20%7D%29%3B%0A%0A%0A%20%20%20%20%0A%20%20%20%20var%20tile_layer_09bb21d7e29b460ea68fda37834ee3c5%20%3D%20L.tileLayer%28%0A%20%20%20%20%20%20%20%20%27https%3A//cartodb-basemaps-%7Bs%7D.global.ssl.fastly.net/light_all/%7Bz%7D/%7Bx%7D/%7By%7D.png%27%2C%0A%20%20%20%20%20%20%20%20%7B%0A%20%20%20%20%20%20%20%20%22attribution%22%3A%20null%2C%0A%20%20%20%20%20%20%20%20%22detectRetina%22%3A%20false%2C%0A%20%20%20%20%20%20%20%20%22maxNativeZoom%22%3A%2018%2C%0A%20%20%20%20%20%20%20%20%22maxZoom%22%3A%2018%2C%0A%20%20%20%20%20%20%20%20%22minZoom%22%3A%200%2C%0A%20%20%20%20%20%20%20%20%22noWrap%22%3A%20false%2C%0A%20%20%20%20%20%20%20%20%22opacity%22%3A%201%2C%0A%20%20%20%20%20%20%20%20%22subdomains%22%3A%20%22abc%22%2C%0A%20%20%20%20%20%20%20%20%22tms%22%3A%20false%0A%7D%29.addTo%28map_2e5a3f7180d64f0f959fb60e2fdb5245%29%3B%0A%3C/script%3E onload=\"this.contentDocument.open();this.contentDocument.write(    decodeURIComponent(this.getAttribute('data-html')));this.contentDocument.close();\" allowfullscreen webkitallowfullscreen mozallowfullscreen></iframe></div></div>"
      ],
      "text/plain": [
       "<folium.folium.Map at 0x7fc8786c4c90>"
      ]
     },
     "execution_count": 2,
     "metadata": {},
     "output_type": "execute_result"
    }
   ],
   "source": [
    "import folium\n",
    "map = folium.Map(location=[51.5074,0.1278],tiles = \"CartoDB positron\")\n",
    "map"
   ]
  },
  {
   "cell_type": "code",
   "execution_count": null,
   "metadata": {
    "colab": {
     "base_uri": "https://localhost:8080/",
     "height": 227,
     "output_embedded_package_id": "1BwARFbnJeu_15fGwLPQMAojAyTdqw0c5"
    },
    "executionInfo": {
     "elapsed": 5184,
     "status": "ok",
     "timestamp": 1631608270193,
     "user": {
      "displayName": "Tadios Temesgen",
      "photoUrl": "https://lh3.googleusercontent.com/a-/AOh14GjPz8qJ8wtzgP8FA7Sm1ND2Sm6F5Byhb5l2qRhx=s64",
      "userId": "12685772300065794066"
     },
     "user_tz": -60
    },
    "id": "I9QqbWaTDMJ4",
    "outputId": "534f47c8-b781-4e73-a472-7de44dc271ee"
   },
   "outputs": [
    {
     "data": {
      "text/plain": [
       "Output hidden; open in https://colab.research.google.com to view."
      ]
     },
     "metadata": {},
     "output_type": "display_data"
    }
   ],
   "source": [
    "import geopandas\n",
    "import hvplot as hv\n",
    "import hvplot.pandas\n",
    "import numpy as np\n",
    "import pandas as pd\n",
    "\n",
    "world = geopandas.read_file(geopandas.datasets.get_path('naturalearth_lowres'))\n",
    "world.plot()"
   ]
  },
  {
   "cell_type": "code",
   "execution_count": null,
   "metadata": {
    "id": "sYiTzvgWACFd"
   },
   "outputs": [],
   "source": []
  },
  {
   "cell_type": "markdown",
   "metadata": {
    "id": "FgRmKN2_6Hpd"
   },
   "source": [
    "# TFL Station Locations"
   ]
  },
  {
   "cell_type": "code",
   "execution_count": null,
   "metadata": {
    "colab": {
     "base_uri": "https://localhost:8080/",
     "height": 17,
     "output_embedded_package_id": "1dfk5CWYhKxPBpdCWbvG3lz60JjXDftdk"
    },
    "id": "9CzxpzEiJaiL",
    "outputId": "d5088ab6-c852-45cb-df24-06c22d7cf7bc"
   },
   "outputs": [
    {
     "data": {
      "text/plain": [
       "Output hidden; open in https://colab.research.google.com to view."
      ]
     },
     "metadata": {},
     "output_type": "display_data"
    }
   ],
   "source": [
    "import geopandas as gp\n",
    "import hvplot.pandas\n",
    "gp.io.file.fiona.drvsupport.supported_drivers['KML'] = 'rw'\n",
    "\n",
    "tfl_stations = gp.read_file('stations.kml', driver='KML')\n",
    "tfl_stations.geometry = gp.points_from_xy(tfl_stations.geometry.x, tfl_stations.geometry.y)\n",
    "\n",
    "tfl_stations_plot = tfl_stations.hvplot(geo=True,\n",
    "                                        title='TFL Stations',\n",
    "                                        marker='x',\n",
    "                                        color='red',\n",
    "                                        size=20,\n",
    "                                        tiles='CartoLight', \n",
    "                                        hover_cols=[\"Name\"]\n",
    "                                       )\n",
    "print(tfl_stations_plot)"
   ]
  },
  {
   "cell_type": "code",
   "execution_count": null,
   "metadata": {
    "colab": {
     "base_uri": "https://localhost:8080/",
     "height": 558
    },
    "executionInfo": {
     "elapsed": 19377,
     "status": "error",
     "timestamp": 1631798060999,
     "user": {
      "displayName": "Tadios Temesgen",
      "photoUrl": "https://lh3.googleusercontent.com/a-/AOh14GjPz8qJ8wtzgP8FA7Sm1ND2Sm6F5Byhb5l2qRhx=s64",
      "userId": "12685772300065794066"
     },
     "user_tz": -60
    },
    "id": "BtkYmUUZYJrY",
    "outputId": "69d8ecdb-b564-469e-bf4d-dd0434652a02"
   },
   "outputs": [
    {
     "ename": "KeyboardInterrupt",
     "evalue": "ignored",
     "output_type": "error",
     "traceback": [
      "\u001B[0;31m---------------------------------------------------------------------------\u001B[0m",
      "\u001B[0;31mKeyboardInterrupt\u001B[0m                         Traceback (most recent call last)",
      "\u001B[0;32m/usr/local/lib/python3.7/dist-packages/ipykernel/kernelbase.py\u001B[0m in \u001B[0;36m_input_request\u001B[0;34m(self, prompt, ident, parent, password)\u001B[0m\n\u001B[1;32m    728\u001B[0m             \u001B[0;32mtry\u001B[0m\u001B[0;34m:\u001B[0m\u001B[0;34m\u001B[0m\u001B[0;34m\u001B[0m\u001B[0m\n\u001B[0;32m--> 729\u001B[0;31m                 \u001B[0mident\u001B[0m\u001B[0;34m,\u001B[0m \u001B[0mreply\u001B[0m \u001B[0;34m=\u001B[0m \u001B[0mself\u001B[0m\u001B[0;34m.\u001B[0m\u001B[0msession\u001B[0m\u001B[0;34m.\u001B[0m\u001B[0mrecv\u001B[0m\u001B[0;34m(\u001B[0m\u001B[0mself\u001B[0m\u001B[0;34m.\u001B[0m\u001B[0mstdin_socket\u001B[0m\u001B[0;34m,\u001B[0m \u001B[0;36m0\u001B[0m\u001B[0;34m)\u001B[0m\u001B[0;34m\u001B[0m\u001B[0;34m\u001B[0m\u001B[0m\n\u001B[0m\u001B[1;32m    730\u001B[0m             \u001B[0;32mexcept\u001B[0m \u001B[0mException\u001B[0m\u001B[0;34m:\u001B[0m\u001B[0;34m\u001B[0m\u001B[0;34m\u001B[0m\u001B[0m\n",
      "\u001B[0;32m/usr/local/lib/python3.7/dist-packages/jupyter_client/session.py\u001B[0m in \u001B[0;36mrecv\u001B[0;34m(self, socket, mode, content, copy)\u001B[0m\n\u001B[1;32m    802\u001B[0m         \u001B[0;32mtry\u001B[0m\u001B[0;34m:\u001B[0m\u001B[0;34m\u001B[0m\u001B[0;34m\u001B[0m\u001B[0m\n\u001B[0;32m--> 803\u001B[0;31m             \u001B[0mmsg_list\u001B[0m \u001B[0;34m=\u001B[0m \u001B[0msocket\u001B[0m\u001B[0;34m.\u001B[0m\u001B[0mrecv_multipart\u001B[0m\u001B[0;34m(\u001B[0m\u001B[0mmode\u001B[0m\u001B[0;34m,\u001B[0m \u001B[0mcopy\u001B[0m\u001B[0;34m=\u001B[0m\u001B[0mcopy\u001B[0m\u001B[0;34m)\u001B[0m\u001B[0;34m\u001B[0m\u001B[0;34m\u001B[0m\u001B[0m\n\u001B[0m\u001B[1;32m    804\u001B[0m         \u001B[0;32mexcept\u001B[0m \u001B[0mzmq\u001B[0m\u001B[0;34m.\u001B[0m\u001B[0mZMQError\u001B[0m \u001B[0;32mas\u001B[0m \u001B[0me\u001B[0m\u001B[0;34m:\u001B[0m\u001B[0;34m\u001B[0m\u001B[0;34m\u001B[0m\u001B[0m\n",
      "\u001B[0;32m/usr/local/lib/python3.7/dist-packages/zmq/sugar/socket.py\u001B[0m in \u001B[0;36mrecv_multipart\u001B[0;34m(self, flags, copy, track)\u001B[0m\n\u001B[1;32m    618\u001B[0m         \"\"\"\n\u001B[0;32m--> 619\u001B[0;31m         \u001B[0mparts\u001B[0m \u001B[0;34m=\u001B[0m \u001B[0;34m[\u001B[0m\u001B[0mself\u001B[0m\u001B[0;34m.\u001B[0m\u001B[0mrecv\u001B[0m\u001B[0;34m(\u001B[0m\u001B[0mflags\u001B[0m\u001B[0;34m,\u001B[0m \u001B[0mcopy\u001B[0m\u001B[0;34m=\u001B[0m\u001B[0mcopy\u001B[0m\u001B[0;34m,\u001B[0m \u001B[0mtrack\u001B[0m\u001B[0;34m=\u001B[0m\u001B[0mtrack\u001B[0m\u001B[0;34m)\u001B[0m\u001B[0;34m]\u001B[0m\u001B[0;34m\u001B[0m\u001B[0;34m\u001B[0m\u001B[0m\n\u001B[0m\u001B[1;32m    620\u001B[0m         \u001B[0;31m# have first part already, only loop while more to receive\u001B[0m\u001B[0;34m\u001B[0m\u001B[0;34m\u001B[0m\u001B[0;34m\u001B[0m\u001B[0m\n",
      "\u001B[0;32mzmq/backend/cython/socket.pyx\u001B[0m in \u001B[0;36mzmq.backend.cython.socket.Socket.recv\u001B[0;34m()\u001B[0m\n",
      "\u001B[0;32mzmq/backend/cython/socket.pyx\u001B[0m in \u001B[0;36mzmq.backend.cython.socket.Socket.recv\u001B[0;34m()\u001B[0m\n",
      "\u001B[0;32mzmq/backend/cython/socket.pyx\u001B[0m in \u001B[0;36mzmq.backend.cython.socket._recv_copy\u001B[0;34m()\u001B[0m\n",
      "\u001B[0;32m/usr/local/lib/python3.7/dist-packages/zmq/backend/cython/checkrc.pxd\u001B[0m in \u001B[0;36mzmq.backend.cython.checkrc._check_rc\u001B[0;34m()\u001B[0m\n",
      "\u001B[0;31mKeyboardInterrupt\u001B[0m: ",
      "\nDuring handling of the above exception, another exception occurred:\n",
      "\u001B[0;31mKeyboardInterrupt\u001B[0m                         Traceback (most recent call last)",
      "\u001B[0;32m<ipython-input-14-e7a258021afd>\u001B[0m in \u001B[0;36m<module>\u001B[0;34m()\u001B[0m\n\u001B[1;32m      5\u001B[0m \u001B[0mx\u001B[0m \u001B[0;34m=\u001B[0m \u001B[0;36m0\u001B[0m\u001B[0;34m\u001B[0m\u001B[0;34m\u001B[0m\u001B[0m\n\u001B[1;32m      6\u001B[0m \u001B[0mstopID\u001B[0m \u001B[0;34m=\u001B[0m \u001B[0;34m[\u001B[0m\u001B[0;34m]\u001B[0m\u001B[0;34m\u001B[0m\u001B[0;34m\u001B[0m\u001B[0m\n\u001B[0;32m----> 7\u001B[0;31m \u001B[0mstoppingpoint\u001B[0m \u001B[0;34m=\u001B[0m \u001B[0minput\u001B[0m\u001B[0;34m(\u001B[0m\u001B[0;34m'Enter the station: '\u001B[0m\u001B[0;34m)\u001B[0m\u001B[0;34m\u001B[0m\u001B[0;34m\u001B[0m\u001B[0m\n\u001B[0m\u001B[1;32m      8\u001B[0m \u001B[0murl\u001B[0m \u001B[0;34m=\u001B[0m \u001B[0;34mf'https://api.tfl.gov.uk/Stoppoint/Search/{stoppingpoint}'\u001B[0m\u001B[0;34m\u001B[0m\u001B[0;34m\u001B[0m\u001B[0m\n\u001B[1;32m      9\u001B[0m \u001B[0mr\u001B[0m \u001B[0;34m=\u001B[0m  \u001B[0mrequests\u001B[0m\u001B[0;34m.\u001B[0m\u001B[0mget\u001B[0m\u001B[0;34m(\u001B[0m\u001B[0murl\u001B[0m\u001B[0;34m)\u001B[0m\u001B[0;34m.\u001B[0m\u001B[0mjson\u001B[0m\u001B[0;34m(\u001B[0m\u001B[0;34m)\u001B[0m\u001B[0;34m\u001B[0m\u001B[0;34m\u001B[0m\u001B[0m\n",
      "\u001B[0;32m/usr/local/lib/python3.7/dist-packages/ipykernel/kernelbase.py\u001B[0m in \u001B[0;36mraw_input\u001B[0;34m(self, prompt)\u001B[0m\n\u001B[1;32m    702\u001B[0m             \u001B[0mself\u001B[0m\u001B[0;34m.\u001B[0m\u001B[0m_parent_ident\u001B[0m\u001B[0;34m,\u001B[0m\u001B[0;34m\u001B[0m\u001B[0;34m\u001B[0m\u001B[0m\n\u001B[1;32m    703\u001B[0m             \u001B[0mself\u001B[0m\u001B[0;34m.\u001B[0m\u001B[0m_parent_header\u001B[0m\u001B[0;34m,\u001B[0m\u001B[0;34m\u001B[0m\u001B[0;34m\u001B[0m\u001B[0m\n\u001B[0;32m--> 704\u001B[0;31m             \u001B[0mpassword\u001B[0m\u001B[0;34m=\u001B[0m\u001B[0;32mFalse\u001B[0m\u001B[0;34m,\u001B[0m\u001B[0;34m\u001B[0m\u001B[0;34m\u001B[0m\u001B[0m\n\u001B[0m\u001B[1;32m    705\u001B[0m         )\n\u001B[1;32m    706\u001B[0m \u001B[0;34m\u001B[0m\u001B[0m\n",
      "\u001B[0;32m/usr/local/lib/python3.7/dist-packages/ipykernel/kernelbase.py\u001B[0m in \u001B[0;36m_input_request\u001B[0;34m(self, prompt, ident, parent, password)\u001B[0m\n\u001B[1;32m    732\u001B[0m             \u001B[0;32mexcept\u001B[0m \u001B[0mKeyboardInterrupt\u001B[0m\u001B[0;34m:\u001B[0m\u001B[0;34m\u001B[0m\u001B[0;34m\u001B[0m\u001B[0m\n\u001B[1;32m    733\u001B[0m                 \u001B[0;31m# re-raise KeyboardInterrupt, to truncate traceback\u001B[0m\u001B[0;34m\u001B[0m\u001B[0;34m\u001B[0m\u001B[0;34m\u001B[0m\u001B[0m\n\u001B[0;32m--> 734\u001B[0;31m                 \u001B[0;32mraise\u001B[0m \u001B[0mKeyboardInterrupt\u001B[0m\u001B[0;34m\u001B[0m\u001B[0;34m\u001B[0m\u001B[0m\n\u001B[0m\u001B[1;32m    735\u001B[0m             \u001B[0;32melse\u001B[0m\u001B[0;34m:\u001B[0m\u001B[0;34m\u001B[0m\u001B[0;34m\u001B[0m\u001B[0m\n\u001B[1;32m    736\u001B[0m                 \u001B[0;32mbreak\u001B[0m\u001B[0;34m\u001B[0m\u001B[0;34m\u001B[0m\u001B[0m\n",
      "\u001B[0;31mKeyboardInterrupt\u001B[0m: "
     ]
    }
   ],
   "source": [
    "import requests \n",
    "import pandas as pd\n",
    "import numpy as np \n",
    "\n",
    "x = 0\n",
    "stopID = []\n",
    "stoppingpoint = input('Enter the station: ')\n",
    "url = f'https://api.tfl.gov.uk/Stoppoint/Search/{stoppingpoint}'  \n",
    "r =  requests.get(url).json()\n",
    "\n",
    "while x == 0:  \n",
    "  if r['total'] == 0:\n",
    "    print('There are no matches for your input')\n",
    "    stoppingpoint = input('Please re-enter the station: ')\n",
    "    url = f'https://api.tfl.gov.uk/Stoppoint/Search/{stoppingpoint}' \n",
    "    r =  requests.get(url).json()\n",
    "  else:\n",
    "    if r['total'] > 1:\n",
    "      for dicts in r['matches']:\n",
    "        stopID.append(dicts['id'])\n",
    "    x = 1\n",
    "\n",
    "stopID"
   ]
  },
  {
   "cell_type": "code",
   "execution_count": null,
   "metadata": {
    "colab": {
     "base_uri": "https://localhost:8080/"
    },
    "executionInfo": {
     "elapsed": 3126,
     "status": "ok",
     "timestamp": 1631797459971,
     "user": {
      "displayName": "Tadios Temesgen",
      "photoUrl": "https://lh3.googleusercontent.com/a-/AOh14GjPz8qJ8wtzgP8FA7Sm1ND2Sm6F5Byhb5l2qRhx=s64",
      "userId": "12685772300065794066"
     },
     "user_tz": -60
    },
    "id": "dORfUKhkvJi7",
    "outputId": "b3adc315-5130-432e-8cd0-afa6f710a9dd"
   },
   "outputs": [
    {
     "data": {
      "text/plain": [
       "['490G00008637', '490G00008639']"
      ]
     },
     "execution_count": 2,
     "metadata": {},
     "output_type": "execute_result"
    }
   ],
   "source": [
    "import requests\n",
    "url = 'https://api.tfl.gov.uk/Stoppoint/Search/Kennedy'\n",
    "r =  requests.get(url).json()\n",
    "stopID = []\n",
    "\n",
    "for dicts in r['matches']:\n",
    "  stopID.append(dicts['id'])\n",
    "\n",
    "stopID"
   ]
  },
  {
   "cell_type": "markdown",
   "metadata": {
    "id": "PfRoNm2L6bU8"
   },
   "source": [
    "# Crime API"
   ]
  },
  {
   "cell_type": "markdown",
   "metadata": {
    "id": "yCBfWvLg6eu9"
   },
   "source": [
    "**Info:**\n",
    "\n",
    "\n",
    "https://data.police.uk/docs/method/crime-street/\n",
    "\n",
    "lat=52.629729&lng=-1.131592"
   ]
  },
  {
   "cell_type": "markdown",
   "metadata": {
    "id": "7f34QHSobuRA"
   },
   "source": [
    "**Generic API call:**\n",
    "\n",
    "https://data.police.uk/api/crimes-street/all-crimes?lat=51.5074&lng=0.1278&date=2021-07\n",
    "\n",
    "\n",
    "all-crimes - can be changed to filter for specific crime types\n",
    "\n",
    "date=2021-07 - can be changed to filter for specific dates in the form y1y2y3y4/m1m2\n",
    "\n",
    "lat=51.5074&lng=0.1278 - can be changed to filter for certain neighbourhoods\n"
   ]
  },
  {
   "cell_type": "markdown",
   "metadata": {
    "id": "qOU5RU14n-LX"
   },
   "source": [
    "Making API call"
   ]
  },
  {
   "cell_type": "code",
   "execution_count": 8,
   "metadata": {
    "colab": {
     "base_uri": "https://localhost:8080/",
     "height": 419
    },
    "executionInfo": {
     "elapsed": 717,
     "status": "ok",
     "timestamp": 1632862708662,
     "user": {
      "displayName": "Tadios Temesgen",
      "photoUrl": "https://lh3.googleusercontent.com/a-/AOh14GjPz8qJ8wtzgP8FA7Sm1ND2Sm6F5Byhb5l2qRhx=s64",
      "userId": "12685772300065794066"
     },
     "user_tz": -60
    },
    "id": "KuO_6iZG6eO0",
    "outputId": "1468b549-ff97-4bbc-9709-512d8a34c3fa"
   },
   "outputs": [
    {
     "data": {
      "text/html": [
       "<div>\n",
       "<style scoped>\n",
       "    .dataframe tbody tr th:only-of-type {\n",
       "        vertical-align: middle;\n",
       "    }\n",
       "\n",
       "    .dataframe tbody tr th {\n",
       "        vertical-align: top;\n",
       "    }\n",
       "\n",
       "    .dataframe thead th {\n",
       "        text-align: right;\n",
       "    }\n",
       "</style>\n",
       "<table border=\"1\" class=\"dataframe\">\n",
       "  <thead>\n",
       "    <tr style=\"text-align: right;\">\n",
       "      <th></th>\n",
       "      <th>category</th>\n",
       "      <th>location_type</th>\n",
       "      <th>location</th>\n",
       "      <th>context</th>\n",
       "      <th>outcome_status</th>\n",
       "      <th>persistent_id</th>\n",
       "      <th>id</th>\n",
       "      <th>location_subtype</th>\n",
       "      <th>month</th>\n",
       "    </tr>\n",
       "  </thead>\n",
       "  <tbody>\n",
       "    <tr>\n",
       "      <th>0</th>\n",
       "      <td>anti-social-behaviour</td>\n",
       "      <td>Force</td>\n",
       "      <td>{'latitude': '51.507486', 'street': {'id': 954...</td>\n",
       "      <td></td>\n",
       "      <td>None</td>\n",
       "      <td></td>\n",
       "      <td>93937403</td>\n",
       "      <td></td>\n",
       "      <td>2021-07</td>\n",
       "    </tr>\n",
       "    <tr>\n",
       "      <th>1</th>\n",
       "      <td>anti-social-behaviour</td>\n",
       "      <td>Force</td>\n",
       "      <td>{'latitude': '51.498476', 'street': {'id': 954...</td>\n",
       "      <td></td>\n",
       "      <td>None</td>\n",
       "      <td></td>\n",
       "      <td>93936467</td>\n",
       "      <td></td>\n",
       "      <td>2021-07</td>\n",
       "    </tr>\n",
       "    <tr>\n",
       "      <th>2</th>\n",
       "      <td>anti-social-behaviour</td>\n",
       "      <td>Force</td>\n",
       "      <td>{'latitude': '51.511488', 'street': {'id': 954...</td>\n",
       "      <td></td>\n",
       "      <td>None</td>\n",
       "      <td></td>\n",
       "      <td>93936471</td>\n",
       "      <td></td>\n",
       "      <td>2021-07</td>\n",
       "    </tr>\n",
       "    <tr>\n",
       "      <th>3</th>\n",
       "      <td>anti-social-behaviour</td>\n",
       "      <td>Force</td>\n",
       "      <td>{'latitude': '51.511488', 'street': {'id': 954...</td>\n",
       "      <td></td>\n",
       "      <td>None</td>\n",
       "      <td></td>\n",
       "      <td>93936473</td>\n",
       "      <td></td>\n",
       "      <td>2021-07</td>\n",
       "    </tr>\n",
       "    <tr>\n",
       "      <th>4</th>\n",
       "      <td>anti-social-behaviour</td>\n",
       "      <td>Force</td>\n",
       "      <td>{'latitude': '51.498476', 'street': {'id': 954...</td>\n",
       "      <td></td>\n",
       "      <td>None</td>\n",
       "      <td></td>\n",
       "      <td>93936478</td>\n",
       "      <td></td>\n",
       "      <td>2021-07</td>\n",
       "    </tr>\n",
       "    <tr>\n",
       "      <th>...</th>\n",
       "      <td>...</td>\n",
       "      <td>...</td>\n",
       "      <td>...</td>\n",
       "      <td>...</td>\n",
       "      <td>...</td>\n",
       "      <td>...</td>\n",
       "      <td>...</td>\n",
       "      <td>...</td>\n",
       "      <td>...</td>\n",
       "    </tr>\n",
       "    <tr>\n",
       "      <th>216</th>\n",
       "      <td>violent-crime</td>\n",
       "      <td>Force</td>\n",
       "      <td>{'latitude': '51.495567', 'street': {'id': 954...</td>\n",
       "      <td></td>\n",
       "      <td>{'category': 'Under investigation', 'date': '2...</td>\n",
       "      <td>7223b5930c6831b06b8265eb709fcc772d46726f94de13...</td>\n",
       "      <td>94075197</td>\n",
       "      <td></td>\n",
       "      <td>2021-07</td>\n",
       "    </tr>\n",
       "    <tr>\n",
       "      <th>217</th>\n",
       "      <td>violent-crime</td>\n",
       "      <td>Force</td>\n",
       "      <td>{'latitude': '51.495946', 'street': {'id': 954...</td>\n",
       "      <td></td>\n",
       "      <td>{'category': 'Under investigation', 'date': '2...</td>\n",
       "      <td>a30c439fd2d5810dae46c52bdfd2b57e85aca9688441f7...</td>\n",
       "      <td>94040736</td>\n",
       "      <td></td>\n",
       "      <td>2021-07</td>\n",
       "    </tr>\n",
       "    <tr>\n",
       "      <th>218</th>\n",
       "      <td>other-crime</td>\n",
       "      <td>Force</td>\n",
       "      <td>{'latitude': '51.493178', 'street': {'id': 954...</td>\n",
       "      <td></td>\n",
       "      <td>{'category': 'Under investigation', 'date': '2...</td>\n",
       "      <td>ecf7bc18b48f5531b4584c4023567e9b7eb6c3d6da8610...</td>\n",
       "      <td>94007171</td>\n",
       "      <td></td>\n",
       "      <td>2021-07</td>\n",
       "    </tr>\n",
       "    <tr>\n",
       "      <th>219</th>\n",
       "      <td>other-crime</td>\n",
       "      <td>Force</td>\n",
       "      <td>{'latitude': '51.498757', 'street': {'id': 954...</td>\n",
       "      <td></td>\n",
       "      <td>{'category': 'Under investigation', 'date': '2...</td>\n",
       "      <td>4bdaeb7263031da3f17616b79f371953b2d25ae705dd7c...</td>\n",
       "      <td>93992916</td>\n",
       "      <td></td>\n",
       "      <td>2021-07</td>\n",
       "    </tr>\n",
       "    <tr>\n",
       "      <th>220</th>\n",
       "      <td>other-crime</td>\n",
       "      <td>Force</td>\n",
       "      <td>{'latitude': '51.502302', 'street': {'id': 955...</td>\n",
       "      <td></td>\n",
       "      <td>{'category': 'Investigation complete; no suspe...</td>\n",
       "      <td>67e694d089231ff8b68381717d17c68a227c56418e9b02...</td>\n",
       "      <td>94007469</td>\n",
       "      <td></td>\n",
       "      <td>2021-07</td>\n",
       "    </tr>\n",
       "  </tbody>\n",
       "</table>\n",
       "<p>221 rows × 9 columns</p>\n",
       "</div>"
      ],
      "text/plain": [
       "                  category location_type  ... location_subtype    month\n",
       "0    anti-social-behaviour         Force  ...                   2021-07\n",
       "1    anti-social-behaviour         Force  ...                   2021-07\n",
       "2    anti-social-behaviour         Force  ...                   2021-07\n",
       "3    anti-social-behaviour         Force  ...                   2021-07\n",
       "4    anti-social-behaviour         Force  ...                   2021-07\n",
       "..                     ...           ...  ...              ...      ...\n",
       "216          violent-crime         Force  ...                   2021-07\n",
       "217          violent-crime         Force  ...                   2021-07\n",
       "218            other-crime         Force  ...                   2021-07\n",
       "219            other-crime         Force  ...                   2021-07\n",
       "220            other-crime         Force  ...                   2021-07\n",
       "\n",
       "[221 rows x 9 columns]"
      ]
     },
     "execution_count": 8,
     "metadata": {},
     "output_type": "execute_result"
    }
   ],
   "source": [
    "import requests \n",
    "import geopandas as gpd\n",
    "import pandas as pd\n",
    "import numpy as np\n",
    "\n",
    "url = 'https://data.police.uk/api/crimes-street/all-crimes?lat=51.5074&lng=0.1278&date=2021-07'\n",
    "r = requests.get(url).json()\n",
    "\n",
    "df = pd.DataFrame(r)\n",
    "df"
   ]
  },
  {
   "cell_type": "markdown",
   "metadata": {
    "id": "q69aTScqbwh2"
   },
   "source": [
    "Creating a geopandas Dataframe by unpacking the dictionary column holding latitudes and longitudes from a pandas Dataframe"
   ]
  },
  {
   "cell_type": "code",
   "execution_count": 9,
   "metadata": {
    "colab": {
     "base_uri": "https://localhost:8080/",
     "height": 881
    },
    "executionInfo": {
     "elapsed": 428,
     "status": "ok",
     "timestamp": 1632862711192,
     "user": {
      "displayName": "Tadios Temesgen",
      "photoUrl": "https://lh3.googleusercontent.com/a-/AOh14GjPz8qJ8wtzgP8FA7Sm1ND2Sm6F5Byhb5l2qRhx=s64",
      "userId": "12685772300065794066"
     },
     "user_tz": -60
    },
    "id": "me8zbZ3KRzhx",
    "outputId": "2f39a35d-9d19-4654-8dd5-17044835db41"
   },
   "outputs": [
    {
     "data": {
      "text/html": [
       "<div>\n",
       "<style scoped>\n",
       "    .dataframe tbody tr th:only-of-type {\n",
       "        vertical-align: middle;\n",
       "    }\n",
       "\n",
       "    .dataframe tbody tr th {\n",
       "        vertical-align: top;\n",
       "    }\n",
       "\n",
       "    .dataframe thead th {\n",
       "        text-align: right;\n",
       "    }\n",
       "</style>\n",
       "<table border=\"1\" class=\"dataframe\">\n",
       "  <thead>\n",
       "    <tr style=\"text-align: right;\">\n",
       "      <th></th>\n",
       "      <th>latitude</th>\n",
       "      <th>street</th>\n",
       "      <th>longitude</th>\n",
       "    </tr>\n",
       "  </thead>\n",
       "  <tbody>\n",
       "    <tr>\n",
       "      <th>0</th>\n",
       "      <td>51.507486</td>\n",
       "      <td>{'id': 954945, 'name': 'On or near Thamesmere ...</td>\n",
       "      <td>0.108683</td>\n",
       "    </tr>\n",
       "    <tr>\n",
       "      <th>1</th>\n",
       "      <td>51.498476</td>\n",
       "      <td>{'id': 954778, 'name': 'On or near Binsey Walk'}</td>\n",
       "      <td>0.122099</td>\n",
       "    </tr>\n",
       "    <tr>\n",
       "      <th>2</th>\n",
       "      <td>51.511488</td>\n",
       "      <td>{'id': 954965, 'name': 'On or near Thamesbank ...</td>\n",
       "      <td>0.123150</td>\n",
       "    </tr>\n",
       "    <tr>\n",
       "      <th>3</th>\n",
       "      <td>51.511488</td>\n",
       "      <td>{'id': 954965, 'name': 'On or near Thamesbank ...</td>\n",
       "      <td>0.123150</td>\n",
       "    </tr>\n",
       "    <tr>\n",
       "      <th>4</th>\n",
       "      <td>51.498476</td>\n",
       "      <td>{'id': 954778, 'name': 'On or near Binsey Walk'}</td>\n",
       "      <td>0.122099</td>\n",
       "    </tr>\n",
       "    <tr>\n",
       "      <th>...</th>\n",
       "      <td>...</td>\n",
       "      <td>...</td>\n",
       "      <td>...</td>\n",
       "    </tr>\n",
       "    <tr>\n",
       "      <th>216</th>\n",
       "      <td>51.495567</td>\n",
       "      <td>{'id': 954813, 'name': 'On or near Kale Road'}</td>\n",
       "      <td>0.131270</td>\n",
       "    </tr>\n",
       "    <tr>\n",
       "      <th>217</th>\n",
       "      <td>51.495946</td>\n",
       "      <td>{'id': 954714, 'name': 'On or near Peterstone ...</td>\n",
       "      <td>0.114302</td>\n",
       "    </tr>\n",
       "    <tr>\n",
       "      <th>218</th>\n",
       "      <td>51.493178</td>\n",
       "      <td>{'id': 954801, 'name': 'On or near Maran Way'}</td>\n",
       "      <td>0.129128</td>\n",
       "    </tr>\n",
       "    <tr>\n",
       "      <th>219</th>\n",
       "      <td>51.498757</td>\n",
       "      <td>{'id': 954716, 'name': 'On or near Hartslock D...</td>\n",
       "      <td>0.125944</td>\n",
       "    </tr>\n",
       "    <tr>\n",
       "      <th>220</th>\n",
       "      <td>51.502302</td>\n",
       "      <td>{'id': 955040, 'name': 'On or near Galsworthy ...</td>\n",
       "      <td>0.111441</td>\n",
       "    </tr>\n",
       "  </tbody>\n",
       "</table>\n",
       "<p>221 rows × 3 columns</p>\n",
       "</div>"
      ],
      "text/plain": [
       "      latitude                                             street longitude\n",
       "0    51.507486  {'id': 954945, 'name': 'On or near Thamesmere ...  0.108683\n",
       "1    51.498476   {'id': 954778, 'name': 'On or near Binsey Walk'}  0.122099\n",
       "2    51.511488  {'id': 954965, 'name': 'On or near Thamesbank ...  0.123150\n",
       "3    51.511488  {'id': 954965, 'name': 'On or near Thamesbank ...  0.123150\n",
       "4    51.498476   {'id': 954778, 'name': 'On or near Binsey Walk'}  0.122099\n",
       "..         ...                                                ...       ...\n",
       "216  51.495567     {'id': 954813, 'name': 'On or near Kale Road'}  0.131270\n",
       "217  51.495946  {'id': 954714, 'name': 'On or near Peterstone ...  0.114302\n",
       "218  51.493178     {'id': 954801, 'name': 'On or near Maran Way'}  0.129128\n",
       "219  51.498757  {'id': 954716, 'name': 'On or near Hartslock D...  0.125944\n",
       "220  51.502302  {'id': 955040, 'name': 'On or near Galsworthy ...  0.111441\n",
       "\n",
       "[221 rows x 3 columns]"
      ]
     },
     "metadata": {},
     "output_type": "display_data"
    },
    {
     "data": {
      "text/html": [
       "<div>\n",
       "<style scoped>\n",
       "    .dataframe tbody tr th:only-of-type {\n",
       "        vertical-align: middle;\n",
       "    }\n",
       "\n",
       "    .dataframe tbody tr th {\n",
       "        vertical-align: top;\n",
       "    }\n",
       "\n",
       "    .dataframe thead th {\n",
       "        text-align: right;\n",
       "    }\n",
       "</style>\n",
       "<table border=\"1\" class=\"dataframe\">\n",
       "  <thead>\n",
       "    <tr style=\"text-align: right;\">\n",
       "      <th></th>\n",
       "      <th>category</th>\n",
       "      <th>location_type</th>\n",
       "      <th>location</th>\n",
       "      <th>context</th>\n",
       "      <th>outcome_status</th>\n",
       "      <th>persistent_id</th>\n",
       "      <th>id</th>\n",
       "      <th>location_subtype</th>\n",
       "      <th>month</th>\n",
       "      <th>geometry</th>\n",
       "    </tr>\n",
       "  </thead>\n",
       "  <tbody>\n",
       "    <tr>\n",
       "      <th>0</th>\n",
       "      <td>anti-social-behaviour</td>\n",
       "      <td>Force</td>\n",
       "      <td>{'latitude': '51.507486', 'street': {'id': 954...</td>\n",
       "      <td></td>\n",
       "      <td>None</td>\n",
       "      <td></td>\n",
       "      <td>93937403</td>\n",
       "      <td></td>\n",
       "      <td>2021-07</td>\n",
       "      <td>POINT (0.10868 51.50749)</td>\n",
       "    </tr>\n",
       "    <tr>\n",
       "      <th>1</th>\n",
       "      <td>anti-social-behaviour</td>\n",
       "      <td>Force</td>\n",
       "      <td>{'latitude': '51.498476', 'street': {'id': 954...</td>\n",
       "      <td></td>\n",
       "      <td>None</td>\n",
       "      <td></td>\n",
       "      <td>93936467</td>\n",
       "      <td></td>\n",
       "      <td>2021-07</td>\n",
       "      <td>POINT (0.12210 51.49848)</td>\n",
       "    </tr>\n",
       "    <tr>\n",
       "      <th>2</th>\n",
       "      <td>anti-social-behaviour</td>\n",
       "      <td>Force</td>\n",
       "      <td>{'latitude': '51.511488', 'street': {'id': 954...</td>\n",
       "      <td></td>\n",
       "      <td>None</td>\n",
       "      <td></td>\n",
       "      <td>93936471</td>\n",
       "      <td></td>\n",
       "      <td>2021-07</td>\n",
       "      <td>POINT (0.12315 51.51149)</td>\n",
       "    </tr>\n",
       "    <tr>\n",
       "      <th>3</th>\n",
       "      <td>anti-social-behaviour</td>\n",
       "      <td>Force</td>\n",
       "      <td>{'latitude': '51.511488', 'street': {'id': 954...</td>\n",
       "      <td></td>\n",
       "      <td>None</td>\n",
       "      <td></td>\n",
       "      <td>93936473</td>\n",
       "      <td></td>\n",
       "      <td>2021-07</td>\n",
       "      <td>POINT (0.12315 51.51149)</td>\n",
       "    </tr>\n",
       "    <tr>\n",
       "      <th>4</th>\n",
       "      <td>anti-social-behaviour</td>\n",
       "      <td>Force</td>\n",
       "      <td>{'latitude': '51.498476', 'street': {'id': 954...</td>\n",
       "      <td></td>\n",
       "      <td>None</td>\n",
       "      <td></td>\n",
       "      <td>93936478</td>\n",
       "      <td></td>\n",
       "      <td>2021-07</td>\n",
       "      <td>POINT (0.12210 51.49848)</td>\n",
       "    </tr>\n",
       "  </tbody>\n",
       "</table>\n",
       "</div>"
      ],
      "text/plain": [
       "                category location_type  ...    month                  geometry\n",
       "0  anti-social-behaviour         Force  ...  2021-07  POINT (0.10868 51.50749)\n",
       "1  anti-social-behaviour         Force  ...  2021-07  POINT (0.12210 51.49848)\n",
       "2  anti-social-behaviour         Force  ...  2021-07  POINT (0.12315 51.51149)\n",
       "3  anti-social-behaviour         Force  ...  2021-07  POINT (0.12315 51.51149)\n",
       "4  anti-social-behaviour         Force  ...  2021-07  POINT (0.12210 51.49848)\n",
       "\n",
       "[5 rows x 10 columns]"
      ]
     },
     "execution_count": 9,
     "metadata": {},
     "output_type": "execute_result"
    }
   ],
   "source": [
    "locations = df.location.apply(pd.Series)\n",
    "crime_gdf = gpd.GeoDataFrame(df, geometry=gpd.points_from_xy(locations.longitude, locations.latitude))\n",
    "display(locations)\n",
    "crime_gdf.head()"
   ]
  },
  {
   "cell_type": "markdown",
   "metadata": {
    "id": "3dhfd-o7cPrq"
   },
   "source": [
    "Plotting map of points using hvplot"
   ]
  },
  {
   "cell_type": "code",
   "execution_count": 17,
   "metadata": {
    "colab": {
     "base_uri": "https://localhost:8080/",
     "height": 34,
     "referenced_widgets": [
      "0f91b96b8bfe4fdd92711842e153c5f3"
     ]
    },
    "executionInfo": {
     "elapsed": 163,
     "status": "ok",
     "timestamp": 1632863283602,
     "user": {
      "displayName": "Tadios Temesgen",
      "photoUrl": "https://lh3.googleusercontent.com/a-/AOh14GjPz8qJ8wtzgP8FA7Sm1ND2Sm6F5Byhb5l2qRhx=s64",
      "userId": "12685772300065794066"
     },
     "user_tz": -60
    },
    "id": "RjsvIy8gcSsa",
    "outputId": "c58809f2-d9ba-4e51-b967-ed23add85362"
   },
   "outputs": [
    {
     "name": "stdout",
     "output_type": "stream",
     "text": [
      "User Guide: https://docs.kepler.gl/docs/keplergl-jupyter\n"
     ]
    },
    {
     "data": {
      "application/vnd.jupyter.widget-view+json": {
       "model_id": "0f91b96b8bfe4fdd92711842e153c5f3",
       "version_major": 2,
       "version_minor": 0
      },
      "text/plain": [
       "KeplerGl()"
      ]
     },
     "metadata": {},
     "output_type": "display_data"
    }
   ],
   "source": [
    "import keplergl as kgl\n",
    "\n",
    "crime_map = kgl.KeplerGl()\n",
    "crime_map\n",
    "# import hvplot.pandas\n",
    "\n",
    "# crime_gdf_plot = crime_gdf.head().hvplot(geo=True,\n",
    "#                                   title='Locations of Crimes in the UK',\n",
    "#                                   marker='x',\n",
    "#                                   color='red',\n",
    "#                                   size=20,\n",
    "#                                   tiles='CartoDB positron', \n",
    "#                                   )\n",
    "# crime_gdf_plot"
   ]
  },
  {
   "cell_type": "markdown",
   "metadata": {
    "id": "Kxlt47Y40WRE"
   },
   "source": [
    "Plotting table showing the number of crimes committed for each type"
   ]
  },
  {
   "cell_type": "code",
   "execution_count": 10,
   "metadata": {
    "colab": {
     "base_uri": "https://localhost:8080/"
    },
    "executionInfo": {
     "elapsed": 160,
     "status": "ok",
     "timestamp": 1632862715465,
     "user": {
      "displayName": "Tadios Temesgen",
      "photoUrl": "https://lh3.googleusercontent.com/a-/AOh14GjPz8qJ8wtzgP8FA7Sm1ND2Sm6F5Byhb5l2qRhx=s64",
      "userId": "12685772300065794066"
     },
     "user_tz": -60
    },
    "id": "h4l8dQ750VlE",
    "outputId": "fc98d40b-47ed-44a7-b5d1-11947020a69c"
   },
   "outputs": [
    {
     "data": {
      "text/plain": [
       "anti-social-behaviour    68\n",
       "violent-crime            62\n",
       "vehicle-crime            17\n",
       "criminal-damage-arson    17\n",
       "other-theft              16\n",
       "public-order             14\n",
       "drugs                    10\n",
       "burglary                  5\n",
       "possession-of-weapons     3\n",
       "other-crime               3\n",
       "shoplifting               3\n",
       "theft-from-the-person     2\n",
       "robbery                   1\n",
       "Name: category, dtype: int64"
      ]
     },
     "execution_count": 10,
     "metadata": {},
     "output_type": "execute_result"
    }
   ],
   "source": [
    "counts = df['category'].value_counts()\n",
    "counts"
   ]
  },
  {
   "cell_type": "markdown",
   "metadata": {
    "id": "OLjw9r_jozxg"
   },
   "source": [
    "Plotting histograms on each crimes occurence in a fixed year"
   ]
  },
  {
   "cell_type": "code",
   "execution_count": 11,
   "metadata": {
    "colab": {
     "base_uri": "https://localhost:8080/",
     "height": 295
    },
    "executionInfo": {
     "elapsed": 651,
     "status": "ok",
     "timestamp": 1632862717462,
     "user": {
      "displayName": "Tadios Temesgen",
      "photoUrl": "https://lh3.googleusercontent.com/a-/AOh14GjPz8qJ8wtzgP8FA7Sm1ND2Sm6F5Byhb5l2qRhx=s64",
      "userId": "12685772300065794066"
     },
     "user_tz": -60
    },
    "id": "6F0MejSXo0V2",
    "outputId": "de145807-05b7-49ea-a37a-6cea5c3b9784"
   },
   "outputs": [
    {
     "data": {
      "image/png": "[encoded data removed]",
      "text/plain": [
       "<Figure size 432x288 with 1 Axes>"
      ]
     },
     "metadata": {
      "needs_background": "light"
     },
     "output_type": "display_data"
    }
   ],
   "source": [
    "import numpy as np\n",
    "import matplotlib.pyplot as plt\n",
    "import pandas as pd\n",
    "\n",
    "counts.plot(kind='barh')\n",
    "\n",
    "plt.title('Crimes Committed in each Category')\n",
    "plt.xlabel('Frequency')\n",
    "plt.ylabel('Crime type')\n",
    "plt.show()"
   ]
  },
  {
   "cell_type": "markdown",
   "metadata": {
    "id": "ucN6hzn0Xl9A"
   },
   "source": []
  },
  {
   "cell_type": "code",
   "execution_count": null,
   "metadata": {
    "colab": {
     "base_uri": "https://localhost:8080/",
     "height": 80
    },
    "executionInfo": {
     "elapsed": 713,
     "status": "ok",
     "timestamp": 1632589974337,
     "user": {
      "displayName": "Tadios Temesgen",
      "photoUrl": "https://lh3.googleusercontent.com/a-/AOh14GjPz8qJ8wtzgP8FA7Sm1ND2Sm6F5Byhb5l2qRhx=s64",
      "userId": "12685772300065794066"
     },
     "user_tz": -60
    },
    "id": "EI8ppT28X-DD",
    "outputId": "3ebb1b7f-dcfc-4a83-aab2-ba89c5dcb4d1"
   },
   "outputs": [
    {
     "data": {
      "text/html": [
       "<div>\n",
       "<style scoped>\n",
       "    .dataframe tbody tr th:only-of-type {\n",
       "        vertical-align: middle;\n",
       "    }\n",
       "\n",
       "    .dataframe tbody tr th {\n",
       "        vertical-align: top;\n",
       "    }\n",
       "\n",
       "    .dataframe thead th {\n",
       "        text-align: right;\n",
       "    }\n",
       "</style>\n",
       "<table border=\"1\" class=\"dataframe\">\n",
       "  <thead>\n",
       "    <tr style=\"text-align: right;\">\n",
       "      <th></th>\n",
       "      <th>0</th>\n",
       "    </tr>\n",
       "  </thead>\n",
       "  <tbody>\n",
       "    <tr>\n",
       "      <th>0</th>\n",
       "      <td>b'Not Found'</td>\n",
       "    </tr>\n",
       "  </tbody>\n",
       "</table>\n",
       "</div>"
      ],
      "text/plain": [
       "              0\n",
       "0  b'Not Found'"
      ]
     },
     "execution_count": 4,
     "metadata": {},
     "output_type": "execute_result"
    }
   ],
   "source": [
    "import requests \n",
    "import pandas as pd\n",
    "\n",
    "area = 'https://data.police.uk/api/london/neighbourhoods'\n",
    "r = requests.get(area)\n",
    "\n",
    "df = pd.DataFrame(r)\n",
    "df"
   ]
  },
  {
   "cell_type": "markdown",
   "metadata": {
    "id": "TtRqSvZR0r2s"
   },
   "source": [
    "Filtering crime types"
   ]
  },
  {
   "cell_type": "markdown",
   "metadata": {
    "id": "-zfsCYsv6Xl8"
   },
   "source": [
    "# Weather API"
   ]
  },
  {
   "cell_type": "markdown",
   "metadata": {
    "id": "aYL8HaKc6ayE"
   },
   "source": [
    "api key: b19414406c70effb25f6b8de609f3945, open weather api"
   ]
  },
  {
   "cell_type": "code",
   "execution_count": null,
   "metadata": {
    "id": "eSj-iNk_6bHU"
   },
   "outputs": [],
   "source": []
  },
  {
   "cell_type": "markdown",
   "metadata": {
    "id": "9N3As-Jfyz2j"
   },
   "source": [
    "# Air Quality API"
   ]
  },
  {
   "cell_type": "markdown",
   "metadata": {
    "id": "RTfyQr2Qy3Ac"
   },
   "source": []
  },
  {
   "cell_type": "code",
   "execution_count": null,
   "metadata": {
    "id": "2w94RxMqy3Rx"
   },
   "outputs": [],
   "source": []
  },
  {
   "cell_type": "markdown",
   "metadata": {
    "id": "GdisPyiu6fRE"
   },
   "source": [
    "# Housing API"
   ]
  },
  {
   "cell_type": "markdown",
   "metadata": {
    "id": "fev0npOQ6jRM"
   },
   "source": []
  },
  {
   "cell_type": "code",
   "execution_count": null,
   "metadata": {
    "id": "krKeFvdsFiV4"
   },
   "outputs": [],
   "source": []
  },
  {
   "cell_type": "markdown",
   "metadata": {
    "id": "Ls1raSGoYdfl"
   },
   "source": []
  },
  {
   "cell_type": "code",
   "execution_count": null,
   "metadata": {
    "colab": {
     "base_uri": "https://localhost:8080/"
    },
    "executionInfo": {
     "elapsed": 787,
     "status": "ok",
     "timestamp": 1632077164034,
     "user": {
      "displayName": "Tadios Temesgen",
      "photoUrl": "https://lh3.googleusercontent.com/a-/AOh14GjPz8qJ8wtzgP8FA7Sm1ND2Sm6F5Byhb5l2qRhx=s64",
      "userId": "12685772300065794066"
     },
     "user_tz": -60
    },
    "id": "LiyGGCsi6jmN",
    "outputId": "9a13c1a1-bb33-476b-c535-408eafb6948a"
   },
   "outputs": [
    {
     "data": {
      "text/plain": [
       "900"
      ]
     },
     "execution_count": 1,
     "metadata": {},
     "output_type": "execute_result"
    }
   ],
   "source": [
    "x = [str(i) for i in range(1,100)]\n",
    "y = sum([sum([int(char) for char in i]) for i in x])\n",
    "y"
   ]
  }
 ],
 "metadata": {
  "colab": {
   "authorship_tag": "ABX9TyO4ObLgQt4bhVTY1IPGdkuA",
   "collapsed_sections": [
    "btixZKzR6IFc",
    "FgRmKN2_6Hpd"
   ],
   "name": "Comp Sci Coursework",
   "provenance": []
  },
  "kernelspec": {
   "display_name": "Python 3 (ipykernel)",
   "language": "python",
   "name": "python3"
  },
  "language_info": {
   "codemirror_mode": {
    "name": "ipython",
    "version": 3
   },
   "file_extension": ".py",
   "mimetype": "text/x-python",
   "name": "python",
   "nbconvert_exporter": "python",
   "pygments_lexer": "ipython3",
   "version": "3.9.7"
  },
  "widgets": {
   "application/vnd.jupyter.widget-state+json": {
    "0f91b96b8bfe4fdd92711842e153c5f3": {
     "model_module": "keplergl-jupyter",
     "model_module_version": "^0.3.2",
     "model_name": "KeplerGlModal",
     "state": {
      "_dom_classes": [],
      "_model_module": "keplergl-jupyter",
      "_model_module_version": "^0.3.2",
      "_model_name": "KeplerGlModal",
      "_view_count": null,
      "_view_module": "keplergl-jupyter",
      "_view_module_version": "^0.3.2",
      "_view_name": "KeplerGlView",
      "config": {},
      "data": {},
      "height": 400,
      "layout": "IPY_MODEL_2e8afea78b0642a980a52029e6b00782",
      "value": "Hello World!"
     }
    }
   }
  }
 },
 "nbformat": 4,
 "nbformat_minor": 1
}