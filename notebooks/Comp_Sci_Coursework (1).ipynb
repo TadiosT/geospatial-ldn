{
 "cells": [
  {
   "cell_type": "markdown",
   "metadata": {
    "id": "KLDBqLkq-Ir-"
   },
   "source": [
    "* Add Data source\n",
    "* OOP\n",
    "* Clean code\n",
    "* Front-end\n",
    "* Add filter options \n",
    "* Add tests"
   ]
  },
  {
   "cell_type": "code",
   "execution_count": null,
   "metadata": {
    "id": "mvLVPpq6-IsE"
   },
   "outputs": [],
   "source": [
    "tfl_polygon = tfl_stations.unary_union.convex_hull\n",
    "tfl_polygon"
   ]
  },
  {
   "cell_type": "code",
   "execution_count": null,
   "metadata": {
    "id": "5rZCdo6c-IsG"
   },
   "outputs": [],
   "source": [
    "x, y = tfl_polygon.exterior.coords.xy"
   ]
  },
  {
   "cell_type": "markdown",
   "metadata": {
    "id": "e5h4TBMFzwW-"
   },
   "source": [
    "Imports"
   ]
  },
  {
   "cell_type": "code",
   "execution_count": 1,
   "metadata": {
    "colab": {
     "base_uri": "https://localhost:8080/",
     "height": 367
    },
    "executionInfo": {
     "elapsed": 226,
     "status": "error",
     "timestamp": 1634553369040,
     "user": {
      "displayName": "Tadios Temesgen",
      "photoUrl": "https://lh3.googleusercontent.com/a-/AOh14GjPz8qJ8wtzgP8FA7Sm1ND2Sm6F5Byhb5l2qRhx=s64",
      "userId": "12685772300065794066"
     },
     "user_tz": -60
    },
    "id": "VT9FIPmyzwXC",
    "outputId": "f0534453-f921-45c7-d826-7c09ce231108"
   },
   "outputs": [
    {
     "ename": "ImportError",
     "evalue": "cannot import name 'append_docstring' from 'bokeh.util.string' (/Users/tadios/.conda/envs/Coursework/lib/python3.9/site-packages/bokeh/util/string.py)",
     "output_type": "error",
     "traceback": [
      "\u001B[0;31m---------------------------------------------------------------------------\u001B[0m",
      "\u001B[0;31mImportError\u001B[0m                               Traceback (most recent call last)",
      "\u001B[0;32m/var/folders/fs/69yp8zfs375_m73wj1jhjw900000gn/T/ipykernel_1263/1651128104.py\u001B[0m in \u001B[0;36m<module>\u001B[0;34m\u001B[0m\n\u001B[1;32m      9\u001B[0m \u001B[0;32mimport\u001B[0m \u001B[0mfolium\u001B[0m\u001B[0;34m\u001B[0m\u001B[0;34m\u001B[0m\u001B[0m\n\u001B[1;32m     10\u001B[0m \u001B[0;32mimport\u001B[0m \u001B[0mdatetime\u001B[0m\u001B[0;34m\u001B[0m\u001B[0;34m\u001B[0m\u001B[0m\n\u001B[0;32m---> 11\u001B[0;31m \u001B[0;32mimport\u001B[0m \u001B[0mhvplot\u001B[0m\u001B[0;34m.\u001B[0m\u001B[0mpandas\u001B[0m\u001B[0;34m\u001B[0m\u001B[0;34m\u001B[0m\u001B[0m\n\u001B[0m",
      "\u001B[0;32m~/.conda/envs/Coursework/lib/python3.9/site-packages/hvplot/__init__.py\u001B[0m in \u001B[0;36m<module>\u001B[0;34m\u001B[0m\n\u001B[1;32m      6\u001B[0m \u001B[0;34m\u001B[0m\u001B[0m\n\u001B[1;32m      7\u001B[0m \u001B[0;32mimport\u001B[0m \u001B[0mparam\u001B[0m\u001B[0;34m\u001B[0m\u001B[0;34m\u001B[0m\u001B[0m\n\u001B[0;32m----> 8\u001B[0;31m \u001B[0;32mimport\u001B[0m \u001B[0mholoviews\u001B[0m \u001B[0;32mas\u001B[0m \u001B[0m_hv\u001B[0m\u001B[0;34m\u001B[0m\u001B[0;34m\u001B[0m\u001B[0m\n\u001B[0m\u001B[1;32m      9\u001B[0m \u001B[0;34m\u001B[0m\u001B[0m\n\u001B[1;32m     10\u001B[0m \u001B[0;32mfrom\u001B[0m \u001B[0mholoviews\u001B[0m \u001B[0;32mimport\u001B[0m \u001B[0mStore\u001B[0m\u001B[0;34m\u001B[0m\u001B[0;34m\u001B[0m\u001B[0m\n",
      "\u001B[0;32m~/.conda/envs/Coursework/lib/python3.9/site-packages/holoviews/__init__.py\u001B[0m in \u001B[0;36m<module>\u001B[0;34m\u001B[0m\n\u001B[1;32m     10\u001B[0m \u001B[0;34m\u001B[0m\u001B[0m\n\u001B[1;32m     11\u001B[0m \u001B[0;32mfrom\u001B[0m \u001B[0;34m.\u001B[0m \u001B[0;32mimport\u001B[0m \u001B[0mutil\u001B[0m                                       \u001B[0;31m# noqa (API import)\u001B[0m\u001B[0;34m\u001B[0m\u001B[0;34m\u001B[0m\u001B[0m\n\u001B[0;32m---> 12\u001B[0;31m \u001B[0;32mfrom\u001B[0m \u001B[0;34m.\u001B[0m\u001B[0mannotators\u001B[0m \u001B[0;32mimport\u001B[0m \u001B[0mannotate\u001B[0m                         \u001B[0;31m# noqa (API import)\u001B[0m\u001B[0;34m\u001B[0m\u001B[0;34m\u001B[0m\u001B[0m\n\u001B[0m\u001B[1;32m     13\u001B[0m \u001B[0;32mfrom\u001B[0m \u001B[0;34m.\u001B[0m\u001B[0mcore\u001B[0m \u001B[0;32mimport\u001B[0m \u001B[0marchive\u001B[0m\u001B[0;34m,\u001B[0m \u001B[0mconfig\u001B[0m                        \u001B[0;31m# noqa (API import)\u001B[0m\u001B[0;34m\u001B[0m\u001B[0;34m\u001B[0m\u001B[0m\n\u001B[1;32m     14\u001B[0m \u001B[0;32mfrom\u001B[0m \u001B[0;34m.\u001B[0m\u001B[0mcore\u001B[0m\u001B[0;34m.\u001B[0m\u001B[0mboundingregion\u001B[0m \u001B[0;32mimport\u001B[0m \u001B[0mBoundingBox\u001B[0m             \u001B[0;31m# noqa (API import)\u001B[0m\u001B[0;34m\u001B[0m\u001B[0;34m\u001B[0m\u001B[0m\n",
      "\u001B[0;32m~/.conda/envs/Coursework/lib/python3.9/site-packages/holoviews/annotators.py\u001B[0m in \u001B[0;36m<module>\u001B[0;34m\u001B[0m\n\u001B[1;32m      8\u001B[0m \u001B[0;32mimport\u001B[0m \u001B[0mparam\u001B[0m\u001B[0;34m\u001B[0m\u001B[0;34m\u001B[0m\u001B[0m\n\u001B[1;32m      9\u001B[0m \u001B[0;34m\u001B[0m\u001B[0m\n\u001B[0;32m---> 10\u001B[0;31m \u001B[0;32mfrom\u001B[0m \u001B[0mpanel\u001B[0m\u001B[0;34m.\u001B[0m\u001B[0mpane\u001B[0m \u001B[0;32mimport\u001B[0m \u001B[0mPaneBase\u001B[0m\u001B[0;34m\u001B[0m\u001B[0;34m\u001B[0m\u001B[0m\n\u001B[0m\u001B[1;32m     11\u001B[0m \u001B[0;32mfrom\u001B[0m \u001B[0mpanel\u001B[0m\u001B[0;34m.\u001B[0m\u001B[0mlayout\u001B[0m \u001B[0;32mimport\u001B[0m \u001B[0mRow\u001B[0m\u001B[0;34m,\u001B[0m \u001B[0mTabs\u001B[0m\u001B[0;34m\u001B[0m\u001B[0;34m\u001B[0m\u001B[0m\n\u001B[1;32m     12\u001B[0m \u001B[0;32mfrom\u001B[0m \u001B[0mpanel\u001B[0m\u001B[0;34m.\u001B[0m\u001B[0mutil\u001B[0m \u001B[0;32mimport\u001B[0m \u001B[0mparam_name\u001B[0m\u001B[0;34m\u001B[0m\u001B[0;34m\u001B[0m\u001B[0m\n",
      "\u001B[0;32m~/.conda/envs/Coursework/lib/python3.9/site-packages/panel/__init__.py\u001B[0m in \u001B[0;36m<module>\u001B[0;34m\u001B[0m\n\u001B[0;32m----> 1\u001B[0;31m \u001B[0;32mfrom\u001B[0m \u001B[0;34m.\u001B[0m \u001B[0;32mimport\u001B[0m \u001B[0mlayout\u001B[0m \u001B[0;31m# noqa\u001B[0m\u001B[0;34m\u001B[0m\u001B[0;34m\u001B[0m\u001B[0m\n\u001B[0m\u001B[1;32m      2\u001B[0m \u001B[0;32mfrom\u001B[0m \u001B[0;34m.\u001B[0m \u001B[0;32mimport\u001B[0m \u001B[0mlinks\u001B[0m \u001B[0;31m# noqa\u001B[0m\u001B[0;34m\u001B[0m\u001B[0;34m\u001B[0m\u001B[0m\n\u001B[1;32m      3\u001B[0m \u001B[0;32mfrom\u001B[0m \u001B[0;34m.\u001B[0m \u001B[0;32mimport\u001B[0m \u001B[0mpane\u001B[0m \u001B[0;31m# noqa\u001B[0m\u001B[0;34m\u001B[0m\u001B[0;34m\u001B[0m\u001B[0m\n\u001B[1;32m      4\u001B[0m \u001B[0;32mfrom\u001B[0m \u001B[0;34m.\u001B[0m \u001B[0;32mimport\u001B[0m \u001B[0mparam\u001B[0m \u001B[0;31m# noqa\u001B[0m\u001B[0;34m\u001B[0m\u001B[0;34m\u001B[0m\u001B[0m\n\u001B[1;32m      5\u001B[0m \u001B[0;32mfrom\u001B[0m \u001B[0;34m.\u001B[0m \u001B[0;32mimport\u001B[0m \u001B[0mpipeline\u001B[0m \u001B[0;31m# noqa\u001B[0m\u001B[0;34m\u001B[0m\u001B[0;34m\u001B[0m\u001B[0m\n",
      "\u001B[0;32m~/.conda/envs/Coursework/lib/python3.9/site-packages/panel/layout/__init__.py\u001B[0m in \u001B[0;36m<module>\u001B[0;34m\u001B[0m\n\u001B[0;32m----> 1\u001B[0;31m \u001B[0;32mfrom\u001B[0m \u001B[0;34m.\u001B[0m\u001B[0maccordion\u001B[0m \u001B[0;32mimport\u001B[0m \u001B[0mAccordion\u001B[0m \u001B[0;31m# noqa\u001B[0m\u001B[0;34m\u001B[0m\u001B[0;34m\u001B[0m\u001B[0m\n\u001B[0m\u001B[1;32m      2\u001B[0m \u001B[0;32mfrom\u001B[0m \u001B[0;34m.\u001B[0m\u001B[0mbase\u001B[0m \u001B[0;32mimport\u001B[0m \u001B[0mColumn\u001B[0m\u001B[0;34m,\u001B[0m \u001B[0mListLike\u001B[0m\u001B[0;34m,\u001B[0m \u001B[0mListPanel\u001B[0m\u001B[0;34m,\u001B[0m \u001B[0mPanel\u001B[0m\u001B[0;34m,\u001B[0m \u001B[0mRow\u001B[0m\u001B[0;34m,\u001B[0m \u001B[0mWidgetBox\u001B[0m \u001B[0;31m# noqa\u001B[0m\u001B[0;34m\u001B[0m\u001B[0;34m\u001B[0m\u001B[0m\n\u001B[1;32m      3\u001B[0m \u001B[0;32mfrom\u001B[0m \u001B[0;34m.\u001B[0m\u001B[0mcard\u001B[0m \u001B[0;32mimport\u001B[0m \u001B[0mCard\u001B[0m \u001B[0;31m# noqa\u001B[0m\u001B[0;34m\u001B[0m\u001B[0;34m\u001B[0m\u001B[0m\n\u001B[1;32m      4\u001B[0m \u001B[0;32mfrom\u001B[0m \u001B[0;34m.\u001B[0m\u001B[0mflex\u001B[0m \u001B[0;32mimport\u001B[0m \u001B[0mFlexBox\u001B[0m \u001B[0;31m# noqa\u001B[0m\u001B[0;34m\u001B[0m\u001B[0;34m\u001B[0m\u001B[0m\n\u001B[1;32m      5\u001B[0m \u001B[0;32mfrom\u001B[0m \u001B[0;34m.\u001B[0m\u001B[0mgrid\u001B[0m \u001B[0;32mimport\u001B[0m \u001B[0mGridBox\u001B[0m\u001B[0;34m,\u001B[0m \u001B[0mGridSpec\u001B[0m \u001B[0;31m# noqa\u001B[0m\u001B[0;34m\u001B[0m\u001B[0;34m\u001B[0m\u001B[0m\n",
      "\u001B[0;32m~/.conda/envs/Coursework/lib/python3.9/site-packages/panel/layout/accordion.py\u001B[0m in \u001B[0;36m<module>\u001B[0;34m\u001B[0m\n\u001B[1;32m      1\u001B[0m \u001B[0;32mimport\u001B[0m \u001B[0mparam\u001B[0m\u001B[0;34m\u001B[0m\u001B[0;34m\u001B[0m\u001B[0m\n\u001B[1;32m      2\u001B[0m \u001B[0;34m\u001B[0m\u001B[0m\n\u001B[0;32m----> 3\u001B[0;31m \u001B[0;32mfrom\u001B[0m \u001B[0mbokeh\u001B[0m\u001B[0;34m.\u001B[0m\u001B[0mmodels\u001B[0m \u001B[0;32mimport\u001B[0m \u001B[0mColumn\u001B[0m \u001B[0;32mas\u001B[0m \u001B[0mBkColumn\u001B[0m\u001B[0;34m,\u001B[0m \u001B[0mCustomJS\u001B[0m\u001B[0;34m\u001B[0m\u001B[0;34m\u001B[0m\u001B[0m\n\u001B[0m\u001B[1;32m      4\u001B[0m \u001B[0;34m\u001B[0m\u001B[0m\n\u001B[1;32m      5\u001B[0m \u001B[0;32mfrom\u001B[0m \u001B[0;34m.\u001B[0m\u001B[0mbase\u001B[0m \u001B[0;32mimport\u001B[0m \u001B[0mNamedListPanel\u001B[0m\u001B[0;34m\u001B[0m\u001B[0;34m\u001B[0m\u001B[0m\n",
      "\u001B[0;32m~/.conda/envs/Coursework/lib/python3.9/site-packages/bokeh/models/__init__.py\u001B[0m in \u001B[0;36m<module>\u001B[0;34m\u001B[0m\n\u001B[1;32m     30\u001B[0m \u001B[0;31m# Bokeh imports\u001B[0m\u001B[0;34m\u001B[0m\u001B[0;34m\u001B[0m\u001B[0m\n\u001B[1;32m     31\u001B[0m \u001B[0;32mfrom\u001B[0m \u001B[0;34m.\u001B[0m\u001B[0;34m.\u001B[0m\u001B[0mcore\u001B[0m\u001B[0;34m.\u001B[0m\u001B[0mproperty\u001B[0m\u001B[0;34m.\u001B[0m\u001B[0mdataspec\u001B[0m \u001B[0;32mimport\u001B[0m \u001B[0mexpr\u001B[0m\u001B[0;34m,\u001B[0m \u001B[0mfield\u001B[0m\u001B[0;34m,\u001B[0m \u001B[0mvalue\u001B[0m  \u001B[0;31m# Legacy API\u001B[0m\u001B[0;34m\u001B[0m\u001B[0;34m\u001B[0m\u001B[0m\n\u001B[0;32m---> 32\u001B[0;31m \u001B[0;32mfrom\u001B[0m \u001B[0;34m.\u001B[0m\u001B[0;34m.\u001B[0m\u001B[0mmodel\u001B[0m \u001B[0;32mimport\u001B[0m \u001B[0mModel\u001B[0m\u001B[0;34m\u001B[0m\u001B[0;34m\u001B[0m\u001B[0m\n\u001B[0m\u001B[1;32m     33\u001B[0m \u001B[0;32mfrom\u001B[0m \u001B[0;34m.\u001B[0m\u001B[0mannotations\u001B[0m \u001B[0;32mimport\u001B[0m \u001B[0;34m*\u001B[0m\u001B[0;34m\u001B[0m\u001B[0;34m\u001B[0m\u001B[0m\n\u001B[1;32m     34\u001B[0m \u001B[0;32mfrom\u001B[0m \u001B[0;34m.\u001B[0m\u001B[0marrow_heads\u001B[0m \u001B[0;32mimport\u001B[0m \u001B[0;34m*\u001B[0m\u001B[0;34m\u001B[0m\u001B[0;34m\u001B[0m\u001B[0m\n",
      "\u001B[0;32m~/.conda/envs/Coursework/lib/python3.9/site-packages/bokeh/model/__init__.py\u001B[0m in \u001B[0;36m<module>\u001B[0;34m\u001B[0m\n\u001B[1;32m     23\u001B[0m \u001B[0;34m\u001B[0m\u001B[0m\n\u001B[1;32m     24\u001B[0m \u001B[0;31m# Bokeh imports\u001B[0m\u001B[0;34m\u001B[0m\u001B[0;34m\u001B[0m\u001B[0m\n\u001B[0;32m---> 25\u001B[0;31m \u001B[0;32mfrom\u001B[0m \u001B[0;34m.\u001B[0m\u001B[0mdata_model\u001B[0m \u001B[0;32mimport\u001B[0m \u001B[0mDataModel\u001B[0m\u001B[0;34m\u001B[0m\u001B[0;34m\u001B[0m\u001B[0m\n\u001B[0m\u001B[1;32m     26\u001B[0m \u001B[0;32mfrom\u001B[0m \u001B[0;34m.\u001B[0m\u001B[0mmodel\u001B[0m \u001B[0;32mimport\u001B[0m \u001B[0mModel\u001B[0m\u001B[0;34m\u001B[0m\u001B[0;34m\u001B[0m\u001B[0m\n\u001B[1;32m     27\u001B[0m \u001B[0;32mfrom\u001B[0m \u001B[0;34m.\u001B[0m\u001B[0mutil\u001B[0m \u001B[0;32mimport\u001B[0m \u001B[0mQualified\u001B[0m\u001B[0;34m,\u001B[0m \u001B[0mcollect_models\u001B[0m\u001B[0;34m,\u001B[0m \u001B[0mget_class\u001B[0m\u001B[0;34m\u001B[0m\u001B[0;34m\u001B[0m\u001B[0m\n",
      "\u001B[0;32m~/.conda/envs/Coursework/lib/python3.9/site-packages/bokeh/model/data_model.py\u001B[0m in \u001B[0;36m<module>\u001B[0;34m\u001B[0m\n\u001B[1;32m     23\u001B[0m \u001B[0;31m# Bokeh imports\u001B[0m\u001B[0;34m\u001B[0m\u001B[0;34m\u001B[0m\u001B[0m\n\u001B[1;32m     24\u001B[0m \u001B[0;32mfrom\u001B[0m \u001B[0;34m.\u001B[0m\u001B[0;34m.\u001B[0m\u001B[0mcore\u001B[0m\u001B[0;34m.\u001B[0m\u001B[0mhas_props\u001B[0m \u001B[0;32mimport\u001B[0m \u001B[0mabstract\u001B[0m\u001B[0;34m\u001B[0m\u001B[0;34m\u001B[0m\u001B[0m\n\u001B[0;32m---> 25\u001B[0;31m \u001B[0;32mfrom\u001B[0m \u001B[0;34m.\u001B[0m\u001B[0mmodel\u001B[0m \u001B[0;32mimport\u001B[0m \u001B[0mModel\u001B[0m\u001B[0;34m\u001B[0m\u001B[0;34m\u001B[0m\u001B[0m\n\u001B[0m\u001B[1;32m     26\u001B[0m \u001B[0;34m\u001B[0m\u001B[0m\n\u001B[1;32m     27\u001B[0m \u001B[0;31m#-----------------------------------------------------------------------------\u001B[0m\u001B[0;34m\u001B[0m\u001B[0;34m\u001B[0m\u001B[0m\n",
      "\u001B[0;32m~/.conda/envs/Coursework/lib/python3.9/site-packages/bokeh/model/model.py\u001B[0m in \u001B[0;36m<module>\u001B[0;34m\u001B[0m\n\u001B[1;32m     49\u001B[0m \u001B[0;32mfrom\u001B[0m \u001B[0;34m.\u001B[0m\u001B[0;34m.\u001B[0m\u001B[0mutil\u001B[0m\u001B[0;34m.\u001B[0m\u001B[0mcallback_manager\u001B[0m \u001B[0;32mimport\u001B[0m \u001B[0mEventCallbackManager\u001B[0m\u001B[0;34m,\u001B[0m \u001B[0mPropertyCallbackManager\u001B[0m\u001B[0;34m\u001B[0m\u001B[0;34m\u001B[0m\u001B[0m\n\u001B[1;32m     50\u001B[0m \u001B[0;32mfrom\u001B[0m \u001B[0;34m.\u001B[0m\u001B[0;34m.\u001B[0m\u001B[0mutil\u001B[0m\u001B[0;34m.\u001B[0m\u001B[0mserialization\u001B[0m \u001B[0;32mimport\u001B[0m \u001B[0mmake_id\u001B[0m\u001B[0;34m\u001B[0m\u001B[0;34m\u001B[0m\u001B[0m\n\u001B[0;32m---> 51\u001B[0;31m \u001B[0;32mfrom\u001B[0m \u001B[0;34m.\u001B[0m\u001B[0mdocs\u001B[0m \u001B[0;32mimport\u001B[0m \u001B[0mhtml_repr\u001B[0m\u001B[0;34m,\u001B[0m \u001B[0mprocess_example\u001B[0m\u001B[0;34m\u001B[0m\u001B[0;34m\u001B[0m\u001B[0m\n\u001B[0m\u001B[1;32m     52\u001B[0m from .util import (\n\u001B[1;32m     53\u001B[0m     \u001B[0mHasDocumentRef\u001B[0m\u001B[0;34m,\u001B[0m\u001B[0;34m\u001B[0m\u001B[0;34m\u001B[0m\u001B[0m\n",
      "\u001B[0;32m~/.conda/envs/Coursework/lib/python3.9/site-packages/bokeh/model/docs.py\u001B[0m in \u001B[0;36m<module>\u001B[0;34m\u001B[0m\n\u001B[1;32m     27\u001B[0m \u001B[0;31m# Bokeh imports\u001B[0m\u001B[0;34m\u001B[0m\u001B[0;34m\u001B[0m\u001B[0m\n\u001B[1;32m     28\u001B[0m \u001B[0;32mfrom\u001B[0m \u001B[0;34m.\u001B[0m\u001B[0;34m.\u001B[0m\u001B[0mutil\u001B[0m\u001B[0;34m.\u001B[0m\u001B[0mserialization\u001B[0m \u001B[0;32mimport\u001B[0m \u001B[0mmake_id\u001B[0m\u001B[0;34m\u001B[0m\u001B[0;34m\u001B[0m\u001B[0m\n\u001B[0;32m---> 29\u001B[0;31m \u001B[0;32mfrom\u001B[0m \u001B[0;34m.\u001B[0m\u001B[0;34m.\u001B[0m\u001B[0mutil\u001B[0m\u001B[0;34m.\u001B[0m\u001B[0mstring\u001B[0m \u001B[0;32mimport\u001B[0m \u001B[0mappend_docstring\u001B[0m\u001B[0;34m\u001B[0m\u001B[0;34m\u001B[0m\u001B[0m\n\u001B[0m\u001B[1;32m     30\u001B[0m \u001B[0;34m\u001B[0m\u001B[0m\n\u001B[1;32m     31\u001B[0m \u001B[0;32mif\u001B[0m \u001B[0mTYPE_CHECKING\u001B[0m\u001B[0;34m:\u001B[0m\u001B[0;34m\u001B[0m\u001B[0;34m\u001B[0m\u001B[0m\n",
      "\u001B[0;31mImportError\u001B[0m: cannot import name 'append_docstring' from 'bokeh.util.string' (/Users/tadios/.conda/envs/Coursework/lib/python3.9/site-packages/bokeh/util/string.py)"
     ]
    }
   ],
   "source": [
    "from keplergl import KeplerGl\n",
    "import shapely\n",
    "import geopandas as gpd\n",
    "import pandas as pd\n",
    "import numpy as np\n",
    "import matplotlib.pyplot as plt\n",
    "import httpx\n",
    "import requests\n",
    "import folium \n",
    "import datetime\n",
    "import hvplot.pandas"
   ]
  },
  {
   "cell_type": "markdown",
   "metadata": {
    "id": "btixZKzR6IFc"
   },
   "source": [
    "## Mapping "
   ]
  },
  {
   "cell_type": "code",
   "execution_count": null,
   "metadata": {
    "id": "e3vNQdbCkPgE",
    "outputId": "2cb7b84f-431f-4c79-ea4b-3f62757e9cca"
   },
   "outputs": [
    {
     "data": {
      "text/html": [
       "<div style=\"width:100%;\"><div style=\"position:relative;width:100%;height:0;padding-bottom:60%;\"><span style=\"color:#565656\">Make this Notebook Trusted to load map: File -> Trust Notebook</span><iframe src=\"about:blank\" style=\"position:absolute;width:100%;height:100%;left:0;top:0;border:none !important;\" data-html=%3C%21DOCTYPE%20html%3E%0A%3Chead%3E%20%20%20%20%0A%20%20%20%20%3Cmeta%20http-equiv%3D%22content-type%22%20content%3D%22text/html%3B%20charset%3DUTF-8%22%20/%3E%0A%20%20%20%20%0A%20%20%20%20%20%20%20%20%3Cscript%3E%0A%20%20%20%20%20%20%20%20%20%20%20%20L_NO_TOUCH%20%3D%20false%3B%0A%20%20%20%20%20%20%20%20%20%20%20%20L_DISABLE_3D%20%3D%20false%3B%0A%20%20%20%20%20%20%20%20%3C/script%3E%0A%20%20%20%20%0A%20%20%20%20%3Cstyle%3Ehtml%2C%20body%20%7Bwidth%3A%20100%25%3Bheight%3A%20100%25%3Bmargin%3A%200%3Bpadding%3A%200%3B%7D%3C/style%3E%0A%20%20%20%20%3Cstyle%3E%23map%20%7Bposition%3Aabsolute%3Btop%3A0%3Bbottom%3A0%3Bright%3A0%3Bleft%3A0%3B%7D%3C/style%3E%0A%20%20%20%20%3Cscript%20src%3D%22https%3A//cdn.jsdelivr.net/npm/leaflet%401.6.0/dist/leaflet.js%22%3E%3C/script%3E%0A%20%20%20%20%3Cscript%20src%3D%22https%3A//code.jquery.com/jquery-1.12.4.min.js%22%3E%3C/script%3E%0A%20%20%20%20%3Cscript%20src%3D%22https%3A//maxcdn.bootstrapcdn.com/bootstrap/3.2.0/js/bootstrap.min.js%22%3E%3C/script%3E%0A%20%20%20%20%3Cscript%20src%3D%22https%3A//cdnjs.cloudflare.com/ajax/libs/Leaflet.awesome-markers/2.0.2/leaflet.awesome-markers.js%22%3E%3C/script%3E%0A%20%20%20%20%3Clink%20rel%3D%22stylesheet%22%20href%3D%22https%3A//cdn.jsdelivr.net/npm/leaflet%401.6.0/dist/leaflet.css%22/%3E%0A%20%20%20%20%3Clink%20rel%3D%22stylesheet%22%20href%3D%22https%3A//maxcdn.bootstrapcdn.com/bootstrap/3.2.0/css/bootstrap.min.css%22/%3E%0A%20%20%20%20%3Clink%20rel%3D%22stylesheet%22%20href%3D%22https%3A//maxcdn.bootstrapcdn.com/bootstrap/3.2.0/css/bootstrap-theme.min.css%22/%3E%0A%20%20%20%20%3Clink%20rel%3D%22stylesheet%22%20href%3D%22https%3A//maxcdn.bootstrapcdn.com/font-awesome/4.6.3/css/font-awesome.min.css%22/%3E%0A%20%20%20%20%3Clink%20rel%3D%22stylesheet%22%20href%3D%22https%3A//cdnjs.cloudflare.com/ajax/libs/Leaflet.awesome-markers/2.0.2/leaflet.awesome-markers.css%22/%3E%0A%20%20%20%20%3Clink%20rel%3D%22stylesheet%22%20href%3D%22https%3A//cdn.jsdelivr.net/gh/python-visualization/folium/folium/templates/leaflet.awesome.rotate.min.css%22/%3E%0A%20%20%20%20%0A%20%20%20%20%20%20%20%20%20%20%20%20%3Cmeta%20name%3D%22viewport%22%20content%3D%22width%3Ddevice-width%2C%0A%20%20%20%20%20%20%20%20%20%20%20%20%20%20%20%20initial-scale%3D1.0%2C%20maximum-scale%3D1.0%2C%20user-scalable%3Dno%22%20/%3E%0A%20%20%20%20%20%20%20%20%20%20%20%20%3Cstyle%3E%0A%20%20%20%20%20%20%20%20%20%20%20%20%20%20%20%20%23map_41afbd94297d4a10a0b5e5fd02bdbe95%20%7B%0A%20%20%20%20%20%20%20%20%20%20%20%20%20%20%20%20%20%20%20%20position%3A%20relative%3B%0A%20%20%20%20%20%20%20%20%20%20%20%20%20%20%20%20%20%20%20%20width%3A%20100.0%25%3B%0A%20%20%20%20%20%20%20%20%20%20%20%20%20%20%20%20%20%20%20%20height%3A%20100.0%25%3B%0A%20%20%20%20%20%20%20%20%20%20%20%20%20%20%20%20%20%20%20%20left%3A%200.0%25%3B%0A%20%20%20%20%20%20%20%20%20%20%20%20%20%20%20%20%20%20%20%20top%3A%200.0%25%3B%0A%20%20%20%20%20%20%20%20%20%20%20%20%20%20%20%20%7D%0A%20%20%20%20%20%20%20%20%20%20%20%20%3C/style%3E%0A%20%20%20%20%20%20%20%20%0A%3C/head%3E%0A%3Cbody%3E%20%20%20%20%0A%20%20%20%20%0A%20%20%20%20%20%20%20%20%20%20%20%20%3Cdiv%20class%3D%22folium-map%22%20id%3D%22map_41afbd94297d4a10a0b5e5fd02bdbe95%22%20%3E%3C/div%3E%0A%20%20%20%20%20%20%20%20%0A%3C/body%3E%0A%3Cscript%3E%20%20%20%20%0A%20%20%20%20%0A%20%20%20%20%20%20%20%20%20%20%20%20var%20map_41afbd94297d4a10a0b5e5fd02bdbe95%20%3D%20L.map%28%0A%20%20%20%20%20%20%20%20%20%20%20%20%20%20%20%20%22map_41afbd94297d4a10a0b5e5fd02bdbe95%22%2C%0A%20%20%20%20%20%20%20%20%20%20%20%20%20%20%20%20%7B%0A%20%20%20%20%20%20%20%20%20%20%20%20%20%20%20%20%20%20%20%20center%3A%20%5B51.5074%2C%200.1278%5D%2C%0A%20%20%20%20%20%20%20%20%20%20%20%20%20%20%20%20%20%20%20%20crs%3A%20L.CRS.EPSG3857%2C%0A%20%20%20%20%20%20%20%20%20%20%20%20%20%20%20%20%20%20%20%20zoom%3A%2010%2C%0A%20%20%20%20%20%20%20%20%20%20%20%20%20%20%20%20%20%20%20%20zoomControl%3A%20true%2C%0A%20%20%20%20%20%20%20%20%20%20%20%20%20%20%20%20%20%20%20%20preferCanvas%3A%20false%2C%0A%20%20%20%20%20%20%20%20%20%20%20%20%20%20%20%20%7D%0A%20%20%20%20%20%20%20%20%20%20%20%20%29%3B%0A%0A%20%20%20%20%20%20%20%20%20%20%20%20%0A%0A%20%20%20%20%20%20%20%20%0A%20%20%20%20%0A%20%20%20%20%20%20%20%20%20%20%20%20var%20tile_layer_06a2466ea8934745b7f310aba1f695f0%20%3D%20L.tileLayer%28%0A%20%20%20%20%20%20%20%20%20%20%20%20%20%20%20%20%22https%3A//cartodb-basemaps-%7Bs%7D.global.ssl.fastly.net/light_all/%7Bz%7D/%7Bx%7D/%7By%7D.png%22%2C%0A%20%20%20%20%20%20%20%20%20%20%20%20%20%20%20%20%7B%22attribution%22%3A%20%22%5Cu0026copy%3B%20%5Cu003ca%20href%3D%5C%22http%3A//www.openstreetmap.org/copyright%5C%22%5Cu003eOpenStreetMap%5Cu003c/a%5Cu003e%20contributors%20%5Cu0026copy%3B%20%5Cu003ca%20href%3D%5C%22http%3A//cartodb.com/attributions%5C%22%5Cu003eCartoDB%5Cu003c/a%5Cu003e%2C%20CartoDB%20%5Cu003ca%20href%20%3D%5C%22http%3A//cartodb.com/attributions%5C%22%5Cu003eattributions%5Cu003c/a%5Cu003e%22%2C%20%22detectRetina%22%3A%20false%2C%20%22maxNativeZoom%22%3A%2018%2C%20%22maxZoom%22%3A%2018%2C%20%22minZoom%22%3A%200%2C%20%22noWrap%22%3A%20false%2C%20%22opacity%22%3A%201%2C%20%22subdomains%22%3A%20%22abc%22%2C%20%22tms%22%3A%20false%7D%0A%20%20%20%20%20%20%20%20%20%20%20%20%29.addTo%28map_41afbd94297d4a10a0b5e5fd02bdbe95%29%3B%0A%20%20%20%20%20%20%20%20%0A%3C/script%3E onload=\"this.contentDocument.open();this.contentDocument.write(    decodeURIComponent(this.getAttribute('data-html')));this.contentDocument.close();\" allowfullscreen webkitallowfullscreen mozallowfullscreen></iframe></div></div>"
      ],
      "text/plain": [
       "<folium.folium.Map at 0x7ff6632cbf70>"
      ]
     },
     "execution_count": 3,
     "metadata": {},
     "output_type": "execute_result"
    }
   ],
   "source": [
    "map_ = folium.Map(location=[51.5074,0.1278],tiles = \"CartoDB positron\")\n",
    "map_"
   ]
  },
  {
   "cell_type": "code",
   "execution_count": null,
   "metadata": {
    "colab": {
     "base_uri": "https://localhost:8080/",
     "height": 227,
     "output_embedded_package_id": "1BwARFbnJeu_15fGwLPQMAojAyTdqw0c5"
    },
    "executionInfo": {
     "elapsed": 5184,
     "status": "ok",
     "timestamp": 1631608270193,
     "user": {
      "displayName": "Tadios Temesgen",
      "photoUrl": "https://lh3.googleusercontent.com/a-/AOh14GjPz8qJ8wtzgP8FA7Sm1ND2Sm6F5Byhb5l2qRhx=s64",
      "userId": "12685772300065794066"
     },
     "user_tz": -60
    },
    "id": "I9QqbWaTDMJ4",
    "outputId": "534f47c8-b781-4e73-a472-7de44dc271ee"
   },
   "outputs": [
    {
     "data": {
      "text/plain": [
       "Output hidden; open in https://colab.research.google.com to view."
      ]
     },
     "metadata": {},
     "output_type": "display_data"
    }
   ],
   "source": [
    "world = gpd.read_file(gpd.datasets.get_path('naturalearth_lowres'))\n",
    "world.plot()"
   ]
  },
  {
   "cell_type": "markdown",
   "metadata": {
    "id": "FgRmKN2_6Hpd"
   },
   "source": [
    "# TFL Station Locations"
   ]
  },
  {
   "cell_type": "code",
   "execution_count": null,
   "metadata": {
    "id": "GnG1QyC5zwXG"
   },
   "outputs": [],
   "source": [
    "gpd.io.file.fiona.drvsupport.supported_drivers['KML'] = 'rw'\n",
    "\n",
    "tfl_stations = gpd.read_file('stations.kml', driver='KML')\n",
    "tfl_stations.geometry = gpd.points_from_xy(tfl_stations.geometry.x, tfl_stations.geometry.y)"
   ]
  },
  {
   "cell_type": "code",
   "execution_count": null,
   "metadata": {
    "id": "NyuLYRlgzwXH",
    "outputId": "69c71ad6-b969-4057-ee73-08da761be121"
   },
   "outputs": [
    {
     "name": "stdout",
     "output_type": "stream",
     "text": [
      "User Guide: https://docs.kepler.gl/docs/keplergl-jupyter\n"
     ]
    },
    {
     "data": {
      "application/vnd.jupyter.widget-view+json": {
       "model_id": "b791506e5252494ba764de7b2ebaf772",
       "version_major": 2,
       "version_minor": 0
      },
      "text/plain": [
       "KeplerGl(data={'tfl_stations':                            Name  \\\n",
       "0            Acton Town Station   \n",
       "1        …"
      ]
     },
     "metadata": {},
     "output_type": "display_data"
    }
   ],
   "source": [
    "tfl_stations_map = KeplerGl(data={'tfl_stations':tfl_stations})\n",
    "tfl_stations_map"
   ]
  },
  {
   "cell_type": "code",
   "execution_count": null,
   "metadata": {
    "id": "GsU9KNNezwXI",
    "outputId": "8a6f18cb-cfd3-4c4e-cc6f-4774f09d9b1b"
   },
   "outputs": [
    {
     "data": {
      "image/svg+xml": [
       "<svg xmlns=\"http://www.w3.org/2000/svg\" xmlns:xlink=\"http://www.w3.org/1999/xlink\" width=\"100.0\" height=\"100.0\" viewBox=\"-0.6457115008205783 51.367844686271205 0.9312908713830477 0.3716780230540735\" preserveAspectRatio=\"xMinYMin meet\"><g transform=\"matrix(1,0,0,-1,0,103.10736739559648)\"><path fill-rule=\"evenodd\" fill=\"#66cc99\" stroke=\"#555555\" stroke-width=\"0.018625817427660955\" opacity=\"0.6\" d=\"M -0.1947907008345152,51.40233694076687 L -0.4460587669779373,51.458553104092005 L -0.607478839102469,51.67414971062973 L -0.6112192463249099,51.70503045482961 L 0.1138669155835709,51.69362460756548 L 0.25108711606680095,51.55888907616999 L -0.1947907008345152,51.40233694076687 z\" /></g></svg>"
      ],
      "text/plain": [
       "<shapely.geometry.polygon.Polygon at 0x7ff631179250>"
      ]
     },
     "execution_count": 53,
     "metadata": {},
     "output_type": "execute_result"
    }
   ],
   "source": [
    "tfl_polygon = tfl_stations.unary_union.convex_hull\n",
    "tfl_polygon"
   ]
  },
  {
   "cell_type": "code",
   "execution_count": null,
   "metadata": {
    "id": "ctWsAEdL-IsN",
    "outputId": "5e0bf6df-d011-4f81-a837-c2d341ffc20a"
   },
   "outputs": [
    {
     "name": "stdout",
     "output_type": "stream",
     "text": [
      "array('d', [-0.1947907008345152, -0.4460587669779373, -0.607478839102469, -0.6112192463249099, 0.1138669155835709, 0.25108711606680095, -0.1947907008345152]) array('d', [51.40233694076687, 51.458553104092005, 51.67414971062973, 51.70503045482961, 51.69362460756548, 51.55888907616999, 51.40233694076687])\n"
     ]
    }
   ],
   "source": [
    "x, y = tfl_polygon.exterior.coords.xy\n",
    "print(x,y)"
   ]
  },
  {
   "cell_type": "code",
   "execution_count": null,
   "metadata": {
    "id": "hQ5x78wSzwXI"
   },
   "outputs": [],
   "source": [
    "mode_meta_query = httpx.get(\"https://api.tfl.gov.uk/Line/Meta/Modes\")"
   ]
  },
  {
   "cell_type": "code",
   "execution_count": null,
   "metadata": {
    "id": "YYxnkvIQzwXJ"
   },
   "outputs": [],
   "source": [
    "modes = [mode['modeName'] for mode in mode_meta_query.json() if mode['isScheduledService']]\n",
    "modes.remove('bus')\n",
    "modes.remove('coach')"
   ]
  },
  {
   "cell_type": "code",
   "execution_count": null,
   "metadata": {
    "id": "fwsh8w7ZzwXK"
   },
   "outputs": [],
   "source": [
    "stops = []\n",
    "for mode in modes:\n",
    "    mode_status_query = httpx.get(f'https://api.tfl.gov.uk/line/mode/{mode}/status')\n",
    "    lines = {line['id']: line['name'] for line in mode_status_query.json() if line['modeName']==mode}\n",
    "    for line_id, line_name in lines.items():\n",
    "        lines_info = httpx.get(f'https://api.tfl.gov.uk/line/{line_id}/stoppoints')\n",
    "        result = []\n",
    "        for line_info in lines_info.json():  \n",
    "            try:\n",
    "                result_ = dict(Name=line_info['commonName'], mode=mode, line=line_name, geometry=Point(line_info['lon'], line_info['lat'])) \n",
    "            except:\n",
    "                result_ = lines_info.json()    \n",
    "            result.append(result_)\n",
    "        stops.extend(result) "
   ]
  },
  {
   "cell_type": "code",
   "execution_count": null,
   "metadata": {
    "id": "Psli7FQh-IsO"
   },
   "outputs": [],
   "source": [
    "stops"
   ]
  },
  {
   "cell_type": "code",
   "execution_count": null,
   "metadata": {
    "id": "3S6xGVdYzwXK"
   },
   "outputs": [],
   "source": [
    "stations = gpd.GeoDataFrame(stops, crs=\"EPSG:4326\", geometry='geometry')\n",
    "stations['line'] = stations.groupby('Name')['line'].transform(', '.join)\n",
    "stations = stations.drop_duplicates()"
   ]
  },
  {
   "cell_type": "code",
   "execution_count": null,
   "metadata": {
    "id": "B0sBAU-FzwXL"
   },
   "outputs": [],
   "source": [
    "tfl_stations = KeplerGl(data=stations)\n",
    "tfl_stations"
   ]
  },
  {
   "cell_type": "code",
   "execution_count": null,
   "metadata": {
    "id": "BtkYmUUZYJrY"
   },
   "outputs": [],
   "source": [
    "x = 0\n",
    "stopID = []\n",
    "stoppingpoint = input('Enter the station: ')\n",
    "url = f'https://api.tfl.gov.uk/Stoppoint/Search/{stoppingpoint}'  \n",
    "r =  requests.get(url).json()\n",
    "\n",
    "while x == 0:  \n",
    "  if r['total'] == 0:\n",
    "    print('There are no matches for your input')\n",
    "    stoppingpoint = input('Please re-enter the station: ')\n",
    "    url = f'https://api.tfl.gov.uk/Stoppoint/Search/{stoppingpoint}' \n",
    "    r =  requests.get(url).json()\n",
    "  else:\n",
    "    if r['total'] > 1:\n",
    "      for dicts in r['matches']:\n",
    "        stopID.append(dicts['id'])\n",
    "    x = 1\n",
    "\n",
    "stopID"
   ]
  },
  {
   "cell_type": "code",
   "execution_count": null,
   "metadata": {
    "id": "dORfUKhkvJi7"
   },
   "outputs": [],
   "source": [
    "url = 'https://api.tfl.gov.uk/Stoppoint/Search/Kennedy'\n",
    "r =  requests.get(url).json()\n",
    "stopID = []\n",
    "\n",
    "for dicts in r['matches']:\n",
    "  stopID.append(dicts['id'])\n",
    "\n",
    "stopID"
   ]
  },
  {
   "cell_type": "markdown",
   "metadata": {
    "id": "PfRoNm2L6bU8"
   },
   "source": [
    "# Crime API"
   ]
  },
  {
   "cell_type": "markdown",
   "metadata": {
    "id": "yCBfWvLg6eu9"
   },
   "source": [
    "**Info:**\n",
    "\n",
    "\n",
    "https://data.police.uk/docs/method/crime-street/\n",
    "\n",
    "lat=52.629729&lng=-1.131592"
   ]
  },
  {
   "cell_type": "markdown",
   "metadata": {
    "id": "7f34QHSobuRA"
   },
   "source": [
    "**Generic API call:**\n",
    "\n",
    "https://data.police.uk/api/crimes-street/all-crimes?lat=51.5074&lng=0.1278&date=2021-07\n",
    "\n",
    "\n",
    "all-crimes - can be changed to filter for specific crime types\n",
    "\n",
    "date=2021-07 - can be changed to filter for specific dates in the form y1y2y3y4/m1m2\n",
    "\n",
    "lat=51.5074&lng=0.1278 - can be changed to filter for certain neighbourhoods\n",
    "\n",
    "{y[0]},{x[0]}:{y[1]},{x[1]}:{y[2]},{x[2]}:{y[3]},{x[3]}:{y[4]},{x[4]}:{y[5]},{x[5]}:{y[6]},{x[6]}\n",
    "\n",
    "\n",
    "51.696161,-0.504971:51.311227,-0.496171:51.691990,0.287200:51.298133,0.221950"
   ]
  },
  {
   "cell_type": "markdown",
   "metadata": {
    "id": "EnyB9B0f-IsR"
   },
   "source": [
    "Getting crime categories for a chosen date\n",
    "\n",
    "https://data.police.uk/docs/method/crime-categories/"
   ]
  },
  {
   "cell_type": "code",
   "execution_count": 62,
   "metadata": {
    "id": "5paZmfpd-IsR",
    "scrolled": true
   },
   "outputs": [
    {
     "name": "stdout",
     "output_type": "stream",
     "text": [
      "['all-crime', 'anti-social-behaviour', 'bicycle-theft', 'burglary', 'criminal-damage-arson', 'drugs', 'other-theft', 'possession-of-weapons', 'public-order', 'robbery', 'shoplifting', 'theft-from-the-person', 'vehicle-crime', 'violent-crime', 'other-crime'] ['All crime', 'Anti-social behaviour', 'Bicycle theft', 'Burglary', 'Criminal damage and arson', 'Drugs', 'Other theft', 'Possession of weapons', 'Public order', 'Robbery', 'Shoplifting', 'Theft from the person', 'Vehicle crime', 'Violence and sexual offences', 'Other crime'] ['2011-08', '2011-09', '2011-10', '2011-11', '2011-12', '2012-01', '2012-02', '2012-03', '2012-04', '2012-05', '2012-06', '2012-07', '2012-08', '2012-09', '2012-10', '2012-11', '2012-12', '2013-01', '2013-02', '2013-03', '2013-04', '2013-05', '2013-06', '2013-07', '2013-08', '2013-09', '2013-10', '2013-11', '2013-12', '2014-01', '2014-02', '2014-03', '2014-04', '2014-05', '2014-06', '2014-07', '2014-08', '2014-09', '2014-10', '2014-11', '2014-12', '2015-01', '2015-02', '2015-03', '2015-04', '2015-05', '2015-06', '2015-07', '2015-08', '2015-09', '2015-10', '2015-11', '2015-12', '2016-01', '2016-02', '2016-03', '2016-04', '2016-05', '2016-06', '2016-07', '2016-08', '2016-09', '2016-10', '2016-11', '2016-12', '2017-01', '2017-02', '2017-03', '2017-04', '2017-05', '2017-06', '2017-07', '2017-08', '2017-09', '2017-10', '2017-11', '2017-12', '2018-01', '2018-02', '2018-03', '2018-04', '2018-05', '2018-06', '2018-07', '2018-08', '2018-09', '2018-10', '2018-11', '2018-12', '2019-01', '2019-02', '2019-03', '2019-04', '2019-05', '2019-06', '2019-07', '2019-08', '2019-09', '2019-10', '2019-11', '2019-12', '2020-01', '2020-02', '2020-03', '2020-04', '2020-05', '2020-06', '2020-07', '2020-08', '2020-09', '2020-10', '2020-11', '2020-12', '2021-01', '2021-02', '2021-03', '2021-04', '2021-05', '2021-06', '2021-07']\n"
     ]
    }
   ],
   "source": [
    "categories = 'https://data.police.uk/api/crime-categories'\n",
    "r = requests.get(categories).json()\n",
    "r\n",
    "\n",
    "cat_names = [r[i]['name'] for i in range(len(r))]\n",
    "cat_url = [r[i]['url'] for i in range(len(r))]\n",
    "\n",
    "dates = pd.date_range('2011-08','2021-07', \n",
    "              freq='MS').strftime(\"%Y-%m\").tolist()\n",
    " \n",
    "print(cat_url, cat_names, dates)"
   ]
  },
  {
   "cell_type": "markdown",
   "metadata": {
    "id": "rEW7Ctwn-IsR"
   },
   "source": [
    "Allowing a user to choose a date "
   ]
  },
  {
   "cell_type": "code",
   "execution_count": 10,
   "metadata": {
    "colab": {
     "base_uri": "https://localhost:8080/",
     "height": 231
    },
    "executionInfo": {
     "elapsed": 219,
     "status": "error",
     "timestamp": 1634554522281,
     "user": {
      "displayName": "Tadios Temesgen",
      "photoUrl": "https://lh3.googleusercontent.com/a-/AOh14GjPz8qJ8wtzgP8FA7Sm1ND2Sm6F5Byhb5l2qRhx=s64",
      "userId": "12685772300065794066"
     },
     "user_tz": -60
    },
    "id": "RSFl1rHq-IsR",
    "outputId": "09a0c161-631d-4cdb-cb7e-d45d602e37f4"
   },
   "outputs": [
    {
     "ename": "AttributeError",
     "evalue": "ignored",
     "output_type": "error",
     "traceback": [
      "\u001B[0;31m---------------------------------------------------------------------------\u001B[0m",
      "\u001B[0;31mAttributeError\u001B[0m                            Traceback (most recent call last)",
      "\u001B[0;32m<ipython-input-10-d790d229c1d3>\u001B[0m in \u001B[0;36m<module>\u001B[0;34m()\u001B[0m\n\u001B[1;32m      2\u001B[0m \u001B[0;32mfrom\u001B[0m \u001B[0mdateutil\u001B[0m\u001B[0;34m.\u001B[0m\u001B[0mrelativedelta\u001B[0m \u001B[0;32mimport\u001B[0m \u001B[0mrelativedelta\u001B[0m\u001B[0;34m\u001B[0m\u001B[0;34m\u001B[0m\u001B[0m\n\u001B[1;32m      3\u001B[0m \u001B[0;34m\u001B[0m\u001B[0m\n\u001B[0;32m----> 4\u001B[0;31m \u001B[0mlast_month\u001B[0m \u001B[0;34m=\u001B[0m \u001B[0mdatetime\u001B[0m\u001B[0;34m.\u001B[0m\u001B[0mnow\u001B[0m\u001B[0;34m(\u001B[0m\u001B[0;34m)\u001B[0m \u001B[0;34m-\u001B[0m \u001B[0mrelativedelta\u001B[0m\u001B[0;34m(\u001B[0m\u001B[0mmonths\u001B[0m\u001B[0;34m=\u001B[0m\u001B[0;36m1\u001B[0m\u001B[0;34m)\u001B[0m\u001B[0;34m\u001B[0m\u001B[0;34m\u001B[0m\u001B[0m\n\u001B[0m\u001B[1;32m      5\u001B[0m \u001B[0;34m\u001B[0m\u001B[0m\n\u001B[1;32m      6\u001B[0m \u001B[0mtoday\u001B[0m \u001B[0;34m=\u001B[0m \u001B[0mdate\u001B[0m\u001B[0;34m.\u001B[0m\u001B[0mtoday\u001B[0m\u001B[0;34m(\u001B[0m\u001B[0;34m)\u001B[0m\u001B[0;34m.\u001B[0m\u001B[0mstrftime\u001B[0m\u001B[0;34m(\u001B[0m\u001B[0;34m\"%Y-%m\"\u001B[0m\u001B[0;34m)\u001B[0m\u001B[0;34m\u001B[0m\u001B[0;34m\u001B[0m\u001B[0m\n",
      "\u001B[0;31mAttributeError\u001B[0m: module 'datetime' has no attribute 'now'"
     ]
    }
   ],
   "source": [
    "from datetime import date\n",
    "from dateutil.relativedelta import relativedelta\n",
    "\n",
    "last_month = datetime.now() - relativedelta(months=1)\n",
    "\n",
    "today = date.today().strftime(\"%Y-%m\")\n",
    "print(\"Today's date:\", today)\n",
    "print(last_month)\n",
    "# print(f'Data is availbale from 2011-08 to {date.today().strftime(\"%Y-%m\")}')"
   ]
  },
  {
   "cell_type": "markdown",
   "metadata": {
    "id": "ycOlO8o0-IsS"
   },
   "source": [
    "Allowing a user to choose a  crime category for a specific date"
   ]
  },
  {
   "cell_type": "code",
   "execution_count": 63,
   "metadata": {
    "id": "ycq4Ec1--IsS",
    "outputId": "7fe71044-c850-4931-e9b6-2d6d89f03dde",
    "scrolled": true
   },
   "outputs": [
    {
     "name": "stdout",
     "output_type": "stream",
     "text": [
      "Here are the following options:\n"
     ]
    },
    {
     "data": {
      "text/html": [
       "<div>\n",
       "<style scoped>\n",
       "    .dataframe tbody tr th:only-of-type {\n",
       "        vertical-align: middle;\n",
       "    }\n",
       "\n",
       "    .dataframe tbody tr th {\n",
       "        vertical-align: top;\n",
       "    }\n",
       "\n",
       "    .dataframe thead th {\n",
       "        text-align: right;\n",
       "    }\n",
       "</style>\n",
       "<table border=\"1\" class=\"dataframe\">\n",
       "  <thead>\n",
       "    <tr style=\"text-align: right;\">\n",
       "      <th></th>\n",
       "      <th>categories</th>\n",
       "    </tr>\n",
       "  </thead>\n",
       "  <tbody>\n",
       "    <tr>\n",
       "      <th>0</th>\n",
       "      <td>All crime</td>\n",
       "    </tr>\n",
       "    <tr>\n",
       "      <th>1</th>\n",
       "      <td>Anti-social behaviour</td>\n",
       "    </tr>\n",
       "    <tr>\n",
       "      <th>2</th>\n",
       "      <td>Bicycle theft</td>\n",
       "    </tr>\n",
       "    <tr>\n",
       "      <th>3</th>\n",
       "      <td>Burglary</td>\n",
       "    </tr>\n",
       "    <tr>\n",
       "      <th>4</th>\n",
       "      <td>Criminal damage and arson</td>\n",
       "    </tr>\n",
       "    <tr>\n",
       "      <th>5</th>\n",
       "      <td>Drugs</td>\n",
       "    </tr>\n",
       "    <tr>\n",
       "      <th>6</th>\n",
       "      <td>Other theft</td>\n",
       "    </tr>\n",
       "    <tr>\n",
       "      <th>7</th>\n",
       "      <td>Possession of weapons</td>\n",
       "    </tr>\n",
       "    <tr>\n",
       "      <th>8</th>\n",
       "      <td>Public order</td>\n",
       "    </tr>\n",
       "    <tr>\n",
       "      <th>9</th>\n",
       "      <td>Robbery</td>\n",
       "    </tr>\n",
       "    <tr>\n",
       "      <th>10</th>\n",
       "      <td>Shoplifting</td>\n",
       "    </tr>\n",
       "    <tr>\n",
       "      <th>11</th>\n",
       "      <td>Theft from the person</td>\n",
       "    </tr>\n",
       "    <tr>\n",
       "      <th>12</th>\n",
       "      <td>Vehicle crime</td>\n",
       "    </tr>\n",
       "    <tr>\n",
       "      <th>13</th>\n",
       "      <td>Violence and sexual offences</td>\n",
       "    </tr>\n",
       "    <tr>\n",
       "      <th>14</th>\n",
       "      <td>Other crime</td>\n",
       "    </tr>\n",
       "  </tbody>\n",
       "</table>\n",
       "</div>"
      ],
      "text/plain": [
       "                      categories\n",
       "0                      All crime\n",
       "1          Anti-social behaviour\n",
       "2                  Bicycle theft\n",
       "3                       Burglary\n",
       "4      Criminal damage and arson\n",
       "5                          Drugs\n",
       "6                    Other theft\n",
       "7          Possession of weapons\n",
       "8                   Public order\n",
       "9                        Robbery\n",
       "10                   Shoplifting\n",
       "11         Theft from the person\n",
       "12                 Vehicle crime\n",
       "13  Violence and sexual offences\n",
       "14                   Other crime"
      ]
     },
     "metadata": {},
     "output_type": "display_data"
    },
    {
     "name": "stdout",
     "output_type": "stream",
     "text": [
      "Choose a number from 0 to 14 to choose a specific crime category: 7\n"
     ]
    }
   ],
   "source": [
    "crime_options = {'categories':cat_names}             \n",
    "crime_options_df = pd.DataFrame.from_dict(crime_options)\n",
    "print('Here are the following options:')\n",
    "display(crime_options_df)\n",
    "\n",
    "cat_choice = input(f'Choose a number from 0 to {len(cat_names)-1} to choose a specific crime category: ')"
   ]
  },
  {
   "cell_type": "markdown",
   "metadata": {
    "id": "qOU5RU14n-LX"
   },
   "source": [
    "Crime and Date specific API call for London"
   ]
  },
  {
   "cell_type": "code",
   "execution_count": 64,
   "metadata": {
    "colab": {
     "base_uri": "https://localhost:8080/",
     "height": 419
    },
    "executionInfo": {
     "elapsed": 717,
     "status": "ok",
     "timestamp": 1632862708662,
     "user": {
      "displayName": "Tadios Temesgen",
      "photoUrl": "https://lh3.googleusercontent.com/a-/AOh14GjPz8qJ8wtzgP8FA7Sm1ND2Sm6F5Byhb5l2qRhx=s64",
      "userId": "12685772300065794066"
     },
     "user_tz": -60
    },
    "id": "KuO_6iZG6eO0",
    "outputId": "1468b549-ff97-4bbc-9709-512d8a34c3fa",
    "scrolled": true
   },
   "outputs": [
    {
     "name": "stdout",
     "output_type": "stream",
     "text": [
      "[{'category': 'possession-of-weapons', 'location_type': 'Force', 'location': {'latitude': '51.636056', 'street': {'id': 985910, 'name': 'On or near Petrol Station'}, 'longitude': '-0.013542'}, 'context': '', 'outcome_status': {'category': 'Under investigation', 'date': '2021-07'}, 'persistent_id': '74057a6f5a7e419565b3fb8899f66ed19f97415f4c3b3cb63fa979b442cd3bdb', 'id': 93984083, 'location_subtype': '', 'month': '2021-07'}, {'category': 'possession-of-weapons', 'location_type': 'Force', 'location': {'latitude': '51.347860', 'street': {'id': 925880, 'name': 'On or near Roman Way'}, 'longitude': '-0.164118'}, 'context': '', 'outcome_status': {'category': 'Under investigation', 'date': '2021-07'}, 'persistent_id': '09afb899a49da6c846e7369cb305cc5f0255368ecba12d72951338219ba36052', 'id': 93986736, 'location_subtype': '', 'month': '2021-07'}, {'category': 'possession-of-weapons', 'location_type': 'Force', 'location': {'latitude': '51.465916', 'street': {'id': 943992, 'name': 'On or near Orchid Gardens'}, 'longitude': '-0.376316'}, 'context': '', 'outcome_status': {'category': 'Under investigation', 'date': '2021-07'}, 'persistent_id': '54d8be8a8d3cc9d5727ac3cee8fa48e88d5aaeb5ea69582cafd2b8c81f57c125', 'id': 93991757, 'location_subtype': '', 'month': '2021-07'}, {'category': 'possession-of-weapons', 'location_type': 'Force', 'location': {'latitude': '51.469717', 'street': {'id': 945476, 'name': 'On or near Rosebury Road'}, 'longitude': '-0.189452'}, 'context': '', 'outcome_status': {'category': 'Under investigation', 'date': '2021-07'}, 'persistent_id': '35d3fc2090fa39096aa9e0f7dba5af3aa443ca9a3eeed1f2ea11ee847e600836', 'id': 93992172, 'location_subtype': '', 'month': '2021-07'}, {'category': 'possession-of-weapons', 'location_type': 'Force', 'location': {'latitude': '51.554588', 'street': {'id': 968111, 'name': 'On or near Bellina Mews'}, 'longitude': '-0.140544'}, 'context': '', 'outcome_status': {'category': 'Awaiting court outcome', 'date': '2021-07'}, 'persistent_id': '169f1a06d996a90a8a51ee1c3eb7cd9a7300f42bc4fc60a2a1b50a8089ec822b', 'id': 94002896, 'location_subtype': '', 'month': '2021-07'}, {'category': 'possession-of-weapons', 'location_type': 'Force', 'location': {'latitude': '51.448874', 'street': {'id': 940053, 'name': 'On or near Eynella Road'}, 'longitude': '-0.076064'}, 'context': '', 'outcome_status': {'category': 'Under investigation', 'date': '2021-07'}, 'persistent_id': '91e70c9c548914fb84937f1c799c4c8334624e84a7124ea34a4bad8bc98d0530', 'id': 94003260, 'location_subtype': '', 'month': '2021-07'}, {'category': 'possession-of-weapons', 'location_type': 'Force', 'location': {'latitude': '51.525516', 'street': {'id': 958978, 'name': 'On or near Hospital'}, 'longitude': '-0.460905'}, 'context': '', 'outcome_status': {'category': 'Under investigation', 'date': '2021-07'}, 'persistent_id': '38f37856979e3da51fa35ab3a8803346a1268023a0085b8a8e719440dc679589', 'id': 94004147, 'location_subtype': '', 'month': '2021-07'}, {'category': 'possession-of-weapons', 'location_type': 'Force', 'location': {'latitude': '51.509777', 'street': {'id': 956227, 'name': 'On or near Police Station'}, 'longitude': '-0.124673'}, 'context': '', 'outcome_status': {'category': 'Local resolution', 'date': '2021-08'}, 'persistent_id': '614c23ea8e8ed38ad5887dfe6f1b78a9870a5aebc742010e9610e47f66b74c02', 'id': 94004245, 'location_subtype': '', 'month': '2021-07'}, {'category': 'possession-of-weapons', 'location_type': 'Force', 'location': {'latitude': '51.491777', 'street': {'id': 950228, 'name': 'On or near Nevern Square'}, 'longitude': '-0.197092'}, 'context': '', 'outcome_status': {'category': 'Under investigation', 'date': '2021-07'}, 'persistent_id': '90eaabdb0be7427b4894abbf0307dc5e96ba8c474c51e86c2e8ecb66d34d5a36', 'id': 94004666, 'location_subtype': '', 'month': '2021-07'}, {'category': 'possession-of-weapons', 'location_type': 'Force', 'location': {'latitude': '51.553005', 'street': {'id': 969856, 'name': 'On or near Aidan Close'}, 'longitude': '0.136190'}, 'context': '', 'outcome_status': {'category': 'Awaiting court outcome', 'date': '2021-08'}, 'persistent_id': '8d217c9639f5ac19ba52cc33a5c849648c82b95625a6b717dc8747b09405245c', 'id': 94005664, 'location_subtype': '', 'month': '2021-07'}, {'category': 'possession-of-weapons', 'location_type': 'Force', 'location': {'latitude': '51.472570', 'street': {'id': 945710, 'name': \"On or near Stewart's Road\"}, 'longitude': '-0.136221'}, 'context': '', 'outcome_status': {'category': 'Under investigation', 'date': '2021-07'}, 'persistent_id': '0a7765b7eab27c21bd9581ea1580d0a2b718e69bab9dc2088afa8f08bbe34d48', 'id': 94007985, 'location_subtype': '', 'month': '2021-07'}, {'category': 'possession-of-weapons', 'location_type': 'Force', 'location': {'latitude': '51.573234', 'street': {'id': 975386, 'name': 'On or near Farmilo Road'}, 'longitude': '-0.023122'}, 'context': '', 'outcome_status': {'category': 'Under investigation', 'date': '2021-07'}, 'persistent_id': '540c4d4a9e32374db5a1951a240393e7f9bb7ff1e867b5617be0f8160b0bd009', 'id': 94016022, 'location_subtype': '', 'month': '2021-07'}, {'category': 'possession-of-weapons', 'location_type': 'Force', 'location': {'latitude': '51.554210', 'street': {'id': 970751, 'name': 'On or near Charlecote Road'}, 'longitude': '0.136651'}, 'context': '', 'outcome_status': {'category': 'Offender given a caution', 'date': '2021-08'}, 'persistent_id': '89bb9d1c390b752af0c9e5f6680a2f5c1e51cc57c93bb4119477413737784f08', 'id': 94016936, 'location_subtype': '', 'month': '2021-07'}, {'category': 'possession-of-weapons', 'location_type': 'Force', 'location': {'latitude': '51.389390', 'street': {'id': 930570, 'name': 'On or near Dunheved Road South'}, 'longitude': '-0.113300'}, 'context': '', 'outcome_status': {'category': 'Under investigation', 'date': '2021-07'}, 'persistent_id': '1ba11acea7780edcf3b27a547a3544639e9a9ba4a7c1e60947d58f90a3e35b85', 'id': 94017470, 'location_subtype': '', 'month': '2021-07'}, {'category': 'possession-of-weapons', 'location_type': 'Force', 'location': {'latitude': '51.564352', 'street': {'id': 972024, 'name': 'On or near Rock Street'}, 'longitude': '-0.103931'}, 'context': '', 'outcome_status': {'category': 'Under investigation', 'date': '2021-07'}, 'persistent_id': 'aa3d6f36ad17d831b46118678ef429f0125d5b824f555fb7fd4427bb05190cc9', 'id': 94021581, 'location_subtype': '', 'month': '2021-07'}, {'category': 'possession-of-weapons', 'location_type': 'Force', 'location': {'latitude': '51.423402', 'street': {'id': 935385, 'name': 'On or near Holderness Way'}, 'longitude': '-0.103370'}, 'context': '', 'outcome_status': {'category': 'Under investigation', 'date': '2021-07'}, 'persistent_id': '7fea1eaa89c2ed78625630c33a1db4b904f2b93a89893016bb7e32210c91d1cd', 'id': 93993962, 'location_subtype': '', 'month': '2021-07'}, {'category': 'possession-of-weapons', 'location_type': 'Force', 'location': {'latitude': '51.549005', 'street': {'id': 966708, 'name': 'On or near Fortunes Mead'}, 'longitude': '-0.380210'}, 'context': '', 'outcome_status': {'category': 'Awaiting court outcome', 'date': '2021-08'}, 'persistent_id': '84259b4c22999ca7714f3a78036b2a9634840775b2bb4245ff8005ac843eb521', 'id': 93994889, 'location_subtype': '', 'month': '2021-07'}, {'category': 'possession-of-weapons', 'location_type': 'Force', 'location': {'latitude': '51.524364', 'street': {'id': 960082, 'name': 'On or near Fermoy Road'}, 'longitude': '-0.203460'}, 'context': '', 'outcome_status': {'category': 'Awaiting court outcome', 'date': '2021-08'}, 'persistent_id': '26bfbce5f76dd6ce4034588da402e2f9d69cec1d3ba08052d206d08424f8f5ec', 'id': 93994989, 'location_subtype': '', 'month': '2021-07'}, {'category': 'possession-of-weapons', 'location_type': 'Force', 'location': {'latitude': '51.492615', 'street': {'id': 953373, 'name': 'On or near Hugh Mews'}, 'longitude': '-0.144724'}, 'context': '', 'outcome_status': {'category': 'Under investigation', 'date': '2021-07'}, 'persistent_id': '368ad0bd9a17d343090646fdd3ffaa41e27fb5addb8893039a7b31f270c52428', 'id': 93997449, 'location_subtype': '', 'month': '2021-07'}, {'category': 'possession-of-weapons', 'location_type': 'Force', 'location': {'latitude': '51.525017', 'street': {'id': 961892, 'name': 'On or near Supermarket'}, 'longitude': '-0.035504'}, 'context': '', 'outcome_status': {'category': 'Under investigation', 'date': '2021-07'}, 'persistent_id': '61a82c6fef2502440a7695e4a6265f036ffcd84515310839672de58beb6500d2', 'id': 93997505, 'location_subtype': '', 'month': '2021-07'}, {'category': 'possession-of-weapons', 'location_type': 'Force', 'location': {'latitude': '51.509922', 'street': {'id': 957353, 'name': 'On or near Shopping Area'}, 'longitude': '-0.223511'}, 'context': '', 'outcome_status': {'category': 'Awaiting court outcome', 'date': '2021-08'}, 'persistent_id': '6b3fab8826a28d61146f71611a7865f7b481426f1d1d7dcb9a9a00bc51a3dfff', 'id': 93997763, 'location_subtype': '', 'month': '2021-07'}, {'category': 'possession-of-weapons', 'location_type': 'Force', 'location': {'latitude': '51.477282', 'street': {'id': 946133, 'name': 'On or near Salisbury Place'}, 'longitude': '-0.103137'}, 'context': '', 'outcome_status': {'category': 'Awaiting court outcome', 'date': '2021-07'}, 'persistent_id': 'c416bbf53d97716c7c400ba0416481ca46aa94b93eef21cc487f69d0494cdc97', 'id': 94000001, 'location_subtype': '', 'month': '2021-07'}, {'category': 'possession-of-weapons', 'location_type': 'Force', 'location': {'latitude': '51.542315', 'street': {'id': 969678, 'name': 'On or near Strathfield Gardens'}, 'longitude': '0.088588'}, 'context': '', 'outcome_status': {'category': 'Under investigation', 'date': '2021-07'}, 'persistent_id': '347f5e75fd03a910e954e158f891f729d5cb89a8f09264b0550b4cca3b7dba5d', 'id': 94000179, 'location_subtype': '', 'month': '2021-07'}, {'category': 'possession-of-weapons', 'location_type': 'Force', 'location': {'latitude': '51.369230', 'street': {'id': 926814, 'name': 'On or near Devonshire Road'}, 'longitude': '-0.158034'}, 'context': '', 'outcome_status': {'category': 'Under investigation', 'date': '2021-07'}, 'persistent_id': 'e1c9fdbe2cb7ca3f29f69646197d289fedd305fc7a7d2562f3b281ebd3520062', 'id': 94000540, 'location_subtype': '', 'month': '2021-07'}, {'category': 'possession-of-weapons', 'location_type': 'Force', 'location': {'latitude': '51.509922', 'street': {'id': 957353, 'name': 'On or near Shopping Area'}, 'longitude': '-0.223511'}, 'context': '', 'outcome_status': {'category': 'Under investigation', 'date': '2021-07'}, 'persistent_id': 'a8b308952d191193f3cf360e8ca9526dd1e875e16b0755a8be407b1f588ba0d7', 'id': 94026711, 'location_subtype': '', 'month': '2021-07'}, {'category': 'possession-of-weapons', 'location_type': 'Force', 'location': {'latitude': '51.558160', 'street': {'id': 968070, 'name': 'On or near Chetwynd Road'}, 'longitude': '-0.143543'}, 'context': '', 'outcome_status': {'category': 'Under investigation', 'date': '2021-07'}, 'persistent_id': 'fa04e89c0861ad7960aa3450fcda28113fa4a44f20395e8e60dd15270b11a62c', 'id': 94029308, 'location_subtype': '', 'month': '2021-07'}, {'category': 'possession-of-weapons', 'location_type': 'Force', 'location': {'latitude': '51.565128', 'street': {'id': 973030, 'name': 'On or near Tithe Farm Close'}, 'longitude': '-0.367893'}, 'context': '', 'outcome_status': {'category': 'Under investigation', 'date': '2021-07'}, 'persistent_id': '1ebfe61b33ba4e68e743efd48bab6eae63e76534ab35ff53e6b477bb0113eb40', 'id': 94029643, 'location_subtype': '', 'month': '2021-07'}, {'category': 'possession-of-weapons', 'location_type': 'Force', 'location': {'latitude': '51.537122', 'street': {'id': 964101, 'name': 'On or near Rutland Road'}, 'longitude': '-0.046346'}, 'context': '', 'outcome_status': {'category': 'Under investigation', 'date': '2021-07'}, 'persistent_id': '0b43d78a4fb8972dfdff5cd2a1943fd18790643bfd4131ddc4321ad4e1e91b43', 'id': 94031663, 'location_subtype': '', 'month': '2021-07'}, {'category': 'possession-of-weapons', 'location_type': 'Force', 'location': {'latitude': '51.463498', 'street': {'id': 947034, 'name': 'On or near Hither Farm Road'}, 'longitude': '0.033087'}, 'context': '', 'outcome_status': {'category': 'Under investigation', 'date': '2021-07'}, 'persistent_id': '001933663a54a3477322d07e47b3bf46aa3bb10a29edad1d24e6f7d362db563e', 'id': 94037173, 'location_subtype': '', 'month': '2021-07'}, {'category': 'possession-of-weapons', 'location_type': 'Force', 'location': {'latitude': '51.664006', 'street': {'id': 987704, 'name': 'On or near Primrose Avenue'}, 'longitude': '-0.077939'}, 'context': '', 'outcome_status': {'category': 'Under investigation', 'date': '2021-07'}, 'persistent_id': '15c1449c44841df19052a2bbe45e5f8826c8189fc9f0a74e2db674906a08bcc4', 'id': 94038502, 'location_subtype': '', 'month': '2021-07'}, {'category': 'possession-of-weapons', 'location_type': 'Force', 'location': {'latitude': '51.438204', 'street': {'id': 937393, 'name': 'On or near Leigham Court Road'}, 'longitude': '-0.126843'}, 'context': '', 'outcome_status': {'category': 'Awaiting court outcome', 'date': '2021-07'}, 'persistent_id': 'a80a21983ea10ba3378913efc5a4572942d8e178bded88bc77b6f927040d34d3', 'id': 94038892, 'location_subtype': '', 'month': '2021-07'}, {'category': 'possession-of-weapons', 'location_type': 'Force', 'location': {'latitude': '51.477618', 'street': {'id': 948926, 'name': 'On or near Pear Close'}, 'longitude': '-0.039356'}, 'context': '', 'outcome_status': {'category': 'Under investigation', 'date': '2021-07'}, 'persistent_id': '45a3def29c6758c864e2e40bdbd9cc42d761eede36260ce8e177a1fcb04e7f2a', 'id': 94039074, 'location_subtype': '', 'month': '2021-07'}, {'category': 'possession-of-weapons', 'location_type': 'Force', 'location': {'latitude': '51.406869', 'street': {'id': 933031, 'name': 'On or near Laburnum Road'}, 'longitude': '-0.155472'}, 'context': '', 'outcome_status': {'category': 'Under investigation', 'date': '2021-07'}, 'persistent_id': '4fd9f49cab16d71c7d3c8f70b9be3376858b5349878df543821c6d37dae4f2df', 'id': 94049099, 'location_subtype': '', 'month': '2021-07'}, {'category': 'possession-of-weapons', 'location_type': 'Force', 'location': {'latitude': '51.370834', 'street': {'id': 927406, 'name': 'On or near Ardingly Close'}, 'longitude': '-0.050947'}, 'context': '', 'outcome_status': {'category': 'Under investigation', 'date': '2021-07'}, 'persistent_id': 'e79419755a6de4a11cb3ad09090a8ddd19b48b2e82cb3be0b310642350f96faf', 'id': 94044152, 'location_subtype': '', 'month': '2021-07'}, {'category': 'possession-of-weapons', 'location_type': 'Force', 'location': {'latitude': '51.473286', 'street': {'id': 945385, 'name': 'On or near Trott Street'}, 'longitude': '-0.172521'}, 'context': '', 'outcome_status': {'category': 'Under investigation', 'date': '2021-07'}, 'persistent_id': 'ba55c35f06cb158d8c40471a499a85c4ca0e80f93cdd73fcd7dc5e398b7a388b', 'id': 94054286, 'location_subtype': '', 'month': '2021-07'}, {'category': 'possession-of-weapons', 'location_type': 'Force', 'location': {'latitude': '51.571495', 'street': {'id': 973176, 'name': 'On or near Castleton Road'}, 'longitude': '-0.388112'}, 'context': '', 'outcome_status': {'category': 'Under investigation', 'date': '2021-07'}, 'persistent_id': 'b3839713774bd2f3c416445829b6c67b112721309c9230f72422e891279e2d4e', 'id': 94056781, 'location_subtype': '', 'month': '2021-07'}, {'category': 'possession-of-weapons', 'location_type': 'Force', 'location': {'latitude': '51.512997', 'street': {'id': 956717, 'name': 'On or near Pedestrian Subway'}, 'longitude': '-0.159893'}, 'context': '', 'outcome_status': {'category': 'Under investigation', 'date': '2021-07'}, 'persistent_id': 'f1555e160d73ad90adb0195df47cac3d28c5ca8f8f15e7392eb312e375151443', 'id': 94059186, 'location_subtype': '', 'month': '2021-07'}, {'category': 'possession-of-weapons', 'location_type': 'Force', 'location': {'latitude': '51.540119', 'street': {'id': 963185, 'name': 'On or near Parking Area'}, 'longitude': '0.080570'}, 'context': '', 'outcome_status': {'category': 'Under investigation', 'date': '2021-07'}, 'persistent_id': '18543bd862fb43df82330730f38d49a00c10eb57bb523ca7e8f836cd4a99f43d', 'id': 94063500, 'location_subtype': '', 'month': '2021-07'}, {'category': 'possession-of-weapons', 'location_type': 'Force', 'location': {'latitude': '51.590682', 'street': {'id': 977070, 'name': 'On or near Vanguard Close'}, 'longitude': '0.157938'}, 'context': '', 'outcome_status': {'category': 'Under investigation', 'date': '2021-07'}, 'persistent_id': 'adcb16ecb44ce82826818750ec1043cd86544356bd3652ca50bc305d0d90fbe2', 'id': 94051067, 'location_subtype': '', 'month': '2021-07'}, {'category': 'possession-of-weapons', 'location_type': 'Force', 'location': {'latitude': '51.544374', 'street': {'id': 968964, 'name': 'On or near Prince Edward Road'}, 'longitude': '-0.024575'}, 'context': '', 'outcome_status': {'category': 'Under investigation', 'date': '2021-07'}, 'persistent_id': 'ed0f30234922c751e9dcf65733e2d781cbbc1fb8e32aef61dd7456804c7cc547', 'id': 94051452, 'location_subtype': '', 'month': '2021-07'}, {'category': 'possession-of-weapons', 'location_type': 'Force', 'location': {'latitude': '51.489186', 'street': {'id': 948735, 'name': 'On or near Glengarnock Avenue'}, 'longitude': '-0.008063'}, 'context': '', 'outcome_status': {'category': 'Under investigation', 'date': '2021-07'}, 'persistent_id': '26586c3bc7801289d5884fb046936b1ca16d848c6e54bcdb56a31a6da0443f8a', 'id': 94086040, 'location_subtype': '', 'month': '2021-07'}, {'category': 'possession-of-weapons', 'location_type': 'Force', 'location': {'latitude': '51.545110', 'street': {'id': 969897, 'name': 'On or near Police Station'}, 'longitude': '0.165546'}, 'context': '', 'outcome_status': {'category': 'Awaiting court outcome', 'date': '2021-07'}, 'persistent_id': '6d0aadd1cd03aa156c7f2f19682f1fa239cc3c32728e1e7344b816f605bd9531', 'id': 94051131, 'location_subtype': '', 'month': '2021-07'}, {'category': 'possession-of-weapons', 'location_type': 'Force', 'location': {'latitude': '51.560573', 'street': {'id': 972688, 'name': 'On or near Pedestrian Subway'}, 'longitude': '-0.253263'}, 'context': '', 'outcome_status': {'category': 'Awaiting court outcome', 'date': '2021-07'}, 'persistent_id': '9e1a8f9113c1e427d817e7376cea87a5c07293a2f9c94c5613612ea126fdfbb5', 'id': 94045802, 'location_subtype': '', 'month': '2021-07'}, {'category': 'possession-of-weapons', 'location_type': 'Force', 'location': {'latitude': '51.502820', 'street': {'id': 953537, 'name': 'On or near Theme/adventure Park'}, 'longitude': '-0.119267'}, 'context': '', 'outcome_status': {'category': 'Under investigation', 'date': '2021-07'}, 'persistent_id': 'f665fcab845b3561fc99f5fc8908e1c655a38ae8ac07f11400d92219131dbe77', 'id': 94068130, 'location_subtype': '', 'month': '2021-07'}, {'category': 'possession-of-weapons', 'location_type': 'Force', 'location': {'latitude': '51.613750', 'street': {'id': 984700, 'name': 'On or near Peters Close'}, 'longitude': '-0.300793'}, 'context': '', 'outcome_status': {'category': 'Under investigation', 'date': '2021-07'}, 'persistent_id': '7afc7645335784c0a17423af4d0a0e00f177338e931adead4c8a61ea63cca86c', 'id': 94079998, 'location_subtype': '', 'month': '2021-07'}, {'category': 'possession-of-weapons', 'location_type': 'Force', 'location': {'latitude': '51.474213', 'street': {'id': 945035, 'name': 'On or near Melrose Road'}, 'longitude': '-0.249191'}, 'context': '', 'outcome_status': {'category': 'Under investigation', 'date': '2021-07'}, 'persistent_id': 'ecd39bfae18ee8655a189241c65bb5ffcf9eb2e12dc137d5e7b003933dcb2154', 'id': 94080320, 'location_subtype': '', 'month': '2021-07'}, {'category': 'possession-of-weapons', 'location_type': 'Force', 'location': {'latitude': '51.545845', 'street': {'id': 970201, 'name': 'On or near Hall Park Road'}, 'longitude': '0.251167'}, 'context': '', 'outcome_status': {'category': 'Under investigation', 'date': '2021-07'}, 'persistent_id': 'a7bcc43d83930ace67606a0be0c41529064344b60334723ab7c0b969876b8586', 'id': 94081057, 'location_subtype': '', 'month': '2021-07'}, {'category': 'possession-of-weapons', 'location_type': 'Force', 'location': {'latitude': '51.643947', 'street': {'id': 985982, 'name': 'On or near South Place'}, 'longitude': '-0.043795'}, 'context': '', 'outcome_status': {'category': 'Under investigation', 'date': '2021-07'}, 'persistent_id': 'ae193a02707702af1ca649845754dc69e1aec83b42c88aa0294231f72ffd3f3b', 'id': 94083449, 'location_subtype': '', 'month': '2021-07'}, {'category': 'possession-of-weapons', 'location_type': 'Force', 'location': {'latitude': '51.427521', 'street': {'id': 936881, 'name': 'On or near Arnulf Street'}, 'longitude': '-0.020686'}, 'context': '', 'outcome_status': {'category': 'Under investigation', 'date': '2021-07'}, 'persistent_id': 'eb9144eaea3a46fd795ee9beef84a3fb3ad61c815183571c90d6095c68172bbb', 'id': 94084377, 'location_subtype': '', 'month': '2021-07'}, {'category': 'possession-of-weapons', 'location_type': 'Force', 'location': {'latitude': '51.491777', 'street': {'id': 950228, 'name': 'On or near Nevern Square'}, 'longitude': '-0.197092'}, 'context': '', 'outcome_status': {'category': 'Awaiting court outcome', 'date': '2021-07'}, 'persistent_id': 'a8168b4b6e7ce0bab1c14915f520578713eeb741e064e69fece2fe0d89472b1a', 'id': 93997875, 'location_subtype': '', 'month': '2021-07'}, {'category': 'possession-of-weapons', 'location_type': 'Force', 'location': {'latitude': '51.559433', 'street': {'id': 970982, 'name': 'On or near York Place'}, 'longitude': '0.069045'}, 'context': '', 'outcome_status': {'category': 'Investigation complete; no suspect identified', 'date': '2021-07'}, 'persistent_id': 'd5205459fd7d108942a280a0d00693f3bdd9ba011cbe3b2a023ceb22cc8aeadb', 'id': 94083219, 'location_subtype': '', 'month': '2021-07'}, {'category': 'possession-of-weapons', 'location_type': 'Force', 'location': {'latitude': '51.515333', 'street': {'id': 956370, 'name': 'On or near Shopping Area'}, 'longitude': '-0.140385'}, 'context': '', 'outcome_status': {'category': 'Awaiting court outcome', 'date': '2021-07'}, 'persistent_id': '16c616a4114aa40d1d3b87e464581e4d65fd99eda111f020de2208aab468a541', 'id': 94081817, 'location_subtype': '', 'month': '2021-07'}, {'category': 'possession-of-weapons', 'location_type': 'Force', 'location': {'latitude': '51.499877', 'street': {'id': 1194580, 'name': 'On or near Parlaunt Road'}, 'longitude': '-0.535174'}, 'context': '', 'outcome_status': {'category': 'Under investigation', 'date': '2021-07'}, 'persistent_id': '2ecddcb206deeeff6d863c44f855a095c40df8a21a62bfbf6880a437265ba4ea', 'id': 94053521, 'location_subtype': '', 'month': '2021-07'}, {'category': 'possession-of-weapons', 'location_type': 'Force', 'location': {'latitude': '51.521701', 'street': {'id': 1194634, 'name': 'On or near Widecroft Road'}, 'longitude': '-0.514467'}, 'context': '', 'outcome_status': {'category': 'Local resolution', 'date': '2021-08'}, 'persistent_id': 'f192ae2cb9929261afe98ebf2be3727058f49bdf68f13daf682b07ae57bf0875', 'id': 94056424, 'location_subtype': '', 'month': '2021-07'}, {'category': 'possession-of-weapons', 'location_type': 'Force', 'location': {'latitude': '51.444913', 'street': {'id': 849685, 'name': 'On or near Tower Road'}, 'longitude': '0.207400'}, 'context': '', 'outcome_status': {'category': 'Under investigation', 'date': '2021-07'}, 'persistent_id': 'e85a71e4c64eddc09740932f8a478a1dcc1502e66fdee19e687d429955bc96d6', 'id': 93895601, 'location_subtype': '', 'month': '2021-07'}, {'category': 'possession-of-weapons', 'location_type': 'Force', 'location': {'latitude': '51.454436', 'street': {'id': 851081, 'name': 'On or near Henderson Drive'}, 'longitude': '0.234964'}, 'context': '', 'outcome_status': {'category': 'Under investigation', 'date': '2021-07'}, 'persistent_id': 'c78d483919f9dbcab5fe8807ef6231c4698deb00be45a7dd57097468fef1b86f', 'id': 93897860, 'location_subtype': '', 'month': '2021-07'}, {'category': 'possession-of-weapons', 'location_type': 'Force', 'location': {'latitude': '51.441973', 'street': {'id': 849854, 'name': 'On or near The Brent'}, 'longitude': '0.235362'}, 'context': '', 'outcome_status': {'category': 'Under investigation', 'date': '2021-07'}, 'persistent_id': 'a232fac0c182167fd5e87d3aa2eaed609c608701f94809e0290f4bc144c1c45a', 'id': 93898974, 'location_subtype': '', 'month': '2021-07'}, {'category': 'possession-of-weapons', 'location_type': 'Force', 'location': {'latitude': '51.438690', 'street': {'id': 849718, 'name': 'On or near Lowfield Street'}, 'longitude': '0.215503'}, 'context': '', 'outcome_status': {'category': 'Under investigation', 'date': '2021-07'}, 'persistent_id': '8037c4aa3258d0c45ea0421899f2c59da293b25216e7ac239a11818c53f9d9fc', 'id': 93905839, 'location_subtype': '', 'month': '2021-07'}, {'category': 'possession-of-weapons', 'location_type': 'Force', 'location': {'latitude': '51.376085', 'street': {'id': 845064, 'name': 'On or near Alban Crescent'}, 'longitude': '0.226618'}, 'context': '', 'outcome_status': {'category': 'Unable to prosecute suspect', 'date': '2021-07'}, 'persistent_id': '9fbec6539f485fd3536526f113e8ee8864c54b75c0c623f196f40ba3b3de2bf0', 'id': 93895603, 'location_subtype': '', 'month': '2021-07'}, {'category': 'possession-of-weapons', 'location_type': 'Force', 'location': {'latitude': '51.458861', 'street': {'id': 851087, 'name': 'On or near Park/open Space'}, 'longitude': '0.235856'}, 'context': '', 'outcome_status': {'category': 'Unable to prosecute suspect', 'date': '2021-07'}, 'persistent_id': '0091ac8e9cb2ed84fe3dc94f7c91f46818d01221d46a76705bbc75715dc24618', 'id': 93897263, 'location_subtype': '', 'month': '2021-07'}, {'category': 'possession-of-weapons', 'location_type': 'Force', 'location': {'latitude': '51.445024', 'street': {'id': 849781, 'name': 'On or near Supermarket'}, 'longitude': '0.216299'}, 'context': '', 'outcome_status': {'category': 'Awaiting court outcome', 'date': '2021-07'}, 'persistent_id': 'b80f8aaed5c2569d7b08e17fb8ae19a8b6266008a76f6c1efa713b4647184ccc', 'id': 93902609, 'location_subtype': '', 'month': '2021-07'}, {'category': 'possession-of-weapons', 'location_type': 'Force', 'location': {'latitude': '51.443782', 'street': {'id': 849770, 'name': 'On or near High Street'}, 'longitude': '0.220124'}, 'context': '', 'outcome_status': {'category': 'Unable to prosecute suspect', 'date': '2021-07'}, 'persistent_id': '357564fe718ba982f9ae9572af263ee066e2ace440cb45c8b28128f4bc1ca9cf', 'id': 93895602, 'location_subtype': '', 'month': '2021-07'}, {'category': 'possession-of-weapons', 'location_type': 'Force', 'location': {'latitude': '51.453682', 'street': {'id': 851129, 'name': 'On or near Trevelyan Close'}, 'longitude': '0.227802'}, 'context': '', 'outcome_status': {'category': 'Awaiting court outcome', 'date': '2021-07'}, 'persistent_id': 'c01e0ffa633a3d680279fb764c17cc1084efa15f2c1a991adacbdf20cb43ae17', 'id': 93896615, 'location_subtype': '', 'month': '2021-07'}, {'category': 'possession-of-weapons', 'location_type': 'Force', 'location': {'latitude': '51.442439', 'street': {'id': 849908, 'name': 'On or near Petrol Station'}, 'longitude': '0.242005'}, 'context': '', 'outcome_status': {'category': 'Awaiting court outcome', 'date': '2021-07'}, 'persistent_id': 'ca58a3ae97017b892cdc46a31da45b0307ba4868e5dff107e0c2c63668cfcade', 'id': 93897861, 'location_subtype': '', 'month': '2021-07'}, {'category': 'possession-of-weapons', 'location_type': 'Force', 'location': {'latitude': '51.444470', 'street': {'id': 849744, 'name': 'On or near Parking Area'}, 'longitude': '0.221770'}, 'context': '', 'outcome_status': {'category': 'Unable to prosecute suspect', 'date': '2021-07'}, 'persistent_id': '4e6ffb70e115b29a9f2e441e9622de8f99e844cfa06d0de762db376672e62b5d', 'id': 93891298, 'location_subtype': '', 'month': '2021-07'}, {'category': 'possession-of-weapons', 'location_type': 'Force', 'location': {'latitude': '51.410645', 'street': {'id': 847899, 'name': 'On or near Hotham Close'}, 'longitude': '0.235603'}, 'context': '', 'outcome_status': {'category': 'Unable to prosecute suspect', 'date': '2021-07'}, 'persistent_id': '01c811a734c5d16a615ca7beb38daf82bb73d61bea9eebde46176fd40ba5e94e', 'id': 93891894, 'location_subtype': '', 'month': '2021-07'}, {'category': 'possession-of-weapons', 'location_type': 'Force', 'location': {'latitude': '51.489525', 'street': {'id': 949382, 'name': 'On or near Sedan Way'}, 'longitude': '-0.085113'}, 'context': '', 'outcome_status': {'category': 'Awaiting court outcome', 'date': '2021-08'}, 'persistent_id': '0cfba7ff0b4112544f614af185e2f041413700250f59ff73879bf6f835df2135', 'id': 94002785, 'location_subtype': '', 'month': '2021-07'}, {'category': 'possession-of-weapons', 'location_type': 'Force', 'location': {'latitude': '51.625831', 'street': {'id': 985394, 'name': 'On or near Sawyer Close'}, 'longitude': '-0.061970'}, 'context': '', 'outcome_status': {'category': 'Under investigation', 'date': '2021-07'}, 'persistent_id': 'ed7ab7b43c19214d72e5e022d7d347bb4cc70ecbf74b3f3b8331219da56c2b59', 'id': 94009325, 'location_subtype': '', 'month': '2021-07'}, {'category': 'possession-of-weapons', 'location_type': 'Force', 'location': {'latitude': '51.423300', 'street': {'id': 935400, 'name': 'On or near Petrol Station'}, 'longitude': '-0.105963'}, 'context': '', 'outcome_status': {'category': 'Under investigation', 'date': '2021-07'}, 'persistent_id': '26d54c7cedafe3c42a5f192b5e730e6a945318c3f472387630b6a54001406319', 'id': 93996491, 'location_subtype': '', 'month': '2021-07'}, {'category': 'possession-of-weapons', 'location_type': 'Force', 'location': {'latitude': '51.526995', 'street': {'id': 961373, 'name': 'On or near Florida Street'}, 'longitude': '-0.065809'}, 'context': '', 'outcome_status': {'category': 'Awaiting court outcome', 'date': '2021-07'}, 'persistent_id': 'b42f2fb4bb2014dd6c233fda4ccedb33c978bd1240ca1c93ed4e085dd3d52b78', 'id': 94039125, 'location_subtype': '', 'month': '2021-07'}, {'category': 'possession-of-weapons', 'location_type': 'Force', 'location': {'latitude': '51.468534', 'street': {'id': 946034, 'name': 'On or near Petrol Station'}, 'longitude': '-0.113248'}, 'context': '', 'outcome_status': {'category': 'Awaiting court outcome', 'date': '2021-07'}, 'persistent_id': 'e6a9f66bc43d4cefc1c1b152ab517cb37e5a20a56d1886166896872a5908da9c', 'id': 94002359, 'location_subtype': '', 'month': '2021-07'}, {'category': 'possession-of-weapons', 'location_type': 'Force', 'location': {'latitude': '51.492223', 'street': {'id': 950400, 'name': 'On or near Supermarket'}, 'longitude': '-0.224574'}, 'context': '', 'outcome_status': {'category': 'Awaiting court outcome', 'date': '2021-07'}, 'persistent_id': '33c3f0e4c06a3dde2a8fbd1b0e7aab914039fa469eb521956c32e6b2cb142348', 'id': 94070258, 'location_subtype': '', 'month': '2021-07'}, {'category': 'possession-of-weapons', 'location_type': 'Force', 'location': {'latitude': '51.512020', 'street': {'id': 956148, 'name': 'On or near Wellington Street'}, 'longitude': '-0.120387'}, 'context': '', 'outcome_status': {'category': 'Under investigation', 'date': '2021-07'}, 'persistent_id': '7d8c1dc197bcc264ac076ccaa752543bfcf2cfd2b2f719325127e42bd4be0d53', 'id': 94071985, 'location_subtype': '', 'month': '2021-07'}, {'category': 'possession-of-weapons', 'location_type': 'Force', 'location': {'latitude': '51.531260', 'street': {'id': 959979, 'name': 'On or near Stafford Road'}, 'longitude': '-0.196340'}, 'context': '', 'outcome_status': {'category': 'Awaiting court outcome', 'date': '2021-08'}, 'persistent_id': '44f5db26434798ad8c96b45c06e4867d982ad3f853250c424788c5d058e8f780', 'id': 94057630, 'location_subtype': '', 'month': '2021-07'}, {'category': 'possession-of-weapons', 'location_type': 'Force', 'location': {'latitude': '51.459766', 'street': {'id': 942585, 'name': 'On or near Nightclub'}, 'longitude': '-0.116056'}, 'context': '', 'outcome_status': {'category': 'Awaiting court outcome', 'date': '2021-07'}, 'persistent_id': 'c5c3b0693376fdf76556195d26423e1dc3c8865e856d40d47a81560101dbf606', 'id': 94066176, 'location_subtype': '', 'month': '2021-07'}, {'category': 'possession-of-weapons', 'location_type': 'Force', 'location': {'latitude': '51.501490', 'street': {'id': 953532, 'name': 'On or near Canon Row'}, 'longitude': '-0.125503'}, 'context': '', 'outcome_status': {'category': 'Under investigation', 'date': '2021-07'}, 'persistent_id': 'b104ed0b2c04e98044dbce9aba0f6a6dd7d4c844beb63bca01ce2c68be657334', 'id': 94088072, 'location_subtype': '', 'month': '2021-07'}, {'category': 'possession-of-weapons', 'location_type': 'Force', 'location': {'latitude': '51.512478', 'street': {'id': 956985, 'name': 'On or near Inverness Mews'}, 'longitude': '-0.187181'}, 'context': '', 'outcome_status': {'category': 'Awaiting court outcome', 'date': '2021-07'}, 'persistent_id': '6067f95d8d4c7ff1334d9b5cefd277dd21fdd9080c7e2fcdaf127728c178d265', 'id': 94047014, 'location_subtype': '', 'month': '2021-07'}, {'category': 'possession-of-weapons', 'location_type': 'Force', 'location': {'latitude': '51.410832', 'street': {'id': 932740, 'name': 'On or near Fairview Road'}, 'longitude': '-0.124166'}, 'context': '', 'outcome_status': {'category': 'Investigation complete; no suspect identified', 'date': '2021-07'}, 'persistent_id': 'a93b644cee52c63154e80c570a596c42e12c63ba41f18a80d4d61f70c4210570', 'id': 93994072, 'location_subtype': '', 'month': '2021-07'}, {'category': 'possession-of-weapons', 'location_type': 'Force', 'location': {'latitude': '51.351073', 'street': {'id': 925392, 'name': 'On or near Lomond Gardens'}, 'longitude': '-0.045338'}, 'context': '', 'outcome_status': {'category': 'Investigation complete; no suspect identified', 'date': '2021-07'}, 'persistent_id': '958c4685c09d5e63d008728f01ed9180180afca8ff0d31f2119e4dd67f9ac650', 'id': 93994073, 'location_subtype': '', 'month': '2021-07'}, {'category': 'possession-of-weapons', 'location_type': 'Force', 'location': {'latitude': '51.568458', 'street': {'id': 973412, 'name': 'On or near Oak Avenue'}, 'longitude': '-0.443541'}, 'context': '', 'outcome_status': {'category': 'Under investigation', 'date': '2021-07'}, 'persistent_id': 'a49d0eb6fe9f06b7849a18690557243c00a8fd6757559d47456c99d7326f2e88', 'id': 93994329, 'location_subtype': '', 'month': '2021-07'}, {'category': 'possession-of-weapons', 'location_type': 'Force', 'location': {'latitude': '51.544623', 'street': {'id': 964658, 'name': 'On or near Blundell Street'}, 'longitude': '-0.120702'}, 'context': '', 'outcome_status': {'category': 'Under investigation', 'date': '2021-07'}, 'persistent_id': '38dad6d4df2b9641b8413b1cb7f66abdbcc803926c8b8995a2c8396d2a74445e', 'id': 93994514, 'location_subtype': '', 'month': '2021-07'}, {'category': 'possession-of-weapons', 'location_type': 'Force', 'location': {'latitude': '51.596918', 'street': {'id': 981928, 'name': 'On or near Hecham Close'}, 'longitude': '-0.035825'}, 'context': '', 'outcome_status': {'category': 'Awaiting court outcome', 'date': '2021-07'}, 'persistent_id': 'ea1a8bdb3ae628f4358c298e125e2235d62e5c9795681f001b5799601cb88bdd', 'id': 93994858, 'location_subtype': '', 'month': '2021-07'}, {'category': 'possession-of-weapons', 'location_type': 'Force', 'location': {'latitude': '51.397810', 'street': {'id': 930508, 'name': 'On or near Leicester Avenue'}, 'longitude': '-0.128566'}, 'context': '', 'outcome_status': {'category': 'Under investigation', 'date': '2021-07'}, 'persistent_id': 'b6ef61cf1669652cfa3fcad62fc88d5459e0bd21df78d5cf86b4e5befb444d6c', 'id': 93994937, 'location_subtype': '', 'month': '2021-07'}, {'category': 'possession-of-weapons', 'location_type': 'Force', 'location': {'latitude': '51.522869', 'street': {'id': 962589, 'name': 'On or near Dunedin Road'}, 'longitude': '0.185032'}, 'context': '', 'outcome_status': {'category': 'Awaiting court outcome', 'date': '2021-07'}, 'persistent_id': '1fc894437f8fcd823eb904d5ac6f83b9fd4968ee8a7261ffd044d763816e272f', 'id': 93994940, 'location_subtype': '', 'month': '2021-07'}, {'category': 'possession-of-weapons', 'location_type': 'Force', 'location': {'latitude': '51.511257', 'street': {'id': 958075, 'name': 'On or near Bayham Road'}, 'longitude': '-0.321470'}, 'context': '', 'outcome_status': {'category': 'Awaiting court outcome', 'date': '2021-07'}, 'persistent_id': '0e1c1a8fce5a9c94aabc780af40d4967bec6a0d9689ff7739ac4f5847af39476', 'id': 93994982, 'location_subtype': '', 'month': '2021-07'}, {'category': 'possession-of-weapons', 'location_type': 'Force', 'location': {'latitude': '51.555047', 'street': {'id': 967301, 'name': 'On or near Park Avenue North'}, 'longitude': '-0.230755'}, 'context': '', 'outcome_status': {'category': 'Awaiting court outcome', 'date': '2021-07'}, 'persistent_id': '2405980af9a6d0fcfa3d7f5002966666e50bf902a8349a0efc751759a7801a3f', 'id': 93994987, 'location_subtype': '', 'month': '2021-07'}, {'category': 'possession-of-weapons', 'location_type': 'Force', 'location': {'latitude': '51.523567', 'street': {'id': 960034, 'name': 'On or near Western Mews'}, 'longitude': '-0.201329'}, 'context': '', 'outcome_status': {'category': 'Awaiting court outcome', 'date': '2021-07'}, 'persistent_id': '487492b6223825eaaccf57e1f2a8c27cd1e4f5aac043bff9c4a5a354e634d77a', 'id': 93995042, 'location_subtype': '', 'month': '2021-07'}, {'category': 'possession-of-weapons', 'location_type': 'Force', 'location': {'latitude': '51.566828', 'street': {'id': 971165, 'name': 'On or near Cavendish Gardens'}, 'longitude': '0.064287'}, 'context': '', 'outcome_status': {'category': 'Awaiting court outcome', 'date': '2021-07'}, 'persistent_id': 'b18405cba9bfb5dc0bd376e2fcf5e6cea22be5b91914ccc686e281e0faef06ec', 'id': 93995037, 'location_subtype': '', 'month': '2021-07'}, {'category': 'possession-of-weapons', 'location_type': 'Force', 'location': {'latitude': '51.532590', 'street': {'id': 964168, 'name': 'On or near Sewardstone Road'}, 'longitude': '-0.047434'}, 'context': '', 'outcome_status': {'category': 'Investigation complete; no suspect identified', 'date': '2021-07'}, 'persistent_id': '0e77e71ac1ddd2601bd85d3f9f29cb7caaf7457556068f350a7d92a763f9b8f3', 'id': 93995147, 'location_subtype': '', 'month': '2021-07'}, {'category': 'possession-of-weapons', 'location_type': 'Force', 'location': {'latitude': '51.546915', 'street': {'id': 967613, 'name': 'On or near Christchurch Avenue'}, 'longitude': '-0.203884'}, 'context': '', 'outcome_status': {'category': 'Under investigation', 'date': '2021-07'}, 'persistent_id': '864a0c6f6e59eb85f4cd0074dc56fbb12a5da4517e0023c182d62d64cde6e6a4', 'id': 93995162, 'location_subtype': '', 'month': '2021-07'}, {'category': 'possession-of-weapons', 'location_type': 'Force', 'location': {'latitude': '51.516887', 'street': {'id': 958274, 'name': 'On or near Telford Road'}, 'longitude': '-0.362901'}, 'context': '', 'outcome_status': {'category': 'Investigation complete; no suspect identified', 'date': '2021-08'}, 'persistent_id': '3d0b225ccbb6ca034ffeb7f07c2a3dfa34bb9b4fe986b75c48e1775534866686', 'id': 93995172, 'location_subtype': '', 'month': '2021-07'}, {'category': 'possession-of-weapons', 'location_type': 'Force', 'location': {'latitude': '51.503242', 'street': {'id': 955037, 'name': 'On or near Waterfield Close'}, 'longitude': '0.110648'}, 'context': '', 'outcome_status': {'category': 'Under investigation', 'date': '2021-07'}, 'persistent_id': '2547a7e1fe0706a66756cdf2556d7bc30c9f6458773a2025310b7555845d26a5', 'id': 94022953, 'location_subtype': '', 'month': '2021-07'}, {'category': 'possession-of-weapons', 'location_type': 'Force', 'location': {'latitude': '51.493758', 'street': {'id': 952993, 'name': 'On or near Glendower Place'}, 'longitude': '-0.175794'}, 'context': '', 'outcome_status': {'category': 'Under investigation', 'date': '2021-07'}, 'persistent_id': 'caaa3850abc2555fd99a25539c228a1a38b8ca7fc20c8c2ba408c15f5399f6f2', 'id': 93993951, 'location_subtype': '', 'month': '2021-07'}, {'category': 'possession-of-weapons', 'location_type': 'Force', 'location': {'latitude': '51.506818', 'street': {'id': 956679, 'name': 'On or near Piccadilly'}, 'longitude': '-0.142735'}, 'context': '', 'outcome_status': {'category': 'Under investigation', 'date': '2021-07'}, 'persistent_id': '34df37d9babf709e56a7af86b943e11cae8670025c65004a9f01ba50c81ab5d0', 'id': 93996149, 'location_subtype': '', 'month': '2021-07'}, {'category': 'possession-of-weapons', 'location_type': 'Force', 'location': {'latitude': '51.456793', 'street': {'id': 942104, 'name': 'On or near Peckham Rye'}, 'longitude': '-0.064388'}, 'context': '', 'outcome_status': {'category': 'Awaiting court outcome', 'date': '2021-07'}, 'persistent_id': '2890d945b1854fdda4f8cd9d407111aa8357e05054729e4e579bfa3785064c18', 'id': 93996742, 'location_subtype': '', 'month': '2021-07'}, {'category': 'possession-of-weapons', 'location_type': 'Force', 'location': {'latitude': '51.514527', 'street': {'id': 956360, 'name': 'On or near Nightclub'}, 'longitude': '-0.140057'}, 'context': '', 'outcome_status': {'category': 'Under investigation', 'date': '2021-07'}, 'persistent_id': '5f85acde71e2e168f2abcc9f668c448567f87df2bc26edc1de92ced0e96a6d4c', 'id': 93996997, 'location_subtype': '', 'month': '2021-07'}, {'category': 'possession-of-weapons', 'location_type': 'Force', 'location': {'latitude': '51.459724', 'street': {'id': 942696, 'name': 'On or near Kings Avenue'}, 'longitude': '-0.129158'}, 'context': '', 'outcome_status': {'category': 'Under investigation', 'date': '2021-07'}, 'persistent_id': '02790b09caa58f5d707545abe1ad9b431b5ae5e307dc8f1092c3940b07fdf64c', 'id': 93997266, 'location_subtype': '', 'month': '2021-07'}, {'category': 'possession-of-weapons', 'location_type': 'Force', 'location': {'latitude': '51.407054', 'street': {'id': 932964, 'name': 'On or near Sadler Close'}, 'longitude': '-0.166708'}, 'context': '', 'outcome_status': {'category': 'Awaiting court outcome', 'date': '2021-08'}, 'persistent_id': '72b882db088005ff9061c250502f635bc81937966d87769135d6a1b98b8f666a', 'id': 93997295, 'location_subtype': '', 'month': '2021-07'}, {'category': 'possession-of-weapons', 'location_type': 'Force', 'location': {'latitude': '51.505458', 'street': {'id': 956276, 'name': 'On or near Waterloo Road'}, 'longitude': '-0.114389'}, 'context': '', 'outcome_status': {'category': 'Under investigation', 'date': '2021-07'}, 'persistent_id': '4b251c8986eca51bb42f8e8427d290cefa32b5f04577911b151aa7e151a17572', 'id': 93997465, 'location_subtype': '', 'month': '2021-07'}, {'category': 'possession-of-weapons', 'location_type': 'Force', 'location': {'latitude': '51.559594', 'street': {'id': 966650, 'name': 'On or near Princes Way'}, 'longitude': '-0.383195'}, 'context': '', 'outcome_status': {'category': 'Awaiting court outcome', 'date': '2021-07'}, 'persistent_id': '04d8dbd201f2ae32df5209906e8cd88b527003441ac25cdd2e02ad6880aa480f', 'id': 93997463, 'location_subtype': '', 'month': '2021-07'}, {'category': 'possession-of-weapons', 'location_type': 'Force', 'location': {'latitude': '51.531671', 'street': {'id': 963024, 'name': 'On or near Ripple Road'}, 'longitude': '0.122489'}, 'context': '', 'outcome_status': {'category': 'Awaiting court outcome', 'date': '2021-07'}, 'persistent_id': 'cdef9939449748b0833ae5fd422f9d3a8da4c27500ef69e32b8efae9f667cca1', 'id': 93997474, 'location_subtype': '', 'month': '2021-07'}, {'category': 'possession-of-weapons', 'location_type': 'Force', 'location': {'latitude': '51.533470', 'street': {'id': 963822, 'name': 'On or near Godfrey Street'}, 'longitude': '-0.006736'}, 'context': '', 'outcome_status': {'category': 'Under investigation', 'date': '2021-07'}, 'persistent_id': 'a26758cf4de5b7857fbb31b6e15357b93e21df65948446859ce322b336621e45', 'id': 93997580, 'location_subtype': '', 'month': '2021-07'}, {'category': 'possession-of-weapons', 'location_type': 'Force', 'location': {'latitude': '51.538301', 'street': {'id': 964462, 'name': 'On or near Theatre/concert Hall'}, 'longitude': '-0.102851'}, 'context': '', 'outcome_status': {'category': 'Under investigation', 'date': '2021-07'}, 'persistent_id': 'fe6b1b5126ec2170b3ccc3284da7c061d0478554caf4e9316641a2d254fbf740', 'id': 93997598, 'location_subtype': '', 'month': '2021-07'}, {'category': 'possession-of-weapons', 'location_type': 'Force', 'location': {'latitude': '51.528477', 'street': {'id': 959215, 'name': 'On or near Yeading Lane'}, 'longitude': '-0.398671'}, 'context': '', 'outcome_status': {'category': 'Awaiting court outcome', 'date': '2021-07'}, 'persistent_id': 'cb4d488d40f1aefafc2a4df1b274f2d2d6ca546d55731d6be87b48e6624f927c', 'id': 93997716, 'location_subtype': '', 'month': '2021-07'}, {'category': 'possession-of-weapons', 'location_type': 'Force', 'location': {'latitude': '51.471517', 'street': {'id': 945848, 'name': 'On or near Stockwell Park Crescent'}, 'longitude': '-0.118107'}, 'context': '', 'outcome_status': {'category': 'Under investigation', 'date': '2021-07'}, 'persistent_id': '5e1cc3eff6d07612e6eae9dca643b1774e1b47ed975429c5d25c6d5afeff71f2', 'id': 93997779, 'location_subtype': '', 'month': '2021-07'}, {'category': 'possession-of-weapons', 'location_type': 'Force', 'location': {'latitude': '51.544623', 'street': {'id': 964658, 'name': 'On or near Blundell Street'}, 'longitude': '-0.120702'}, 'context': '', 'outcome_status': {'category': 'Awaiting court outcome', 'date': '2021-07'}, 'persistent_id': '38dad6d4df2b9641b8413b1cb7f66abdbcc803926c8b8995a2c8396d2a74445e', 'id': 93997796, 'location_subtype': '', 'month': '2021-07'}, {'category': 'possession-of-weapons', 'location_type': 'Force', 'location': {'latitude': '51.548314', 'street': {'id': 968490, 'name': 'On or near Shopping Area'}, 'longitude': '-0.072189'}, 'context': '', 'outcome_status': {'category': 'Under investigation', 'date': '2021-07'}, 'persistent_id': 'c7a24271f94afda28f1874d964db0830b8496e0c43cc27ab006dc6989c2238b1', 'id': 93997817, 'location_subtype': '', 'month': '2021-07'}, {'category': 'possession-of-weapons', 'location_type': 'Force', 'location': {'latitude': '51.511777', 'street': {'id': 957583, 'name': 'On or near Bloemfontein Road'}, 'longitude': '-0.234968'}, 'context': '', 'outcome_status': {'category': 'Awaiting court outcome', 'date': '2021-07'}, 'persistent_id': '19de50afe912a170b9b9f2cafae4ea04c285c0b921d9583c73beb1050adb2fc4', 'id': 93997804, 'location_subtype': '', 'month': '2021-07'}, {'category': 'possession-of-weapons', 'location_type': 'Force', 'location': {'latitude': '51.514347', 'street': {'id': 956356, 'name': 'On or near Argyll Street'}, 'longitude': '-0.140569'}, 'context': '', 'outcome_status': {'category': 'Under investigation', 'date': '2021-07'}, 'persistent_id': 'e9cbe79d90bc5a9b3d88fabc891acc552e241125b56527208053921013dd24e8', 'id': 93997825, 'location_subtype': '', 'month': '2021-07'}, {'category': 'possession-of-weapons', 'location_type': 'Force', 'location': {'latitude': '51.498101', 'street': {'id': 951635, 'name': 'On or near Endsleigh Road'}, 'longitude': '-0.380935'}, 'context': '', 'outcome_status': {'category': 'Under investigation', 'date': '2021-07'}, 'persistent_id': '79e81654a7231982bf662b4865dd90d8d943ee90d0f876686eb71f3fc6493bba', 'id': 93997828, 'location_subtype': '', 'month': '2021-07'}, {'category': 'possession-of-weapons', 'location_type': 'Force', 'location': {'latitude': '51.468231', 'street': {'id': 946791, 'name': 'On or near Conington Road'}, 'longitude': '-0.015411'}, 'context': '', 'outcome_status': {'category': 'Awaiting court outcome', 'date': '2021-07'}, 'persistent_id': '9bbb2f341c78b0a01650a6998f63618d5ad4db1130cd080e005e26b5a3ffe463', 'id': 93997812, 'location_subtype': '', 'month': '2021-07'}, {'category': 'possession-of-weapons', 'location_type': 'Force', 'location': {'latitude': '51.426007', 'street': {'id': 937476, 'name': 'On or near Leaf Grove'}, 'longitude': '-0.113187'}, 'context': '', 'outcome_status': {'category': 'Under investigation', 'date': '2021-07'}, 'persistent_id': 'bcd954ed07d616422d30aeb5bed03fb46aaa0b378f71f284cc3f1bb1dbea0551', 'id': 93997833, 'location_subtype': '', 'month': '2021-07'}, {'category': 'possession-of-weapons', 'location_type': 'Force', 'location': {'latitude': '51.530397', 'street': {'id': 960234, 'name': 'On or near Wellesley Court'}, 'longitude': '-0.183514'}, 'context': '', 'outcome_status': {'category': 'Under investigation', 'date': '2021-07'}, 'persistent_id': '7d3f136f7ad40c81199746d11777f8b7319dcce38d6010f9b7286b6df7b02059', 'id': 93997881, 'location_subtype': '', 'month': '2021-07'}, {'category': 'possession-of-weapons', 'location_type': 'Force', 'location': {'latitude': '51.492070', 'street': {'id': 954008, 'name': 'On or near Supermarket'}, 'longitude': '-0.063773'}, 'context': '', 'outcome_status': {'category': 'Under investigation', 'date': '2021-07'}, 'persistent_id': 'b1e774d83e80d164882096419552e890ff1a8d2980a934f5d53397f5dd3b4496', 'id': 93998255, 'location_subtype': '', 'month': '2021-07'}, {'category': 'possession-of-weapons', 'location_type': 'Force', 'location': {'latitude': '51.479542', 'street': {'id': 948121, 'name': 'On or near Revell Rise'}, 'longitude': '0.096823'}, 'context': '', 'outcome_status': {'category': 'Investigation complete; no suspect identified', 'date': '2021-07'}, 'persistent_id': '32ef5ec73f5c0dda35f2efd7d29405aeafdee6a89a555819413f2299b678a8a5', 'id': 94029158, 'location_subtype': '', 'month': '2021-07'}, {'category': 'possession-of-weapons', 'location_type': 'Force', 'location': {'latitude': '51.591098', 'street': {'id': 978466, 'name': 'On or near North View Road'}, 'longitude': '-0.125324'}, 'context': '', 'outcome_status': {'category': 'Under investigation', 'date': '2021-07'}, 'persistent_id': '69acfff7f4996477aea76a0b9a1585739483d70c75a139a827e3ff0bb676a1a6', 'id': 94029221, 'location_subtype': '', 'month': '2021-07'}, {'category': 'possession-of-weapons', 'location_type': 'Force', 'location': {'latitude': '51.570150', 'street': {'id': 976057, 'name': 'On or near Aldborough Road South'}, 'longitude': '0.095492'}, 'context': '', 'outcome_status': {'category': 'Awaiting court outcome', 'date': '2021-08'}, 'persistent_id': '52b3f373eb0007f1378a1ff4587ecf45d570f9c5a7bcdb3720029b04097293db', 'id': 94029288, 'location_subtype': '', 'month': '2021-07'}, {'category': 'possession-of-weapons', 'location_type': 'Force', 'location': {'latitude': '51.576385', 'street': {'id': 974895, 'name': 'On or near Mount View Road'}, 'longitude': '-0.113475'}, 'context': '', 'outcome_status': {'category': 'Under investigation', 'date': '2021-07'}, 'persistent_id': '6e9bd9147e6fa9bfd940cdf40e88dd75252e64493155e00c56c85e20781d4c71', 'id': 94029336, 'location_subtype': '', 'month': '2021-07'}, {'category': 'possession-of-weapons', 'location_type': 'Force', 'location': {'latitude': '51.509082', 'street': {'id': 957290, 'name': 'On or near West Mall'}, 'longitude': '-0.194391'}, 'context': '', 'outcome_status': {'category': 'Awaiting court outcome', 'date': '2021-08'}, 'persistent_id': '3a286761ae8afed7f5ce56836bea26dabc93a66d4db68f74d32b69ca5ee4143c', 'id': 94029367, 'location_subtype': '', 'month': '2021-07'}, {'category': 'possession-of-weapons', 'location_type': 'Force', 'location': {'latitude': '51.494983', 'street': {'id': 953553, 'name': 'On or near Ferry Terminal'}, 'longitude': '-0.121188'}, 'context': '', 'outcome_status': {'category': 'Investigation complete; no suspect identified', 'date': '2021-07'}, 'persistent_id': '803a3ebbda750b300ffe88488b75845ee45cf3de75cef3f7fdd1e5f48ac4cc42', 'id': 94029505, 'location_subtype': '', 'month': '2021-07'}, {'category': 'possession-of-weapons', 'location_type': 'Force', 'location': {'latitude': '51.474680', 'street': {'id': 946991, 'name': 'On or near Pedestrian Subway'}, 'longitude': '0.025016'}, 'context': '', 'outcome_status': {'category': 'Under investigation', 'date': '2021-07'}, 'persistent_id': '40762d336193c811b48f7fdf34a829dd5a3bd6c9fc7c4ffec5fa7fc68a31b0d7', 'id': 94031295, 'location_subtype': '', 'month': '2021-07'}, {'category': 'possession-of-weapons', 'location_type': 'Force', 'location': {'latitude': '51.484975', 'street': {'id': 950523, 'name': 'On or near Ferry Lane'}, 'longitude': '-0.244890'}, 'context': '', 'outcome_status': {'category': 'Under investigation', 'date': '2021-07'}, 'persistent_id': '99f4c2ee0cd4b648e91f5c9c1c4a69076814a49819e75436cdca067cb8c80ef6', 'id': 94033602, 'location_subtype': '', 'month': '2021-07'}, {'category': 'possession-of-weapons', 'location_type': 'Force', 'location': {'latitude': '51.578251', 'street': {'id': 975114, 'name': 'On or near Doncaster Gardens'}, 'longitude': '-0.095371'}, 'context': '', 'outcome_status': {'category': 'Awaiting court outcome', 'date': '2021-07'}, 'persistent_id': '97b83bd9696b082e2fb5882d5a1883d99010e34328c6b3bc344bc0d241cedcf1', 'id': 94033766, 'location_subtype': '', 'month': '2021-07'}, {'category': 'possession-of-weapons', 'location_type': 'Force', 'location': {'latitude': '51.538079', 'street': {'id': 964420, 'name': 'On or near Essex Road'}, 'longitude': '-0.099659'}, 'context': '', 'outcome_status': {'category': 'Awaiting court outcome', 'date': '2021-08'}, 'persistent_id': '3659aecd1e0d70b536e88bbb6b5c1923ad275a602779789de8f4beca3315c4e4', 'id': 94033803, 'location_subtype': '', 'month': '2021-07'}, {'category': 'possession-of-weapons', 'location_type': 'Force', 'location': {'latitude': '51.408084', 'street': {'id': 932090, 'name': 'On or near London Road'}, 'longitude': '0.011202'}, 'context': '', 'outcome_status': {'category': 'Investigation complete; no suspect identified', 'date': '2021-08'}, 'persistent_id': 'e7c712e8ea65e5ccf5ec9fabfff75d6f27c024ad3afbd350f4bda5bdd7a1a8f1', 'id': 94033911, 'location_subtype': '', 'month': '2021-07'}, {'category': 'possession-of-weapons', 'location_type': 'Force', 'location': {'latitude': '51.545828', 'street': {'id': 968453, 'name': 'On or near Grange Grove'}, 'longitude': '-0.097303'}, 'context': '', 'outcome_status': {'category': 'Under investigation', 'date': '2021-07'}, 'persistent_id': '28052c219fbefaf4dd3973835ff29f80bfa286ee15ed442f1b9b8ad3c74336ff', 'id': 94033942, 'location_subtype': '', 'month': '2021-07'}, {'category': 'possession-of-weapons', 'location_type': 'Force', 'location': {'latitude': '51.553602', 'street': {'id': 967358, 'name': 'On or near Petrol Station'}, 'longitude': '-0.244110'}, 'context': '', 'outcome_status': {'category': 'Awaiting court outcome', 'date': '2021-07'}, 'persistent_id': '2114565d29fe465d3665403690587bfc21433beaf12369222059504704a4232a', 'id': 94034468, 'location_subtype': '', 'month': '2021-07'}, {'category': 'possession-of-weapons', 'location_type': 'Force', 'location': {'latitude': '51.589108', 'street': {'id': 978984, 'name': 'On or near Lynton Avenue'}, 'longitude': '-0.245557'}, 'context': '', 'outcome_status': {'category': 'Awaiting court outcome', 'date': '2021-07'}, 'persistent_id': '11e7752dfc5f88c7680919141edf2b9b3bb334da231829aa8e137c03d25dc2c0', 'id': 94034613, 'location_subtype': '', 'month': '2021-07'}, {'category': 'possession-of-weapons', 'location_type': 'Force', 'location': {'latitude': '51.576427', 'street': {'id': 973708, 'name': 'On or near Parking Area'}, 'longitude': '-0.396294'}, 'context': '', 'outcome_status': {'category': 'Under investigation', 'date': '2021-07'}, 'persistent_id': '1acf862f1fc3f8c1f91632caaf8450e11f8bbba70cefbc868824a29f7ee27254', 'id': 94034669, 'location_subtype': '', 'month': '2021-07'}, {'category': 'possession-of-weapons', 'location_type': 'Force', 'location': {'latitude': '51.586712', 'street': {'id': 977755, 'name': 'On or near Essex Close'}, 'longitude': '-0.037492'}, 'context': '', 'outcome_status': {'category': 'Awaiting court outcome', 'date': '2021-07'}, 'persistent_id': 'bcdfb9fc20fff6e7b2beff7c3c68a4e03cf2e930fb56bd567134c569b9ee17cf', 'id': 94034745, 'location_subtype': '', 'month': '2021-07'}, {'category': 'possession-of-weapons', 'location_type': 'Force', 'location': {'latitude': '51.367483', 'street': {'id': 926483, 'name': 'On or near Crown Road'}, 'longitude': '-0.197797'}, 'context': '', 'outcome_status': {'category': 'Awaiting court outcome', 'date': '2021-07'}, 'persistent_id': 'f731110343c467498b3e35a4ade3a031c9987be0f2c94cd3c714b9d12e0a0e48', 'id': 94034885, 'location_subtype': '', 'month': '2021-07'}, {'category': 'possession-of-weapons', 'location_type': 'Force', 'location': {'latitude': '51.413852', 'street': {'id': 933895, 'name': 'On or near Upper Sunbury Road'}, 'longitude': '-0.375774'}, 'context': '', 'outcome_status': {'category': 'Under investigation', 'date': '2021-07'}, 'persistent_id': '2e045609822bc36a281b67169c082865d68e835b502b4caaed956a4cffd34cb9', 'id': 94035527, 'location_subtype': '', 'month': '2021-07'}, {'category': 'possession-of-weapons', 'location_type': 'Force', 'location': {'latitude': '51.587120', 'street': {'id': 978082, 'name': 'On or near Shopping Area'}, 'longitude': '-0.062030'}, 'context': '', 'outcome_status': {'category': 'Under investigation', 'date': '2021-07'}, 'persistent_id': 'b7eb83441feddf3ae830f55375364005bbdd7228752fb322a4987dd5d869ea4a', 'id': 94036151, 'location_subtype': '', 'month': '2021-07'}, {'category': 'possession-of-weapons', 'location_type': 'Force', 'location': {'latitude': '51.388808', 'street': {'id': 931027, 'name': 'On or near Burrell Close'}, 'longitude': '-0.040568'}, 'context': '', 'outcome_status': {'category': 'Under investigation', 'date': '2021-07'}, 'persistent_id': '318c2873081f1f123fd6ad675a83fcf4965d771bf4b8cc6a815b8f16fb4da6a7', 'id': 94036417, 'location_subtype': '', 'month': '2021-07'}, {'category': 'possession-of-weapons', 'location_type': 'Force', 'location': {'latitude': '51.514502', 'street': {'id': 956594, 'name': 'On or near Theatre/concert Hall'}, 'longitude': '-0.132780'}, 'context': '', 'outcome_status': {'category': 'Under investigation', 'date': '2021-07'}, 'persistent_id': '9bf634ea2489d792dcb548e6a67cfe16b6b1ddb2bf693f1ef6393f78dbbdcd40', 'id': 94036544, 'location_subtype': '', 'month': '2021-07'}, {'category': 'possession-of-weapons', 'location_type': 'Force', 'location': {'latitude': '51.563009', 'street': {'id': 973116, 'name': 'On or near Findon Close'}, 'longitude': '-0.361015'}, 'context': '', 'outcome_status': {'category': 'Under investigation', 'date': '2021-07'}, 'persistent_id': 'c765bb375416a12004d06f8b1b13abf3878c79b6ac58cc42eefb25d2b19ac569', 'id': 94037010, 'location_subtype': '', 'month': '2021-07'}, {'category': 'possession-of-weapons', 'location_type': 'Force', 'location': {'latitude': '51.382426', 'street': {'id': 928752, 'name': 'On or near Stanton Road'}, 'longitude': '-0.101385'}, 'context': '', 'outcome_status': {'category': 'Awaiting court outcome', 'date': '2021-08'}, 'persistent_id': 'a78360a436ad93227d33e49f32ec2b6cfd86d34c71744ce2601410b89b2841fb', 'id': 94037308, 'location_subtype': '', 'month': '2021-07'}, {'category': 'possession-of-weapons', 'location_type': 'Force', 'location': {'latitude': '51.596513', 'street': {'id': 979000, 'name': 'On or near Chancellor Place'}, 'longitude': '-0.244694'}, 'context': '', 'outcome_status': {'category': 'Investigation complete; no suspect identified', 'date': '2021-08'}, 'persistent_id': 'c14fa0d5340cf29c69ed343a90d1c7af7fe42f253ef59f88d67d731ada4bdbd4', 'id': 94038512, 'location_subtype': '', 'month': '2021-07'}, {'category': 'possession-of-weapons', 'location_type': 'Force', 'location': {'latitude': '51.399072', 'street': {'id': 932024, 'name': \"On or near St Mark's Road\"}, 'longitude': '0.018598'}, 'context': '', 'outcome_status': {'category': 'Under investigation', 'date': '2021-07'}, 'persistent_id': 'a60693fad03e7c3cadb4f8455723701076b2a509310aa88ec96453fdea856c93', 'id': 94038744, 'location_subtype': '', 'month': '2021-07'}, {'category': 'possession-of-weapons', 'location_type': 'Force', 'location': {'latitude': '51.513474', 'street': {'id': 956484, 'name': 'On or near Moor Street'}, 'longitude': '-0.129824'}, 'context': '', 'outcome_status': {'category': 'Under investigation', 'date': '2021-07'}, 'persistent_id': 'd6c2c91e0d2a03156e201ae173df1eadb9766ca31e172099848482d3cb57de66', 'id': 94038746, 'location_subtype': '', 'month': '2021-07'}, {'category': 'possession-of-weapons', 'location_type': 'Force', 'location': {'latitude': '51.556476', 'street': {'id': 967345, 'name': 'On or near Neasden Lane'}, 'longitude': '-0.249885'}, 'context': '', 'outcome_status': {'category': 'Awaiting court outcome', 'date': '2021-07'}, 'persistent_id': '8ead07126ff4eddb5ed1d21f78b28a25f2b7194bc2b933db8a325b5c601028f9', 'id': 94038796, 'location_subtype': '', 'month': '2021-07'}, {'category': 'possession-of-weapons', 'location_type': 'Force', 'location': {'latitude': '51.498090', 'street': {'id': 951638, 'name': 'On or near Adelaide Road'}, 'longitude': '-0.383413'}, 'context': '', 'outcome_status': {'category': 'Investigation complete; no suspect identified', 'date': '2021-08'}, 'persistent_id': '32499a5c272e20694cc91ac68d14baaa3ec32da7bcdb11724b66620bc4fe4151', 'id': 94038963, 'location_subtype': '', 'month': '2021-07'}, {'category': 'possession-of-weapons', 'location_type': 'Force', 'location': {'latitude': '51.539585', 'street': {'id': 964384, 'name': 'On or near Shillingford Street'}, 'longitude': '-0.101053'}, 'context': '', 'outcome_status': {'category': 'Under investigation', 'date': '2021-07'}, 'persistent_id': '0969e08e709d7d698472f9af058a3baba8601f7ed5adc968f8cc799480f5802f', 'id': 94039069, 'location_subtype': '', 'month': '2021-07'}, {'category': 'possession-of-weapons', 'location_type': 'Force', 'location': {'latitude': '51.503936', 'street': {'id': 952319, 'name': 'On or near Old Forge Mews'}, 'longitude': '-0.235617'}, 'context': '', 'outcome_status': {'category': 'Under investigation', 'date': '2021-07'}, 'persistent_id': '0cd2440f228d16c8ed0e21d761e53feec639b638fef0f1b89324fb22d959ecbd', 'id': 94039103, 'location_subtype': '', 'month': '2021-07'}, {'category': 'possession-of-weapons', 'location_type': 'Force', 'location': {'latitude': '51.546001', 'street': {'id': 968298, 'name': 'On or near Balmoral Grove'}, 'longitude': '-0.118612'}, 'context': '', 'outcome_status': {'category': 'Under investigation', 'date': '2021-07'}, 'persistent_id': 'cbfd4735e0be7bc716d68ca64a43684ca41a853ce791fbc70b0f2660da7e0cd8', 'id': 94024155, 'location_subtype': '', 'month': '2021-07'}, {'category': 'possession-of-weapons', 'location_type': 'Force', 'location': {'latitude': '51.427804', 'street': {'id': 937143, 'name': 'On or near Petrol Station'}, 'longitude': '-0.056421'}, 'context': '', 'outcome_status': {'category': 'Offender given a caution', 'date': '2021-07'}, 'persistent_id': 'a7f89ef042846b114cb7a0ea20ecdaa9e36bf0549a18892ef68e9cab50703ca1', 'id': 94049329, 'location_subtype': '', 'month': '2021-07'}, {'category': 'possession-of-weapons', 'location_type': 'Force', 'location': {'latitude': '51.538565', 'street': {'id': 963665, 'name': 'On or near Sports/recreation Area'}, 'longitude': '0.006177'}, 'context': '', 'outcome_status': {'category': 'Under investigation', 'date': '2021-07'}, 'persistent_id': '2c325181ad423e3f56f94bba780c42176f9068ea13d0b8b025eba97264261638', 'id': 94049434, 'location_subtype': '', 'month': '2021-07'}, {'category': 'possession-of-weapons', 'location_type': 'Force', 'location': {'latitude': '51.477382', 'street': {'id': 948354, 'name': 'On or near Herbert Road'}, 'longitude': '0.065012'}, 'context': '', 'outcome_status': {'category': 'Under investigation', 'date': '2021-07'}, 'persistent_id': '267b36771f37b75d930be2c3f704a8be3147b5d0e38aad7a6248af208ee7dc7f', 'id': 94040402, 'location_subtype': '', 'month': '2021-07'}, {'category': 'possession-of-weapons', 'location_type': 'Force', 'location': {'latitude': '51.503945', 'street': {'id': 952510, 'name': \"On or near Shepherd's Bush Green\"}, 'longitude': '-0.220127'}, 'context': '', 'outcome_status': {'category': 'Under investigation', 'date': '2021-07'}, 'persistent_id': '47b6a07a99cfd9d64a12310f1b22d410564b67400c0e7e2f80782b2e2a1c7cca', 'id': 94040627, 'location_subtype': '', 'month': '2021-07'}, {'category': 'possession-of-weapons', 'location_type': 'Force', 'location': {'latitude': '51.503196', 'street': {'id': 953311, 'name': 'On or near Downing Street'}, 'longitude': '-0.127032'}, 'context': '', 'outcome_status': {'category': 'Under investigation', 'date': '2021-07'}, 'persistent_id': 'cc23e00368406f36f5369aa03b1f77fb06d9c09d3c60327ba1b5037917ed056b', 'id': 94041270, 'location_subtype': '', 'month': '2021-07'}, {'category': 'possession-of-weapons', 'location_type': 'Force', 'location': {'latitude': '51.388808', 'street': {'id': 931027, 'name': 'On or near Burrell Close'}, 'longitude': '-0.040568'}, 'context': '', 'outcome_status': {'category': 'Under investigation', 'date': '2021-07'}, 'persistent_id': 'dd0a2d629a9dc3de7e31fe50982fa10c95e66f4ace08ad60423b3b1afdff3edf', 'id': 94041706, 'location_subtype': '', 'month': '2021-07'}, {'category': 'possession-of-weapons', 'location_type': 'Force', 'location': {'latitude': '51.508055', 'street': {'id': 956265, 'name': 'On or near Barge House Street'}, 'longitude': '-0.108143'}, 'context': '', 'outcome_status': {'category': 'Under investigation', 'date': '2021-07'}, 'persistent_id': '831d924dccf8e3ce5c35d29dd8f7afa498088991d63ac3b542eee4dbdc2eec56', 'id': 94041768, 'location_subtype': '', 'month': '2021-07'}, {'category': 'possession-of-weapons', 'location_type': 'Force', 'location': {'latitude': '51.483799', 'street': {'id': 949269, 'name': 'On or near Olney Road'}, 'longitude': '-0.099641'}, 'context': '', 'outcome_status': {'category': 'Offender given a caution', 'date': '2021-07'}, 'persistent_id': '2d03b3db096e4a1ce57e2ac11d2c34fc18fc6b927c821c285befb1519e669fe1', 'id': 94041901, 'location_subtype': '', 'month': '2021-07'}, {'category': 'possession-of-weapons', 'location_type': 'Force', 'location': {'latitude': '51.378653', 'street': {'id': 928738, 'name': 'On or near North End'}, 'longitude': '-0.103280'}, 'context': '', 'outcome_status': {'category': 'Awaiting court outcome', 'date': '2021-07'}, 'persistent_id': '32e3d189c9d73c0f4ba3ec4ed0ef223f685a2044a032f9a7617bb4fbd4a68ab8', 'id': 94041913, 'location_subtype': '', 'month': '2021-07'}, {'category': 'possession-of-weapons', 'location_type': 'Force', 'location': {'latitude': '51.496364', 'street': {'id': 953889, 'name': \"On or near Wood's Place\"}, 'longitude': '-0.080966'}, 'context': '', 'outcome_status': {'category': 'Awaiting court outcome', 'date': '2021-07'}, 'persistent_id': 'bc11e387201b151c1e526bd88c7e6961b8fb328f87117740d6ccc08949a3ab15', 'id': 94043144, 'location_subtype': '', 'month': '2021-07'}, {'category': 'possession-of-weapons', 'location_type': 'Force', 'location': {'latitude': '51.541870', 'street': {'id': 963812, 'name': 'On or near Meridian Square'}, 'longitude': '-0.002028'}, 'context': '', 'outcome_status': {'category': 'Awaiting court outcome', 'date': '2021-07'}, 'persistent_id': '38cc62ed297f3c41fff2dd30fc9aa98d93e425d39ce8a779a34c9b70afbb6e10', 'id': 94043165, 'location_subtype': '', 'month': '2021-07'}, {'category': 'possession-of-weapons', 'location_type': 'Force', 'location': {'latitude': '51.439217', 'street': {'id': 940193, 'name': 'On or near King Garth Mews'}, 'longitude': '-0.055433'}, 'context': '', 'outcome_status': {'category': 'Under investigation', 'date': '2021-07'}, 'persistent_id': 'f75fc0b338ad77ae20930c5a1f249ab58366a30d25304b7c8a0d0039ffb1fa82', 'id': 94043347, 'location_subtype': '', 'month': '2021-07'}, {'category': 'possession-of-weapons', 'location_type': 'Force', 'location': {'latitude': '51.543736', 'street': {'id': 964875, 'name': 'On or near Farrier Street'}, 'longitude': '-0.141852'}, 'context': '', 'outcome_status': {'category': 'Under investigation', 'date': '2021-07'}, 'persistent_id': 'e0747f068798c25a4b87fa58b947f18323e5d604cd5045b215126e9715fd41ba', 'id': 94043815, 'location_subtype': '', 'month': '2021-07'}, {'category': 'possession-of-weapons', 'location_type': 'Force', 'location': {'latitude': '51.517924', 'street': {'id': 957470, 'name': 'On or near Malton Mews'}, 'longitude': '-0.211021'}, 'context': '', 'outcome_status': {'category': 'Under investigation', 'date': '2021-07'}, 'persistent_id': 'c09e8a10a239dbdaf6938f55823cf4cf102faa0af7d0c40634cbe2b83c9d94b5', 'id': 93999225, 'location_subtype': '', 'month': '2021-07'}, {'category': 'possession-of-weapons', 'location_type': 'Force', 'location': {'latitude': '51.518429', 'street': {'id': 957165, 'name': 'On or near Shopping Area'}, 'longitude': '-0.206360'}, 'context': '', 'outcome_status': {'category': 'Awaiting court outcome', 'date': '2021-07'}, 'persistent_id': 'd439edc317d10fdcdd3364c4e02a72f1b8162b5200781f192f481002e5b95589', 'id': 93999226, 'location_subtype': '', 'month': '2021-07'}, {'category': 'possession-of-weapons', 'location_type': 'Force', 'location': {'latitude': '51.491968', 'street': {'id': 953970, 'name': 'On or near Mandela Way'}, 'longitude': '-0.079422'}, 'context': '', 'outcome_status': {'category': 'Under investigation', 'date': '2021-07'}, 'persistent_id': 'e993583c6be0c1b8ac956039462cb5a97fff7148039d5c217cdf85928a748a0d', 'id': 93999403, 'location_subtype': '', 'month': '2021-07'}, {'category': 'possession-of-weapons', 'location_type': 'Force', 'location': {'latitude': '51.492537', 'street': {'id': 954571, 'name': 'On or near Creton Street'}, 'longitude': '0.065409'}, 'context': '', 'outcome_status': {'category': 'Under investigation', 'date': '2021-07'}, 'persistent_id': '66301e74303d4704b22c796501513080aa22646a6b4f3fbcb93adca3f4215f88', 'id': 93999466, 'location_subtype': '', 'month': '2021-07'}, {'category': 'possession-of-weapons', 'location_type': 'Force', 'location': {'latitude': '51.392721', 'street': {'id': 929808, 'name': 'On or near Station Approach'}, 'longitude': '-0.304711'}, 'context': '', 'outcome_status': {'category': 'Under investigation', 'date': '2021-07'}, 'persistent_id': '2031a691639640ff94e4702fb3c4b690e952a631cf0b8ac93b350bb86871d4b9', 'id': 93999649, 'location_subtype': '', 'month': '2021-07'}, {'category': 'possession-of-weapons', 'location_type': 'Force', 'location': {'latitude': '51.471717', 'street': {'id': 944252, 'name': 'On or near Wallis Road'}, 'longitude': '-0.490059'}, 'context': '', 'outcome_status': {'category': 'Investigation complete; no suspect identified', 'date': '2021-07'}, 'persistent_id': 'aa6f48f3b09163b6740a49fcfc8580080ba7bf019d032a32db35fb1caef72627', 'id': 93999934, 'location_subtype': '', 'month': '2021-07'}, {'category': 'possession-of-weapons', 'location_type': 'Force', 'location': {'latitude': '51.586024', 'street': {'id': 977183, 'name': 'On or near Uplands Road'}, 'longitude': '0.128384'}, 'context': '', 'outcome_status': {'category': 'Under investigation', 'date': '2021-07'}, 'persistent_id': '52a79af9d0afdf1b7825c7ebda2096dc0a19b32064005fb084fa50dcb1a00c8a', 'id': 94000174, 'location_subtype': '', 'month': '2021-07'}, {'category': 'possession-of-weapons', 'location_type': 'Force', 'location': {'latitude': '51.542315', 'street': {'id': 969678, 'name': 'On or near Strathfield Gardens'}, 'longitude': '0.088588'}, 'context': '', 'outcome_status': {'category': 'Under investigation', 'date': '2021-07'}, 'persistent_id': '347f5e75fd03a910e954e158f891f729d5cb89a8f09264b0550b4cca3b7dba5d', 'id': 94000336, 'location_subtype': '', 'month': '2021-07'}, {'category': 'possession-of-weapons', 'location_type': 'Force', 'location': {'latitude': '51.357921', 'street': {'id': 925336, 'name': 'On or near Pedestrian Subway'}, 'longitude': '-0.021504'}, 'context': '', 'outcome_status': {'category': 'Under investigation', 'date': '2021-07'}, 'persistent_id': 'b7cb687958d33a7c2d62f8610c1c2e26eedbb5f5231d3131324234a501558e10', 'id': 94001811, 'location_subtype': '', 'month': '2021-07'}, {'category': 'possession-of-weapons', 'location_type': 'Force', 'location': {'latitude': '51.357921', 'street': {'id': 925336, 'name': 'On or near Pedestrian Subway'}, 'longitude': '-0.021504'}, 'context': '', 'outcome_status': {'category': 'Under investigation', 'date': '2021-07'}, 'persistent_id': 'b7cb687958d33a7c2d62f8610c1c2e26eedbb5f5231d3131324234a501558e10', 'id': 94001812, 'location_subtype': '', 'month': '2021-07'}, {'category': 'possession-of-weapons', 'location_type': 'Force', 'location': {'latitude': '51.594357', 'street': {'id': 977741, 'name': 'On or near Lowther Road'}, 'longitude': '-0.037033'}, 'context': '', 'outcome_status': {'category': 'Under investigation', 'date': '2021-07'}, 'persistent_id': 'b77aa9518fa756f45ae8f7c3e5e442b32eaae1e09312348b2a78a96203ead147', 'id': 94001898, 'location_subtype': '', 'month': '2021-07'}, {'category': 'possession-of-weapons', 'location_type': 'Force', 'location': {'latitude': '51.471951', 'street': {'id': 944442, 'name': 'On or near Vincent Road'}, 'longitude': '-0.394675'}, 'context': '', 'outcome_status': {'category': 'Under investigation', 'date': '2021-07'}, 'persistent_id': 'cda69966c1147988c9e4352d397c8afa1453c42605b6f9537fe014fc31ca26d5', 'id': 94002213, 'location_subtype': '', 'month': '2021-07'}, {'category': 'possession-of-weapons', 'location_type': 'Force', 'location': {'latitude': '51.471446', 'street': {'id': 944443, 'name': 'On or near Squirrel Close'}, 'longitude': '-0.397170'}, 'context': '', 'outcome_status': {'category': 'Awaiting court outcome', 'date': '2021-07'}, 'persistent_id': 'fa9fe4a9731c1c8331b2b05e37aaf3b6338aae22ee4a3e5a019f2b5000c20506', 'id': 94002302, 'location_subtype': '', 'month': '2021-07'}, {'category': 'possession-of-weapons', 'location_type': 'Force', 'location': {'latitude': '51.597957', 'street': {'id': 979094, 'name': 'On or near Limesdale Gardens'}, 'longitude': '-0.266166'}, 'context': '', 'outcome_status': {'category': 'Awaiting court outcome', 'date': '2021-07'}, 'persistent_id': '13675d611b1c16e3c4b7a3d2898cc43e35cd511c6cb6532575cea303d1b40039', 'id': 94002320, 'location_subtype': '', 'month': '2021-07'}, {'category': 'possession-of-weapons', 'location_type': 'Force', 'location': {'latitude': '51.529141', 'street': {'id': 960979, 'name': 'On or near Argyle Square'}, 'longitude': '-0.122017'}, 'context': '', 'outcome_status': {'category': 'Investigation complete; no suspect identified', 'date': '2021-08'}, 'persistent_id': 'f6b7b97609b363a11c4d8bb0647c85b9873be3f4db01ad76de7c458cfcf46fd8', 'id': 94002336, 'location_subtype': '', 'month': '2021-07'}, {'category': 'possession-of-weapons', 'location_type': 'Force', 'location': {'latitude': '51.418028', 'street': {'id': 935901, 'name': 'On or near Belgravia Gardens'}, 'longitude': '-0.001306'}, 'context': '', 'outcome_status': {'category': 'Under investigation', 'date': '2021-07'}, 'persistent_id': 'dab56d25d77ae3972023c7c9df92c41cb9c45e34b1ab9f1b9483ae457497a4e8', 'id': 94002364, 'location_subtype': '', 'month': '2021-07'}, {'category': 'possession-of-weapons', 'location_type': 'Force', 'location': {'latitude': '51.515957', 'street': {'id': 957058, 'name': 'On or near London Street'}, 'longitude': '-0.174979'}, 'context': '', 'outcome_status': {'category': 'Under investigation', 'date': '2021-07'}, 'persistent_id': '2cc4226a2117ea283ccdd20465f77e828abf9d95b9fd0cacfef047e9b481d0a1', 'id': 94025499, 'location_subtype': '', 'month': '2021-07'}, {'category': 'possession-of-weapons', 'location_type': 'Force', 'location': {'latitude': '51.367476', 'street': {'id': 926670, 'name': 'On or near Ivydene Close'}, 'longitude': '-0.187971'}, 'context': '', 'outcome_status': {'category': 'Under investigation', 'date': '2021-07'}, 'persistent_id': 'd37252fe78d0ac757e826deca315f5577b511d65f663802cfae7ba6c3c878af8', 'id': 94025535, 'location_subtype': '', 'month': '2021-07'}, {'category': 'possession-of-weapons', 'location_type': 'Force', 'location': {'latitude': '51.538274', 'street': {'id': 964309, 'name': 'On or near Dublin Avenue'}, 'longitude': '-0.063182'}, 'context': '', 'outcome_status': {'category': 'Awaiting court outcome', 'date': '2021-07'}, 'persistent_id': '9c850354fccf6140a6f7c9fba20ff025828ccf147dfb3c02e7c8ff18455940a1', 'id': 94025676, 'location_subtype': '', 'month': '2021-07'}, {'category': 'possession-of-weapons', 'location_type': 'Force', 'location': {'latitude': '51.555029', 'street': {'id': 968535, 'name': 'On or near Rectory Road'}, 'longitude': '-0.068241'}, 'context': '', 'outcome_status': {'category': 'Under investigation', 'date': '2021-07'}, 'persistent_id': '8eadc5481b03d721b8897503de4951392de915e019ff4862e3982f5105d20e8f', 'id': 94026629, 'location_subtype': '', 'month': '2021-07'}, {'category': 'possession-of-weapons', 'location_type': 'Force', 'location': {'latitude': '51.530027', 'street': {'id': 963566, 'name': 'On or near Imperial Mews'}, 'longitude': '0.039222'}, 'context': '', 'outcome_status': {'category': 'Under investigation', 'date': '2021-07'}, 'persistent_id': '70527a004094be9caa30bc861ce94a4b4568a51e7879ebde9f99b63a3e242267', 'id': 94027182, 'location_subtype': '', 'month': '2021-07'}, {'category': 'possession-of-weapons', 'location_type': 'Force', 'location': {'latitude': '51.401062', 'street': {'id': 932123, 'name': 'On or near Elmfield Park'}, 'longitude': '0.017392'}, 'context': '', 'outcome_status': {'category': 'Awaiting court outcome', 'date': '2021-07'}, 'persistent_id': '618a282246a72dde8d91644661d222ebb3e9df1b7c1e684a0eb2e584452ce712', 'id': 94027594, 'location_subtype': '', 'month': '2021-07'}, {'category': 'possession-of-weapons', 'location_type': 'Force', 'location': {'latitude': '51.502014', 'street': {'id': 954418, 'name': 'On or near Barrier Point Road'}, 'longitude': '0.031501'}, 'context': '', 'outcome_status': {'category': 'Awaiting court outcome', 'date': '2021-07'}, 'persistent_id': '78df787f16d55cf3e3f489634daa1acae4c94179182f8da89db53dddd1358bc7', 'id': 94027699, 'location_subtype': '', 'month': '2021-07'}, {'category': 'possession-of-weapons', 'location_type': 'Force', 'location': {'latitude': '51.630103', 'street': {'id': 984944, 'name': 'On or near Oakleigh Mews'}, 'longitude': '-0.174202'}, 'context': '', 'outcome_status': {'category': 'Under investigation', 'date': '2021-07'}, 'persistent_id': '8a9bc8519fce9cc45ad6638fd4e164d478b8671b51f2989d853f4caa37df98cd', 'id': 94027962, 'location_subtype': '', 'month': '2021-07'}, {'category': 'possession-of-weapons', 'location_type': 'Force', 'location': {'latitude': '51.568357', 'street': {'id': 972224, 'name': 'On or near Mulkern Road'}, 'longitude': '-0.127126'}, 'context': '', 'outcome_status': {'category': 'Under investigation', 'date': '2021-07'}, 'persistent_id': '91fbc1bed422b9bb78ca1826d8b7cf3af2be6573fe028eedd4afc239ec1b86bf', 'id': 94027983, 'location_subtype': '', 'month': '2021-07'}, {'category': 'possession-of-weapons', 'location_type': 'Force', 'location': {'latitude': '51.549788', 'street': {'id': 969124, 'name': 'On or near Kuhn Way'}, 'longitude': '0.023950'}, 'context': '', 'outcome_status': {'category': 'Under investigation', 'date': '2021-07'}, 'persistent_id': 'd6642313f208e00a46fb1885691558fa1d6f2d63f68a0d9537dd0c27123586a2', 'id': 94028017, 'location_subtype': '', 'month': '2021-07'}, {'category': 'possession-of-weapons', 'location_type': 'Force', 'location': {'latitude': '51.536977', 'street': {'id': 964259, 'name': 'On or near Welshpool Street'}, 'longitude': '-0.062012'}, 'context': '', 'outcome_status': {'category': 'Under investigation', 'date': '2021-07'}, 'persistent_id': '32980ae6c1ae49bea13594be55afb34471600c562a023b615873ee91fbf9c1bf', 'id': 94028459, 'location_subtype': '', 'month': '2021-07'}, {'category': 'possession-of-weapons', 'location_type': 'Force', 'location': {'latitude': '51.512568', 'street': {'id': 957402, 'name': 'On or near Threshers Place'}, 'longitude': '-0.213017'}, 'context': '', 'outcome_status': {'category': 'Investigation complete; no suspect identified', 'date': '2021-08'}, 'persistent_id': 'ecbe181cff728f91387a26a7e661223e2218288ef80ec3cd219fd1896e643856', 'id': 94028602, 'location_subtype': '', 'month': '2021-07'}, {'category': 'possession-of-weapons', 'location_type': 'Force', 'location': {'latitude': '51.602086', 'street': {'id': 980075, 'name': 'On or near Sports/recreation Area'}, 'longitude': '-0.405180'}, 'context': '', 'outcome_status': {'category': 'Under investigation', 'date': '2021-07'}, 'persistent_id': 'e4e88d9e2fbfb66518c54954b4a47e58490deac1b7b1cb3808cf3f7970dbb371', 'id': 94029152, 'location_subtype': '', 'month': '2021-07'}, {'category': 'possession-of-weapons', 'location_type': 'Force', 'location': {'latitude': '51.515333', 'street': {'id': 956370, 'name': 'On or near Shopping Area'}, 'longitude': '-0.140385'}, 'context': '', 'outcome_status': {'category': 'Awaiting court outcome', 'date': '2021-07'}, 'persistent_id': '8925fee74094ebfd67cda20d507054a3181e153e02b94a7132973b259dd74bf9', 'id': 94068158, 'location_subtype': '', 'month': '2021-07'}, {'category': 'possession-of-weapons', 'location_type': 'Force', 'location': {'latitude': '51.454372', 'street': {'id': 942597, 'name': 'On or near Josephine Avenue'}, 'longitude': '-0.116725'}, 'context': '', 'outcome_status': {'category': 'Under investigation', 'date': '2021-07'}, 'persistent_id': '5242f5834691492bf8bf73b9f637220095de87d0d14f6546b0123da8d4512390', 'id': 94068410, 'location_subtype': '', 'month': '2021-07'}, {'category': 'possession-of-weapons', 'location_type': 'Force', 'location': {'latitude': '51.457047', 'street': {'id': 943161, 'name': 'On or near West Hill'}, 'longitude': '-0.198230'}, 'context': '', 'outcome_status': {'category': 'Awaiting court outcome', 'date': '2021-07'}, 'persistent_id': '75b4377b70dd195e85e14537bd8c5ca3cff4ebdb2588493d2ec8f47972eeaae6', 'id': 94068425, 'location_subtype': '', 'month': '2021-07'}, {'category': 'possession-of-weapons', 'location_type': 'Force', 'location': {'latitude': '51.507850', 'street': {'id': 951762, 'name': 'On or near West Park Road'}, 'longitude': '-0.351323'}, 'context': '', 'outcome_status': {'category': 'Under investigation', 'date': '2021-07'}, 'persistent_id': '551b55c3934ee563923f33aa1f872e2f23b6c4c67483edc83513635379cfec88', 'id': 94068579, 'location_subtype': '', 'month': '2021-07'}, {'category': 'possession-of-weapons', 'location_type': 'Force', 'location': {'latitude': '51.507552', 'street': {'id': 952231, 'name': 'On or near High Street'}, 'longitude': '-0.272554'}, 'context': '', 'outcome_status': {'category': 'Investigation complete; no suspect identified', 'date': '2021-07'}, 'persistent_id': '44dc4e992c5a6f36f56f1e2ff525efdd57c5b63f8a006c25b898c8d8c80909fd', 'id': 94068725, 'location_subtype': '', 'month': '2021-07'}, {'category': 'possession-of-weapons', 'location_type': 'Force', 'location': {'latitude': '51.395625', 'street': {'id': 930617, 'name': 'On or near Charnwood Road'}, 'longitude': '-0.090733'}, 'context': '', 'outcome_status': {'category': 'Awaiting court outcome', 'date': '2021-07'}, 'persistent_id': '360234139f22bf3d56a4940d6bc360a88c9d5823e1050d9d25ecb287e3e96227', 'id': 94068855, 'location_subtype': '', 'month': '2021-07'}, {'category': 'possession-of-weapons', 'location_type': 'Force', 'location': {'latitude': '51.537636', 'street': {'id': 964014, 'name': 'On or near Westgate Street'}, 'longitude': '-0.058884'}, 'context': '', 'outcome_status': {'category': 'Under investigation', 'date': '2021-07'}, 'persistent_id': '7f4f1adfe26fbbc36c12979b85f037904dcebe577af66c46dddbd00310d48a92', 'id': 94070163, 'location_subtype': '', 'month': '2021-07'}, {'category': 'possession-of-weapons', 'location_type': 'Force', 'location': {'latitude': '51.528548', 'street': {'id': 958899, 'name': 'On or near Lees Road'}, 'longitude': '-0.449457'}, 'context': '', 'outcome_status': {'category': 'Awaiting court outcome', 'date': '2021-07'}, 'persistent_id': 'e0d7a1114e1ee5193174532e58a5c8fbf79e67e16927f533b7010e38bb6ad048', 'id': 94070504, 'location_subtype': '', 'month': '2021-07'}, {'category': 'possession-of-weapons', 'location_type': 'Force', 'location': {'latitude': '51.576728', 'street': {'id': 975083, 'name': 'On or near Williamson Road'}, 'longitude': '-0.097975'}, 'context': '', 'outcome_status': {'category': 'Under investigation', 'date': '2021-07'}, 'persistent_id': '1f0fe04143116cbd1689eb9bb1d5d583989b60d6fd942ac58fdeff50392935d7', 'id': 94070582, 'location_subtype': '', 'month': '2021-07'}, {'category': 'possession-of-weapons', 'location_type': 'Force', 'location': {'latitude': '51.448568', 'street': {'id': 939856, 'name': 'On or near Tulse Hill'}, 'longitude': '-0.113107'}, 'context': '', 'outcome_status': {'category': 'Under investigation', 'date': '2021-07'}, 'persistent_id': '8607952c8ef8dd2a6578a29e5f3c84bd2e44265ae9e6c6eab97d893f88c95f54', 'id': 94070823, 'location_subtype': '', 'month': '2021-07'}, {'category': 'possession-of-weapons', 'location_type': 'Force', 'location': {'latitude': '51.564974', 'street': {'id': 971383, 'name': 'On or near Petrol Station'}, 'longitude': '-0.010610'}, 'context': '', 'outcome_status': {'category': 'Awaiting court outcome', 'date': '2021-07'}, 'persistent_id': '11b59abe586800bfa8d9ce1898ae5f83efca72ad42f112c8299f0a19b6c6df36', 'id': 94070794, 'location_subtype': '', 'month': '2021-07'}, {'category': 'possession-of-weapons', 'location_type': 'Force', 'location': {'latitude': '51.593713', 'street': {'id': 978159, 'name': 'On or near Lakefield Road'}, 'longitude': '-0.098969'}, 'context': '', 'outcome_status': {'category': 'Under investigation', 'date': '2021-07'}, 'persistent_id': '90b9041a96c8519aefe9a140b0617493fe58f973d8183ba7c5f546620fa73593', 'id': 94071270, 'location_subtype': '', 'month': '2021-07'}, {'category': 'possession-of-weapons', 'location_type': 'Force', 'location': {'latitude': '51.578276', 'street': {'id': 973862, 'name': 'On or near Nightclub'}, 'longitude': '-0.342353'}, 'context': '', 'outcome_status': {'category': 'Awaiting court outcome', 'date': '2021-07'}, 'persistent_id': '0434c81a4fb1411907ec59db4d493f2e962cc56274e5fc0b913b7a0f4b675054', 'id': 94071295, 'location_subtype': '', 'month': '2021-07'}, {'category': 'possession-of-weapons', 'location_type': 'Force', 'location': {'latitude': '51.430167', 'street': {'id': 937290, 'name': 'On or near St Gothard Road'}, 'longitude': '-0.093523'}, 'context': '', 'outcome_status': {'category': 'Offender given a caution', 'date': '2021-08'}, 'persistent_id': '75480dfaf6d654926b48509c73a008f13a268898cd7607cadd51af6929ec1264', 'id': 94071719, 'location_subtype': '', 'month': '2021-07'}, {'category': 'possession-of-weapons', 'location_type': 'Force', 'location': {'latitude': '51.546073', 'street': {'id': 968316, 'name': 'On or near Ellington Street'}, 'longitude': '-0.110244'}, 'context': '', 'outcome_status': {'category': 'Awaiting court outcome', 'date': '2021-08'}, 'persistent_id': 'a03cd0327b90e9eec49a156469b408a31c91a1d45696d0ab3490a36febe94de4', 'id': 94071743, 'location_subtype': '', 'month': '2021-07'}, {'category': 'possession-of-weapons', 'location_type': 'Force', 'location': {'latitude': '51.467977', 'street': {'id': 947672, 'name': 'On or near Pedestrian Subway'}, 'longitude': '0.190270'}, 'context': '', 'outcome_status': {'category': 'Awaiting court outcome', 'date': '2021-07'}, 'persistent_id': '1309799e46906c89ff4a0bca8994ba6ec06980d4f3c7ae9007d7a48fffe6b2be', 'id': 94071892, 'location_subtype': '', 'month': '2021-07'}, {'category': 'possession-of-weapons', 'location_type': 'Force', 'location': {'latitude': '51.567131', 'street': {'id': 972170, 'name': 'On or near Turpin Way'}, 'longitude': '-0.130870'}, 'context': '', 'outcome_status': {'category': 'Under investigation', 'date': '2021-07'}, 'persistent_id': 'c58be92b4aa850f3ebf65f44e7fc1ed7337359c913e1d1127e1e4812c8da27a5', 'id': 94071970, 'location_subtype': '', 'month': '2021-07'}, {'category': 'possession-of-weapons', 'location_type': 'Force', 'location': {'latitude': '51.501027', 'street': {'id': 954405, 'name': 'On or near Cutter Lane'}, 'longitude': '0.007338'}, 'context': '', 'outcome_status': {'category': 'Offender given a caution', 'date': '2021-07'}, 'persistent_id': '2a33e048fdbca108305a203a78fe017df4c37b04f1a13d6c1d0cfbaebef015ef', 'id': 94073263, 'location_subtype': '', 'month': '2021-07'}, {'category': 'possession-of-weapons', 'location_type': 'Force', 'location': {'latitude': '51.531603', 'street': {'id': 963515, 'name': 'On or near Kylemore Close'}, 'longitude': '0.043214'}, 'context': '', 'outcome_status': {'category': 'Under investigation', 'date': '2021-07'}, 'persistent_id': '80e2eb93e6e61ac2c95e952f5ece9b79c49cbe3b1bcf005b326abab28d2abbc3', 'id': 94073595, 'location_subtype': '', 'month': '2021-07'}, {'category': 'possession-of-weapons', 'location_type': 'Force', 'location': {'latitude': '51.514578', 'street': {'id': 956765, 'name': 'On or near Connaught Street'}, 'longitude': '-0.165508'}, 'context': '', 'outcome_status': {'category': 'Investigation complete; no suspect identified', 'date': '2021-08'}, 'persistent_id': '9d5a1c8c4f68b8b58370177174fde0df4ee7953e312c4c6f444fc90a12f6cbcc', 'id': 94073685, 'location_subtype': '', 'month': '2021-07'}, {'category': 'possession-of-weapons', 'location_type': 'Force', 'location': {'latitude': '51.450725', 'street': {'id': 941445, 'name': 'On or near Westwood Lane'}, 'longitude': '0.103073'}, 'context': '', 'outcome_status': {'category': 'Under investigation', 'date': '2021-07'}, 'persistent_id': '61e897750e3b2bcbfe26539a4d43860a415a1434bc106b19b909374e3c9c3ce0', 'id': 93990045, 'location_subtype': '', 'month': '2021-07'}, {'category': 'possession-of-weapons', 'location_type': 'Force', 'location': {'latitude': '51.423799', 'street': {'id': 934970, 'name': 'On or near Bevill Allen Close'}, 'longitude': '-0.160961'}, 'context': '', 'outcome_status': {'category': 'Under investigation', 'date': '2021-07'}, 'persistent_id': '7442a566493234fcc1859bb4208cab9cd84501bc98c8a273e442d32884a20ca1', 'id': 93990178, 'location_subtype': '', 'month': '2021-07'}, {'category': 'possession-of-weapons', 'location_type': 'Force', 'location': {'latitude': '51.552544', 'street': {'id': 968828, 'name': 'On or near Downs Park Road'}, 'longitude': '-0.059302'}, 'context': '', 'outcome_status': {'category': 'Awaiting court outcome', 'date': '2021-07'}, 'persistent_id': 'e7ebdb96915676c13bbb16ac27c0f57ab79b6340d8f810abfee7110f7e698af0', 'id': 93990187, 'location_subtype': '', 'month': '2021-07'}, {'category': 'possession-of-weapons', 'location_type': 'Force', 'location': {'latitude': '51.510615', 'street': {'id': 955073, 'name': 'On or near Tansy Close'}, 'longitude': '0.065275'}, 'context': '', 'outcome_status': {'category': 'Under investigation', 'date': '2021-07'}, 'persistent_id': '58306f6d8572aa89a51b99046dbc16cd234edf43bddcdbb8f2e91f4e47f0ebef', 'id': 93991269, 'location_subtype': '', 'month': '2021-07'}, {'category': 'possession-of-weapons', 'location_type': 'Force', 'location': {'latitude': '51.602389', 'street': {'id': 981719, 'name': 'On or near Tebworth Road'}, 'longitude': '-0.072975'}, 'context': '', 'outcome_status': {'category': 'Under investigation', 'date': '2021-07'}, 'persistent_id': '9604e047e24600ddee7e7db07863ecdcfe2c3ca52a1d911ada0ab57a1f687ba7', 'id': 93991573, 'location_subtype': '', 'month': '2021-07'}, {'category': 'possession-of-weapons', 'location_type': 'Force', 'location': {'latitude': '51.573569', 'street': {'id': 972966, 'name': 'On or near Porlock Avenue'}, 'longitude': '-0.351587'}, 'context': '', 'outcome_status': {'category': 'Under investigation', 'date': '2021-07'}, 'persistent_id': 'c5fc389cc077700c25322f68b43a26ddcbcef8f0d96ef0713f756a0621fc1bb5', 'id': 93992045, 'location_subtype': '', 'month': '2021-07'}, {'category': 'possession-of-weapons', 'location_type': 'Force', 'location': {'latitude': '51.545361', 'street': {'id': 966382, 'name': 'On or near Charter Place'}, 'longitude': '-0.479503'}, 'context': '', 'outcome_status': {'category': 'Investigation complete; no suspect identified', 'date': '2021-07'}, 'persistent_id': 'c8ef2e0101289a8d21769f793e5280002ec8114504b1e4413e9dce204b3123a4', 'id': 93992648, 'location_subtype': '', 'month': '2021-07'}, {'category': 'possession-of-weapons', 'location_type': 'Force', 'location': {'latitude': '51.505168', 'street': {'id': 952602, 'name': 'On or near Warbeck Road'}, 'longitude': '-0.230224'}, 'context': '', 'outcome_status': {'category': 'Under investigation', 'date': '2021-07'}, 'persistent_id': '43a037fd6f8cb77665cc0200d63d91296c9c81f6074ad4f0ec387a71169469a8', 'id': 93993040, 'location_subtype': '', 'month': '2021-07'}, {'category': 'possession-of-weapons', 'location_type': 'Force', 'location': {'latitude': '51.430720', 'street': {'id': 938377, 'name': 'On or near New Close'}, 'longitude': '-0.388684'}, 'context': '', 'outcome_status': {'category': 'Awaiting court outcome', 'date': '2021-07'}, 'persistent_id': '7b3a587430dd5788498b76b819adac78320ee9f7ac682448327a75b5ef5016ff', 'id': 94002657, 'location_subtype': '', 'month': '2021-07'}, {'category': 'possession-of-weapons', 'location_type': 'Force', 'location': {'latitude': '51.457073', 'street': {'id': 941385, 'name': 'On or near The Green'}, 'longitude': '0.090539'}, 'context': '', 'outcome_status': {'category': 'Under investigation', 'date': '2021-07'}, 'persistent_id': 'fc933cdb51a87bb3933049bd2282a1f47ecb2f27ee5ae641365868463c2e063c', 'id': 94002690, 'location_subtype': '', 'month': '2021-07'}, {'category': 'possession-of-weapons', 'location_type': 'Force', 'location': {'latitude': '51.430345', 'street': {'id': 937293, 'name': 'On or near Mount Pleasant'}, 'longitude': '-0.097299'}, 'context': '', 'outcome_status': {'category': 'Offender given a caution', 'date': '2021-07'}, 'persistent_id': '7e1b2528d8041fb64184c9b826504cfaf24ee98cde2ffc3c02941a0c22090822', 'id': 94002723, 'location_subtype': '', 'month': '2021-07'}, {'category': 'possession-of-weapons', 'location_type': 'Force', 'location': {'latitude': '51.554945', 'street': {'id': 968083, 'name': 'On or near Raveley Street'}, 'longitude': '-0.138106'}, 'context': '', 'outcome_status': {'category': 'Offender given a caution', 'date': '2021-08'}, 'persistent_id': 'ac171039e0e0c1ca0f8f720abed016b83fc7716692f4abd7ab82b82512b1ea2a', 'id': 94002753, 'location_subtype': '', 'month': '2021-07'}, {'category': 'possession-of-weapons', 'location_type': 'Force', 'location': {'latitude': '51.671322', 'street': {'id': 987434, 'name': 'On or near Pedestrian Subway'}, 'longitude': '-0.028327'}, 'context': '', 'outcome_status': {'category': 'Under investigation', 'date': '2021-07'}, 'persistent_id': '04babb579d70b77a771b4eb03d4d9bb7fed9234839a755029216738c64ab9161', 'id': 94002772, 'location_subtype': '', 'month': '2021-07'}, {'category': 'possession-of-weapons', 'location_type': 'Force', 'location': {'latitude': '51.593496', 'street': {'id': 977303, 'name': 'On or near Aintree Crescent'}, 'longitude': '0.082316'}, 'context': '', 'outcome_status': {'category': 'Awaiting court outcome', 'date': '2021-07'}, 'persistent_id': 'f2edf0e0a6a42bbba2e70e026840da3a1535821b1e5e14371cf00aa54dc03b4e', 'id': 93979260, 'location_subtype': '', 'month': '2021-07'}, {'category': 'possession-of-weapons', 'location_type': 'Force', 'location': {'latitude': '51.567588', 'street': {'id': 976513, 'name': 'On or near Frazer Close'}, 'longitude': '0.186123'}, 'context': '', 'outcome_status': {'category': 'Under investigation', 'date': '2021-07'}, 'persistent_id': '22ecafb78628a58469378d8136365b3c68dd83eb1980f848ff0acb5b14509243', 'id': 93979707, 'location_subtype': '', 'month': '2021-07'}, {'category': 'possession-of-weapons', 'location_type': 'Force', 'location': {'latitude': '51.547650', 'street': {'id': 969557, 'name': 'On or near Elstree Gardens'}, 'longitude': '0.077323'}, 'context': '', 'outcome_status': {'category': 'Investigation complete; no suspect identified', 'date': '2021-07'}, 'persistent_id': 'f0fef3819bd9dbc6e59741a41738988d6b3d97448681f7a0289c7164029b07bc', 'id': 93980457, 'location_subtype': '', 'month': '2021-07'}, {'category': 'possession-of-weapons', 'location_type': 'Force', 'location': {'latitude': '51.499328', 'street': {'id': 953343, 'name': 'On or near Stafford Place'}, 'longitude': '-0.141656'}, 'context': '', 'outcome_status': {'category': 'Under investigation', 'date': '2021-07'}, 'persistent_id': '755b9d5fa4ca9fbcac1b582b644ddabaa546ac93047fdcb79caaa798de5992f3', 'id': 93980639, 'location_subtype': '', 'month': '2021-07'}, {'category': 'possession-of-weapons', 'location_type': 'Force', 'location': {'latitude': '51.491781', 'street': {'id': 954382, 'name': 'On or near Taeping Street'}, 'longitude': '-0.017904'}, 'context': '', 'outcome_status': {'category': 'Under investigation', 'date': '2021-07'}, 'persistent_id': '66c8045d971f2e0d69b4602ea9fd53579e35ab19a08ce24035ab7ea712c66158', 'id': 93980919, 'location_subtype': '', 'month': '2021-07'}, {'category': 'possession-of-weapons', 'location_type': 'Force', 'location': {'latitude': '51.355777', 'street': {'id': 925340, 'name': 'On or near Field Way'}, 'longitude': '-0.020189'}, 'context': '', 'outcome_status': {'category': 'Under investigation', 'date': '2021-07'}, 'persistent_id': '14e5779b56eab5e9c82f3154d532db56bec2ccf8638fc59175c8645940c45cf8', 'id': 93981691, 'location_subtype': '', 'month': '2021-07'}, {'category': 'possession-of-weapons', 'location_type': 'Force', 'location': {'latitude': '51.522165', 'street': {'id': 961680, 'name': 'On or near Supermarket'}, 'longitude': '-0.046179'}, 'context': '', 'outcome_status': {'category': 'Under investigation', 'date': '2021-07'}, 'persistent_id': '8352a0465177904fa00da47a0f2ecefd52b222fa9f67f78820fe0de4ad9dfa72', 'id': 93981975, 'location_subtype': '', 'month': '2021-07'}, {'category': 'possession-of-weapons', 'location_type': 'Force', 'location': {'latitude': '51.516058', 'street': {'id': 955704, 'name': 'On or near Clemence Street'}, 'longitude': '-0.031638'}, 'context': '', 'outcome_status': {'category': 'Awaiting court outcome', 'date': '2021-07'}, 'persistent_id': '80b924b8996a979cde3e71461fa6b6be278c41daa858d5561b897a9b12dba9d8', 'id': 93983243, 'location_subtype': '', 'month': '2021-07'}, {'category': 'possession-of-weapons', 'location_type': 'Force', 'location': {'latitude': '51.578548', 'street': {'id': 976487, 'name': 'On or near St Edwards Way'}, 'longitude': '0.177079'}, 'context': '', 'outcome_status': {'category': 'Investigation complete; no suspect identified', 'date': '2021-07'}, 'persistent_id': '6a7399af107a558e306d0a060e46a6e2a4cadef066f4b72a1abb6f4c8e1dc25f', 'id': 93983671, 'location_subtype': '', 'month': '2021-07'}, {'category': 'possession-of-weapons', 'location_type': 'Force', 'location': {'latitude': '51.636056', 'street': {'id': 985910, 'name': 'On or near Petrol Station'}, 'longitude': '-0.013542'}, 'context': '', 'outcome_status': {'category': 'Under investigation', 'date': '2021-07'}, 'persistent_id': '74057a6f5a7e419565b3fb8899f66ed19f97415f4c3b3cb63fa979b442cd3bdb', 'id': 93984085, 'location_subtype': '', 'month': '2021-07'}, {'category': 'possession-of-weapons', 'location_type': 'Force', 'location': {'latitude': '51.636056', 'street': {'id': 985910, 'name': 'On or near Petrol Station'}, 'longitude': '-0.013542'}, 'context': '', 'outcome_status': {'category': 'Under investigation', 'date': '2021-07'}, 'persistent_id': '74057a6f5a7e419565b3fb8899f66ed19f97415f4c3b3cb63fa979b442cd3bdb', 'id': 93984086, 'location_subtype': '', 'month': '2021-07'}, {'category': 'possession-of-weapons', 'location_type': 'Force', 'location': {'latitude': '51.562733', 'street': {'id': 972758, 'name': 'On or near Further/higher Educational Building'}, 'longitude': '-0.278962'}, 'context': '', 'outcome_status': {'category': 'Investigation complete; no suspect identified', 'date': '2021-07'}, 'persistent_id': '26aab25f0e32a5d1032d5d5043c8de37418b83e22b9dd811acf55c8315a07b52', 'id': 93984088, 'location_subtype': '', 'month': '2021-07'}, {'category': 'possession-of-weapons', 'location_type': 'Force', 'location': {'latitude': '51.500682', 'street': {'id': 954474, 'name': 'On or near Claremont Street'}, 'longitude': '0.064019'}, 'context': '', 'outcome_status': {'category': 'Under investigation', 'date': '2021-07'}, 'persistent_id': '50c41a1819c7b7fd6ff52a654402715093373cc3028f46a4062cfacb527616c5', 'id': 93984774, 'location_subtype': '', 'month': '2021-07'}, {'category': 'possession-of-weapons', 'location_type': 'Force', 'location': {'latitude': '51.500269', 'street': {'id': 952691, 'name': 'On or near Phillimore Walk'}, 'longitude': '-0.196742'}, 'context': '', 'outcome_status': {'category': 'Awaiting court outcome', 'date': '2021-07'}, 'persistent_id': '5a036e66692daa4657344117dfbbd057e9b6b02c8e39ff3fd3ef8306d50495c2', 'id': 93987561, 'location_subtype': '', 'month': '2021-07'}, {'category': 'possession-of-weapons', 'location_type': 'Force', 'location': {'latitude': '51.542049', 'street': {'id': 966171, 'name': 'On or near Bishops Drive'}, 'longitude': '-0.380529'}, 'context': '', 'outcome_status': {'category': 'Awaiting court outcome', 'date': '2021-07'}, 'persistent_id': '3d540f2ec3d3417b293bb483b9c2285983d815966527cd55dd1e6197652b70f1', 'id': 93987593, 'location_subtype': '', 'month': '2021-07'}, {'category': 'possession-of-weapons', 'location_type': 'Force', 'location': {'latitude': '51.566141', 'street': {'id': 972163, 'name': 'On or near Zoffany Street'}, 'longitude': '-0.127982'}, 'context': '', 'outcome_status': {'category': 'Under investigation', 'date': '2021-07'}, 'persistent_id': 'b41ae92a755b49d04e50f2451e558fc18654d9916ed60ed39a78964b7f516094', 'id': 93988222, 'location_subtype': '', 'month': '2021-07'}, {'category': 'possession-of-weapons', 'location_type': 'Force', 'location': {'latitude': '51.590668', 'street': {'id': 978167, 'name': 'On or near Downhills Park Road'}, 'longitude': '-0.092513'}, 'context': '', 'outcome_status': {'category': 'Under investigation', 'date': '2021-07'}, 'persistent_id': 'c9fd2cd761aca319919b20548b2c78c43537935ddf25269d583975525fb13f0d', 'id': 93988283, 'location_subtype': '', 'month': '2021-07'}, {'category': 'possession-of-weapons', 'location_type': 'Force', 'location': {'latitude': '51.407683', 'street': {'id': 931967, 'name': 'On or near Homefield Road'}, 'longitude': '0.026656'}, 'context': '', 'outcome_status': {'category': 'Under investigation', 'date': '2021-07'}, 'persistent_id': 'eba55fb12584f30eeba9fc7e71004a7aac373ffca31fa8bf480e4b52902fbfbe', 'id': 93988943, 'location_subtype': '', 'month': '2021-07'}, {'category': 'possession-of-weapons', 'location_type': 'Force', 'location': {'latitude': '51.464880', 'street': {'id': 942591, 'name': 'On or near Police Station'}, 'longitude': '-0.113053'}, 'context': '', 'outcome_status': {'category': 'Investigation complete; no suspect identified', 'date': '2021-08'}, 'persistent_id': 'b2a3a60c7273b873ae2a26567169143ba0315e07260d6f0466c91bd76a1d03be', 'id': 93989540, 'location_subtype': '', 'month': '2021-07'}, {'category': 'possession-of-weapons', 'location_type': 'Force', 'location': {'latitude': '51.573904', 'street': {'id': 976380, 'name': 'On or near London Road'}, 'longitude': '0.157331'}, 'context': '', 'outcome_status': {'category': 'Under investigation', 'date': '2021-07'}, 'persistent_id': '4e38c4cdae9a8049ff7fabf81c2ba3a9829565b2a28dd5d01fa400726136d942', 'id': 93989697, 'location_subtype': '', 'month': '2021-07'}, {'category': 'possession-of-weapons', 'location_type': 'Force', 'location': {'latitude': '51.523614', 'street': {'id': 959726, 'name': 'On or near Kendal Avenue'}, 'longitude': '-0.278779'}, 'context': '', 'outcome_status': {'category': 'Under investigation', 'date': '2021-07'}, 'persistent_id': '9f093666679c5c6d738cd22aa48d16a40f0495cccde4512e80b74dd9bd32c914', 'id': 94003902, 'location_subtype': '', 'month': '2021-07'}, {'category': 'possession-of-weapons', 'location_type': 'Force', 'location': {'latitude': '51.480548', 'street': {'id': 948673, 'name': 'On or near Creekside'}, 'longitude': '-0.020522'}, 'context': '', 'outcome_status': {'category': 'Awaiting court outcome', 'date': '2021-07'}, 'persistent_id': 'b0fea40e5412b008e0adabb3aca49a5ba7c732f67c87cddf33d4f1b2fb74f0cd', 'id': 94004092, 'location_subtype': '', 'month': '2021-07'}, {'category': 'possession-of-weapons', 'location_type': 'Force', 'location': {'latitude': '51.562812', 'street': {'id': 972577, 'name': 'On or near Applewood Close'}, 'longitude': '-0.232199'}, 'context': '', 'outcome_status': {'category': 'Investigation complete; no suspect identified', 'date': '2021-08'}, 'persistent_id': '400a30fef42e4c0c80ee1140499ae1f4571b3f233c422491973c8040e63146f6', 'id': 94004113, 'location_subtype': '', 'month': '2021-07'}, {'category': 'possession-of-weapons', 'location_type': 'Force', 'location': {'latitude': '51.605686', 'street': {'id': 981686, 'name': 'On or near Chapel Place'}, 'longitude': '-0.068893'}, 'context': '', 'outcome_status': {'category': 'Awaiting court outcome', 'date': '2021-07'}, 'persistent_id': 'f1ddbd39a24432fd554fa79590ff1eefcc6a33ef7221a4001bd1e6b5f83b605a', 'id': 94004638, 'location_subtype': '', 'month': '2021-07'}, {'category': 'possession-of-weapons', 'location_type': 'Force', 'location': {'latitude': '51.522506', 'street': {'id': 959783, 'name': 'On or near Theatre/concert Hall'}, 'longitude': '-0.259722'}, 'context': '', 'outcome_status': {'category': 'Awaiting court outcome', 'date': '2021-07'}, 'persistent_id': '9a7affbaeb6fe42a5f55b68691f191594c3af61b83b293a3cbd37d82983d8012', 'id': 94004646, 'location_subtype': '', 'month': '2021-07'}, {'category': 'possession-of-weapons', 'location_type': 'Force', 'location': {'latitude': '51.486839', 'street': {'id': 949020, 'name': 'On or near Bolina Road'}, 'longitude': '-0.052486'}, 'context': '', 'outcome_status': {'category': 'Under investigation', 'date': '2021-07'}, 'persistent_id': '67eabd15393aa3b738d6773187ae32e7b066695f7006876dcdae5029c8cc0d8f', 'id': 94004690, 'location_subtype': '', 'month': '2021-07'}, {'category': 'possession-of-weapons', 'location_type': 'Force', 'location': {'latitude': '51.525618', 'street': {'id': 962446, 'name': 'On or near Buxton Road'}, 'longitude': '0.049188'}, 'context': '', 'outcome_status': {'category': 'Under investigation', 'date': '2021-07'}, 'persistent_id': '4767326a12152e7092c5ff928e082e9d1d5b5d15aa15de88b5045bcd14319d9a', 'id': 94004855, 'location_subtype': '', 'month': '2021-07'}, {'category': 'possession-of-weapons', 'location_type': 'Force', 'location': {'latitude': '51.377922', 'street': {'id': 928729, 'name': 'On or near Parking Area'}, 'longitude': '-0.101974'}, 'context': '', 'outcome_status': {'category': 'Awaiting court outcome', 'date': '2021-07'}, 'persistent_id': '14887e79b901b5e864c1f5d3dc10412743db970a0b167f9422085d7d281a08a5', 'id': 94005000, 'location_subtype': '', 'month': '2021-07'}, {'category': 'possession-of-weapons', 'location_type': 'Force', 'location': {'latitude': '51.582936', 'street': {'id': 977591, 'name': 'On or near Hermon Hill'}, 'longitude': '0.024932'}, 'context': '', 'outcome_status': {'category': 'Under investigation', 'date': '2021-07'}, 'persistent_id': '247aa01b4dc8f3c695b45228f98411cdd33632687d3d84694698fb61f94a957b', 'id': 94005029, 'location_subtype': '', 'month': '2021-07'}, {'category': 'possession-of-weapons', 'location_type': 'Force', 'location': {'latitude': '51.554291', 'street': {'id': 968224, 'name': 'On or near Sports/recreation Area'}, 'longitude': '-0.108475'}, 'context': '', 'outcome_status': {'category': 'Awaiting court outcome', 'date': '2021-07'}, 'persistent_id': '8dcdaa1a85a5fda298fe63110f630b613d986ae1f107c3626909986833977349', 'id': 94005795, 'location_subtype': '', 'month': '2021-07'}, {'category': 'possession-of-weapons', 'location_type': 'Force', 'location': {'latitude': '51.600935', 'street': {'id': 982179, 'name': 'On or near Coopersale Close'}, 'longitude': '0.039711'}, 'context': '', 'outcome_status': {'category': 'Awaiting court outcome', 'date': '2021-07'}, 'persistent_id': '0ae21fc13b5738a25b53048b2296ff09f8d740eb5d7b0aac0630c82e6754c4b9', 'id': 94005841, 'location_subtype': '', 'month': '2021-07'}, {'category': 'possession-of-weapons', 'location_type': 'Force', 'location': {'latitude': '51.543777', 'street': {'id': 965324, 'name': 'On or near Drakes Courtyard'}, 'longitude': '-0.201008'}, 'context': '', 'outcome_status': {'category': 'Awaiting court outcome', 'date': '2021-07'}, 'persistent_id': 'e1f3a1b5fffc4c8619f5015658bfa63eee8881bba0793d99ee4d5184170317b6', 'id': 94006050, 'location_subtype': '', 'month': '2021-07'}, {'category': 'possession-of-weapons', 'location_type': 'Force', 'location': {'latitude': '51.467281', 'street': {'id': 946005, 'name': 'On or near Villa Road'}, 'longitude': '-0.111370'}, 'context': '', 'outcome_status': {'category': 'Awaiting court outcome', 'date': '2021-08'}, 'persistent_id': '4411baaf0cdd3b7f2dd73b2e69337ce3210a03727cec42c5c7cae5fad4a50fe0', 'id': 94006059, 'location_subtype': '', 'month': '2021-07'}, {'category': 'possession-of-weapons', 'location_type': 'Force', 'location': {'latitude': '51.442336', 'street': {'id': 940096, 'name': 'On or near Stanstead Road'}, 'longitude': '-0.049358'}, 'context': '', 'outcome_status': {'category': 'Investigation complete; no suspect identified', 'date': '2021-07'}, 'persistent_id': '70576281ab86db90ad6892504781153d82093c1a5cf7a86f384e7ffba6ca71e8', 'id': 94006312, 'location_subtype': '', 'month': '2021-07'}, {'category': 'possession-of-weapons', 'location_type': 'Force', 'location': {'latitude': '51.383050', 'street': {'id': 929470, 'name': 'On or near Pembury Avenue'}, 'longitude': '-0.242239'}, 'context': '', 'outcome_status': {'category': 'Under investigation', 'date': '2021-07'}, 'persistent_id': '9944f5b803d16b62d7d833a83d7e21f8238a9e4a945d19f268c5fa8af981dad0', 'id': 94007338, 'location_subtype': '', 'month': '2021-07'}, {'category': 'possession-of-weapons', 'location_type': 'Force', 'location': {'latitude': '51.481407', 'street': {'id': 949611, 'name': 'On or near Meadow Mews'}, 'longitude': '-0.118607'}, 'context': '', 'outcome_status': {'category': 'Under investigation', 'date': '2021-07'}, 'persistent_id': '326403abc5546a4c9f35bab4724df266ca9313f41d2a6e68a68358b242331f49', 'id': 94007340, 'location_subtype': '', 'month': '2021-07'}, {'category': 'possession-of-weapons', 'location_type': 'Force', 'location': {'latitude': '51.562434', 'street': {'id': 970915, 'name': 'On or near Kenilworth Gardens'}, 'longitude': '0.102034'}, 'context': '', 'outcome_status': {'category': 'Awaiting court outcome', 'date': '2021-07'}, 'persistent_id': '4a448cd8e8f67ad12088064928e2bba92e4a3762e10703c7f3505270778d206e', 'id': 94007347, 'location_subtype': '', 'month': '2021-07'}, {'category': 'possession-of-weapons', 'location_type': 'Force', 'location': {'latitude': '51.538919', 'street': {'id': 963175, 'name': 'On or near Pedestrian Subway'}, 'longitude': '0.081352'}, 'context': '', 'outcome_status': {'category': 'Under investigation', 'date': '2021-07'}, 'persistent_id': 'a7c5038baeb4c78cc49243a06f326492b9876985f1e9f61b9ae06376bbe6cd94', 'id': 94007366, 'location_subtype': '', 'month': '2021-07'}, {'category': 'possession-of-weapons', 'location_type': 'Force', 'location': {'latitude': '51.462828', 'street': {'id': 942632, 'name': 'On or near Coldharbour Lane'}, 'longitude': '-0.108502'}, 'context': '', 'outcome_status': {'category': 'Investigation complete; no suspect identified', 'date': '2021-08'}, 'persistent_id': 'ef174fe71aa5d1074f14e63884d5d35d1668099457dc6e6091b5b2ea41205a3b', 'id': 94007543, 'location_subtype': '', 'month': '2021-07'}, {'category': 'possession-of-weapons', 'location_type': 'Force', 'location': {'latitude': '51.436672', 'street': {'id': 936821, 'name': 'On or near Shopping Area'}, 'longitude': '-0.019456'}, 'context': '', 'outcome_status': {'category': 'Under investigation', 'date': '2021-07'}, 'persistent_id': 'b1e5b1055b9fc900da6fa590c388afc94243b20e79c35bb5b9ef8257027f8fd7', 'id': 94016603, 'location_subtype': '', 'month': '2021-07'}, {'category': 'possession-of-weapons', 'location_type': 'Force', 'location': {'latitude': '51.507102', 'street': {'id': 955902, 'name': 'On or near Wine Close'}, 'longitude': '-0.055354'}, 'context': '', 'outcome_status': {'category': 'Under investigation', 'date': '2021-07'}, 'persistent_id': 'b26a6ddf1d8bb4bb5e784dc0faee3004848765405d7b0d011caf05f464099d29', 'id': 94016928, 'location_subtype': '', 'month': '2021-07'}, {'category': 'possession-of-weapons', 'location_type': 'Force', 'location': {'latitude': '51.446575', 'street': {'id': 940220, 'name': 'On or near Nelgarde Road'}, 'longitude': '-0.023287'}, 'context': '', 'outcome_status': {'category': 'Awaiting court outcome', 'date': '2021-08'}, 'persistent_id': '5cb0564208b6fecf7073b12e42dae44b8f66a13b4d422030da08d3aa4090fabd', 'id': 94017632, 'location_subtype': '', 'month': '2021-07'}, {'category': 'possession-of-weapons', 'location_type': 'Force', 'location': {'latitude': '51.485018', 'street': {'id': 949781, 'name': 'On or near Phene Street'}, 'longitude': '-0.167731'}, 'context': '', 'outcome_status': {'category': 'Under investigation', 'date': '2021-07'}, 'persistent_id': '860b8b491da8522c64d5156504f1877a399d5e13ebf3ebd1fed06f10788cf3a4', 'id': 94019691, 'location_subtype': '', 'month': '2021-07'}, {'category': 'possession-of-weapons', 'location_type': 'Force', 'location': {'latitude': '51.490808', 'street': {'id': 950223, 'name': 'On or near Penywern Road'}, 'longitude': '-0.193730'}, 'context': '', 'outcome_status': {'category': 'Investigation complete; no suspect identified', 'date': '2021-07'}, 'persistent_id': '2ff5a3ccbeb80de396ba58415fc87cfff4f827467b6f7dd34a8e4bc70feb0086', 'id': 94020192, 'location_subtype': '', 'month': '2021-07'}, {'category': 'possession-of-weapons', 'location_type': 'Force', 'location': {'latitude': '51.469792', 'street': {'id': 945863, 'name': 'On or near Morrison Road'}, 'longitude': '-0.109827'}, 'context': '', 'outcome_status': {'category': 'Under investigation', 'date': '2021-07'}, 'persistent_id': '30cde6cf6d061453e3a39b1d4bdf83b6446de5421922159d338899a120b8841f', 'id': 94020534, 'location_subtype': '', 'month': '2021-07'}, {'category': 'possession-of-weapons', 'location_type': 'Force', 'location': {'latitude': '51.536093', 'street': {'id': 964480, 'name': 'On or near Penn Street'}, 'longitude': '-0.085380'}, 'context': '', 'outcome_status': {'category': 'Awaiting court outcome', 'date': '2021-08'}, 'persistent_id': 'ff1fecd2973f032afd2f4c856bcb8f1cea0fc7c0ff87fb677fe21aa02353c2e0', 'id': 94020541, 'location_subtype': '', 'month': '2021-07'}, {'category': 'possession-of-weapons', 'location_type': 'Force', 'location': {'latitude': '51.525595', 'street': {'id': 959129, 'name': 'On or near Burns Close'}, 'longitude': '-0.414845'}, 'context': '', 'outcome_status': {'category': 'Awaiting court outcome', 'date': '2021-08'}, 'persistent_id': 'ccd31d71b78c145b1c9088e99807d873391ed60df99794820161124c6f210e6b', 'id': 94020648, 'location_subtype': '', 'month': '2021-07'}, {'category': 'possession-of-weapons', 'location_type': 'Force', 'location': {'latitude': '51.484430', 'street': {'id': 951070, 'name': 'On or near Vicarage Farm Road'}, 'longitude': '-0.380785'}, 'context': '', 'outcome_status': {'category': 'Awaiting court outcome', 'date': '2021-08'}, 'persistent_id': '985b62c554b839eaa6df4bf621207bd858579a2271de639c443ad5dfe8a0fbb2', 'id': 94020674, 'location_subtype': '', 'month': '2021-07'}, {'category': 'possession-of-weapons', 'location_type': 'Force', 'location': {'latitude': '51.539024', 'street': {'id': 963247, 'name': 'On or near Supermarket'}, 'longitude': '0.080477'}, 'context': '', 'outcome_status': {'category': 'Under investigation', 'date': '2021-07'}, 'persistent_id': '7ac1cf6a4bcaacebd9c603b0b7652188bb3d7c11e9de16d006dd9c673659e3cf', 'id': 94020689, 'location_subtype': '', 'month': '2021-07'}, {'category': 'possession-of-weapons', 'location_type': 'Force', 'location': {'latitude': '51.502357', 'street': {'id': 955060, 'name': 'On or near Tor Grove'}, 'longitude': '0.089296'}, 'context': '', 'outcome_status': {'category': 'Under investigation', 'date': '2021-07'}, 'persistent_id': '80aa4c547adc483937c5cd47cb610bd10cf0e901761a258ca4eb603697a6bec0', 'id': 94021070, 'location_subtype': '', 'month': '2021-07'}, {'category': 'possession-of-weapons', 'location_type': 'Force', 'location': {'latitude': '51.490415', 'street': {'id': 949087, 'name': 'On or near Old Kent Road'}, 'longitude': '-0.080697'}, 'context': '', 'outcome_status': {'category': 'Under investigation', 'date': '2021-07'}, 'persistent_id': '58f8c916325981e32bcb15c80c987dcb61b758f0c22f9e3d453249316de36709', 'id': 94007756, 'location_subtype': '', 'month': '2021-07'}, {'category': 'possession-of-weapons', 'location_type': 'Force', 'location': {'latitude': '51.463754', 'street': {'id': 946937, 'name': 'On or near Hatcliffe Close'}, 'longitude': '0.007746'}, 'context': '', 'outcome_status': {'category': 'Awaiting court outcome', 'date': '2021-07'}, 'persistent_id': 'f5620383fff1bcba2980100c9155f9504d2ac417f9e1b244b2180bf97c5f5771', 'id': 94007768, 'location_subtype': '', 'month': '2021-07'}, {'category': 'possession-of-weapons', 'location_type': 'Force', 'location': {'latitude': '51.465367', 'street': {'id': 947572, 'name': 'On or near Howbury Lane'}, 'longitude': '0.189454'}, 'context': '', 'outcome_status': {'category': 'Under investigation', 'date': '2021-07'}, 'persistent_id': '6f85120a65f5907b9fb866fc8474850974c30b75ad22619526ec14d3297b6bbb', 'id': 94007858, 'location_subtype': '', 'month': '2021-07'}, {'category': 'possession-of-weapons', 'location_type': 'Force', 'location': {'latitude': '51.443319', 'street': {'id': 939854, 'name': 'On or near Roupell Road'}, 'longitude': '-0.119410'}, 'context': '', 'outcome_status': {'category': 'Under investigation', 'date': '2021-07'}, 'persistent_id': 'aff4feec2ab21c3e02e258aaa227a3d2f04388a45a8ef6be8e6adce622ec0e38', 'id': 94007980, 'location_subtype': '', 'month': '2021-07'}, {'category': 'possession-of-weapons', 'location_type': 'Force', 'location': {'latitude': '51.471841', 'street': {'id': 946641, 'name': 'On or near Alexandra Cottages'}, 'longitude': '-0.030518'}, 'context': '', 'outcome_status': {'category': 'Under investigation', 'date': '2021-07'}, 'persistent_id': '992b127d5b0b0e6d3eaae7a6bd13ead6cae326783d2c527583210271dca6e712', 'id': 94008148, 'location_subtype': '', 'month': '2021-07'}, {'category': 'possession-of-weapons', 'location_type': 'Force', 'location': {'latitude': '51.547517', 'street': {'id': 967386, 'name': 'On or near Bertie Road'}, 'longitude': '-0.238258'}, 'context': '', 'outcome_status': {'category': 'Under investigation', 'date': '2021-07'}, 'persistent_id': '8b95ae8ab61218d4332b3820de1743f411eb94c3aad54cb6fd6fdd9455eb10cd', 'id': 94008525, 'location_subtype': '', 'month': '2021-07'}, {'category': 'possession-of-weapons', 'location_type': 'Force', 'location': {'latitude': '51.462469', 'street': {'id': 942223, 'name': 'On or near Supermarket'}, 'longitude': '-0.080847'}, 'context': '', 'outcome_status': {'category': 'Under investigation', 'date': '2021-07'}, 'persistent_id': 'ecb63572252e1c5af2bf10f3e677193b4d50478f5431623a93ec831a8e84460f', 'id': 94009488, 'location_subtype': '', 'month': '2021-07'}, {'category': 'possession-of-weapons', 'location_type': 'Force', 'location': {'latitude': '51.613718', 'street': {'id': 984228, 'name': 'On or near Conference/exhibition Centre'}, 'longitude': '-0.176434'}, 'context': '', 'outcome_status': {'category': 'Awaiting court outcome', 'date': '2021-07'}, 'persistent_id': '2b1fb49b0c8221980ef4f45f41eb14425d82a1bc096683b7b1030e61571f9273', 'id': 94009530, 'location_subtype': '', 'month': '2021-07'}, {'category': 'possession-of-weapons', 'location_type': 'Force', 'location': {'latitude': '51.446242', 'street': {'id': 939878, 'name': 'On or near Rodmill Lane'}, 'longitude': '-0.125061'}, 'context': '', 'outcome_status': {'category': 'Under investigation', 'date': '2021-07'}, 'persistent_id': 'd2878b27823cf787f6a479386ecb2c74203809bcefe382bc4c8f7d7aa126a93d', 'id': 94009705, 'location_subtype': '', 'month': '2021-07'}, {'category': 'possession-of-weapons', 'location_type': 'Force', 'location': {'latitude': '51.645453', 'street': {'id': 986144, 'name': 'On or near Shopping Area'}, 'longitude': '-0.057057'}, 'context': '', 'outcome_status': {'category': 'Under investigation', 'date': '2021-07'}, 'persistent_id': '160f3720a9c7a641dc57b4ecab89fe1f13a2eb7cd7428f5ebaf27f1a0d712d76', 'id': 94009710, 'location_subtype': '', 'month': '2021-07'}, {'category': 'possession-of-weapons', 'location_type': 'Force', 'location': {'latitude': '51.462222', 'street': {'id': 942341, 'name': 'On or near Poplar Road'}, 'longitude': '-0.099933'}, 'context': '', 'outcome_status': {'category': 'Awaiting court outcome', 'date': '2021-08'}, 'persistent_id': '88f01745ed29522b022d79eac669de5b9d55cb6493ec7d1bdb1300a8f38b1605', 'id': 94009721, 'location_subtype': '', 'month': '2021-07'}, {'category': 'possession-of-weapons', 'location_type': 'Force', 'location': {'latitude': '51.578548', 'street': {'id': 976487, 'name': 'On or near St Edwards Way'}, 'longitude': '0.177079'}, 'context': '', 'outcome_status': {'category': 'Investigation complete; no suspect identified', 'date': '2021-07'}, 'persistent_id': '63ce340586a30d46d56d2c362f1c8028931529092c7b9123dc0dbd402436ebfc', 'id': 94009939, 'location_subtype': '', 'month': '2021-07'}, {'category': 'possession-of-weapons', 'location_type': 'Force', 'location': {'latitude': '51.454771', 'street': {'id': 942015, 'name': 'On or near Supermarket'}, 'longitude': '-0.036866'}, 'context': '', 'outcome_status': {'category': 'Investigation complete; no suspect identified', 'date': '2021-07'}, 'persistent_id': '88006bf1dce9799ef0dce239fe7ab64b53b03c5a6bcee245193b4366f17fa3ab', 'id': 94009981, 'location_subtype': '', 'month': '2021-07'}, {'category': 'possession-of-weapons', 'location_type': 'Force', 'location': {'latitude': '51.428658', 'street': {'id': 936927, 'name': 'On or near Petrol Station'}, 'longitude': '-0.033239'}, 'context': '', 'outcome_status': {'category': 'Under investigation', 'date': '2021-07'}, 'persistent_id': '46f08243888fc13e18391fdb5418270dcbd1ced7ead377ac956623f613c1385c', 'id': 94009995, 'location_subtype': '', 'month': '2021-07'}, {'category': 'possession-of-weapons', 'location_type': 'Force', 'location': {'latitude': '51.373475', 'street': {'id': 928858, 'name': 'On or near Park Street'}, 'longitude': '-0.098394'}, 'context': '', 'outcome_status': {'category': 'Under investigation', 'date': '2021-07'}, 'persistent_id': '3d40f00a3da432a8bc322191b195931561c26a3c7a34e48b111a60487c198c6e', 'id': 94010099, 'location_subtype': '', 'month': '2021-07'}, {'category': 'possession-of-weapons', 'location_type': 'Force', 'location': {'latitude': '51.519611', 'street': {'id': 962646, 'name': 'On or near Bernice Close'}, 'longitude': '0.205345'}, 'context': '', 'outcome_status': {'category': 'Awaiting court outcome', 'date': '2021-07'}, 'persistent_id': '09e2c33198856c8297678cf4d674a5e2bc6461ae9e914b5380cbdfa92afbcaad', 'id': 94010719, 'location_subtype': '', 'month': '2021-07'}, {'category': 'possession-of-weapons', 'location_type': 'Force', 'location': {'latitude': '51.490951', 'street': {'id': 954172, 'name': 'On or near Bush Road'}, 'longitude': '-0.045065'}, 'context': '', 'outcome_status': {'category': 'Awaiting court outcome', 'date': '2021-07'}, 'persistent_id': '3ce85e7af77271374d369cb9372862e1f7d43a3da20f4d70de3e2da58104b5cc', 'id': 94010742, 'location_subtype': '', 'month': '2021-07'}, {'category': 'possession-of-weapons', 'location_type': 'Force', 'location': {'latitude': '51.492162', 'street': {'id': 949836, 'name': 'On or near Shopping Area'}, 'longitude': '-0.159363'}, 'context': '', 'outcome_status': {'category': 'Under investigation', 'date': '2021-07'}, 'persistent_id': '1bde611e90175ced1bab4face4d9e32488815ce3a00b7e0953dcad5dde1aa5ea', 'id': 94013246, 'location_subtype': '', 'month': '2021-07'}, {'category': 'possession-of-weapons', 'location_type': 'Force', 'location': {'latitude': '51.408907', 'street': {'id': 932522, 'name': 'On or near Seymour Terrace'}, 'longitude': '-0.067130'}, 'context': '', 'outcome_status': {'category': 'Under investigation', 'date': '2021-07'}, 'persistent_id': 'c6c63d25ce654a60f83c82e29ab0138dab1ae96b31d1b48cfdab76ade10fa034', 'id': 94015062, 'location_subtype': '', 'month': '2021-07'}, {'category': 'possession-of-weapons', 'location_type': 'Force', 'location': {'latitude': '51.444580', 'street': {'id': 940332, 'name': 'On or near Elmer Road'}, 'longitude': '-0.009026'}, 'context': '', 'outcome_status': {'category': 'Awaiting court outcome', 'date': '2021-07'}, 'persistent_id': '256d3fba29f101bc9b66dde02a4d8feab8d547c1170cf2808984eb0359bb2ae7', 'id': 94015439, 'location_subtype': '', 'month': '2021-07'}, {'category': 'possession-of-weapons', 'location_type': 'Force', 'location': {'latitude': '51.437625', 'street': {'id': 940494, 'name': 'On or near Hoser Avenue'}, 'longitude': '0.016988'}, 'context': '', 'outcome_status': {'category': 'Awaiting court outcome', 'date': '2021-07'}, 'persistent_id': '1218258238c35f7f8408d5634d90f131122ecbbb7230ef40016b40b16c5619c5', 'id': 94015443, 'location_subtype': '', 'month': '2021-07'}, {'category': 'possession-of-weapons', 'location_type': 'Force', 'location': {'latitude': '51.491071', 'street': {'id': 950380, 'name': 'On or near Sussex Place'}, 'longitude': '-0.225080'}, 'context': '', 'outcome_status': {'category': 'Under investigation', 'date': '2021-07'}, 'persistent_id': '63d46f06abc42e356a9e8e77e60dc179b2f2dbb183eb858a2b6431a02486a1c8', 'id': 94015705, 'location_subtype': '', 'month': '2021-07'}, {'category': 'possession-of-weapons', 'location_type': 'Force', 'location': {'latitude': '51.502014', 'street': {'id': 954418, 'name': 'On or near Barrier Point Road'}, 'longitude': '0.031501'}, 'context': '', 'outcome_status': {'category': 'Investigation complete; no suspect identified', 'date': '2021-07'}, 'persistent_id': 'c8cb98b36061eb0d0f9df203ae7d41b3982cb8d93ba20513acd1369a6c585c41', 'id': 94053103, 'location_subtype': '', 'month': '2021-07'}, {'category': 'possession-of-weapons', 'location_type': 'Force', 'location': {'latitude': '51.612067', 'street': {'id': 983973, 'name': 'On or near Petrol Station'}, 'longitude': '-0.107880'}, 'context': '', 'outcome_status': {'category': 'Awaiting court outcome', 'date': '2021-07'}, 'persistent_id': 'ab7dba039b97eeeec665234efa07edcceee43f8cca82b6b1a004bd0ca270a3b4', 'id': 94007855, 'location_subtype': '', 'month': '2021-07'}, {'category': 'possession-of-weapons', 'location_type': 'Force', 'location': {'latitude': '51.527622', 'street': {'id': 962357, 'name': 'On or near Tyrone Road'}, 'longitude': '0.059529'}, 'context': '', 'outcome_status': {'category': 'Awaiting court outcome', 'date': '2021-07'}, 'persistent_id': '24ba6fb27c4fd8f15f7d3706d7260ce72a6c30fb11a5054e966e631057177072', 'id': 93996683, 'location_subtype': '', 'month': '2021-07'}, {'category': 'possession-of-weapons', 'location_type': 'Force', 'location': {'latitude': '51.580265', 'street': {'id': 976960, 'name': 'On or near Mulberry Close'}, 'longitude': '0.206939'}, 'context': '', 'outcome_status': {'category': 'Awaiting court outcome', 'date': '2021-07'}, 'persistent_id': '4696358e20aedc2070193a16b7b7774533af3f3eb60e23326617eadc89b91797', 'id': 94068007, 'location_subtype': '', 'month': '2021-07'}, {'category': 'possession-of-weapons', 'location_type': 'Force', 'location': {'latitude': '51.497595', 'street': {'id': 953833, 'name': 'On or near Marine Street'}, 'longitude': '-0.069417'}, 'context': '', 'outcome_status': {'category': 'Awaiting court outcome', 'date': '2021-07'}, 'persistent_id': 'cf4e13f716afbcdff1e2d4ef983ed404a8b871c0226274f0b761da5b3cd97f67', 'id': 94036316, 'location_subtype': '', 'month': '2021-07'}, {'category': 'possession-of-weapons', 'location_type': 'Force', 'location': {'latitude': '51.549367', 'street': {'id': 969711, 'name': 'On or near Peartree Gardens'}, 'longitude': '0.115076'}, 'context': '', 'outcome_status': {'category': 'Offender given a caution', 'date': '2021-07'}, 'persistent_id': '80c76b840966d677433f8eae21f3020e5bfb51084bae51bf62407d14e8146c42', 'id': 93997722, 'location_subtype': '', 'month': '2021-07'}, {'category': 'possession-of-weapons', 'location_type': 'Force', 'location': {'latitude': '51.536363', 'street': {'id': 964239, 'name': 'On or near Dunston Road'}, 'longitude': '-0.074410'}, 'context': '', 'outcome_status': {'category': 'Awaiting court outcome', 'date': '2021-07'}, 'persistent_id': 'f4e6e7c4821dfe5ba884c943af9ce90ec2b081116fe8b06da59fcd08c329bb6a', 'id': 94088073, 'location_subtype': '', 'month': '2021-07'}, {'category': 'possession-of-weapons', 'location_type': 'Force', 'location': {'latitude': '51.533226', 'street': {'id': 959584, 'name': 'On or near Hanger Lane'}, 'longitude': '-0.295344'}, 'context': '', 'outcome_status': {'category': 'Awaiting court outcome', 'date': '2021-07'}, 'persistent_id': 'e361cee033eb386cd195e8f4cd14985c527f2b5bec69454b45b958f479cdffa8', 'id': 93997786, 'location_subtype': '', 'month': '2021-07'}, {'category': 'possession-of-weapons', 'location_type': 'Force', 'location': {'latitude': '51.535051', 'street': {'id': 963621, 'name': 'On or near Skiers Street'}, 'longitude': '0.003903'}, 'context': '', 'outcome_status': {'category': 'Under investigation', 'date': '2021-07'}, 'persistent_id': '499e8736ba32bd047276a63132234e91975548b52615b7d66564d880961503c1', 'id': 94081252, 'location_subtype': '', 'month': '2021-07'}, {'category': 'possession-of-weapons', 'location_type': 'Force', 'location': {'latitude': '51.526422', 'street': {'id': 961883, 'name': 'On or near Clinton Road'}, 'longitude': '-0.036727'}, 'context': '', 'outcome_status': {'category': 'Under investigation', 'date': '2021-07'}, 'persistent_id': '697b48c004c82dd6cd4fda7e035cfd2d0dd963e270d4488fbd51f1cdc1661ffb', 'id': 94081814, 'location_subtype': '', 'month': '2021-07'}, {'category': 'possession-of-weapons', 'location_type': 'Force', 'location': {'latitude': '51.650871', 'street': {'id': 986530, 'name': 'On or near Pymms Brook Drive'}, 'longitude': '-0.164101'}, 'context': '', 'outcome_status': {'category': 'Offender given a caution', 'date': '2021-08'}, 'persistent_id': '741e63e1d15e6eec5df8d58da6f579bd64f2ee7fc051186ca0a84ea6a4dc9c1f', 'id': 94081833, 'location_subtype': '', 'month': '2021-07'}, {'category': 'possession-of-weapons', 'location_type': 'Force', 'location': {'latitude': '51.525839', 'street': {'id': 959235, 'name': 'On or near Pendula Drive'}, 'longitude': '-0.389206'}, 'context': '', 'outcome_status': {'category': 'Under investigation', 'date': '2021-07'}, 'persistent_id': 'fc9433c2ad015a667d50270373b2f3c823cd76f51b3b1f2c21f4e6b5838879bc', 'id': 94082032, 'location_subtype': '', 'month': '2021-07'}, {'category': 'possession-of-weapons', 'location_type': 'Force', 'location': {'latitude': '51.421133', 'street': {'id': 935483, 'name': 'On or near Highland Road'}, 'longitude': '-0.084924'}, 'context': '', 'outcome_status': {'category': 'Investigation complete; no suspect identified', 'date': '2021-08'}, 'persistent_id': 'a7ab7cdfc1ff1f2e9ff656786ea4167697af79528ffdee617a8903692525f9b7', 'id': 94082538, 'location_subtype': '', 'month': '2021-07'}, {'category': 'possession-of-weapons', 'location_type': 'Force', 'location': {'latitude': '51.421782', 'street': {'id': 935560, 'name': 'On or near Sports/recreation Area'}, 'longitude': '-0.068572'}, 'context': '', 'outcome_status': {'category': 'Awaiting court outcome', 'date': '2021-07'}, 'persistent_id': 'dd928742c2cefcaace6f7df609dc8aacba244409cfb29c941d6dad47fd72443e', 'id': 94082737, 'location_subtype': '', 'month': '2021-07'}, {'category': 'possession-of-weapons', 'location_type': 'Force', 'location': {'latitude': '51.576981', 'street': {'id': 973854, 'name': 'On or near Bessborough Road'}, 'longitude': '-0.342949'}, 'context': '', 'outcome_status': {'category': 'Under investigation', 'date': '2021-07'}, 'persistent_id': '9ed49b8594da150a1e53464131ddd924665c56fcf58b9121e7f71ca02053d0d7', 'id': 94083007, 'location_subtype': '', 'month': '2021-07'}, {'category': 'possession-of-weapons', 'location_type': 'Force', 'location': {'latitude': '51.460464', 'street': {'id': 943986, 'name': 'On or near Roseville Avenue'}, 'longitude': '-0.372838'}, 'context': '', 'outcome_status': {'category': 'Awaiting court outcome', 'date': '2021-07'}, 'persistent_id': 'b7841620b52bd691a14cf4b6d9449d08013e84f2ef9eb9334fb3cc647e69ee5b', 'id': 94083776, 'location_subtype': '', 'month': '2021-07'}, {'category': 'possession-of-weapons', 'location_type': 'Force', 'location': {'latitude': '51.550297', 'street': {'id': 967321, 'name': 'On or near Chantry Crescent'}, 'longitude': '-0.247988'}, 'context': '', 'outcome_status': {'category': 'Awaiting court outcome', 'date': '2021-07'}, 'persistent_id': 'c55f57973b5c90ece1fec9576fa8518f2069149795e3619b7e77734cf59e7d05', 'id': 94083794, 'location_subtype': '', 'month': '2021-07'}, {'category': 'possession-of-weapons', 'location_type': 'Force', 'location': {'latitude': '51.502820', 'street': {'id': 953537, 'name': 'On or near Theme/adventure Park'}, 'longitude': '-0.119267'}, 'context': '', 'outcome_status': {'category': 'Investigation complete; no suspect identified', 'date': '2021-07'}, 'persistent_id': 'e2a1445c3f3951910d58ea48435918b028f9a9bc328bbf77dd1eb2dfadcd8d9f', 'id': 94083796, 'location_subtype': '', 'month': '2021-07'}, {'category': 'possession-of-weapons', 'location_type': 'Force', 'location': {'latitude': '51.450590', 'street': {'id': 939765, 'name': 'On or near Petrol Station'}, 'longitude': '-0.147421'}, 'context': '', 'outcome_status': {'category': 'Under investigation', 'date': '2021-07'}, 'persistent_id': 'bf26f4e485773356eec2b424ccf2fc89a216304564cd65797a604381e145c1a0', 'id': 94084153, 'location_subtype': '', 'month': '2021-07'}, {'category': 'possession-of-weapons', 'location_type': 'Force', 'location': {'latitude': '51.538916', 'street': {'id': 964247, 'name': 'On or near Arbutus Street'}, 'longitude': '-0.076018'}, 'context': '', 'outcome_status': {'category': 'Awaiting court outcome', 'date': '2021-07'}, 'persistent_id': '29176f578179c71020e324f7a006cb7ee29a7d3fe0525efbe543dd7fc2badaec', 'id': 94084734, 'location_subtype': '', 'month': '2021-07'}, {'category': 'possession-of-weapons', 'location_type': 'Force', 'location': {'latitude': '51.497040', 'street': {'id': 952267, 'name': 'On or near Clement Close'}, 'longitude': '-0.264005'}, 'context': '', 'outcome_status': {'category': 'Investigation complete; no suspect identified', 'date': '2021-08'}, 'persistent_id': 'd0ded8d18052529126e6d19e7f209deb137015b452effd625c4de9a66fa2d822', 'id': 94085364, 'location_subtype': '', 'month': '2021-07'}, {'category': 'possession-of-weapons', 'location_type': 'Force', 'location': {'latitude': '51.495030', 'street': {'id': 953455, 'name': 'On or near Brook Drive'}, 'longitude': '-0.109604'}, 'context': '', 'outcome_status': {'category': 'Awaiting court outcome', 'date': '2021-07'}, 'persistent_id': 'ba0a232c2292dbc8d45a77b388ba90fb578b75ccb10da80c99a57579b51f6d7e', 'id': 94085584, 'location_subtype': '', 'month': '2021-07'}, {'category': 'possession-of-weapons', 'location_type': 'Force', 'location': {'latitude': '51.485625', 'street': {'id': 948030, 'name': 'On or near Fuchsia Street'}, 'longitude': '0.112168'}, 'context': '', 'outcome_status': {'category': 'Investigation complete; no suspect identified', 'date': '2021-07'}, 'persistent_id': '74dc3df40f9d5dec175998880f4c87563f7a8c1fab1c26630c9eb132ccd84ddf', 'id': 94068597, 'location_subtype': '', 'month': '2021-07'}, {'category': 'possession-of-weapons', 'location_type': 'Force', 'location': {'latitude': '51.602274', 'street': {'id': 980685, 'name': 'On or near Barnfield Road'}, 'longitude': '-0.266262'}, 'context': '', 'outcome_status': {'category': 'Offender given a caution', 'date': '2021-07'}, 'persistent_id': '2e54b751007e420591453cfd7e345904599b8c924934d0e2ae22837ec2e18bb2', 'id': 94052162, 'location_subtype': '', 'month': '2021-07'}, {'category': 'possession-of-weapons', 'location_type': 'Force', 'location': {'latitude': '51.458473', 'street': {'id': 942057, 'name': 'On or near Adelaide Avenue'}, 'longitude': '-0.027610'}, 'context': '', 'outcome_status': {'category': 'Awaiting court outcome', 'date': '2021-07'}, 'persistent_id': 'e447f751546ccc00a6993077304514d10ce7eb989da73518bc7c7e06aab7d171', 'id': 94002735, 'location_subtype': '', 'month': '2021-07'}, {'category': 'possession-of-weapons', 'location_type': 'Force', 'location': {'latitude': '51.489233', 'street': {'id': 949305, 'name': 'On or near Police Station'}, 'longitude': '-0.097528'}, 'context': '', 'outcome_status': {'category': 'Investigation complete; no suspect identified', 'date': '2021-07'}, 'persistent_id': '3649df53055f5b9c447b4abda9dd2bb92ac2e1eac04080e5783c2304af0f4070', 'id': 93993565, 'location_subtype': '', 'month': '2021-07'}, {'category': 'possession-of-weapons', 'location_type': 'Force', 'location': {'latitude': '51.581086', 'street': {'id': 976014, 'name': 'On or near Cranbrook Road'}, 'longitude': '0.073709'}, 'context': '', 'outcome_status': {'category': 'Awaiting court outcome', 'date': '2021-07'}, 'persistent_id': '0059a991c72042742c77a7cd4253da8ca1264ff183c9ac0f22ef76863793d56e', 'id': 94040782, 'location_subtype': '', 'month': '2021-07'}, {'category': 'possession-of-weapons', 'location_type': 'Force', 'location': {'latitude': '51.593524', 'street': {'id': 978028, 'name': 'On or near Moorefield Road'}, 'longitude': '-0.070824'}, 'context': '', 'outcome_status': {'category': 'Local resolution', 'date': '2021-07'}, 'persistent_id': '2dda93adbd658169fa456cbef01a73d22b3a456fa0fe17e974f196bf912b96d7', 'id': 94040776, 'location_subtype': '', 'month': '2021-07'}, {'category': 'possession-of-weapons', 'location_type': 'Force', 'location': {'latitude': '51.614464', 'street': {'id': 984135, 'name': 'On or near Regal Drive'}, 'longitude': '-0.144251'}, 'context': '', 'outcome_status': {'category': 'Awaiting court outcome', 'date': '2021-07'}, 'persistent_id': '99bfe2ca2ea71b2c9885770006a09dddeb37c018d37d644ac8ce693b5e3ca7e3', 'id': 94057312, 'location_subtype': '', 'month': '2021-07'}, {'category': 'possession-of-weapons', 'location_type': 'Force', 'location': {'latitude': '51.567620', 'street': {'id': 972661, 'name': 'On or near Old Church Lane'}, 'longitude': '-0.260308'}, 'context': '', 'outcome_status': {'category': 'Investigation complete; no suspect identified', 'date': '2021-07'}, 'persistent_id': '788e73e168e70ce470c8168eb47e8a76fb58fca6cb369be7305e2a0f3b55702f', 'id': 94017637, 'location_subtype': '', 'month': '2021-07'}, {'category': 'possession-of-weapons', 'location_type': 'Force', 'location': {'latitude': '51.458795', 'street': {'id': 941886, 'name': 'On or near Clipper Way'}, 'longitude': '-0.011531'}, 'context': '', 'outcome_status': {'category': 'Awaiting court outcome', 'date': '2021-07'}, 'persistent_id': '2532b7e91f78f150b3387b1fd0047e631c7451f2f60594b8ecc3f06f431f1e07', 'id': 94088040, 'location_subtype': '', 'month': '2021-07'}, {'category': 'possession-of-weapons', 'location_type': 'Force', 'location': {'latitude': '51.614372', 'street': {'id': 983530, 'name': 'On or near Cavendish Close'}, 'longitude': '-0.053618'}, 'context': '', 'outcome_status': {'category': 'Awaiting court outcome', 'date': '2021-07'}, 'persistent_id': 'c4172e61de9d6a39aeeb51159fe05942c5cbc15be789fa74d54648ed157ac3d6', 'id': 94088198, 'location_subtype': '', 'month': '2021-07'}, {'category': 'possession-of-weapons', 'location_type': 'Force', 'location': {'latitude': '51.489503', 'street': {'id': 951175, 'name': 'On or near High Street'}, 'longitude': '-0.435140'}, 'context': '', 'outcome_status': {'category': 'Offender given a caution', 'date': '2021-07'}, 'persistent_id': '4362a943a1322f1fe9d4d1f109d5813c7bb3f11d81a6c44cb9c7e3e5c43f8ca1', 'id': 93979166, 'location_subtype': '', 'month': '2021-07'}, {'category': 'possession-of-weapons', 'location_type': 'Force', 'location': {'latitude': '51.563858', 'street': {'id': 971596, 'name': 'On or near Knightland Road'}, 'longitude': '-0.058315'}, 'context': '', 'outcome_status': {'category': 'Awaiting court outcome', 'date': '2021-07'}, 'persistent_id': 'fc9826b7b849c7f02324227a0734143d507f0682dc51a340932988d04e2f4393', 'id': 94086085, 'location_subtype': '', 'month': '2021-07'}, {'category': 'possession-of-weapons', 'location_type': 'Force', 'location': {'latitude': '51.433033', 'street': {'id': 936552, 'name': 'On or near Witherston Way'}, 'longitude': '0.058134'}, 'context': '', 'outcome_status': {'category': 'Investigation complete; no suspect identified', 'date': '2021-07'}, 'persistent_id': 'a7f01261fb24487c12d3744dd33ead820ca1e1aefeefe192de3ac93d95fe1598', 'id': 94077523, 'location_subtype': '', 'month': '2021-07'}, {'category': 'possession-of-weapons', 'location_type': 'Force', 'location': {'latitude': '51.446952', 'street': {'id': 938671, 'name': 'On or near Parking Area'}, 'longitude': '-0.411152'}, 'context': '', 'outcome_status': {'category': 'Awaiting court outcome', 'date': '2021-07'}, 'persistent_id': 'e3eb3a276872ef814491382187beda627f490bd3334be7494ac78b4bac188de4', 'id': 93983731, 'location_subtype': '', 'month': '2021-07'}, {'category': 'possession-of-weapons', 'location_type': 'Force', 'location': {'latitude': '51.435560', 'street': {'id': 923993, 'name': 'On or near Park Road'}, 'longitude': '-0.392067'}, 'context': '', 'outcome_status': {'category': 'Under investigation', 'date': '2021-07'}, 'persistent_id': '33958f1bcc19763330c896e69915f1a554dd3cfa735ebab9fe53e301d13faa5d', 'id': 94075800, 'location_subtype': '', 'month': '2021-07'}, {'category': 'possession-of-weapons', 'location_type': 'Force', 'location': {'latitude': '51.454372', 'street': {'id': 942597, 'name': 'On or near Josephine Avenue'}, 'longitude': '-0.116725'}, 'context': '', 'outcome_status': {'category': 'Awaiting court outcome', 'date': '2021-07'}, 'persistent_id': '667956a98fd5259e71b1f450f4f0d4042dfb9012886799b12ec0c4b03cab1343', 'id': 94077497, 'location_subtype': '', 'month': '2021-07'}, {'category': 'possession-of-weapons', 'location_type': 'Force', 'location': {'latitude': '51.366564', 'street': {'id': 927432, 'name': 'On or near Fir Tree Gardens'}, 'longitude': '-0.029033'}, 'context': '', 'outcome_status': {'category': 'Under investigation', 'date': '2021-07'}, 'persistent_id': '21226f1040bb8e98fe0d9ce15c5a5e5d0e94ee9a44ad76ca623ea77cc770945b', 'id': 94077762, 'location_subtype': '', 'month': '2021-07'}, {'category': 'possession-of-weapons', 'location_type': 'Force', 'location': {'latitude': '51.540504', 'street': {'id': 963102, 'name': 'On or near Clare Gardens'}, 'longitude': '0.103907'}, 'context': '', 'outcome_status': {'category': 'Awaiting court outcome', 'date': '2021-07'}, 'persistent_id': '8d110687df32467b72b3b418bd93c61161089b454b3cedb1f496d877779b5e3c', 'id': 94077839, 'location_subtype': '', 'month': '2021-07'}, {'category': 'possession-of-weapons', 'location_type': 'Force', 'location': {'latitude': '51.436013', 'street': {'id': 937389, 'name': 'On or near Mountearl Gardens'}, 'longitude': '-0.121983'}, 'context': '', 'outcome_status': {'category': 'Under investigation', 'date': '2021-07'}, 'persistent_id': '2eb7d2419b8aa3be4387c3b8e0df8c7394d986eaa3e0228a17de533d4f6af095', 'id': 94078248, 'location_subtype': '', 'month': '2021-07'}, {'category': 'possession-of-weapons', 'location_type': 'Force', 'location': {'latitude': '51.416474', 'street': {'id': 935305, 'name': 'On or near Guildersfield Road'}, 'longitude': '-0.128839'}, 'context': '', 'outcome_status': {'category': 'Under investigation', 'date': '2021-07'}, 'persistent_id': '9d8d2e677183a3e2b89216418f74edc10264faa4c32f8f4e818cef77692045e9', 'id': 94079155, 'location_subtype': '', 'month': '2021-07'}, {'category': 'possession-of-weapons', 'location_type': 'Force', 'location': {'latitude': '51.473631', 'street': {'id': 946061, 'name': 'On or near Grove Lane'}, 'longitude': '-0.090401'}, 'context': '', 'outcome_status': {'category': 'Under investigation', 'date': '2021-07'}, 'persistent_id': 'f1a027d32293e70136f3b260cedda0d042d5105697ef555e1a1a54221c0b3bce', 'id': 94079477, 'location_subtype': '', 'month': '2021-07'}, {'category': 'possession-of-weapons', 'location_type': 'Force', 'location': {'latitude': '51.645815', 'street': {'id': 986100, 'name': 'On or near Roman Way'}, 'longitude': '-0.064847'}, 'context': '', 'outcome_status': {'category': 'Under investigation', 'date': '2021-07'}, 'persistent_id': '3f06e0b2ea216a425cd16cb0c49a62186e12b7dfc42b8ae64c2b46fc49fd79dd', 'id': 94080247, 'location_subtype': '', 'month': '2021-07'}, {'category': 'possession-of-weapons', 'location_type': 'Force', 'location': {'latitude': '51.493476', 'street': {'id': 954551, 'name': 'On or near Goosander Way'}, 'longitude': '0.082494'}, 'context': '', 'outcome_status': {'category': 'Under investigation', 'date': '2021-07'}, 'persistent_id': 'ec6a390d07c4984447b0366b34ba06877c149c14472404ae4db999667d2e0a9c', 'id': 94080505, 'location_subtype': '', 'month': '2021-07'}, {'category': 'possession-of-weapons', 'location_type': 'Force', 'location': {'latitude': '51.498991', 'street': {'id': 951535, 'name': 'On or near Newhaven Close'}, 'longitude': '-0.419197'}, 'context': '', 'outcome_status': {'category': 'Awaiting court outcome', 'date': '2021-08'}, 'persistent_id': '4b5f57f3e0a8cdf3cb97d3f516ea60c4f7d32ccbe1e144ae10266d512f4578b0', 'id': 94080772, 'location_subtype': '', 'month': '2021-07'}, {'category': 'possession-of-weapons', 'location_type': 'Force', 'location': {'latitude': '51.509824', 'street': {'id': 957245, 'name': 'On or near Bayswater Road'}, 'longitude': '-0.192402'}, 'context': '', 'outcome_status': {'category': 'Under investigation', 'date': '2021-07'}, 'persistent_id': '05b17ef0430f3e7b2b4a88ee92d93fbfd21b3a23aa15f7c2a9b37be1c2fb796b', 'id': 94080798, 'location_subtype': '', 'month': '2021-07'}, {'category': 'possession-of-weapons', 'location_type': 'Force', 'location': {'latitude': '51.434726', 'street': {'id': 936939, 'name': 'On or near Perry Hill'}, 'longitude': '-0.035237'}, 'context': '', 'outcome_status': {'category': 'Awaiting court outcome', 'date': '2021-08'}, 'persistent_id': '062a1dc572614b66a5aab77017ee1ce384d6e32b3a7acd7b2b828ea1790a1402', 'id': 94045753, 'location_subtype': '', 'month': '2021-07'}, {'category': 'possession-of-weapons', 'location_type': 'Force', 'location': {'latitude': '51.508354', 'street': {'id': 957862, 'name': 'On or near Supermarket'}, 'longitude': '-0.281213'}, 'context': '', 'outcome_status': {'category': 'Investigation complete; no suspect identified', 'date': '2021-08'}, 'persistent_id': 'b56a74539ab7a11ebf4051e9d760a96cd616782a9c1f05c5072626b1b0b6fa93', 'id': 94045781, 'location_subtype': '', 'month': '2021-07'}, {'category': 'possession-of-weapons', 'location_type': 'Force', 'location': {'latitude': '51.531000', 'street': {'id': 963993, 'name': 'On or near Saxon Road'}, 'longitude': '-0.032493'}, 'context': '', 'outcome_status': {'category': 'Awaiting court outcome', 'date': '2021-07'}, 'persistent_id': '5405a4aecb61e0d9a8684761aab8261879ab2cc90d6ce059cf6d78cf97be8157', 'id': 94045911, 'location_subtype': '', 'month': '2021-07'}, {'category': 'possession-of-weapons', 'location_type': 'Force', 'location': {'latitude': '51.520589', 'street': {'id': 958445, 'name': 'On or near Swift Close'}, 'longitude': '-0.417095'}, 'context': '', 'outcome_status': {'category': 'Awaiting court outcome', 'date': '2021-07'}, 'persistent_id': 'b72f146e7b61804e97fb4e3f34e8842589f4806ad6651aaf14881d33b56d5fde', 'id': 94045998, 'location_subtype': '', 'month': '2021-07'}, {'category': 'possession-of-weapons', 'location_type': 'Force', 'location': {'latitude': '51.523494', 'street': {'id': 959831, 'name': 'On or near Treverton Street'}, 'longitude': '-0.214219'}, 'context': '', 'outcome_status': {'category': 'Awaiting court outcome', 'date': '2021-07'}, 'persistent_id': 'b08fd2c1e773f66d16c5eb58010d1f16a633cae2094823415695baba5454c404', 'id': 94047032, 'location_subtype': '', 'month': '2021-07'}, {'category': 'possession-of-weapons', 'location_type': 'Force', 'location': {'latitude': '51.512231', 'street': {'id': 955982, 'name': 'On or near Hooper Street'}, 'longitude': '-0.068092'}, 'context': '', 'outcome_status': {'category': 'Awaiting court outcome', 'date': '2021-08'}, 'persistent_id': '0854748a1e5ce59cedc016b0439d85feb7cb033ae33c028608cc3982426d5835', 'id': 94047048, 'location_subtype': '', 'month': '2021-07'}, {'category': 'possession-of-weapons', 'location_type': 'Force', 'location': {'latitude': '51.512948', 'street': {'id': 955779, 'name': 'On or near Burwell Close'}, 'longitude': '-0.058132'}, 'context': '', 'outcome_status': {'category': 'Awaiting court outcome', 'date': '2021-08'}, 'persistent_id': '45a2d8b734caf96e80e220e488765d3fcb7524f42de6bb9a2bb34c23cdca4b04', 'id': 94047088, 'location_subtype': '', 'month': '2021-07'}, {'category': 'possession-of-weapons', 'location_type': 'Force', 'location': {'latitude': '51.496985', 'street': {'id': 951718, 'name': 'On or near Harewood Terrace'}, 'longitude': '-0.374376'}, 'context': '', 'outcome_status': {'category': 'Awaiting court outcome', 'date': '2021-07'}, 'persistent_id': 'ae329f95f22d05ae0002221ffbc6c288dfad1b82e7a336dd9f5f45221b1ee65d', 'id': 94048856, 'location_subtype': '', 'month': '2021-07'}, {'category': 'possession-of-weapons', 'location_type': 'Force', 'location': {'latitude': '51.494459', 'street': {'id': 954692, 'name': 'On or near Lensbury Way'}, 'longitude': '0.124448'}, 'context': '', 'outcome_status': {'category': 'Investigation complete; no suspect identified', 'date': '2021-07'}, 'persistent_id': 'a277b472b817e8fe23ccb2be02cf68f5dbedbf415219b88f7914bcccd62f2735', 'id': 94053061, 'location_subtype': '', 'month': '2021-07'}, {'category': 'possession-of-weapons', 'location_type': 'Force', 'location': {'latitude': '51.607525', 'street': {'id': 980593, 'name': 'On or near Chandos Crescent'}, 'longitude': '-0.282756'}, 'context': '', 'outcome_status': {'category': 'Under investigation', 'date': '2021-07'}, 'persistent_id': 'e986a0e51705613f4ab9bbf1ca1a1ff5193cb33a8039be6af8929f2cc053aaf5', 'id': 94053233, 'location_subtype': '', 'month': '2021-07'}, {'category': 'possession-of-weapons', 'location_type': 'Force', 'location': {'latitude': '51.518244', 'street': {'id': 958636, 'name': 'On or near Cherry Tree Avenue'}, 'longitude': '-0.463168'}, 'context': '', 'outcome_status': {'category': 'Awaiting court outcome', 'date': '2021-07'}, 'persistent_id': '0ca337729f0b3985364be09a9766b154476ad83738f23512512b892a4d508365', 'id': 94054308, 'location_subtype': '', 'month': '2021-07'}, {'category': 'possession-of-weapons', 'location_type': 'Force', 'location': {'latitude': '51.389120', 'street': {'id': 930686, 'name': 'On or near Hospital'}, 'longitude': '-0.108784'}, 'context': '', 'outcome_status': {'category': 'Under investigation', 'date': '2021-07'}, 'persistent_id': '690e904fb4122f3b8f4436365bba84bfbdf7e2d453f58f59160d6c2846630daa', 'id': 94054336, 'location_subtype': '', 'month': '2021-07'}, {'category': 'possession-of-weapons', 'location_type': 'Force', 'location': {'latitude': '51.592466', 'street': {'id': 977949, 'name': 'On or near Steele Road'}, 'longitude': '-0.074348'}, 'context': '', 'outcome_status': {'category': 'Under investigation', 'date': '2021-07'}, 'persistent_id': 'e13f9fef2e22dfff4b77d47be992fc19c3c4a4f9bab04d6442d9eaf5786bdc87', 'id': 94054554, 'location_subtype': '', 'month': '2021-07'}, {'category': 'possession-of-weapons', 'location_type': 'Force', 'location': {'latitude': '51.469138', 'street': {'id': 945491, 'name': 'On or near Coppock Close'}, 'longitude': '-0.171837'}, 'context': '', 'outcome_status': {'category': 'Under investigation', 'date': '2021-07'}, 'persistent_id': '45a0e2c7e62ebec854189b672db9cbfa2971e4c6b4c83cb8810cc5fbed8f2120', 'id': 94056631, 'location_subtype': '', 'month': '2021-07'}, {'category': 'possession-of-weapons', 'location_type': 'Force', 'location': {'latitude': '51.353407', 'street': {'id': 925405, 'name': 'On or near Petrol Station'}, 'longitude': '-0.038072'}, 'context': '', 'outcome_status': {'category': 'Under investigation', 'date': '2021-07'}, 'persistent_id': 'ca4547b1b5273bd40c0fc36eaff655c3af56c27774b4fda8ff7b71489f96812a', 'id': 94057841, 'location_subtype': '', 'month': '2021-07'}, {'category': 'possession-of-weapons', 'location_type': 'Force', 'location': {'latitude': '51.583735', 'street': {'id': 977883, 'name': 'On or near Shopping Area'}, 'longitude': '-0.022435'}, 'context': '', 'outcome_status': {'category': 'Awaiting court outcome', 'date': '2021-07'}, 'persistent_id': '832f0e5aa76288c8650fdd8eb64c0cc45382412f2e011384c8b7042d1d6e8bee', 'id': 94059061, 'location_subtype': '', 'month': '2021-07'}, {'category': 'possession-of-weapons', 'location_type': 'Force', 'location': {'latitude': '51.539634', 'street': {'id': 965728, 'name': \"On or near St Alban's Road\"}, 'longitude': '-0.252954'}, 'context': '', 'outcome_status': {'category': 'Awaiting court outcome', 'date': '2021-07'}, 'persistent_id': '2d87f6c8df2f7d31428e2b925cc593adccb5e2b1d033a236d8f8b02f76774c35', 'id': 94059267, 'location_subtype': '', 'month': '2021-07'}, {'category': 'possession-of-weapons', 'location_type': 'Force', 'location': {'latitude': '51.484993', 'street': {'id': 950952, 'name': 'On or near Half Acre'}, 'longitude': '-0.307254'}, 'context': '', 'outcome_status': {'category': 'Under investigation', 'date': '2021-07'}, 'persistent_id': '3bd97c3c78c11cc97aa8ce510229737ce77ce606c1e430a509a8edc361a4bf35', 'id': 94060847, 'location_subtype': '', 'month': '2021-07'}, {'category': 'possession-of-weapons', 'location_type': 'Force', 'location': {'latitude': '51.471708', 'street': {'id': 945550, 'name': 'On or near Culvert Road'}, 'longitude': '-0.159064'}, 'context': '', 'outcome_status': {'category': 'Local resolution', 'date': '2021-08'}, 'persistent_id': '918e4cc7436d867dae91a378332251cc40c1df5c1763238eabdeb2adb1b09d53', 'id': 94060860, 'location_subtype': '', 'month': '2021-07'}, {'category': 'possession-of-weapons', 'location_type': 'Force', 'location': {'latitude': '51.580649', 'street': {'id': 975527, 'name': 'On or near Eastern Road'}, 'longitude': '-0.003257'}, 'context': '', 'outcome_status': {'category': 'Investigation complete; no suspect identified', 'date': '2021-08'}, 'persistent_id': 'f98492c9b04ef2d19d595883bf3a3c9f56a4b0181b0120ce555f21356c3eb4a3', 'id': 94061108, 'location_subtype': '', 'month': '2021-07'}, {'category': 'possession-of-weapons', 'location_type': 'Force', 'location': {'latitude': '51.579702', 'street': {'id': 977053, 'name': 'On or near Market Link'}, 'longitude': '0.180786'}, 'context': '', 'outcome_status': {'category': 'Under investigation', 'date': '2021-07'}, 'persistent_id': '08702e592f8d30b285a6589dd60aa185af833c6e848077a8402b129d66db9183', 'id': 94062637, 'location_subtype': '', 'month': '2021-07'}, {'category': 'possession-of-weapons', 'location_type': 'Force', 'location': {'latitude': '51.528923', 'street': {'id': 959368, 'name': 'On or near Hillside Road'}, 'longitude': '-0.370932'}, 'context': '', 'outcome_status': {'category': 'Awaiting court outcome', 'date': '2021-08'}, 'persistent_id': '7292b062c5fd4e834ff11ddec3c14e0fd591e45495103470c33c46bf176d1b31', 'id': 94064311, 'location_subtype': '', 'month': '2021-07'}, {'category': 'possession-of-weapons', 'location_type': 'Force', 'location': {'latitude': '51.441748', 'street': {'id': 940629, 'name': 'On or near Sports/recreation Area'}, 'longitude': '0.078974'}, 'context': '', 'outcome_status': {'category': 'Offender given a caution', 'date': '2021-07'}, 'persistent_id': 'c5028f11ad76b7f8b498e425bf0f47bc40d42c1e8ccdc1c2a6c35c5bd7d12ffa', 'id': 94064297, 'location_subtype': '', 'month': '2021-07'}, {'category': 'possession-of-weapons', 'location_type': 'Force', 'location': {'latitude': '51.510995', 'street': {'id': 955217, 'name': 'On or near Coolfin Road'}, 'longitude': '0.023888'}, 'context': '', 'outcome_status': {'category': 'Awaiting court outcome', 'date': '2021-08'}, 'persistent_id': '06a2d171c0f40d91d189b5522bc32c2d0b96ba7e937908c52df88b18a5d44a5b', 'id': 94066362, 'location_subtype': '', 'month': '2021-07'}, {'category': 'possession-of-weapons', 'location_type': 'Force', 'location': {'latitude': '51.474885', 'street': {'id': 945237, 'name': 'On or near Ackmar Road'}, 'longitude': '-0.199788'}, 'context': '', 'outcome_status': {'category': 'Awaiting court outcome', 'date': '2021-07'}, 'persistent_id': 'd471383aa8374dc540a0c2d553098a72e0adfe81c1a36d4a470f1e651da42ea4', 'id': 94051110, 'location_subtype': '', 'month': '2021-07'}, {'category': 'possession-of-weapons', 'location_type': 'Force', 'location': {'latitude': '51.508446', 'street': {'id': 956194, 'name': 'On or near Buckingham Street'}, 'longitude': '-0.123531'}, 'context': '', 'outcome_status': {'category': 'Awaiting court outcome', 'date': '2021-07'}, 'persistent_id': '324b05b75acc43361440759bf136947c6186c9a38661f9d49fbdfc1287a25a21', 'id': 94051237, 'location_subtype': '', 'month': '2021-07'}, {'category': 'possession-of-weapons', 'location_type': 'Force', 'location': {'latitude': '51.593746', 'street': {'id': 979216, 'name': 'On or near Whitby Gardens'}, 'longitude': '-0.276404'}, 'context': '', 'outcome_status': {'category': 'Under investigation', 'date': '2021-07'}, 'persistent_id': 'bdaf7a7c64851a00170bbf50e221e3da8b3c291b5c82a76ae9934037ce27bf57', 'id': 94086125, 'location_subtype': '', 'month': '2021-07'}, {'category': 'possession-of-weapons', 'location_type': 'Force', 'location': {'latitude': '51.492223', 'street': {'id': 950400, 'name': 'On or near Supermarket'}, 'longitude': '-0.224574'}, 'context': '', 'outcome_status': {'category': 'Awaiting court outcome', 'date': '2021-07'}, 'persistent_id': 'a210fa275ccc9810987b9508cfbda623c3d0ae59acac8bac5e01b19b875005ea', 'id': 94086342, 'location_subtype': '', 'month': '2021-07'}, {'category': 'possession-of-weapons', 'location_type': 'Force', 'location': {'latitude': '51.360798', 'street': {'id': 927294, 'name': \"On or near St Peter's Street\"}, 'longitude': '-0.094164'}, 'context': '', 'outcome_status': {'category': 'Under investigation', 'date': '2021-07'}, 'persistent_id': 'de489a8cae522645243f8d58a2da561052d9939d42f43c40fc2dc09fce4253b3', 'id': 94086651, 'location_subtype': '', 'month': '2021-07'}, {'category': 'possession-of-weapons', 'location_type': 'Force', 'location': {'latitude': '51.544600', 'street': {'id': 969237, 'name': 'On or near Hamfrith Road'}, 'longitude': '0.013971'}, 'context': '', 'outcome_status': {'category': 'Under investigation', 'date': '2021-07'}, 'persistent_id': 'fdc76a4ead613db5bebe3503f2e77cd2a01884a4f01ce4626bb3006928c1f26c', 'id': 94086716, 'location_subtype': '', 'month': '2021-07'}, {'category': 'possession-of-weapons', 'location_type': 'Force', 'location': {'latitude': '51.446606', 'street': {'id': 938699, 'name': 'On or near Kendal Close'}, 'longitude': '-0.424158'}, 'context': '', 'outcome_status': {'category': 'Under investigation', 'date': '2021-07'}, 'persistent_id': '2e05942c84877fed4ed47b174e88c1f5574c6d40384fb449ac65695b59ad577a', 'id': 94086941, 'location_subtype': '', 'month': '2021-07'}, {'category': 'possession-of-weapons', 'location_type': 'Force', 'location': {'latitude': '51.398396', 'street': {'id': 930630, 'name': 'On or near Stuart Road'}, 'longitude': '-0.097950'}, 'context': '', 'outcome_status': {'category': 'Investigation complete; no suspect identified', 'date': '2021-07'}, 'persistent_id': 'e46512ba9be248a8bfa6c374e375cd3397b01eeb7207a1707d6b9fdb97408ea9', 'id': 94086939, 'location_subtype': '', 'month': '2021-07'}, {'category': 'possession-of-weapons', 'location_type': 'Force', 'location': {'latitude': '51.592585', 'street': {'id': 977257, 'name': 'On or near Parking Area'}, 'longitude': '0.085032'}, 'context': '', 'outcome_status': {'category': 'Under investigation', 'date': '2021-07'}, 'persistent_id': '280c5a2ea7347ff547e6398095e9f3a99c454adc75f17f859d8eb10a6f0780d5', 'id': 94087406, 'location_subtype': '', 'month': '2021-07'}, {'category': 'possession-of-weapons', 'location_type': 'Force', 'location': {'latitude': '51.493947', 'street': {'id': 950518, 'name': 'On or near Merton Avenue'}, 'longitude': '-0.248953'}, 'context': '', 'outcome_status': {'category': 'Awaiting court outcome', 'date': '2021-07'}, 'persistent_id': '8e42e5a41faa3c7e25214bf43b77c62ca3716f3538576b4dccf2a2fde3c12626', 'id': 94087749, 'location_subtype': '', 'month': '2021-07'}, {'category': 'possession-of-weapons', 'location_type': 'Force', 'location': {'latitude': '51.525051', 'street': {'id': 961942, 'name': 'On or near Pedestrian Subway'}, 'longitude': '-0.011385'}, 'context': '', 'outcome_status': {'category': 'Under investigation', 'date': '2021-07'}, 'persistent_id': '996f8153d1d5137e914f782376038a6f82a2f0f39b2eda83191d875c12ce5b7c', 'id': 94087923, 'location_subtype': '', 'month': '2021-07'}, {'category': 'possession-of-weapons', 'location_type': 'Force', 'location': {'latitude': '51.543052', 'street': {'id': 969232, 'name': 'On or near Salisbury Road'}, 'longitude': '0.020320'}, 'context': '', 'outcome_status': {'category': 'Awaiting court outcome', 'date': '2021-07'}, 'persistent_id': 'b2c6a3863fff34130ff85e0d3298152ee7c2738772c73287db2bcd1ddb32f5a3', 'id': 94087929, 'location_subtype': '', 'month': '2021-07'}, {'category': 'possession-of-weapons', 'location_type': 'Force', 'location': {'latitude': '51.538526', 'street': {'id': 964843, 'name': \"On or near St Martin's Close\"}, 'longitude': '-0.138791'}, 'context': '', 'outcome_status': {'category': 'Awaiting court outcome', 'date': '2021-08'}, 'persistent_id': 'e59bf5ff2f1d76a92df2f470525a9b48863c55a4194521eb4ad9bb297f0f0131', 'id': 94087958, 'location_subtype': '', 'month': '2021-07'}, {'category': 'possession-of-weapons', 'location_type': 'Force', 'location': {'latitude': '51.548190', 'street': {'id': 967882, 'name': 'On or near Fountain Mews'}, 'longitude': '-0.160233'}, 'context': '', 'outcome_status': {'category': 'Under investigation', 'date': '2021-07'}, 'persistent_id': '41be7593e63bd9282f73bb1db2224ba93bf82be475aeed0ea05394ec059cfc5f', 'id': 94087986, 'location_subtype': '', 'month': '2021-07'}, {'category': 'possession-of-weapons', 'location_type': 'Force', 'location': {'latitude': '51.479799', 'street': {'id': 948905, 'name': 'On or near Berthon Street'}, 'longitude': '-0.021462'}, 'context': '', 'outcome_status': {'category': 'Awaiting court outcome', 'date': '2021-07'}, 'persistent_id': '74d84fc8b64c3741bcffb72977233a5da086aa85717007598e4c8726b0d6230f', 'id': 94087985, 'location_subtype': '', 'month': '2021-07'}, {'category': 'possession-of-weapons', 'location_type': 'Force', 'location': {'latitude': '51.496188', 'street': {'id': 953352, 'name': 'On or near Ashley Place'}, 'longitude': '-0.140948'}, 'context': '', 'outcome_status': {'category': 'Awaiting court outcome', 'date': '2021-08'}, 'persistent_id': 'cbed890886ac58e93a460e3b8d1ca6cb001ce4b182b15ad2e1ca35e36c7c1cc1', 'id': 94088015, 'location_subtype': '', 'month': '2021-07'}, {'category': 'possession-of-weapons', 'location_type': 'Force', 'location': {'latitude': '51.534957', 'street': {'id': 963366, 'name': 'On or near Bedford Road'}, 'longitude': '0.061229'}, 'context': '', 'outcome_status': {'category': 'Awaiting court outcome', 'date': '2021-07'}, 'persistent_id': 'addff0a46f7051886eb591d14e841de361795b1d4fbeec72c8b9ae69ab096d28', 'id': 94088020, 'location_subtype': '', 'month': '2021-07'}, {'category': 'possession-of-weapons', 'location_type': 'Force', 'location': {'latitude': '51.510362', 'street': {'id': 956221, 'name': 'On or near Theatre/concert Hall'}, 'longitude': '-0.122415'}, 'context': '', 'outcome_status': {'category': 'Under investigation', 'date': '2021-07'}, 'persistent_id': '8286bc3080389b8fe4d1838e74466a5ab5725230ea5057f1d3456d10367c5fc1', 'id': 94088043, 'location_subtype': '', 'month': '2021-07'}, {'category': 'possession-of-weapons', 'location_type': 'Force', 'location': {'latitude': '51.474974', 'street': {'id': 944480, 'name': 'On or near Denbigh Road'}, 'longitude': '-0.360961'}, 'context': '', 'outcome_status': {'category': 'Awaiting court outcome', 'date': '2021-08'}, 'persistent_id': '757ab0630c726cd166a6ebacf3d3a670b6738cebea1407088d12a356ac175d16', 'id': 94088058, 'location_subtype': '', 'month': '2021-07'}, {'category': 'possession-of-weapons', 'location_type': 'Force', 'location': {'latitude': '51.557656', 'street': {'id': 967992, 'name': 'On or near Tufnell Park Road'}, 'longitude': '-0.129340'}, 'context': '', 'outcome_status': {'category': 'Under investigation', 'date': '2021-07'}, 'persistent_id': '7c59c359a6ab08495781e5bb61d060816120c38eee6d535eb8103ab7d489c055', 'id': 94088124, 'location_subtype': '', 'month': '2021-07'}, {'category': 'possession-of-weapons', 'location_type': 'Force', 'location': {'latitude': '51.474341', 'street': {'id': 946619, 'name': 'On or near Deptford Bridge'}, 'longitude': '-0.022029'}, 'context': '', 'outcome_status': {'category': 'Awaiting court outcome', 'date': '2021-07'}, 'persistent_id': '00a14efbbec07afb65a59449296a3e0e523274923039ebdbae852e3d3aef9073', 'id': 94088126, 'location_subtype': '', 'month': '2021-07'}, {'category': 'possession-of-weapons', 'location_type': 'Force', 'location': {'latitude': '51.468601', 'street': {'id': 944124, 'name': 'On or near Lichfield Road'}, 'longitude': '-0.401517'}, 'context': '', 'outcome_status': {'category': 'Awaiting court outcome', 'date': '2021-07'}, 'persistent_id': '053d6ebdb0152e09830cb6713ee392e48099c086ebccf55bba88f42fe5e072c4', 'id': 94088147, 'location_subtype': '', 'month': '2021-07'}, {'category': 'possession-of-weapons', 'location_type': 'Force', 'location': {'latitude': '51.607729', 'street': {'id': 980161, 'name': 'On or near Boniface Gardens'}, 'longitude': '-0.358582'}, 'context': '', 'outcome_status': {'category': 'Offender given a caution', 'date': '2021-07'}, 'persistent_id': '194e9d673f921afaf5b04f0c945409ae17286f0256c030186caaef16765f4d0e', 'id': 94088192, 'location_subtype': '', 'month': '2021-07'}, {'category': 'possession-of-weapons', 'location_type': 'Force', 'location': {'latitude': '51.513096', 'street': {'id': 956537, 'name': 'On or near Bourchier Street'}, 'longitude': '-0.132593'}, 'context': '', 'outcome_status': {'category': 'Investigation complete; no suspect identified', 'date': '2021-08'}, 'persistent_id': '9382347c4308d18df50450798f08bf3e68b6d908be2ac1accc542612a3fbb375', 'id': 94088200, 'location_subtype': '', 'month': '2021-07'}, {'category': 'possession-of-weapons', 'location_type': 'Force', 'location': {'latitude': '51.497989', 'street': {'id': 954109, 'name': 'On or near Perryn Road'}, 'longitude': '-0.062773'}, 'context': '', 'outcome_status': {'category': 'Awaiting court outcome', 'date': '2021-07'}, 'persistent_id': '60b92e85f80e77cc43b8c3b87505d315a894bfe184b0da2bcffd39bf7d471c6c', 'id': 94088255, 'location_subtype': '', 'month': '2021-07'}, {'category': 'possession-of-weapons', 'location_type': 'Force', 'location': {'latitude': '51.551330', 'street': {'id': 968551, 'name': 'On or near Downs Park Road'}, 'longitude': '-0.068037'}, 'context': '', 'outcome_status': {'category': 'Awaiting court outcome', 'date': '2021-07'}, 'persistent_id': '51a8eaad4a717f4027d772e6612653cf5340d150c8b1a1d93c5af5604995a642', 'id': 94088372, 'location_subtype': '', 'month': '2021-07'}, {'category': 'possession-of-weapons', 'location_type': 'Force', 'location': {'latitude': '51.658739', 'street': {'id': 987214, 'name': 'On or near Oldbury Road'}, 'longitude': '-0.057313'}, 'context': '', 'outcome_status': {'category': 'Under investigation', 'date': '2021-07'}, 'persistent_id': '21365839541f3535940f44629c441c92b196bc0ab0f24bb70595f11322683e97', 'id': 94088398, 'location_subtype': '', 'month': '2021-07'}, {'category': 'possession-of-weapons', 'location_type': 'Force', 'location': {'latitude': '51.471717', 'street': {'id': 944252, 'name': 'On or near Wallis Road'}, 'longitude': '-0.490059'}, 'context': '', 'outcome_status': {'category': 'Awaiting court outcome', 'date': '2021-07'}, 'persistent_id': '95ad8851f1301e0f4a33b4f3b21138b558748cbc700bafed6b2692c434117812', 'id': 94088013, 'location_subtype': '', 'month': '2021-07'}, {'category': 'possession-of-weapons', 'location_type': 'Force', 'location': {'latitude': '51.394505', 'street': {'id': 930140, 'name': 'On or near Arthur Road'}, 'longitude': '-0.236122'}, 'context': '', 'outcome_status': {'category': 'Awaiting court outcome', 'date': '2021-07'}, 'persistent_id': '2bdbcf464fafa07f3d4c1cf183ceb12f564198d97912fff43c14d2342c94ac65', 'id': 93997000, 'location_subtype': '', 'month': '2021-07'}, {'category': 'possession-of-weapons', 'location_type': 'Force', 'location': {'latitude': '51.568370', 'street': {'id': 976097, 'name': 'On or near Blythswood Road'}, 'longitude': '0.106550'}, 'context': '', 'outcome_status': {'category': 'Awaiting court outcome', 'date': '2021-07'}, 'persistent_id': 'a77dbe56a319cd46b91a08084cb912c54fe10b79febc394b89dc3e3e07e59139', 'id': 94088299, 'location_subtype': '', 'month': '2021-07'}, {'category': 'possession-of-weapons', 'location_type': 'Force', 'location': {'latitude': '51.453536', 'street': {'id': 941001, 'name': 'On or near Cray Close'}, 'longitude': '0.192127'}, 'context': '', 'outcome_status': {'category': 'Awaiting court outcome', 'date': '2021-07'}, 'persistent_id': '57bc896ca0a68918e32ec2544c62926b510c2d5006470fbeaefe3f28ed490844', 'id': 94085507, 'location_subtype': '', 'month': '2021-07'}, {'category': 'possession-of-weapons', 'location_type': 'Force', 'location': {'latitude': '51.496306', 'street': {'id': 952830, 'name': 'On or near Shaftesbury Mews'}, 'longitude': '-0.196294'}, 'context': '', 'outcome_status': {'category': 'Awaiting court outcome', 'date': '2021-07'}, 'persistent_id': '1cd8cb469e26a6289834d64819b54baf0f11778698dc7ff099134d973b280153', 'id': 93997735, 'location_subtype': '', 'month': '2021-07'}, {'category': 'possession-of-weapons', 'location_type': 'Force', 'location': {'latitude': '51.541870', 'street': {'id': 963812, 'name': 'On or near Meridian Square'}, 'longitude': '-0.002028'}, 'context': '', 'outcome_status': {'category': 'Awaiting court outcome', 'date': '2021-07'}, 'persistent_id': '04178a452069de44f4ecf0e2be41aaab41cf2baf9f2d35bf2dcbecc4c0ff7063', 'id': 93997912, 'location_subtype': '', 'month': '2021-07'}, {'category': 'possession-of-weapons', 'location_type': 'Force', 'location': {'latitude': '51.550625', 'street': {'id': 968786, 'name': 'On or near Hospital'}, 'longitude': '-0.046099'}, 'context': '', 'outcome_status': {'category': 'Awaiting court outcome', 'date': '2021-07'}, 'persistent_id': 'f6e0a4fd52fd878af278948277cc3818e27726f8a833bc425d2390410ac17717', 'id': 94069726, 'location_subtype': '', 'month': '2021-07'}, {'category': 'possession-of-weapons', 'location_type': 'Force', 'location': {'latitude': '51.432977', 'street': {'id': 936811, 'name': 'On or near Randlesdown Road'}, 'longitude': '-0.018422'}, 'context': '', 'outcome_status': {'category': 'Awaiting court outcome', 'date': '2021-07'}, 'persistent_id': '729b558ad6eaf02635aea4f3a31ec887bb2eb251647c86b38bdc6c9681b93f31', 'id': 94005545, 'location_subtype': '', 'month': '2021-07'}, {'category': 'possession-of-weapons', 'location_type': 'Force', 'location': {'latitude': '51.605505', 'street': {'id': 980254, 'name': 'On or near Supermarket'}, 'longitude': '-0.339817'}, 'context': '', 'outcome_status': {'category': 'Awaiting court outcome', 'date': '2021-07'}, 'persistent_id': '47047ed6999fda1230b841638acccf0bc9e6613698b84948fc337be2ae1a1de2', 'id': 94010500, 'location_subtype': '', 'month': '2021-07'}, {'category': 'possession-of-weapons', 'location_type': 'Force', 'location': {'latitude': '51.568538', 'street': {'id': 972616, 'name': 'On or near Queens Walk'}, 'longitude': '-0.265237'}, 'context': '', 'outcome_status': {'category': 'Awaiting court outcome', 'date': '2021-07'}, 'persistent_id': '19ea6616ec1106ae37eb3d1d93bc61686c2b20cce2d8b7ec3937ac31e0dd0c8d', 'id': 94020518, 'location_subtype': '', 'month': '2021-07'}, {'category': 'possession-of-weapons', 'location_type': 'Force', 'location': {'latitude': '51.559427', 'street': {'id': 970921, 'name': 'On or near Guildford Road'}, 'longitude': '0.097220'}, 'context': '', 'outcome_status': {'category': 'Awaiting court outcome', 'date': '2021-07'}, 'persistent_id': 'd32ae6efd58252230236686b075c788f4692c7c140ff0d8d669e4d46738f8126', 'id': 94021234, 'location_subtype': '', 'month': '2021-07'}, {'category': 'possession-of-weapons', 'location_type': 'Force', 'location': {'latitude': '51.522359', 'street': {'id': 962294, 'name': 'On or near Esk Road'}, 'longitude': '0.024521'}, 'context': '', 'outcome_status': {'category': 'Awaiting court outcome', 'date': '2021-07'}, 'persistent_id': '4b91e7f133dcbb7377d5698db156f833783c94a2ea11163b4a175fce652e067b', 'id': 94023396, 'location_subtype': '', 'month': '2021-07'}, {'category': 'possession-of-weapons', 'location_type': 'Force', 'location': {'latitude': '51.585613', 'street': {'id': 977615, 'name': 'On or near Church Hill'}, 'longitude': '-0.015988'}, 'context': '', 'outcome_status': {'category': 'Offender given a caution', 'date': '2021-07'}, 'persistent_id': '9f4804dbe5fd995c90b548071ecf73bc518b8e6bba8f29033fbae1661d70011a', 'id': 94029447, 'location_subtype': '', 'month': '2021-07'}, {'category': 'possession-of-weapons', 'location_type': 'Force', 'location': {'latitude': '51.551193', 'street': {'id': 969393, 'name': 'On or near Vernon Avenue'}, 'longitude': '0.055905'}, 'context': '', 'outcome_status': {'category': 'Investigation complete; no suspect identified', 'date': '2021-07'}, 'persistent_id': '18a6010f080dbcac7967560f8952dd6486bcc0c98444493d7f731dabdb090fae', 'id': 94053221, 'location_subtype': '', 'month': '2021-07'}, {'category': 'possession-of-weapons', 'location_type': 'Force', 'location': {'latitude': '51.383872', 'street': {'id': 928751, 'name': 'On or near Wellington Road'}, 'longitude': '-0.107347'}, 'context': '', 'outcome_status': {'category': 'Investigation complete; no suspect identified', 'date': '2021-07'}, 'persistent_id': '298a808c99cfbcc1ee6cd4cc57e1ad71dea6f064256fc74dead41efa903fdcce', 'id': 94037168, 'location_subtype': '', 'month': '2021-07'}, {'category': 'possession-of-weapons', 'location_type': 'Force', 'location': {'latitude': '51.500195', 'street': {'id': 953871, 'name': 'On or near Jamaica Road'}, 'longitude': '-0.073327'}, 'context': '', 'outcome_status': {'category': 'Offender given a caution', 'date': '2021-07'}, 'persistent_id': '5c71832b386826f54db6b19e487e310a35b10dafd75d8658b4d67d924f2b913f', 'id': 94038788, 'location_subtype': '', 'month': '2021-07'}, {'category': 'possession-of-weapons', 'location_type': 'Force', 'location': {'latitude': '51.523512', 'street': {'id': 960174, 'name': 'On or near Hatton Row'}, 'longitude': '-0.173899'}, 'context': '', 'outcome_status': {'category': 'Awaiting court outcome', 'date': '2021-07'}, 'persistent_id': '3b09c79a48a5f16079dfb9d2fb56ec36ef21f1c575920fdf6d0c399deb7d30ad', 'id': 94039618, 'location_subtype': '', 'month': '2021-07'}, {'category': 'possession-of-weapons', 'location_type': 'Force', 'location': {'latitude': '51.541870', 'street': {'id': 963812, 'name': 'On or near Meridian Square'}, 'longitude': '-0.002028'}, 'context': '', 'outcome_status': {'category': 'Awaiting court outcome', 'date': '2021-07'}, 'persistent_id': '363333e98607ba6d314c6eac74833daebd2862aba410f84e913f8a5376aab3af', 'id': 94039841, 'location_subtype': '', 'month': '2021-07'}, {'category': 'possession-of-weapons', 'location_type': 'Force', 'location': {'latitude': '51.546378', 'street': {'id': 965494, 'name': 'On or near Cornwall Gardens'}, 'longitude': '-0.230082'}, 'context': '', 'outcome_status': {'category': 'Investigation complete; no suspect identified', 'date': '2021-07'}, 'persistent_id': '2a993c08f20b2af86a401162cee54e08f61c8caa3c3085a2b4a98256af7ca64a', 'id': 94041268, 'location_subtype': '', 'month': '2021-07'}, {'category': 'possession-of-weapons', 'location_type': 'Force', 'location': {'latitude': '51.519231', 'street': {'id': 961760, 'name': 'On or near Maples Place'}, 'longitude': '-0.057418'}, 'context': '', 'outcome_status': {'category': 'Awaiting court outcome', 'date': '2021-07'}, 'persistent_id': '7f70dac13e77a0d20411a2d880a0cbc685ef44236ba7ba99f34d299d2300c48f', 'id': 94043138, 'location_subtype': '', 'month': '2021-07'}, {'category': 'possession-of-weapons', 'location_type': 'Force', 'location': {'latitude': '51.510823', 'street': {'id': 955787, 'name': 'On or near Angel Mews'}, 'longitude': '-0.057963'}, 'context': '', 'outcome_status': {'category': 'Awaiting court outcome', 'date': '2021-07'}, 'persistent_id': '06aaa18db231f9fc5bde7b3cb87b3b9f696fa10779561b56a53ce8da04ea9e91', 'id': 94043194, 'location_subtype': '', 'month': '2021-07'}, {'category': 'possession-of-weapons', 'location_type': 'Force', 'location': {'latitude': '51.543152', 'street': {'id': 969218, 'name': 'On or near Deanery Road'}, 'longitude': '0.007691'}, 'context': '', 'outcome_status': {'category': 'Local resolution', 'date': '2021-07'}, 'persistent_id': 'ade97bbe4175b48b0d40e9d05828bcd2c65c645ba2039ba752dcfcb0475bd319', 'id': 94047356, 'location_subtype': '', 'month': '2021-07'}, {'category': 'possession-of-weapons', 'location_type': 'Force', 'location': {'latitude': '51.533353', 'street': {'id': 963476, 'name': 'On or near Waghorn Road'}, 'longitude': '0.033084'}, 'context': '', 'outcome_status': {'category': 'Investigation complete; no suspect identified', 'date': '2021-07'}, 'persistent_id': 'b9f9b37c0fb17428932e778b4bd7d0db5729b246929b493046e6bcf158307a86', 'id': 94047546, 'location_subtype': '', 'month': '2021-07'}, {'category': 'possession-of-weapons', 'location_type': 'Force', 'location': {'latitude': '51.583639', 'street': {'id': 977882, 'name': 'On or near Bus/coach Station'}, 'longitude': '-0.020491'}, 'context': '', 'outcome_status': {'category': 'Awaiting court outcome', 'date': '2021-07'}, 'persistent_id': 'a9b357c1942719ec076fc012bfd80c35ae49275b0d9ea529c08072e7c7cd2eb5', 'id': 94050965, 'location_subtype': '', 'month': '2021-07'}, {'category': 'possession-of-weapons', 'location_type': 'Force', 'location': {'latitude': '51.548461', 'street': {'id': 968800, 'name': 'On or near Gould Terrace'}, 'longitude': '-0.055495'}, 'context': '', 'outcome_status': {'category': 'Awaiting court outcome', 'date': '2021-07'}, 'persistent_id': '02bfeb2a2f58ca5b0f5af51fad7290a116099eaddc5044b5ce7f7ea5d11c179f', 'id': 94088383, 'location_subtype': '', 'month': '2021-07'}, {'category': 'possession-of-weapons', 'location_type': 'Force', 'location': {'latitude': '51.626614', 'street': {'id': 984938, 'name': 'On or near Queens Avenue'}, 'longitude': '-0.167811'}, 'context': '', 'outcome_status': {'category': 'Awaiting court outcome', 'date': '2021-07'}, 'persistent_id': 'e9cd5f0cbc0d6443b4bf51de2b8d2a055f36f4bfae88783555f29d11c4e84829', 'id': 94068840, 'location_subtype': '', 'month': '2021-07'}, {'category': 'possession-of-weapons', 'location_type': 'Force', 'location': {'latitude': '51.528803', 'street': {'id': 961734, 'name': 'On or near Canrobert Street'}, 'longitude': '-0.060384'}, 'context': '', 'outcome_status': {'category': 'Awaiting court outcome', 'date': '2021-07'}, 'persistent_id': '4c987f07567a2ec14099016312c96b7466884fb4e1aa91de7182c9fd29b9d363', 'id': 94086563, 'location_subtype': '', 'month': '2021-07'}, {'category': 'possession-of-weapons', 'location_type': 'Force', 'location': {'latitude': '51.546292', 'street': {'id': 968717, 'name': 'On or near Flanders Way'}, 'longitude': '-0.045665'}, 'context': '', 'outcome_status': {'category': 'Awaiting court outcome', 'date': '2021-07'}, 'persistent_id': 'c3bdbe9f61f5467b2021bed0becb5e5a98663f026cd41f35acd2ff97d365a7c0', 'id': 94087255, 'location_subtype': '', 'month': '2021-07'}, {'category': 'possession-of-weapons', 'location_type': 'Force', 'location': {'latitude': '51.538543', 'street': {'id': 963864, 'name': 'On or near Bridge Terrace'}, 'longitude': '-0.000429'}, 'context': '', 'outcome_status': {'category': 'Offender given a caution', 'date': '2021-07'}, 'persistent_id': 'ad835344ee9917345532e188234c58dbcaac097489f6408d17df90c47bff4254', 'id': 94087804, 'location_subtype': '', 'month': '2021-07'}, {'category': 'possession-of-weapons', 'location_type': 'Force', 'location': {'latitude': '51.491785', 'street': {'id': 954162, 'name': 'On or near Rotherhithe New Road'}, 'longitude': '-0.044971'}, 'context': '', 'outcome_status': {'category': 'Investigation complete; no suspect identified', 'date': '2021-07'}, 'persistent_id': '32b775593af9169bb48167b747239868d25928719e37986953df7908b9df05c2', 'id': 94087906, 'location_subtype': '', 'month': '2021-07'}, {'category': 'possession-of-weapons', 'location_type': 'Force', 'location': {'latitude': '51.477074', 'street': {'id': 945967, 'name': 'On or near Albert Avenue'}, 'longitude': '-0.118641'}, 'context': '', 'outcome_status': {'category': 'Awaiting court outcome', 'date': '2021-07'}, 'persistent_id': '39e99e036b12317089ae6bef22486908e762d2e19c2df54fd299ebfc29e5cfd7', 'id': 94087969, 'location_subtype': '', 'month': '2021-07'}, {'category': 'possession-of-weapons', 'location_type': 'Force', 'location': {'latitude': '51.565979', 'street': {'id': 971545, 'name': 'On or near Shaftesbury Road'}, 'longitude': '-0.019541'}, 'context': '', 'outcome_status': {'category': 'Awaiting court outcome', 'date': '2021-07'}, 'persistent_id': '146ad67f1020099aa88287c7c787c5e7bf701e3fb5072d71bd1bf14b43044095', 'id': 94087992, 'location_subtype': '', 'month': '2021-07'}, {'category': 'possession-of-weapons', 'location_type': 'Force', 'location': {'latitude': '51.533265', 'street': {'id': 964584, 'name': 'On or near Bletsoe Walk'}, 'longitude': '-0.092838'}, 'context': '', 'outcome_status': {'category': 'Awaiting court outcome', 'date': '2021-07'}, 'persistent_id': '2f721c661856c48dd2f710c1602ec7e3ae67a40149fe44314c6cfcd77b68e7db', 'id': 94088175, 'location_subtype': '', 'month': '2021-07'}, {'category': 'possession-of-weapons', 'location_type': 'Force', 'location': {'latitude': '51.574078', 'street': {'id': 976177, 'name': 'On or near Bengeo Gardens'}, 'longitude': '0.122616'}, 'context': '', 'outcome_status': {'category': 'Investigation complete; no suspect identified', 'date': '2021-07'}, 'persistent_id': '937a5eed9b7330f470eb54503138addf70de93b3f2f29f818b9fdb79203d2fa6', 'id': 94088303, 'location_subtype': '', 'month': '2021-07'}, {'category': 'possession-of-weapons', 'location_type': 'Force', 'location': {'latitude': '51.495324', 'street': {'id': 953609, 'name': 'On or near Green Walk'}, 'longitude': '-0.084452'}, 'context': '', 'outcome_status': {'category': 'Investigation complete; no suspect identified', 'date': '2021-07'}, 'persistent_id': '2c4eeae06d7db1fbe43d6b5c7d0e17e5dee336b65e39a78b974be754a691e318', 'id': 94088415, 'location_subtype': '', 'month': '2021-07'}, {'category': 'possession-of-weapons', 'location_type': 'Force', 'location': {'latitude': '51.541970', 'street': {'id': 965707, 'name': 'On or near Brett Crescent'}, 'longitude': '-0.261878'}, 'context': '', 'outcome_status': {'category': 'Investigation complete; no suspect identified', 'date': '2021-07'}, 'persistent_id': '8820acdf1ed9a586306c062ae245537cf71ec39e8e819bfc9ffeb8e5566a11f0', 'id': 93984256, 'location_subtype': '', 'month': '2021-07'}, {'category': 'possession-of-weapons', 'location_type': 'Force', 'location': {'latitude': '51.517567', 'street': {'id': 962007, 'name': 'On or near Pioneer Close'}, 'longitude': '-0.018168'}, 'context': '', 'outcome_status': {'category': 'Awaiting court outcome', 'date': '2021-07'}, 'persistent_id': 'afca2c8dde0586115f95a876ebb965979e86b95d32e3f613163bfdf6f1453aa3', 'id': 93986810, 'location_subtype': '', 'month': '2021-07'}, {'category': 'possession-of-weapons', 'location_type': 'Force', 'location': {'latitude': '51.541870', 'street': {'id': 963812, 'name': 'On or near Meridian Square'}, 'longitude': '-0.002028'}, 'context': '', 'outcome_status': {'category': 'Awaiting court outcome', 'date': '2021-07'}, 'persistent_id': '67e483a51998b771f5c7991e3a8bf603d8e28dfbf9e6093dd6e40f11dbc871f4', 'id': 93987956, 'location_subtype': '', 'month': '2021-07'}, {'category': 'possession-of-weapons', 'location_type': 'Force', 'location': {'latitude': '51.425764', 'street': {'id': 937239, 'name': 'On or near Charters Close'}, 'longitude': '-0.085450'}, 'context': '', 'outcome_status': {'category': 'Awaiting court outcome', 'date': '2021-07'}, 'persistent_id': 'a92ec374aa5b513237ffbc4add83937d4db1bc1a17969b92dab38ca2ca5a656d', 'id': 94007747, 'location_subtype': '', 'month': '2021-07'}, {'category': 'possession-of-weapons', 'location_type': 'Force', 'location': {'latitude': '51.528782', 'street': {'id': 959838, 'name': 'On or near Regent Street'}, 'longitude': '-0.216621'}, 'context': '', 'outcome_status': {'category': 'Awaiting court outcome', 'date': '2021-07'}, 'persistent_id': '803a81373e5ecd757d2fe055bda9527446a9938ba7748c10c833f064923f993a', 'id': 94045991, 'location_subtype': '', 'month': '2021-07'}, {'category': 'possession-of-weapons', 'location_type': 'Force', 'location': {'latitude': '51.645374', 'street': {'id': 986024, 'name': 'On or near Sports/recreation Area'}, 'longitude': '-0.035596'}, 'context': '', 'outcome_status': {'category': 'Awaiting court outcome', 'date': '2021-07'}, 'persistent_id': 'bce2ae374dd908ef97fc64d14e4fd29c4c8b404788ccac6d0fbff2244b34975c', 'id': 93999251, 'location_subtype': '', 'month': '2021-07'}, {'category': 'possession-of-weapons', 'location_type': 'Force', 'location': {'latitude': '51.467040', 'street': {'id': 945835, 'name': 'On or near Dennis Way'}, 'longitude': '-0.131681'}, 'context': '', 'outcome_status': {'category': 'Investigation complete; no suspect identified', 'date': '2021-07'}, 'persistent_id': '6bd98b782086aecf648211c5bc36ccd0934b137d0032c4dd1f9bc16d6d766b6d', 'id': 94002363, 'location_subtype': '', 'month': '2021-07'}, {'category': 'possession-of-weapons', 'location_type': 'Force', 'location': {'latitude': '51.495946', 'street': {'id': 954714, 'name': 'On or near Peterstone Road'}, 'longitude': '0.114302'}, 'context': '', 'outcome_status': {'category': 'Investigation complete; no suspect identified', 'date': '2021-07'}, 'persistent_id': '057e92177124351e31098041ea3a491fe397c463237ceba5cb6b74e004d5e25d', 'id': 93991824, 'location_subtype': '', 'month': '2021-07'}, {'category': 'possession-of-weapons', 'location_type': 'Force', 'location': {'latitude': '51.587878', 'street': {'id': 979050, 'name': 'On or near Colindeep Lane'}, 'longitude': '-0.237318'}, 'context': '', 'outcome_status': {'category': 'Awaiting court outcome', 'date': '2021-07'}, 'persistent_id': '600938d21be51d3f895aec9f0be85bb9f96ff72a0be8edcf0b9ef66afb5b307d', 'id': 93994380, 'location_subtype': '', 'month': '2021-07'}, {'category': 'possession-of-weapons', 'location_type': 'Force', 'location': {'latitude': '51.559356', 'street': {'id': 967227, 'name': 'On or near Birse Crescent'}, 'longitude': '-0.251838'}, 'context': '', 'outcome_status': {'category': 'Awaiting court outcome', 'date': '2021-07'}, 'persistent_id': '3260c620c0e8e6add10028e4abaf7e01cf4e1dfdc71222a37909991a9b15e144', 'id': 93996499, 'location_subtype': '', 'month': '2021-07'}, {'category': 'possession-of-weapons', 'location_type': 'Force', 'location': {'latitude': '51.517851', 'street': {'id': 957182, 'name': 'On or near Nightclub'}, 'longitude': '-0.206786'}, 'context': '', 'outcome_status': {'category': 'Awaiting court outcome', 'date': '2021-07'}, 'persistent_id': '1d589426f0792beb421a047448ad280b26b67d639f3cd4b452db4076620bdf10', 'id': 93997586, 'location_subtype': '', 'month': '2021-07'}, {'category': 'possession-of-weapons', 'location_type': 'Force', 'location': {'latitude': '51.503151', 'street': {'id': 951658, 'name': 'On or near Whittle Road'}, 'longitude': '-0.365108'}, 'context': '', 'outcome_status': {'category': 'Awaiting court outcome', 'date': '2021-07'}, 'persistent_id': '39e2c1a31701485d7cf8e5e194850d473aba5111d20a2fef11216a004c4daafe', 'id': 93997596, 'location_subtype': '', 'month': '2021-07'}, {'category': 'possession-of-weapons', 'location_type': 'Force', 'location': {'latitude': '51.517588', 'street': {'id': 962013, 'name': 'On or near Clutton Street'}, 'longitude': '-0.014074'}, 'context': '', 'outcome_status': {'category': 'Under investigation', 'date': '2021-07'}, 'persistent_id': '385100b28d1448a5499b85e8d804e2cd52f196dbcd803f4208536f34ca8b8304', 'id': 94187580, 'location_subtype': '', 'month': '2021-07'}, {'category': 'possession-of-weapons', 'location_type': 'Force', 'location': {'latitude': '51.512598', 'street': {'id': 587443, 'name': 'On or near Bell Inn Yard'}, 'longitude': '-0.084967'}, 'context': '', 'outcome_status': {'category': 'Under investigation', 'date': '2021-07'}, 'persistent_id': 'f256ee2399b41a9c318de470ffcdcfed266917c630f57f01a5ad6ec8978ef751', 'id': 94187201, 'location_subtype': '', 'month': '2021-07'}, {'category': 'possession-of-weapons', 'location_type': 'Force', 'location': {'latitude': '51.368991', 'street': {'id': 1157545, 'name': 'On or near Bush Close'}, 'longitude': '-0.490251'}, 'context': '', 'outcome_status': {'category': 'Formal action is not in the public interest', 'date': '2021-07'}, 'persistent_id': 'fa660e2b8b23bc9b09d4381fd8992841136ccb39fa7b598bfe301fa3c2951ebf', 'id': 94180107, 'location_subtype': '', 'month': '2021-07'}, {'category': 'possession-of-weapons', 'location_type': 'Force', 'location': {'latitude': '51.426172', 'street': {'id': 1160393, 'name': 'On or near Bryony Way'}, 'longitude': '-0.418518'}, 'context': '', 'outcome_status': {'category': 'Local resolution', 'date': '2021-08'}, 'persistent_id': '4b9f1a99c2e307d3749a0a8a8cfe591b290e803635f0512366112a6b213db693', 'id': 94180755, 'location_subtype': '', 'month': '2021-07'}, {'category': 'possession-of-weapons', 'location_type': 'Force', 'location': {'latitude': '51.441188', 'street': {'id': 1160644, 'name': 'On or near Staines By-pass'}, 'longitude': '-0.520361'}, 'context': '', 'outcome_status': {'category': 'Under investigation', 'date': '2021-07'}, 'persistent_id': 'e94a5891a37674909cea69fceef841cb735727155638f5f96897d9eb088d467a', 'id': 94179603, 'location_subtype': '', 'month': '2021-07'}, {'category': 'possession-of-weapons', 'location_type': 'Force', 'location': {'latitude': '51.432951', 'street': {'id': 1160666, 'name': 'On or near Colnebridge Close'}, 'longitude': '-0.514715'}, 'context': '', 'outcome_status': {'category': 'Unable to prosecute suspect', 'date': '2021-08'}, 'persistent_id': 'd7d07c7618d6d194053f31ad60931170fa2426df203677fa08a0b4877a349e00', 'id': 94181623, 'location_subtype': '', 'month': '2021-07'}, {'category': 'possession-of-weapons', 'location_type': 'Force', 'location': {'latitude': '51.388253', 'street': {'id': 1158581, 'name': 'On or near Crown Close'}, 'longitude': '-0.406043'}, 'context': '', 'outcome_status': {'category': 'Under investigation', 'date': '2021-07'}, 'persistent_id': 'bdaf4ed312ce20e53472d3f5ed3ae6c6460270b39386447ebe1a3c953080f3f1', 'id': 94181660, 'location_subtype': '', 'month': '2021-07'}, {'category': 'possession-of-weapons', 'location_type': 'Force', 'location': {'latitude': '51.374360', 'street': {'id': 1157884, 'name': 'On or near Sports/recreation Area'}, 'longitude': '-0.397545'}, 'context': '', 'outcome_status': {'category': 'Under investigation', 'date': '2021-07'}, 'persistent_id': 'a5e9788a7529c092bc6b75f68be0838e858c978330b4d03ed0de5dd2cbbc2ee6', 'id': 94182960, 'location_subtype': '', 'month': '2021-07'}, {'category': 'possession-of-weapons', 'location_type': 'Force', 'location': {'latitude': '51.399505', 'street': {'id': 1159014, 'name': 'On or near Tanglyn Avenue'}, 'longitude': '-0.455277'}, 'context': '', 'outcome_status': {'category': 'Under investigation', 'date': '2021-07'}, 'persistent_id': '7f18a7a8af77d1f831d5a4c95fbdcbc2ab769d3d16e6d5bbdba894055f0e48a2', 'id': 94184637, 'location_subtype': '', 'month': '2021-07'}, {'category': 'possession-of-weapons', 'location_type': 'Force', 'location': {'latitude': '51.307811', 'street': {'id': 1152774, 'name': 'On or near Horsley Road'}, 'longitude': '-0.414355'}, 'context': '', 'outcome_status': {'category': 'Awaiting court outcome', 'date': '2021-07'}, 'persistent_id': '09ec21c08f0307fd16ce03e362428361e9f2875953a29945c111951713fb7d8c', 'id': 94185283, 'location_subtype': '', 'month': '2021-07'}, {'category': 'possession-of-weapons', 'location_type': 'Force', 'location': {'latitude': '51.332236', 'street': {'id': 1154817, 'name': 'On or near Parklawn Avenue'}, 'longitude': '-0.279970'}, 'context': '', 'outcome_status': {'category': 'Further investigation is not in the public interest', 'date': '2021-07'}, 'persistent_id': '5820f2b6cbead9685e689f661495339e3322be607b76e429fea71e5f669a9f54', 'id': 94186563, 'location_subtype': '', 'month': '2021-07'}, {'category': 'possession-of-weapons', 'location_type': 'Force', 'location': {'latitude': '51.510014', 'street': {'id': 587252, 'name': 'On or near Great Tower Street'}, 'longitude': '-0.081516'}, 'context': '', 'outcome_status': {'category': 'Awaiting court outcome', 'date': '2021-07'}, 'persistent_id': '96a93f64c75b750eb07cd0fa15648eb8879700be217c7871c8281802abb10ddc', 'id': 94187208, 'location_subtype': '', 'month': '2021-07'}, {'category': 'possession-of-weapons', 'location_type': 'Force', 'location': {'latitude': '51.515033', 'street': {'id': 587247, 'name': 'On or near Houndsditch'}, 'longitude': '-0.078250'}, 'context': '', 'outcome_status': {'category': 'Formal action is not in the public interest', 'date': '2021-07'}, 'persistent_id': 'e12fc3d4cb05758dd649da55e3428b7e175eed9d392898f91d5cd887d0bc237a', 'id': 94187339, 'location_subtype': '', 'month': '2021-07'}, {'category': 'possession-of-weapons', 'location_type': 'Force', 'location': {'latitude': '51.399890', 'street': {'id': 1159191, 'name': 'On or near Glebelands'}, 'longitude': '-0.364997'}, 'context': '', 'outcome_status': {'category': 'Investigation complete; no suspect identified', 'date': '2021-07'}, 'persistent_id': '2c013fd726ef89d3caa35a498c97d37b44ff5526db2acbb88d4c27473d9ec839', 'id': 94184551, 'location_subtype': '', 'month': '2021-07'}, {'category': 'possession-of-weapons', 'location_type': 'Force', 'location': {'latitude': '51.395328', 'street': {'id': 1159208, 'name': 'On or near Fleetside'}, 'longitude': '-0.377120'}, 'context': '', 'outcome_status': {'category': 'Further investigation is not in the public interest', 'date': '2021-07'}, 'persistent_id': '3f95a37a7276693c42862604876e4fe8152bb10707700ccb6d75ccd59d97127b', 'id': 94184582, 'location_subtype': '', 'month': '2021-07'}, {'category': 'possession-of-weapons', 'location_type': 'Force', 'location': {'latitude': '51.387589', 'street': {'id': 1158523, 'name': 'On or near Thames Street'}, 'longitude': '-0.422119'}, 'context': '', 'outcome_status': {'category': 'Unable to prosecute suspect', 'date': '2021-07'}, 'persistent_id': '8aaf3f10f59545d3afb525e3bd6d8b95ae80ba25c5762dd29168bdf5d3353611', 'id': 94184629, 'location_subtype': '', 'month': '2021-07'}, {'category': 'possession-of-weapons', 'location_type': 'Force', 'location': {'latitude': '51.688148', 'street': {'id': 791069, 'name': 'On or near Stanhope Road'}, 'longitude': '-0.032168'}, 'context': '', 'outcome_status': {'category': 'Awaiting court outcome', 'date': '2021-07'}, 'persistent_id': '1b4b516aed3b72f7f51d6b3de572dc8dbf05c57db9a0386e45ac15f9e5c59cc0', 'id': 93596039, 'location_subtype': '', 'month': '2021-07'}, {'category': 'possession-of-weapons', 'location_type': 'Force', 'location': {'latitude': '51.702851', 'street': {'id': 791595, 'name': 'On or near The Hideaway'}, 'longitude': '-0.409903'}, 'context': '', 'outcome_status': {'category': 'Under investigation', 'date': '2021-07'}, 'persistent_id': 'cbcfe887961fd1590b8bbf1ee43b087a86c142b4c345ca9caf367956ae826826', 'id': 93593339, 'location_subtype': '', 'month': '2021-07'}, {'category': 'possession-of-weapons', 'location_type': 'Force', 'location': {'latitude': '51.682907', 'street': {'id': 790733, 'name': 'On or near Hudson Close'}, 'longitude': '-0.415882'}, 'context': '', 'outcome_status': {'category': 'Under investigation', 'date': '2021-07'}, 'persistent_id': '1b981801561c4dcac68afa0858fcc98a1cd047e0ae03b7520213ba731b3b4835', 'id': 93593575, 'location_subtype': '', 'month': '2021-07'}, {'category': 'possession-of-weapons', 'location_type': 'Force', 'location': {'latitude': '51.688068', 'street': {'id': 791020, 'name': 'On or near Sturlas Way'}, 'longitude': '-0.034356'}, 'context': '', 'outcome_status': {'category': 'Under investigation', 'date': '2021-07'}, 'persistent_id': '5d0b9f13e4facf23df4283adec68649c4c0bbb5708dce8daae4ae367fbe91e68', 'id': 93591556, 'location_subtype': '', 'month': '2021-07'}, {'category': 'possession-of-weapons', 'location_type': 'Force', 'location': {'latitude': '51.656903', 'street': {'id': 789933, 'name': 'On or near Shopping Area'}, 'longitude': '-0.398009'}, 'context': '', 'outcome_status': {'category': 'Under investigation', 'date': '2021-07'}, 'persistent_id': '1f0ae58f389a51daa7eef4a0bd0535cfd935cc2b915ee1f82e3921ba4e0b8560', 'id': 93591757, 'location_subtype': '', 'month': '2021-07'}, {'category': 'possession-of-weapons', 'location_type': 'Force', 'location': {'latitude': '51.659491', 'street': {'id': 789929, 'name': 'On or near Nightclub'}, 'longitude': '-0.400520'}, 'context': '', 'outcome_status': {'category': 'Awaiting court outcome', 'date': '2021-07'}, 'persistent_id': '188f5d60b5975f7d0fe0fa143d3e97525a7307fae4da841d6da88ad04a9049ce', 'id': 93594747, 'location_subtype': '', 'month': '2021-07'}, {'category': 'possession-of-weapons', 'location_type': 'Force', 'location': {'latitude': '51.684889', 'street': {'id': 791050, 'name': \"On or near Queen's Drive\"}, 'longitude': '-0.018609'}, 'context': '', 'outcome_status': {'category': 'Awaiting court outcome', 'date': '2021-07'}, 'persistent_id': 'e4d60ebf54f80bbc2bee20a36d774ad9d8ca11ea123424c0662a231041463220', 'id': 93596880, 'location_subtype': '', 'month': '2021-07'}, {'category': 'possession-of-weapons', 'location_type': 'Force', 'location': {'latitude': '51.635789', 'street': {'id': 788657, 'name': 'On or near Beresford Road'}, 'longitude': '-0.500078'}, 'context': '', 'outcome_status': {'category': 'Under investigation', 'date': '2021-07'}, 'persistent_id': '2b9b5522e21b6f3959850d7ea990e460a4bf46eb64fa07a2d9ba0eea52e7fa2c', 'id': 93597066, 'location_subtype': '', 'month': '2021-07'}, {'category': 'possession-of-weapons', 'location_type': 'Force', 'location': {'latitude': '51.691859', 'street': {'id': 790756, 'name': 'On or near Curtiss Drive'}, 'longitude': '-0.414252'}, 'context': '', 'outcome_status': {'category': 'Under investigation', 'date': '2021-07'}, 'persistent_id': 'b25b6fa0ddb3cb84fa719823effbedcf280abfdd574e6c3972bf7d19818d9ee3', 'id': 93596137, 'location_subtype': '', 'month': '2021-07'}, {'category': 'possession-of-weapons', 'location_type': 'Force', 'location': {'latitude': '51.669246', 'street': {'id': 790538, 'name': 'On or near Hatfield Road'}, 'longitude': '-0.396503'}, 'context': '', 'outcome_status': {'category': 'Under investigation', 'date': '2021-07'}, 'persistent_id': '2252a9c06410dd24d271fc577cc62b1f841cbf67a04fc95207e254e91f85d635', 'id': 93596043, 'location_subtype': '', 'month': '2021-07'}, {'category': 'possession-of-weapons', 'location_type': 'Force', 'location': {'latitude': '51.523382', 'street': {'id': 961103, 'name': 'On or near Chequer Street'}, 'longitude': '-0.091160'}, 'context': '', 'outcome_status': {'category': 'Under investigation', 'date': '2021-07'}, 'persistent_id': '663a2797556edc06ea5ca626f82fa95aa74d1c725f3df8276a48104464d35c99', 'id': 93595133, 'location_subtype': '', 'month': '2021-07'}, {'category': 'possession-of-weapons', 'location_type': 'Force', 'location': {'latitude': '51.660589', 'street': {'id': 789931, 'name': 'On or near Shopping Area'}, 'longitude': '-0.396664'}, 'context': '', 'outcome_status': {'category': 'Under investigation', 'date': '2021-07'}, 'persistent_id': 'a5bfdcb8d2695fb93c5d45f1a46051a92f3727330515192fe32b6a2b1a93897f', 'id': 93595400, 'location_subtype': '', 'month': '2021-07'}, {'category': 'possession-of-weapons', 'location_type': 'Force', 'location': {'latitude': '51.685451', 'street': {'id': 791049, 'name': 'On or near Queens Way'}, 'longitude': '-0.020957'}, 'context': '', 'outcome_status': {'category': 'Under investigation', 'date': '2021-07'}, 'persistent_id': '63284cd44d1a79da19b46a878ac6369b3ca298a295b618ae0ae4a224b9a4f0a6', 'id': 93595297, 'location_subtype': '', 'month': '2021-07'}, {'category': 'possession-of-weapons', 'location_type': 'Force', 'location': {'latitude': '51.632883', 'street': {'id': 788939, 'name': 'On or near Petrol Station'}, 'longitude': '-0.340262'}, 'context': '', 'outcome_status': {'category': 'Awaiting court outcome', 'date': '2021-07'}, 'persistent_id': 'a4cef30044d3cbefdf4388fee7248ea05121d4b97cadee7854d24cc5c8f4a1ee', 'id': 93594077, 'location_subtype': '', 'month': '2021-07'}, {'category': 'possession-of-weapons', 'location_type': 'Force', 'location': {'latitude': '51.662757', 'street': {'id': 789986, 'name': 'On or near Sycamore Close'}, 'longitude': '-0.376417'}, 'context': '', 'outcome_status': {'category': 'Under investigation', 'date': '2021-07'}, 'persistent_id': '37ec98506697a772137e6a4f686bc358463a84244cde24b27925e30a9ef3cd4d', 'id': 93594014, 'location_subtype': '', 'month': '2021-07'}, {'category': 'possession-of-weapons', 'location_type': 'Force', 'location': {'latitude': '51.646090', 'street': {'id': 789239, 'name': 'On or near Herkomer Road'}, 'longitude': '-0.362530'}, 'context': '', 'outcome_status': {'category': 'Unable to prosecute suspect', 'date': '2021-08'}, 'persistent_id': '0e14e25a9a15a1c844c8fc8a8df11dd0111ed2007fd672cef5b3a8a0c691c17e', 'id': 93593858, 'location_subtype': '', 'month': '2021-07'}, {'category': 'possession-of-weapons', 'location_type': 'Force', 'location': {'latitude': '51.671077', 'street': {'id': 790308, 'name': 'On or near Berwick Road'}, 'longitude': '-0.286110'}, 'context': '', 'outcome_status': {'category': 'Awaiting court outcome', 'date': '2021-07'}, 'persistent_id': 'cf01524d43450b9c9110e776c889d461fb5fce3860b5ed30cd5ad99c062d87f3', 'id': 93592912, 'location_subtype': '', 'month': '2021-07'}, {'category': 'possession-of-weapons', 'location_type': 'Force', 'location': {'latitude': '51.687571', 'street': {'id': 791004, 'name': 'On or near Hill Crest'}, 'longitude': '-0.174061'}, 'context': '', 'outcome_status': {'category': 'Under investigation', 'date': '2021-07'}, 'persistent_id': '26e0ef429099d287f7c4fd0709eb55550ea22f84e800e983f482583d0375e772', 'id': 93593165, 'location_subtype': '', 'month': '2021-07'}, {'category': 'possession-of-weapons', 'location_type': 'Force', 'location': {'latitude': '51.696080', 'street': {'id': 791668, 'name': 'On or near Albanwood'}, 'longitude': '-0.397942'}, 'context': '', 'outcome_status': {'category': 'Under investigation', 'date': '2021-07'}, 'persistent_id': '8d1c55704efa9b3f699892bb4ef00b08932e564f02cce271609dcd4dcdc27f33', 'id': 93593093, 'location_subtype': '', 'month': '2021-07'}, {'category': 'possession-of-weapons', 'location_type': 'Force', 'location': {'latitude': '51.648143', 'street': {'id': 688115, 'name': 'On or near Vere Road'}, 'longitude': '0.082897'}, 'context': '', 'outcome_status': {'category': 'Under investigation', 'date': '2021-07'}, 'persistent_id': 'c0c04b0368af676d970fa078b124820859bb5a867b30811bac801a1ee6f16a58', 'id': 93615517, 'location_subtype': '', 'month': '2021-07'}, {'category': 'possession-of-weapons', 'location_type': 'Force', 'location': {'latitude': '51.656903', 'street': {'id': 789933, 'name': 'On or near Shopping Area'}, 'longitude': '-0.398009'}, 'context': '', 'outcome_status': {'category': 'Awaiting court outcome', 'date': '2021-07'}, 'persistent_id': '42bd01c9a806ef960439930e897828abb9eb211df06102c70d939efc7a6a317f', 'id': 93590608, 'location_subtype': '', 'month': '2021-07'}, {'category': 'possession-of-weapons', 'location_type': 'Force', 'location': {'latitude': '51.662365', 'street': {'id': 790008, 'name': 'On or near Woodford Road'}, 'longitude': '-0.395647'}, 'context': '', 'outcome_status': {'category': 'Under investigation', 'date': '2021-07'}, 'persistent_id': '979803f30b53eb69edec9d90058feb368f6498720bd007d55b3e6cbd37439bfe', 'id': 93590464, 'location_subtype': '', 'month': '2021-07'}, {'category': 'possession-of-weapons', 'location_type': 'Force', 'location': {'latitude': '51.655158', 'street': {'id': 789981, 'name': 'On or near Nightclub'}, 'longitude': '-0.397318'}, 'context': '', 'outcome_status': {'category': 'Under investigation', 'date': '2021-07'}, 'persistent_id': '8755283d7ac37b0aba2b24466fd4cedfea37cff8312c5cd2c1dad85d02fd31cb', 'id': 93590448, 'location_subtype': '', 'month': '2021-07'}, {'category': 'possession-of-weapons', 'location_type': 'Force', 'location': {'latitude': '51.649051', 'street': {'id': 789450, 'name': 'On or near Hospital'}, 'longitude': '-0.404472'}, 'context': '', 'outcome_status': {'category': 'Awaiting court outcome', 'date': '2021-07'}, 'persistent_id': '6173bd523df89b2fad6995e902574f655dcdcf8765b7b0d90180eb9b716de82f', 'id': 93590502, 'location_subtype': '', 'month': '2021-07'}, {'category': 'possession-of-weapons', 'location_type': 'Force', 'location': {'latitude': '51.650923', 'street': {'id': 688215, 'name': 'On or near Pancroft'}, 'longitude': '0.122490'}, 'context': '', 'outcome_status': {'category': 'Under investigation', 'date': '2021-07'}, 'persistent_id': '5186b653e612b944208dfb84fc4b49b557d0678e3ecb175c3231f67b36561c3f', 'id': 93620799, 'location_subtype': '', 'month': '2021-07'}, {'category': 'possession-of-weapons', 'location_type': 'Force', 'location': {'latitude': '51.622677', 'street': {'id': 686505, 'name': 'On or near Cascade Close'}, 'longitude': '0.049614'}, 'context': '', 'outcome_status': {'category': 'Under investigation', 'date': '2021-07'}, 'persistent_id': 'f34feac8d03485fd823981f22095631e3c7e75c9cc0a21b5561ad8d476ad3681', 'id': 93613090, 'location_subtype': '', 'month': '2021-07'}, {'category': 'possession-of-weapons', 'location_type': 'Force', 'location': {'latitude': '51.687392', 'street': {'id': 688924, 'name': 'On or near Highbridge Street'}, 'longitude': '-0.005479'}, 'context': '', 'outcome_status': {'category': 'Unable to prosecute suspect', 'date': '2021-08'}, 'persistent_id': 'd6d1bc3b31e5184410a1b504751d1fd8d8ee1e69ee8d6d36783029171599062b', 'id': 93614150, 'location_subtype': '', 'month': '2021-07'}, {'category': 'possession-of-weapons', 'location_type': 'Force', 'location': {'latitude': '51.498900', 'street': {'id': 680080, 'name': 'On or near High Street'}, 'longitude': '0.255495'}, 'context': '', 'outcome_status': {'category': 'Under investigation', 'date': '2021-07'}, 'persistent_id': 'a61773f0a1ca16dc218167d6effe743d6cd88a686e517acde93a7f82e932bb12', 'id': 93609548, 'location_subtype': '', 'month': '2021-07'}, {'category': 'possession-of-weapons', 'location_type': 'Force', 'location': {'latitude': '51.459780', 'street': {'id': 944230, 'name': 'On or near Airport/airfield'}, 'longitude': '-0.447730'}, 'context': '', 'outcome_status': {'category': 'Under investigation', 'date': '2021-07'}, 'persistent_id': '4e48c4c64a24008badb423fb8e9f6b95dc352bf7a71efd540bdad436f4e6e571', 'id': 93800053, 'location_subtype': '', 'month': '2021-07'}, {'category': 'possession-of-weapons', 'location_type': 'Force', 'location': {'latitude': '51.325426', 'street': {'id': 840906, 'name': 'On or near Deerleap Lane'}, 'longitude': '0.122985'}, 'context': '', 'outcome_status': {'category': 'Offender given a caution', 'date': '2021-08'}, 'persistent_id': 'c9859422f12643e35ccb8015dd323de2e2b197df2faa11297f24bc893d2e7b66', 'id': 93891297, 'location_subtype': '', 'month': '2021-07'}, {'category': 'possession-of-weapons', 'location_type': 'Force', 'location': {'latitude': '51.443782', 'street': {'id': 849770, 'name': 'On or near High Street'}, 'longitude': '0.220124'}, 'context': '', 'outcome_status': {'category': 'Unable to prosecute suspect', 'date': '2021-08'}, 'persistent_id': '5c3b42ef52831971522db294497bb2b00d07966bb200d9ffe7a00beeb8b14f48', 'id': 93906837, 'location_subtype': '', 'month': '2021-07'}, {'category': 'possession-of-weapons', 'location_type': 'Force', 'location': {'latitude': '51.497622', 'street': {'id': 954659, 'name': 'On or near Gallions View Road'}, 'longitude': '0.088043'}, 'context': '', 'outcome_status': {'category': 'Awaiting court outcome', 'date': '2021-08'}, 'persistent_id': 'de4def257294a0e7d5a7d3b85fc43266a3b0d057c2e4a59f3edc184613cdbae9', 'id': 94038632, 'location_subtype': '', 'month': '2021-07'}, {'category': 'possession-of-weapons', 'location_type': 'BTP', 'location': {'latitude': '51.539600', 'street': {'id': 1488586, 'name': 'East Ham (lu Station)'}, 'longitude': '0.052628'}, 'context': '', 'outcome_status': {'category': 'Under investigation', 'date': '2021-07'}, 'persistent_id': '', 'id': 94888798, 'location_subtype': 'LU STATION', 'month': '2021-07'}, {'category': 'possession-of-weapons', 'location_type': 'BTP', 'location': {'latitude': '51.519577', 'street': {'id': 1490576, 'name': 'Stockwell (lu Station)'}, 'longitude': '-0.122584'}, 'context': '', 'outcome_status': {'category': 'Under investigation', 'date': '2021-07'}, 'persistent_id': '', 'id': 94886788, 'location_subtype': 'LU STATION', 'month': '2021-07'}, {'category': 'possession-of-weapons', 'location_type': 'BTP', 'location': {'latitude': '51.378800', 'street': {'id': 1488074, 'name': 'West Croydon (station)'}, 'longitude': '-0.102296'}, 'context': '', 'outcome_status': {'category': 'Under investigation', 'date': '2021-07'}, 'persistent_id': '', 'id': 94887233, 'location_subtype': 'STATION', 'month': '2021-07'}, {'category': 'possession-of-weapons', 'location_type': 'BTP', 'location': {'latitude': '51.542402', 'street': {'id': 1490577, 'name': 'Stratford (station)'}, 'longitude': '-0.002183'}, 'context': '', 'outcome_status': {'category': 'Under investigation', 'date': '2021-07'}, 'persistent_id': '', 'id': 94887578, 'location_subtype': 'STATION', 'month': '2021-07'}, {'category': 'possession-of-weapons', 'location_type': 'BTP', 'location': {'latitude': '51.580200', 'street': {'id': 1486714, 'name': 'Hendon (station)'}, 'longitude': '-0.239014'}, 'context': '', 'outcome_status': {'category': 'Under investigation', 'date': '2021-07'}, 'persistent_id': '', 'id': 94886305, 'location_subtype': 'STATION', 'month': '2021-07'}, {'category': 'possession-of-weapons', 'location_type': 'BTP', 'location': {'latitude': '51.532382', 'street': {'id': 1490446, 'name': 'Kings Cross St Pancras (lu Station)'}, 'longitude': '-0.120339'}, 'context': '', 'outcome_status': {'category': 'Under investigation', 'date': '2021-07'}, 'persistent_id': '', 'id': 94888210, 'location_subtype': 'LU STATION', 'month': '2021-07'}, {'category': 'possession-of-weapons', 'location_type': 'BTP', 'location': {'latitude': '51.532500', 'street': {'id': 1486721, 'name': 'St Pancras International (station)'}, 'longitude': '-0.126010'}, 'context': '', 'outcome_status': {'category': 'Under investigation', 'date': '2021-07'}, 'persistent_id': '', 'id': 94888241, 'location_subtype': 'STATION', 'month': '2021-07'}, {'category': 'possession-of-weapons', 'location_type': 'BTP', 'location': {'latitude': '51.532500', 'street': {'id': 1486721, 'name': 'St Pancras International (station)'}, 'longitude': '-0.126010'}, 'context': '', 'outcome_status': {'category': 'Under investigation', 'date': '2021-07'}, 'persistent_id': '', 'id': 94888242, 'location_subtype': 'STATION', 'month': '2021-07'}, {'category': 'possession-of-weapons', 'location_type': 'BTP', 'location': {'latitude': '51.532500', 'street': {'id': 1486721, 'name': 'St Pancras International (station)'}, 'longitude': '-0.126010'}, 'context': '', 'outcome_status': {'category': 'Under investigation', 'date': '2021-07'}, 'persistent_id': '', 'id': 94888243, 'location_subtype': 'STATION', 'month': '2021-07'}, {'category': 'possession-of-weapons', 'location_type': 'BTP', 'location': {'latitude': '51.532500', 'street': {'id': 1486721, 'name': 'St Pancras International (station)'}, 'longitude': '-0.126010'}, 'context': '', 'outcome_status': {'category': 'Under investigation', 'date': '2021-07'}, 'persistent_id': '', 'id': 94888244, 'location_subtype': 'STATION', 'month': '2021-07'}, {'category': 'possession-of-weapons', 'location_type': 'BTP', 'location': {'latitude': '51.491900', 'street': {'id': 1488585, 'name': 'Earls Court (lu Station)'}, 'longitude': '-0.193542'}, 'context': '', 'outcome_status': {'category': 'Under investigation', 'date': '2021-07'}, 'persistent_id': '', 'id': 94888613, 'location_subtype': 'LU STATION', 'month': '2021-07'}, {'category': 'possession-of-weapons', 'location_type': 'BTP', 'location': {'latitude': '51.505984', 'street': {'id': 1490345, 'name': 'London Bridge (station)'}, 'longitude': '-0.084053'}, 'context': '', 'outcome_status': {'category': 'Under investigation', 'date': '2021-07'}, 'persistent_id': '', 'id': 94888006, 'location_subtype': 'STATION', 'month': '2021-07'}, {'category': 'possession-of-weapons', 'location_type': 'BTP', 'location': {'latitude': '51.518713', 'street': {'id': 1489886, 'name': 'Paddington (station)'}, 'longitude': '-0.176382'}, 'context': '', 'outcome_status': {'category': 'Under investigation', 'date': '2021-07'}, 'persistent_id': '', 'id': 94889285, 'location_subtype': 'STATION', 'month': '2021-07'}, {'category': 'possession-of-weapons', 'location_type': 'BTP', 'location': {'latitude': '51.518713', 'street': {'id': 1489886, 'name': 'Paddington (station)'}, 'longitude': '-0.176382'}, 'context': '', 'outcome_status': {'category': 'Under investigation', 'date': '2021-07'}, 'persistent_id': '', 'id': 94889286, 'location_subtype': 'STATION', 'month': '2021-07'}, {'category': 'possession-of-weapons', 'location_type': 'BTP', 'location': {'latitude': '51.528000', 'street': {'id': 1486616, 'name': 'West Ham (dlr)'}, 'longitude': '0.005042'}, 'context': '', 'outcome_status': {'category': 'Under investigation', 'date': '2021-07'}, 'persistent_id': '', 'id': 94889045, 'location_subtype': 'STATION', 'month': '2021-07'}, {'category': 'possession-of-weapons', 'location_type': 'BTP', 'location': {'latitude': '51.511600', 'street': {'id': 1488578, 'name': 'Blackfriars (station)'}, 'longitude': '-0.103036'}, 'context': '', 'outcome_status': {'category': 'Under investigation', 'date': '2021-07'}, 'persistent_id': '', 'id': 94889081, 'location_subtype': 'LU STATION', 'month': '2021-07'}]\n"
     ]
    },
    {
     "data": {
      "text/html": [
       "<div>\n",
       "<style scoped>\n",
       "    .dataframe tbody tr th:only-of-type {\n",
       "        vertical-align: middle;\n",
       "    }\n",
       "\n",
       "    .dataframe tbody tr th {\n",
       "        vertical-align: top;\n",
       "    }\n",
       "\n",
       "    .dataframe thead th {\n",
       "        text-align: right;\n",
       "    }\n",
       "</style>\n",
       "<table border=\"1\" class=\"dataframe\">\n",
       "  <thead>\n",
       "    <tr style=\"text-align: right;\">\n",
       "      <th></th>\n",
       "      <th>category</th>\n",
       "      <th>location_type</th>\n",
       "      <th>location</th>\n",
       "      <th>context</th>\n",
       "      <th>outcome_status</th>\n",
       "      <th>persistent_id</th>\n",
       "      <th>id</th>\n",
       "      <th>location_subtype</th>\n",
       "      <th>month</th>\n",
       "    </tr>\n",
       "  </thead>\n",
       "  <tbody>\n",
       "    <tr>\n",
       "      <th>0</th>\n",
       "      <td>possession-of-weapons</td>\n",
       "      <td>Force</td>\n",
       "      <td>{'latitude': '51.636056', 'street': {'id': 985...</td>\n",
       "      <td></td>\n",
       "      <td>{'category': 'Under investigation', 'date': '2...</td>\n",
       "      <td>74057a6f5a7e419565b3fb8899f66ed19f97415f4c3b3c...</td>\n",
       "      <td>93984083</td>\n",
       "      <td></td>\n",
       "      <td>2021-07</td>\n",
       "    </tr>\n",
       "    <tr>\n",
       "      <th>1</th>\n",
       "      <td>possession-of-weapons</td>\n",
       "      <td>Force</td>\n",
       "      <td>{'latitude': '51.347860', 'street': {'id': 925...</td>\n",
       "      <td></td>\n",
       "      <td>{'category': 'Under investigation', 'date': '2...</td>\n",
       "      <td>09afb899a49da6c846e7369cb305cc5f0255368ecba12d...</td>\n",
       "      <td>93986736</td>\n",
       "      <td></td>\n",
       "      <td>2021-07</td>\n",
       "    </tr>\n",
       "    <tr>\n",
       "      <th>2</th>\n",
       "      <td>possession-of-weapons</td>\n",
       "      <td>Force</td>\n",
       "      <td>{'latitude': '51.465916', 'street': {'id': 943...</td>\n",
       "      <td></td>\n",
       "      <td>{'category': 'Under investigation', 'date': '2...</td>\n",
       "      <td>54d8be8a8d3cc9d5727ac3cee8fa48e88d5aaeb5ea6958...</td>\n",
       "      <td>93991757</td>\n",
       "      <td></td>\n",
       "      <td>2021-07</td>\n",
       "    </tr>\n",
       "    <tr>\n",
       "      <th>3</th>\n",
       "      <td>possession-of-weapons</td>\n",
       "      <td>Force</td>\n",
       "      <td>{'latitude': '51.469717', 'street': {'id': 945...</td>\n",
       "      <td></td>\n",
       "      <td>{'category': 'Under investigation', 'date': '2...</td>\n",
       "      <td>35d3fc2090fa39096aa9e0f7dba5af3aa443ca9a3eeed1...</td>\n",
       "      <td>93992172</td>\n",
       "      <td></td>\n",
       "      <td>2021-07</td>\n",
       "    </tr>\n",
       "    <tr>\n",
       "      <th>4</th>\n",
       "      <td>possession-of-weapons</td>\n",
       "      <td>Force</td>\n",
       "      <td>{'latitude': '51.554588', 'street': {'id': 968...</td>\n",
       "      <td></td>\n",
       "      <td>{'category': 'Awaiting court outcome', 'date':...</td>\n",
       "      <td>169f1a06d996a90a8a51ee1c3eb7cd9a7300f42bc4fc60...</td>\n",
       "      <td>94002896</td>\n",
       "      <td></td>\n",
       "      <td>2021-07</td>\n",
       "    </tr>\n",
       "    <tr>\n",
       "      <th>...</th>\n",
       "      <td>...</td>\n",
       "      <td>...</td>\n",
       "      <td>...</td>\n",
       "      <td>...</td>\n",
       "      <td>...</td>\n",
       "      <td>...</td>\n",
       "      <td>...</td>\n",
       "      <td>...</td>\n",
       "      <td>...</td>\n",
       "    </tr>\n",
       "    <tr>\n",
       "      <th>496</th>\n",
       "      <td>possession-of-weapons</td>\n",
       "      <td>BTP</td>\n",
       "      <td>{'latitude': '51.505984', 'street': {'id': 149...</td>\n",
       "      <td></td>\n",
       "      <td>{'category': 'Under investigation', 'date': '2...</td>\n",
       "      <td></td>\n",
       "      <td>94888006</td>\n",
       "      <td>STATION</td>\n",
       "      <td>2021-07</td>\n",
       "    </tr>\n",
       "    <tr>\n",
       "      <th>497</th>\n",
       "      <td>possession-of-weapons</td>\n",
       "      <td>BTP</td>\n",
       "      <td>{'latitude': '51.518713', 'street': {'id': 148...</td>\n",
       "      <td></td>\n",
       "      <td>{'category': 'Under investigation', 'date': '2...</td>\n",
       "      <td></td>\n",
       "      <td>94889285</td>\n",
       "      <td>STATION</td>\n",
       "      <td>2021-07</td>\n",
       "    </tr>\n",
       "    <tr>\n",
       "      <th>498</th>\n",
       "      <td>possession-of-weapons</td>\n",
       "      <td>BTP</td>\n",
       "      <td>{'latitude': '51.518713', 'street': {'id': 148...</td>\n",
       "      <td></td>\n",
       "      <td>{'category': 'Under investigation', 'date': '2...</td>\n",
       "      <td></td>\n",
       "      <td>94889286</td>\n",
       "      <td>STATION</td>\n",
       "      <td>2021-07</td>\n",
       "    </tr>\n",
       "    <tr>\n",
       "      <th>499</th>\n",
       "      <td>possession-of-weapons</td>\n",
       "      <td>BTP</td>\n",
       "      <td>{'latitude': '51.528000', 'street': {'id': 148...</td>\n",
       "      <td></td>\n",
       "      <td>{'category': 'Under investigation', 'date': '2...</td>\n",
       "      <td></td>\n",
       "      <td>94889045</td>\n",
       "      <td>STATION</td>\n",
       "      <td>2021-07</td>\n",
       "    </tr>\n",
       "    <tr>\n",
       "      <th>500</th>\n",
       "      <td>possession-of-weapons</td>\n",
       "      <td>BTP</td>\n",
       "      <td>{'latitude': '51.511600', 'street': {'id': 148...</td>\n",
       "      <td></td>\n",
       "      <td>{'category': 'Under investigation', 'date': '2...</td>\n",
       "      <td></td>\n",
       "      <td>94889081</td>\n",
       "      <td>LU STATION</td>\n",
       "      <td>2021-07</td>\n",
       "    </tr>\n",
       "  </tbody>\n",
       "</table>\n",
       "<p>501 rows × 9 columns</p>\n",
       "</div>"
      ],
      "text/plain": [
       "                  category location_type  \\\n",
       "0    possession-of-weapons         Force   \n",
       "1    possession-of-weapons         Force   \n",
       "2    possession-of-weapons         Force   \n",
       "3    possession-of-weapons         Force   \n",
       "4    possession-of-weapons         Force   \n",
       "..                     ...           ...   \n",
       "496  possession-of-weapons           BTP   \n",
       "497  possession-of-weapons           BTP   \n",
       "498  possession-of-weapons           BTP   \n",
       "499  possession-of-weapons           BTP   \n",
       "500  possession-of-weapons           BTP   \n",
       "\n",
       "                                              location context  \\\n",
       "0    {'latitude': '51.636056', 'street': {'id': 985...           \n",
       "1    {'latitude': '51.347860', 'street': {'id': 925...           \n",
       "2    {'latitude': '51.465916', 'street': {'id': 943...           \n",
       "3    {'latitude': '51.469717', 'street': {'id': 945...           \n",
       "4    {'latitude': '51.554588', 'street': {'id': 968...           \n",
       "..                                                 ...     ...   \n",
       "496  {'latitude': '51.505984', 'street': {'id': 149...           \n",
       "497  {'latitude': '51.518713', 'street': {'id': 148...           \n",
       "498  {'latitude': '51.518713', 'street': {'id': 148...           \n",
       "499  {'latitude': '51.528000', 'street': {'id': 148...           \n",
       "500  {'latitude': '51.511600', 'street': {'id': 148...           \n",
       "\n",
       "                                        outcome_status  \\\n",
       "0    {'category': 'Under investigation', 'date': '2...   \n",
       "1    {'category': 'Under investigation', 'date': '2...   \n",
       "2    {'category': 'Under investigation', 'date': '2...   \n",
       "3    {'category': 'Under investigation', 'date': '2...   \n",
       "4    {'category': 'Awaiting court outcome', 'date':...   \n",
       "..                                                 ...   \n",
       "496  {'category': 'Under investigation', 'date': '2...   \n",
       "497  {'category': 'Under investigation', 'date': '2...   \n",
       "498  {'category': 'Under investigation', 'date': '2...   \n",
       "499  {'category': 'Under investigation', 'date': '2...   \n",
       "500  {'category': 'Under investigation', 'date': '2...   \n",
       "\n",
       "                                         persistent_id        id  \\\n",
       "0    74057a6f5a7e419565b3fb8899f66ed19f97415f4c3b3c...  93984083   \n",
       "1    09afb899a49da6c846e7369cb305cc5f0255368ecba12d...  93986736   \n",
       "2    54d8be8a8d3cc9d5727ac3cee8fa48e88d5aaeb5ea6958...  93991757   \n",
       "3    35d3fc2090fa39096aa9e0f7dba5af3aa443ca9a3eeed1...  93992172   \n",
       "4    169f1a06d996a90a8a51ee1c3eb7cd9a7300f42bc4fc60...  94002896   \n",
       "..                                                 ...       ...   \n",
       "496                                                     94888006   \n",
       "497                                                     94889285   \n",
       "498                                                     94889286   \n",
       "499                                                     94889045   \n",
       "500                                                     94889081   \n",
       "\n",
       "    location_subtype    month  \n",
       "0                     2021-07  \n",
       "1                     2021-07  \n",
       "2                     2021-07  \n",
       "3                     2021-07  \n",
       "4                     2021-07  \n",
       "..               ...      ...  \n",
       "496          STATION  2021-07  \n",
       "497          STATION  2021-07  \n",
       "498          STATION  2021-07  \n",
       "499          STATION  2021-07  \n",
       "500       LU STATION  2021-07  \n",
       "\n",
       "[501 rows x 9 columns]"
      ]
     },
     "execution_count": 64,
     "metadata": {},
     "output_type": "execute_result"
    }
   ],
   "source": [
    "url = f'https://data.police.uk/api/crimes-street/{cat_url[int(cat_choice)]}?poly=51.705417,-0.559440:51.701934,0.263004:51.301087,0.281818:51.298187,-0.513268&date=2021-07'\n",
    "r = requests.get(url).json()\n",
    "print(r)\n",
    "crime_df = pd.DataFrame(r)\n",
    "crime_df"
   ]
  },
  {
   "cell_type": "markdown",
   "metadata": {
    "id": "q69aTScqbwh2"
   },
   "source": [
    "Creating a geopandas Dataframe by unpacking the dictionary column holding latitudes and longitudes from a pandas Dataframe"
   ]
  },
  {
   "cell_type": "code",
   "execution_count": 65,
   "metadata": {
    "colab": {
     "base_uri": "https://localhost:8080/",
     "height": 881
    },
    "executionInfo": {
     "elapsed": 428,
     "status": "ok",
     "timestamp": 1632862711192,
     "user": {
      "displayName": "Tadios Temesgen",
      "photoUrl": "https://lh3.googleusercontent.com/a-/AOh14GjPz8qJ8wtzgP8FA7Sm1ND2Sm6F5Byhb5l2qRhx=s64",
      "userId": "12685772300065794066"
     },
     "user_tz": -60
    },
    "id": "me8zbZ3KRzhx",
    "outputId": "2f39a35d-9d19-4654-8dd5-17044835db41",
    "scrolled": true
   },
   "outputs": [
    {
     "data": {
      "text/html": [
       "<div>\n",
       "<style scoped>\n",
       "    .dataframe tbody tr th:only-of-type {\n",
       "        vertical-align: middle;\n",
       "    }\n",
       "\n",
       "    .dataframe tbody tr th {\n",
       "        vertical-align: top;\n",
       "    }\n",
       "\n",
       "    .dataframe thead th {\n",
       "        text-align: right;\n",
       "    }\n",
       "</style>\n",
       "<table border=\"1\" class=\"dataframe\">\n",
       "  <thead>\n",
       "    <tr style=\"text-align: right;\">\n",
       "      <th></th>\n",
       "      <th>latitude</th>\n",
       "      <th>street</th>\n",
       "      <th>longitude</th>\n",
       "    </tr>\n",
       "  </thead>\n",
       "  <tbody>\n",
       "    <tr>\n",
       "      <th>0</th>\n",
       "      <td>51.636056</td>\n",
       "      <td>{'id': 985910, 'name': 'On or near Petrol Stat...</td>\n",
       "      <td>-0.013542</td>\n",
       "    </tr>\n",
       "    <tr>\n",
       "      <th>1</th>\n",
       "      <td>51.347860</td>\n",
       "      <td>{'id': 925880, 'name': 'On or near Roman Way'}</td>\n",
       "      <td>-0.164118</td>\n",
       "    </tr>\n",
       "    <tr>\n",
       "      <th>2</th>\n",
       "      <td>51.465916</td>\n",
       "      <td>{'id': 943992, 'name': 'On or near Orchid Gard...</td>\n",
       "      <td>-0.376316</td>\n",
       "    </tr>\n",
       "    <tr>\n",
       "      <th>3</th>\n",
       "      <td>51.469717</td>\n",
       "      <td>{'id': 945476, 'name': 'On or near Rosebury Ro...</td>\n",
       "      <td>-0.189452</td>\n",
       "    </tr>\n",
       "    <tr>\n",
       "      <th>4</th>\n",
       "      <td>51.554588</td>\n",
       "      <td>{'id': 968111, 'name': 'On or near Bellina Mews'}</td>\n",
       "      <td>-0.140544</td>\n",
       "    </tr>\n",
       "    <tr>\n",
       "      <th>...</th>\n",
       "      <td>...</td>\n",
       "      <td>...</td>\n",
       "      <td>...</td>\n",
       "    </tr>\n",
       "    <tr>\n",
       "      <th>496</th>\n",
       "      <td>51.505984</td>\n",
       "      <td>{'id': 1490345, 'name': 'London Bridge (statio...</td>\n",
       "      <td>-0.084053</td>\n",
       "    </tr>\n",
       "    <tr>\n",
       "      <th>497</th>\n",
       "      <td>51.518713</td>\n",
       "      <td>{'id': 1489886, 'name': 'Paddington (station)'}</td>\n",
       "      <td>-0.176382</td>\n",
       "    </tr>\n",
       "    <tr>\n",
       "      <th>498</th>\n",
       "      <td>51.518713</td>\n",
       "      <td>{'id': 1489886, 'name': 'Paddington (station)'}</td>\n",
       "      <td>-0.176382</td>\n",
       "    </tr>\n",
       "    <tr>\n",
       "      <th>499</th>\n",
       "      <td>51.528000</td>\n",
       "      <td>{'id': 1486616, 'name': 'West Ham (dlr)'}</td>\n",
       "      <td>0.005042</td>\n",
       "    </tr>\n",
       "    <tr>\n",
       "      <th>500</th>\n",
       "      <td>51.511600</td>\n",
       "      <td>{'id': 1488578, 'name': 'Blackfriars (station)'}</td>\n",
       "      <td>-0.103036</td>\n",
       "    </tr>\n",
       "  </tbody>\n",
       "</table>\n",
       "<p>501 rows × 3 columns</p>\n",
       "</div>"
      ],
      "text/plain": [
       "      latitude                                             street  longitude\n",
       "0    51.636056  {'id': 985910, 'name': 'On or near Petrol Stat...  -0.013542\n",
       "1    51.347860     {'id': 925880, 'name': 'On or near Roman Way'}  -0.164118\n",
       "2    51.465916  {'id': 943992, 'name': 'On or near Orchid Gard...  -0.376316\n",
       "3    51.469717  {'id': 945476, 'name': 'On or near Rosebury Ro...  -0.189452\n",
       "4    51.554588  {'id': 968111, 'name': 'On or near Bellina Mews'}  -0.140544\n",
       "..         ...                                                ...        ...\n",
       "496  51.505984  {'id': 1490345, 'name': 'London Bridge (statio...  -0.084053\n",
       "497  51.518713    {'id': 1489886, 'name': 'Paddington (station)'}  -0.176382\n",
       "498  51.518713    {'id': 1489886, 'name': 'Paddington (station)'}  -0.176382\n",
       "499  51.528000          {'id': 1486616, 'name': 'West Ham (dlr)'}   0.005042\n",
       "500  51.511600   {'id': 1488578, 'name': 'Blackfriars (station)'}  -0.103036\n",
       "\n",
       "[501 rows x 3 columns]"
      ]
     },
     "metadata": {},
     "output_type": "display_data"
    },
    {
     "data": {
      "text/html": [
       "<div>\n",
       "<style scoped>\n",
       "    .dataframe tbody tr th:only-of-type {\n",
       "        vertical-align: middle;\n",
       "    }\n",
       "\n",
       "    .dataframe tbody tr th {\n",
       "        vertical-align: top;\n",
       "    }\n",
       "\n",
       "    .dataframe thead th {\n",
       "        text-align: right;\n",
       "    }\n",
       "</style>\n",
       "<table border=\"1\" class=\"dataframe\">\n",
       "  <thead>\n",
       "    <tr style=\"text-align: right;\">\n",
       "      <th></th>\n",
       "      <th>category</th>\n",
       "      <th>location_type</th>\n",
       "      <th>location</th>\n",
       "      <th>context</th>\n",
       "      <th>outcome_status</th>\n",
       "      <th>persistent_id</th>\n",
       "      <th>id</th>\n",
       "      <th>location_subtype</th>\n",
       "      <th>month</th>\n",
       "      <th>geometry</th>\n",
       "    </tr>\n",
       "  </thead>\n",
       "  <tbody>\n",
       "    <tr>\n",
       "      <th>0</th>\n",
       "      <td>possession-of-weapons</td>\n",
       "      <td>Force</td>\n",
       "      <td>{'latitude': '51.636056', 'street': {'id': 985...</td>\n",
       "      <td></td>\n",
       "      <td>{'category': 'Under investigation', 'date': '2...</td>\n",
       "      <td>74057a6f5a7e419565b3fb8899f66ed19f97415f4c3b3c...</td>\n",
       "      <td>93984083</td>\n",
       "      <td></td>\n",
       "      <td>2021-07</td>\n",
       "      <td>POINT (-0.01354 51.63606)</td>\n",
       "    </tr>\n",
       "    <tr>\n",
       "      <th>1</th>\n",
       "      <td>possession-of-weapons</td>\n",
       "      <td>Force</td>\n",
       "      <td>{'latitude': '51.347860', 'street': {'id': 925...</td>\n",
       "      <td></td>\n",
       "      <td>{'category': 'Under investigation', 'date': '2...</td>\n",
       "      <td>09afb899a49da6c846e7369cb305cc5f0255368ecba12d...</td>\n",
       "      <td>93986736</td>\n",
       "      <td></td>\n",
       "      <td>2021-07</td>\n",
       "      <td>POINT (-0.16412 51.34786)</td>\n",
       "    </tr>\n",
       "    <tr>\n",
       "      <th>2</th>\n",
       "      <td>possession-of-weapons</td>\n",
       "      <td>Force</td>\n",
       "      <td>{'latitude': '51.465916', 'street': {'id': 943...</td>\n",
       "      <td></td>\n",
       "      <td>{'category': 'Under investigation', 'date': '2...</td>\n",
       "      <td>54d8be8a8d3cc9d5727ac3cee8fa48e88d5aaeb5ea6958...</td>\n",
       "      <td>93991757</td>\n",
       "      <td></td>\n",
       "      <td>2021-07</td>\n",
       "      <td>POINT (-0.37632 51.46592)</td>\n",
       "    </tr>\n",
       "    <tr>\n",
       "      <th>3</th>\n",
       "      <td>possession-of-weapons</td>\n",
       "      <td>Force</td>\n",
       "      <td>{'latitude': '51.469717', 'street': {'id': 945...</td>\n",
       "      <td></td>\n",
       "      <td>{'category': 'Under investigation', 'date': '2...</td>\n",
       "      <td>35d3fc2090fa39096aa9e0f7dba5af3aa443ca9a3eeed1...</td>\n",
       "      <td>93992172</td>\n",
       "      <td></td>\n",
       "      <td>2021-07</td>\n",
       "      <td>POINT (-0.18945 51.46972)</td>\n",
       "    </tr>\n",
       "    <tr>\n",
       "      <th>4</th>\n",
       "      <td>possession-of-weapons</td>\n",
       "      <td>Force</td>\n",
       "      <td>{'latitude': '51.554588', 'street': {'id': 968...</td>\n",
       "      <td></td>\n",
       "      <td>{'category': 'Awaiting court outcome', 'date':...</td>\n",
       "      <td>169f1a06d996a90a8a51ee1c3eb7cd9a7300f42bc4fc60...</td>\n",
       "      <td>94002896</td>\n",
       "      <td></td>\n",
       "      <td>2021-07</td>\n",
       "      <td>POINT (-0.14054 51.55459)</td>\n",
       "    </tr>\n",
       "  </tbody>\n",
       "</table>\n",
       "</div>"
      ],
      "text/plain": [
       "                category location_type  \\\n",
       "0  possession-of-weapons         Force   \n",
       "1  possession-of-weapons         Force   \n",
       "2  possession-of-weapons         Force   \n",
       "3  possession-of-weapons         Force   \n",
       "4  possession-of-weapons         Force   \n",
       "\n",
       "                                            location context  \\\n",
       "0  {'latitude': '51.636056', 'street': {'id': 985...           \n",
       "1  {'latitude': '51.347860', 'street': {'id': 925...           \n",
       "2  {'latitude': '51.465916', 'street': {'id': 943...           \n",
       "3  {'latitude': '51.469717', 'street': {'id': 945...           \n",
       "4  {'latitude': '51.554588', 'street': {'id': 968...           \n",
       "\n",
       "                                      outcome_status  \\\n",
       "0  {'category': 'Under investigation', 'date': '2...   \n",
       "1  {'category': 'Under investigation', 'date': '2...   \n",
       "2  {'category': 'Under investigation', 'date': '2...   \n",
       "3  {'category': 'Under investigation', 'date': '2...   \n",
       "4  {'category': 'Awaiting court outcome', 'date':...   \n",
       "\n",
       "                                       persistent_id        id  \\\n",
       "0  74057a6f5a7e419565b3fb8899f66ed19f97415f4c3b3c...  93984083   \n",
       "1  09afb899a49da6c846e7369cb305cc5f0255368ecba12d...  93986736   \n",
       "2  54d8be8a8d3cc9d5727ac3cee8fa48e88d5aaeb5ea6958...  93991757   \n",
       "3  35d3fc2090fa39096aa9e0f7dba5af3aa443ca9a3eeed1...  93992172   \n",
       "4  169f1a06d996a90a8a51ee1c3eb7cd9a7300f42bc4fc60...  94002896   \n",
       "\n",
       "  location_subtype    month                   geometry  \n",
       "0                   2021-07  POINT (-0.01354 51.63606)  \n",
       "1                   2021-07  POINT (-0.16412 51.34786)  \n",
       "2                   2021-07  POINT (-0.37632 51.46592)  \n",
       "3                   2021-07  POINT (-0.18945 51.46972)  \n",
       "4                   2021-07  POINT (-0.14054 51.55459)  "
      ]
     },
     "execution_count": 65,
     "metadata": {},
     "output_type": "execute_result"
    }
   ],
   "source": [
    "locations = crime_df.location.apply(pd.Series)\n",
    "crime_gdf = gpd.GeoDataFrame(crime_df, geometry=gpd.points_from_xy(locations.longitude, locations.latitude))\n",
    "display(locations)\n",
    "crime_gdf.head()"
   ]
  },
  {
   "cell_type": "markdown",
   "metadata": {
    "id": "_gcPBtR_zwXR"
   },
   "source": [
    "Plotting map of points using kepler"
   ]
  },
  {
   "cell_type": "code",
   "execution_count": null,
   "metadata": {
    "colab": {
     "referenced_widgets": [
      "4f4283040e424e2d826a0d3cb8ebce61",
      "ebb4a6d856c64e36b194c1ed33ee8d26"
     ]
    },
    "id": "b4opocD8zwXR",
    "outputId": "a7ece3f1-0f55-4b00-ff78-4f57aee3892b",
    "scrolled": true
   },
   "outputs": [],
   "source": [
    "crime_map = KeplerGl(height=400, data={'crime_gdf':crime_gdf})\n",
    "crime_map"
   ]
  },
  {
   "cell_type": "code",
   "execution_count": 66,
   "metadata": {},
   "outputs": [
    {
     "ename": "AttributeError",
     "evalue": "'GeoDataFrame' object has no attribute 'hvplot'",
     "output_type": "error",
     "traceback": [
      "\u001B[1;31m---------------------------------------------------------------------------\u001B[0m",
      "\u001B[1;31mAttributeError\u001B[0m                            Traceback (most recent call last)",
      "\u001B[1;32m~\\AppData\\Local\\Temp/ipykernel_11000/3625847960.py\u001B[0m in \u001B[0;36m<module>\u001B[1;34m\u001B[0m\n\u001B[1;32m----> 1\u001B[1;33m crimemap = crime_gdf.hvplot(geo=True,\n\u001B[0m\u001B[0;32m      2\u001B[0m                             \u001B[0mtitle\u001B[0m\u001B[1;33m=\u001B[0m\u001B[1;34m'Crime in London'\u001B[0m\u001B[1;33m,\u001B[0m\u001B[1;33m\u001B[0m\u001B[1;33m\u001B[0m\u001B[0m\n\u001B[0;32m      3\u001B[0m                             \u001B[0mmarker\u001B[0m\u001B[1;33m=\u001B[0m\u001B[1;34m'x'\u001B[0m\u001B[1;33m,\u001B[0m\u001B[1;33m\u001B[0m\u001B[1;33m\u001B[0m\u001B[0m\n\u001B[0;32m      4\u001B[0m                             \u001B[0mcolor\u001B[0m\u001B[1;33m=\u001B[0m\u001B[1;34m'red'\u001B[0m\u001B[1;33m,\u001B[0m\u001B[1;33m\u001B[0m\u001B[1;33m\u001B[0m\u001B[0m\n\u001B[0;32m      5\u001B[0m                             \u001B[0msize\u001B[0m\u001B[1;33m=\u001B[0m\u001B[1;36m20\u001B[0m\u001B[1;33m,\u001B[0m\u001B[1;33m\u001B[0m\u001B[1;33m\u001B[0m\u001B[0m\n",
      "\u001B[1;32m~\\AppData\\Roaming\\Python\\Python39\\site-packages\\pandas\\core\\generic.py\u001B[0m in \u001B[0;36m__getattr__\u001B[1;34m(self, name)\u001B[0m\n\u001B[0;32m   5137\u001B[0m             \u001B[1;32mif\u001B[0m \u001B[0mself\u001B[0m\u001B[1;33m.\u001B[0m\u001B[0m_info_axis\u001B[0m\u001B[1;33m.\u001B[0m\u001B[0m_can_hold_identifiers_and_holds_name\u001B[0m\u001B[1;33m(\u001B[0m\u001B[0mname\u001B[0m\u001B[1;33m)\u001B[0m\u001B[1;33m:\u001B[0m\u001B[1;33m\u001B[0m\u001B[1;33m\u001B[0m\u001B[0m\n\u001B[0;32m   5138\u001B[0m                 \u001B[1;32mreturn\u001B[0m \u001B[0mself\u001B[0m\u001B[1;33m[\u001B[0m\u001B[0mname\u001B[0m\u001B[1;33m]\u001B[0m\u001B[1;33m\u001B[0m\u001B[1;33m\u001B[0m\u001B[0m\n\u001B[1;32m-> 5139\u001B[1;33m             \u001B[1;32mreturn\u001B[0m \u001B[0mobject\u001B[0m\u001B[1;33m.\u001B[0m\u001B[0m__getattribute__\u001B[0m\u001B[1;33m(\u001B[0m\u001B[0mself\u001B[0m\u001B[1;33m,\u001B[0m \u001B[0mname\u001B[0m\u001B[1;33m)\u001B[0m\u001B[1;33m\u001B[0m\u001B[1;33m\u001B[0m\u001B[0m\n\u001B[0m\u001B[0;32m   5140\u001B[0m \u001B[1;33m\u001B[0m\u001B[0m\n\u001B[0;32m   5141\u001B[0m     \u001B[1;32mdef\u001B[0m \u001B[0m__setattr__\u001B[0m\u001B[1;33m(\u001B[0m\u001B[0mself\u001B[0m\u001B[1;33m,\u001B[0m \u001B[0mname\u001B[0m\u001B[1;33m:\u001B[0m \u001B[0mstr\u001B[0m\u001B[1;33m,\u001B[0m \u001B[0mvalue\u001B[0m\u001B[1;33m)\u001B[0m \u001B[1;33m->\u001B[0m \u001B[1;32mNone\u001B[0m\u001B[1;33m:\u001B[0m\u001B[1;33m\u001B[0m\u001B[1;33m\u001B[0m\u001B[0m\n",
      "\u001B[1;31mAttributeError\u001B[0m: 'GeoDataFrame' object has no attribute 'hvplot'"
     ]
    }
   ],
   "source": [
    "crimemap = crime_gdf.hvplot(geo=True,\n",
    "                            title='Crime in London',\n",
    "                            marker='x',\n",
    "                            color='red',\n",
    "                            size=20,\n",
    "                            tiles='CartoLight', \n",
    "                            hover_cols=[\"category\"])\n",
    "crimemap"
   ]
  },
  {
   "cell_type": "markdown",
   "metadata": {
    "id": "Kxlt47Y40WRE"
   },
   "source": [
    "Plotting table showing the number of crimes committed for each type"
   ]
  },
  {
   "cell_type": "code",
   "execution_count": 45,
   "metadata": {
    "colab": {
     "base_uri": "https://localhost:8080/"
    },
    "executionInfo": {
     "elapsed": 160,
     "status": "ok",
     "timestamp": 1632862715465,
     "user": {
      "displayName": "Tadios Temesgen",
      "photoUrl": "https://lh3.googleusercontent.com/a-/AOh14GjPz8qJ8wtzgP8FA7Sm1ND2Sm6F5Byhb5l2qRhx=s64",
      "userId": "12685772300065794066"
     },
     "user_tz": -60
    },
    "id": "h4l8dQ750VlE",
    "outputId": "fc98d40b-47ed-44a7-b5d1-11947020a69c"
   },
   "outputs": [
    {
     "data": {
      "text/plain": [
       "possession-of-weapons    501\n",
       "Name: category, dtype: int64"
      ]
     },
     "metadata": {},
     "output_type": "display_data"
    }
   ],
   "source": [
    "counts = crime_df['category'].value_counts()\n",
    "display(counts)"
   ]
  },
  {
   "cell_type": "markdown",
   "metadata": {
    "id": "OLjw9r_jozxg"
   },
   "source": [
    "Plotting histograms on each crimes occurence in a fixed year"
   ]
  },
  {
   "cell_type": "code",
   "execution_count": 46,
   "metadata": {
    "colab": {
     "base_uri": "https://localhost:8080/",
     "height": 295
    },
    "executionInfo": {
     "elapsed": 651,
     "status": "ok",
     "timestamp": 1632862717462,
     "user": {
      "displayName": "Tadios Temesgen",
      "photoUrl": "https://lh3.googleusercontent.com/a-/AOh14GjPz8qJ8wtzgP8FA7Sm1ND2Sm6F5Byhb5l2qRhx=s64",
      "userId": "12685772300065794066"
     },
     "user_tz": -60
    },
    "id": "6F0MejSXo0V2",
    "outputId": "de145807-05b7-49ea-a37a-6cea5c3b9784"
   },
   "outputs": [
    {
     "data": {
      "image/png": "[encoded data removed]",
      "text/plain": [
       "<Figure size 432x288 with 1 Axes>"
      ]
     },
     "metadata": {
      "needs_background": "light"
     },
     "output_type": "display_data"
    }
   ],
   "source": [
    "counts.plot(kind='barh')\n",
    "\n",
    "plt.title('Crimes Committed in each Category')\n",
    "plt.xlabel('Frequency')\n",
    "plt.ylabel('Crime type')\n",
    "plt.show()"
   ]
  },
  {
   "cell_type": "markdown",
   "metadata": {
    "id": "-zfsCYsv6Xl8"
   },
   "source": [
    "# Weather API"
   ]
  },
  {
   "cell_type": "markdown",
   "metadata": {
    "id": "aYL8HaKc6ayE"
   },
   "source": [
    "api key: b19414406c70effb25f6b8de609f3945, open weather api"
   ]
  },
  {
   "cell_type": "code",
   "execution_count": null,
   "metadata": {
    "id": "eSj-iNk_6bHU"
   },
   "outputs": [],
   "source": []
  },
  {
   "cell_type": "markdown",
   "metadata": {
    "id": "9N3As-Jfyz2j"
   },
   "source": [
    "# Air Quality API"
   ]
  },
  {
   "cell_type": "markdown",
   "metadata": {
    "id": "RTfyQr2Qy3Ac"
   },
   "source": []
  },
  {
   "cell_type": "code",
   "execution_count": null,
   "metadata": {
    "id": "2w94RxMqy3Rx",
    "outputId": "e48b03e5-bb35-4178-e9cf-6bb5853957d6"
   },
   "outputs": [
    {
     "ename": "ReadTimeout",
     "evalue": "The read operation timed out",
     "output_type": "error",
     "traceback": [
      "\u001B[0;31m---------------------------------------------------------------------------\u001B[0m",
      "\u001B[0;31mReadTimeout\u001B[0m                               Traceback (most recent call last)",
      "\u001B[0;32m~/.conda/envs/Coursework/lib/python3.9/site-packages/httpx/_exceptions.py\u001B[0m in \u001B[0;36mmap_exceptions\u001B[0;34m(mapping, **kwargs)\u001B[0m\n\u001B[1;32m    325\u001B[0m     \u001B[0;32mtry\u001B[0m\u001B[0;34m:\u001B[0m\u001B[0;34m\u001B[0m\u001B[0;34m\u001B[0m\u001B[0m\n\u001B[0;32m--> 326\u001B[0;31m         \u001B[0;32myield\u001B[0m\u001B[0;34m\u001B[0m\u001B[0;34m\u001B[0m\u001B[0m\n\u001B[0m\u001B[1;32m    327\u001B[0m     \u001B[0;32mexcept\u001B[0m \u001B[0mException\u001B[0m \u001B[0;32mas\u001B[0m \u001B[0mexc\u001B[0m\u001B[0;34m:\u001B[0m\u001B[0;34m\u001B[0m\u001B[0;34m\u001B[0m\u001B[0m\n",
      "\u001B[0;32m~/.conda/envs/Coursework/lib/python3.9/site-packages/httpx/_client.py\u001B[0m in \u001B[0;36m_send_single_request\u001B[0;34m(self, request, timeout)\u001B[0m\n\u001B[1;32m    855\u001B[0m         \u001B[0;32mwith\u001B[0m \u001B[0mmap_exceptions\u001B[0m\u001B[0;34m(\u001B[0m\u001B[0mHTTPCORE_EXC_MAP\u001B[0m\u001B[0;34m,\u001B[0m \u001B[0mrequest\u001B[0m\u001B[0;34m=\u001B[0m\u001B[0mrequest\u001B[0m\u001B[0;34m)\u001B[0m\u001B[0;34m:\u001B[0m\u001B[0;34m\u001B[0m\u001B[0;34m\u001B[0m\u001B[0m\n\u001B[0;32m--> 856\u001B[0;31m             (status_code, headers, stream, ext) = transport.request(\n\u001B[0m\u001B[1;32m    857\u001B[0m                 \u001B[0mrequest\u001B[0m\u001B[0;34m.\u001B[0m\u001B[0mmethod\u001B[0m\u001B[0;34m.\u001B[0m\u001B[0mencode\u001B[0m\u001B[0;34m(\u001B[0m\u001B[0;34m)\u001B[0m\u001B[0;34m,\u001B[0m\u001B[0;34m\u001B[0m\u001B[0;34m\u001B[0m\u001B[0m\n",
      "\u001B[0;32m~/.conda/envs/Coursework/lib/python3.9/site-packages/httpx/_transports/default.py\u001B[0m in \u001B[0;36mrequest\u001B[0;34m(self, method, url, headers, stream, ext)\u001B[0m\n\u001B[1;32m    101\u001B[0m     ) -> typing.Tuple[int, Headers, httpcore.SyncByteStream, dict]:\n\u001B[0;32m--> 102\u001B[0;31m         \u001B[0;32mreturn\u001B[0m \u001B[0mself\u001B[0m\u001B[0;34m.\u001B[0m\u001B[0m_pool\u001B[0m\u001B[0;34m.\u001B[0m\u001B[0mrequest\u001B[0m\u001B[0;34m(\u001B[0m\u001B[0mmethod\u001B[0m\u001B[0;34m,\u001B[0m \u001B[0murl\u001B[0m\u001B[0;34m,\u001B[0m \u001B[0mheaders\u001B[0m\u001B[0;34m=\u001B[0m\u001B[0mheaders\u001B[0m\u001B[0;34m,\u001B[0m \u001B[0mstream\u001B[0m\u001B[0;34m=\u001B[0m\u001B[0mstream\u001B[0m\u001B[0;34m,\u001B[0m \u001B[0mext\u001B[0m\u001B[0;34m=\u001B[0m\u001B[0mext\u001B[0m\u001B[0;34m)\u001B[0m\u001B[0;34m\u001B[0m\u001B[0;34m\u001B[0m\u001B[0m\n\u001B[0m\u001B[1;32m    103\u001B[0m \u001B[0;34m\u001B[0m\u001B[0m\n",
      "\u001B[0;32m~/.conda/envs/Coursework/lib/python3.9/site-packages/httpcore/_sync/connection_pool.py\u001B[0m in \u001B[0;36mrequest\u001B[0;34m(self, method, url, headers, stream, ext)\u001B[0m\n\u001B[1;32m    217\u001B[0m             \u001B[0;32mtry\u001B[0m\u001B[0;34m:\u001B[0m\u001B[0;34m\u001B[0m\u001B[0;34m\u001B[0m\u001B[0m\n\u001B[0;32m--> 218\u001B[0;31m                 response = connection.request(\n\u001B[0m\u001B[1;32m    219\u001B[0m                     \u001B[0mmethod\u001B[0m\u001B[0;34m,\u001B[0m \u001B[0murl\u001B[0m\u001B[0;34m,\u001B[0m \u001B[0mheaders\u001B[0m\u001B[0;34m=\u001B[0m\u001B[0mheaders\u001B[0m\u001B[0;34m,\u001B[0m \u001B[0mstream\u001B[0m\u001B[0;34m=\u001B[0m\u001B[0mstream\u001B[0m\u001B[0;34m,\u001B[0m \u001B[0mext\u001B[0m\u001B[0;34m=\u001B[0m\u001B[0mext\u001B[0m\u001B[0;34m\u001B[0m\u001B[0;34m\u001B[0m\u001B[0m\n",
      "\u001B[0;32m~/.conda/envs/Coursework/lib/python3.9/site-packages/httpcore/_sync/connection.py\u001B[0m in \u001B[0;36mrequest\u001B[0;34m(self, method, url, headers, stream, ext)\u001B[0m\n\u001B[1;32m    105\u001B[0m         )\n\u001B[0;32m--> 106\u001B[0;31m         \u001B[0;32mreturn\u001B[0m \u001B[0mself\u001B[0m\u001B[0;34m.\u001B[0m\u001B[0mconnection\u001B[0m\u001B[0;34m.\u001B[0m\u001B[0mrequest\u001B[0m\u001B[0;34m(\u001B[0m\u001B[0mmethod\u001B[0m\u001B[0;34m,\u001B[0m \u001B[0murl\u001B[0m\u001B[0;34m,\u001B[0m \u001B[0mheaders\u001B[0m\u001B[0;34m,\u001B[0m \u001B[0mstream\u001B[0m\u001B[0;34m,\u001B[0m \u001B[0mext\u001B[0m\u001B[0;34m)\u001B[0m\u001B[0;34m\u001B[0m\u001B[0;34m\u001B[0m\u001B[0m\n\u001B[0m\u001B[1;32m    107\u001B[0m \u001B[0;34m\u001B[0m\u001B[0m\n",
      "\u001B[0;32m~/.conda/envs/Coursework/lib/python3.9/site-packages/httpcore/_sync/http11.py\u001B[0m in \u001B[0;36mrequest\u001B[0;34m(self, method, url, headers, stream, ext)\u001B[0m\n\u001B[1;32m     71\u001B[0m             \u001B[0mheaders\u001B[0m\u001B[0;34m,\u001B[0m\u001B[0;34m\u001B[0m\u001B[0;34m\u001B[0m\u001B[0m\n\u001B[0;32m---> 72\u001B[0;31m         ) = self._receive_response(timeout)\n\u001B[0m\u001B[1;32m     73\u001B[0m         response_stream = IteratorByteStream(\n",
      "\u001B[0;32m~/.conda/envs/Coursework/lib/python3.9/site-packages/httpcore/_sync/http11.py\u001B[0m in \u001B[0;36m_receive_response\u001B[0;34m(self, timeout)\u001B[0m\n\u001B[1;32m    132\u001B[0m         \u001B[0;32mwhile\u001B[0m \u001B[0;32mTrue\u001B[0m\u001B[0;34m:\u001B[0m\u001B[0;34m\u001B[0m\u001B[0;34m\u001B[0m\u001B[0m\n\u001B[0;32m--> 133\u001B[0;31m             \u001B[0mevent\u001B[0m \u001B[0;34m=\u001B[0m \u001B[0mself\u001B[0m\u001B[0;34m.\u001B[0m\u001B[0m_receive_event\u001B[0m\u001B[0;34m(\u001B[0m\u001B[0mtimeout\u001B[0m\u001B[0;34m)\u001B[0m\u001B[0;34m\u001B[0m\u001B[0;34m\u001B[0m\u001B[0m\n\u001B[0m\u001B[1;32m    134\u001B[0m             \u001B[0;32mif\u001B[0m \u001B[0misinstance\u001B[0m\u001B[0;34m(\u001B[0m\u001B[0mevent\u001B[0m\u001B[0;34m,\u001B[0m \u001B[0mh11\u001B[0m\u001B[0;34m.\u001B[0m\u001B[0mResponse\u001B[0m\u001B[0;34m)\u001B[0m\u001B[0;34m:\u001B[0m\u001B[0;34m\u001B[0m\u001B[0;34m\u001B[0m\u001B[0m\n",
      "\u001B[0;32m~/.conda/envs/Coursework/lib/python3.9/site-packages/httpcore/_sync/http11.py\u001B[0m in \u001B[0;36m_receive_event\u001B[0;34m(self, timeout)\u001B[0m\n\u001B[1;32m    171\u001B[0m             \u001B[0;32mif\u001B[0m \u001B[0mevent\u001B[0m \u001B[0;32mis\u001B[0m \u001B[0mh11\u001B[0m\u001B[0;34m.\u001B[0m\u001B[0mNEED_DATA\u001B[0m\u001B[0;34m:\u001B[0m\u001B[0;34m\u001B[0m\u001B[0;34m\u001B[0m\u001B[0m\n\u001B[0;32m--> 172\u001B[0;31m                 \u001B[0mdata\u001B[0m \u001B[0;34m=\u001B[0m \u001B[0mself\u001B[0m\u001B[0;34m.\u001B[0m\u001B[0msocket\u001B[0m\u001B[0;34m.\u001B[0m\u001B[0mread\u001B[0m\u001B[0;34m(\u001B[0m\u001B[0mself\u001B[0m\u001B[0;34m.\u001B[0m\u001B[0mREAD_NUM_BYTES\u001B[0m\u001B[0;34m,\u001B[0m \u001B[0mtimeout\u001B[0m\u001B[0;34m)\u001B[0m\u001B[0;34m\u001B[0m\u001B[0;34m\u001B[0m\u001B[0m\n\u001B[0m\u001B[1;32m    173\u001B[0m                 \u001B[0mself\u001B[0m\u001B[0;34m.\u001B[0m\u001B[0mh11_state\u001B[0m\u001B[0;34m.\u001B[0m\u001B[0mreceive_data\u001B[0m\u001B[0;34m(\u001B[0m\u001B[0mdata\u001B[0m\u001B[0;34m)\u001B[0m\u001B[0;34m\u001B[0m\u001B[0;34m\u001B[0m\u001B[0m\n",
      "\u001B[0;32m~/.conda/envs/Coursework/lib/python3.9/site-packages/httpcore/_backends/sync.py\u001B[0m in \u001B[0;36mread\u001B[0;34m(self, n, timeout)\u001B[0m\n\u001B[1;32m     61\u001B[0m                 \u001B[0mself\u001B[0m\u001B[0;34m.\u001B[0m\u001B[0msock\u001B[0m\u001B[0;34m.\u001B[0m\u001B[0msettimeout\u001B[0m\u001B[0;34m(\u001B[0m\u001B[0mread_timeout\u001B[0m\u001B[0;34m)\u001B[0m\u001B[0;34m\u001B[0m\u001B[0;34m\u001B[0m\u001B[0m\n\u001B[0;32m---> 62\u001B[0;31m                 \u001B[0;32mreturn\u001B[0m \u001B[0mself\u001B[0m\u001B[0;34m.\u001B[0m\u001B[0msock\u001B[0m\u001B[0;34m.\u001B[0m\u001B[0mrecv\u001B[0m\u001B[0;34m(\u001B[0m\u001B[0mn\u001B[0m\u001B[0;34m)\u001B[0m\u001B[0;34m\u001B[0m\u001B[0;34m\u001B[0m\u001B[0m\n\u001B[0m\u001B[1;32m     63\u001B[0m \u001B[0;34m\u001B[0m\u001B[0m\n",
      "\u001B[0;32m~/.conda/envs/Coursework/lib/python3.9/contextlib.py\u001B[0m in \u001B[0;36m__exit__\u001B[0;34m(self, typ, value, traceback)\u001B[0m\n\u001B[1;32m    136\u001B[0m             \u001B[0;32mtry\u001B[0m\u001B[0;34m:\u001B[0m\u001B[0;34m\u001B[0m\u001B[0;34m\u001B[0m\u001B[0m\n\u001B[0;32m--> 137\u001B[0;31m                 \u001B[0mself\u001B[0m\u001B[0;34m.\u001B[0m\u001B[0mgen\u001B[0m\u001B[0;34m.\u001B[0m\u001B[0mthrow\u001B[0m\u001B[0;34m(\u001B[0m\u001B[0mtyp\u001B[0m\u001B[0;34m,\u001B[0m \u001B[0mvalue\u001B[0m\u001B[0;34m,\u001B[0m \u001B[0mtraceback\u001B[0m\u001B[0;34m)\u001B[0m\u001B[0;34m\u001B[0m\u001B[0;34m\u001B[0m\u001B[0m\n\u001B[0m\u001B[1;32m    138\u001B[0m             \u001B[0;32mexcept\u001B[0m \u001B[0mStopIteration\u001B[0m \u001B[0;32mas\u001B[0m \u001B[0mexc\u001B[0m\u001B[0;34m:\u001B[0m\u001B[0;34m\u001B[0m\u001B[0;34m\u001B[0m\u001B[0m\n",
      "\u001B[0;32m~/.conda/envs/Coursework/lib/python3.9/site-packages/httpcore/_exceptions.py\u001B[0m in \u001B[0;36mmap_exceptions\u001B[0;34m(map)\u001B[0m\n\u001B[1;32m     11\u001B[0m             \u001B[0;32mif\u001B[0m \u001B[0misinstance\u001B[0m\u001B[0;34m(\u001B[0m\u001B[0mexc\u001B[0m\u001B[0;34m,\u001B[0m \u001B[0mfrom_exc\u001B[0m\u001B[0;34m)\u001B[0m\u001B[0;34m:\u001B[0m\u001B[0;34m\u001B[0m\u001B[0;34m\u001B[0m\u001B[0m\n\u001B[0;32m---> 12\u001B[0;31m                 \u001B[0;32mraise\u001B[0m \u001B[0mto_exc\u001B[0m\u001B[0;34m(\u001B[0m\u001B[0mexc\u001B[0m\u001B[0;34m)\u001B[0m \u001B[0;32mfrom\u001B[0m \u001B[0;32mNone\u001B[0m\u001B[0;34m\u001B[0m\u001B[0;34m\u001B[0m\u001B[0m\n\u001B[0m\u001B[1;32m     13\u001B[0m         \u001B[0;32mraise\u001B[0m\u001B[0;34m\u001B[0m\u001B[0;34m\u001B[0m\u001B[0m\n",
      "\u001B[0;31mReadTimeout\u001B[0m: The read operation timed out",
      "\nThe above exception was the direct cause of the following exception:\n",
      "\u001B[0;31mReadTimeout\u001B[0m                               Traceback (most recent call last)",
      "\u001B[0;32m/var/folders/fs/69yp8zfs375_m73wj1jhjw900000gn/T/ipykernel_1065/804751635.py\u001B[0m in \u001B[0;36m<module>\u001B[0;34m\u001B[0m\n\u001B[0;32m----> 1\u001B[0;31m \u001B[0mlatest_london_air_quality\u001B[0m \u001B[0;34m=\u001B[0m \u001B[0mhttpx\u001B[0m\u001B[0;34m.\u001B[0m\u001B[0mget\u001B[0m\u001B[0;34m(\u001B[0m\u001B[0;34m\"https://api.erg.ic.ac.uk/AirQuality/Daily/MonitoringIndex/Latest/GroupName=London/Json\"\u001B[0m\u001B[0;34m)\u001B[0m\u001B[0;34m\u001B[0m\u001B[0;34m\u001B[0m\u001B[0m\n\u001B[0m",
      "\u001B[0;32m~/.conda/envs/Coursework/lib/python3.9/site-packages/httpx/_api.py\u001B[0m in \u001B[0;36mget\u001B[0;34m(url, params, headers, cookies, auth, proxies, allow_redirects, cert, verify, timeout, trust_env)\u001B[0m\n\u001B[1;32m    179\u001B[0m     \u001B[0mthis\u001B[0m \u001B[0mfunction\u001B[0m\u001B[0;34m,\u001B[0m \u001B[0;32mas\u001B[0m\u001B[0;31m \u001B[0m\u001B[0;31m`\u001B[0m\u001B[0mGET\u001B[0m\u001B[0;31m`\u001B[0m \u001B[0mrequests\u001B[0m \u001B[0mshould\u001B[0m \u001B[0;32mnot\u001B[0m \u001B[0minclude\u001B[0m \u001B[0ma\u001B[0m \u001B[0mrequest\u001B[0m \u001B[0mbody\u001B[0m\u001B[0;34m.\u001B[0m\u001B[0;34m\u001B[0m\u001B[0;34m\u001B[0m\u001B[0m\n\u001B[1;32m    180\u001B[0m     \"\"\"\n\u001B[0;32m--> 181\u001B[0;31m     return request(\n\u001B[0m\u001B[1;32m    182\u001B[0m         \u001B[0;34m\"GET\"\u001B[0m\u001B[0;34m,\u001B[0m\u001B[0;34m\u001B[0m\u001B[0;34m\u001B[0m\u001B[0m\n\u001B[1;32m    183\u001B[0m         \u001B[0murl\u001B[0m\u001B[0;34m,\u001B[0m\u001B[0;34m\u001B[0m\u001B[0;34m\u001B[0m\u001B[0m\n",
      "\u001B[0;32m~/.conda/envs/Coursework/lib/python3.9/site-packages/httpx/_api.py\u001B[0m in \u001B[0;36mrequest\u001B[0;34m(method, url, params, content, data, files, json, headers, cookies, auth, proxies, timeout, allow_redirects, verify, cert, trust_env)\u001B[0m\n\u001B[1;32m     91\u001B[0m         \u001B[0mproxies\u001B[0m\u001B[0;34m=\u001B[0m\u001B[0mproxies\u001B[0m\u001B[0;34m,\u001B[0m \u001B[0mcert\u001B[0m\u001B[0;34m=\u001B[0m\u001B[0mcert\u001B[0m\u001B[0;34m,\u001B[0m \u001B[0mverify\u001B[0m\u001B[0;34m=\u001B[0m\u001B[0mverify\u001B[0m\u001B[0;34m,\u001B[0m \u001B[0mtimeout\u001B[0m\u001B[0;34m=\u001B[0m\u001B[0mtimeout\u001B[0m\u001B[0;34m,\u001B[0m \u001B[0mtrust_env\u001B[0m\u001B[0;34m=\u001B[0m\u001B[0mtrust_env\u001B[0m\u001B[0;34m\u001B[0m\u001B[0;34m\u001B[0m\u001B[0m\n\u001B[1;32m     92\u001B[0m     ) as client:\n\u001B[0;32m---> 93\u001B[0;31m         return client.request(\n\u001B[0m\u001B[1;32m     94\u001B[0m             \u001B[0mmethod\u001B[0m\u001B[0;34m=\u001B[0m\u001B[0mmethod\u001B[0m\u001B[0;34m,\u001B[0m\u001B[0;34m\u001B[0m\u001B[0;34m\u001B[0m\u001B[0m\n\u001B[1;32m     95\u001B[0m             \u001B[0murl\u001B[0m\u001B[0;34m=\u001B[0m\u001B[0murl\u001B[0m\u001B[0;34m,\u001B[0m\u001B[0;34m\u001B[0m\u001B[0;34m\u001B[0m\u001B[0m\n",
      "\u001B[0;32m~/.conda/envs/Coursework/lib/python3.9/site-packages/httpx/_client.py\u001B[0m in \u001B[0;36mrequest\u001B[0;34m(self, method, url, content, data, files, json, params, headers, cookies, auth, allow_redirects, timeout)\u001B[0m\n\u001B[1;32m    726\u001B[0m             \u001B[0mcookies\u001B[0m\u001B[0;34m=\u001B[0m\u001B[0mcookies\u001B[0m\u001B[0;34m,\u001B[0m\u001B[0;34m\u001B[0m\u001B[0;34m\u001B[0m\u001B[0m\n\u001B[1;32m    727\u001B[0m         )\n\u001B[0;32m--> 728\u001B[0;31m         return self.send(\n\u001B[0m\u001B[1;32m    729\u001B[0m             \u001B[0mrequest\u001B[0m\u001B[0;34m,\u001B[0m \u001B[0mauth\u001B[0m\u001B[0;34m=\u001B[0m\u001B[0mauth\u001B[0m\u001B[0;34m,\u001B[0m \u001B[0mallow_redirects\u001B[0m\u001B[0;34m=\u001B[0m\u001B[0mallow_redirects\u001B[0m\u001B[0;34m,\u001B[0m \u001B[0mtimeout\u001B[0m\u001B[0;34m=\u001B[0m\u001B[0mtimeout\u001B[0m\u001B[0;34m\u001B[0m\u001B[0;34m\u001B[0m\u001B[0m\n\u001B[1;32m    730\u001B[0m         )\n",
      "\u001B[0;32m~/.conda/envs/Coursework/lib/python3.9/site-packages/httpx/_client.py\u001B[0m in \u001B[0;36msend\u001B[0;34m(self, request, stream, auth, allow_redirects, timeout)\u001B[0m\n\u001B[1;32m    760\u001B[0m         \u001B[0mauth\u001B[0m \u001B[0;34m=\u001B[0m \u001B[0mself\u001B[0m\u001B[0;34m.\u001B[0m\u001B[0m_build_request_auth\u001B[0m\u001B[0;34m(\u001B[0m\u001B[0mrequest\u001B[0m\u001B[0;34m,\u001B[0m \u001B[0mauth\u001B[0m\u001B[0;34m)\u001B[0m\u001B[0;34m\u001B[0m\u001B[0;34m\u001B[0m\u001B[0m\n\u001B[1;32m    761\u001B[0m \u001B[0;34m\u001B[0m\u001B[0m\n\u001B[0;32m--> 762\u001B[0;31m         response = self._send_handling_auth(\n\u001B[0m\u001B[1;32m    763\u001B[0m             \u001B[0mrequest\u001B[0m\u001B[0;34m,\u001B[0m\u001B[0;34m\u001B[0m\u001B[0;34m\u001B[0m\u001B[0m\n\u001B[1;32m    764\u001B[0m             \u001B[0mauth\u001B[0m\u001B[0;34m=\u001B[0m\u001B[0mauth\u001B[0m\u001B[0;34m,\u001B[0m\u001B[0;34m\u001B[0m\u001B[0;34m\u001B[0m\u001B[0m\n",
      "\u001B[0;32m~/.conda/envs/Coursework/lib/python3.9/site-packages/httpx/_client.py\u001B[0m in \u001B[0;36m_send_handling_auth\u001B[0;34m(self, request, auth, timeout, allow_redirects, history)\u001B[0m\n\u001B[1;32m    798\u001B[0m \u001B[0;34m\u001B[0m\u001B[0m\n\u001B[1;32m    799\u001B[0m         \u001B[0;32mwhile\u001B[0m \u001B[0;32mTrue\u001B[0m\u001B[0;34m:\u001B[0m\u001B[0;34m\u001B[0m\u001B[0;34m\u001B[0m\u001B[0m\n\u001B[0;32m--> 800\u001B[0;31m             response = self._send_handling_redirects(\n\u001B[0m\u001B[1;32m    801\u001B[0m                 \u001B[0mrequest\u001B[0m\u001B[0;34m,\u001B[0m\u001B[0;34m\u001B[0m\u001B[0;34m\u001B[0m\u001B[0m\n\u001B[1;32m    802\u001B[0m                 \u001B[0mtimeout\u001B[0m\u001B[0;34m=\u001B[0m\u001B[0mtimeout\u001B[0m\u001B[0;34m,\u001B[0m\u001B[0;34m\u001B[0m\u001B[0;34m\u001B[0m\u001B[0m\n",
      "\u001B[0;32m~/.conda/envs/Coursework/lib/python3.9/site-packages/httpx/_client.py\u001B[0m in \u001B[0;36m_send_handling_redirects\u001B[0;34m(self, request, timeout, allow_redirects, history)\u001B[0m\n\u001B[1;32m    830\u001B[0m                 )\n\u001B[1;32m    831\u001B[0m \u001B[0;34m\u001B[0m\u001B[0m\n\u001B[0;32m--> 832\u001B[0;31m             \u001B[0mresponse\u001B[0m \u001B[0;34m=\u001B[0m \u001B[0mself\u001B[0m\u001B[0;34m.\u001B[0m\u001B[0m_send_single_request\u001B[0m\u001B[0;34m(\u001B[0m\u001B[0mrequest\u001B[0m\u001B[0;34m,\u001B[0m \u001B[0mtimeout\u001B[0m\u001B[0;34m)\u001B[0m\u001B[0;34m\u001B[0m\u001B[0;34m\u001B[0m\u001B[0m\n\u001B[0m\u001B[1;32m    833\u001B[0m             \u001B[0mresponse\u001B[0m\u001B[0;34m.\u001B[0m\u001B[0mhistory\u001B[0m \u001B[0;34m=\u001B[0m \u001B[0mlist\u001B[0m\u001B[0;34m(\u001B[0m\u001B[0mhistory\u001B[0m\u001B[0;34m)\u001B[0m\u001B[0;34m\u001B[0m\u001B[0;34m\u001B[0m\u001B[0m\n\u001B[1;32m    834\u001B[0m \u001B[0;34m\u001B[0m\u001B[0m\n",
      "\u001B[0;32m~/.conda/envs/Coursework/lib/python3.9/site-packages/httpx/_client.py\u001B[0m in \u001B[0;36m_send_single_request\u001B[0;34m(self, request, timeout)\u001B[0m\n\u001B[1;32m    854\u001B[0m \u001B[0;34m\u001B[0m\u001B[0m\n\u001B[1;32m    855\u001B[0m         \u001B[0;32mwith\u001B[0m \u001B[0mmap_exceptions\u001B[0m\u001B[0;34m(\u001B[0m\u001B[0mHTTPCORE_EXC_MAP\u001B[0m\u001B[0;34m,\u001B[0m \u001B[0mrequest\u001B[0m\u001B[0;34m=\u001B[0m\u001B[0mrequest\u001B[0m\u001B[0;34m)\u001B[0m\u001B[0;34m:\u001B[0m\u001B[0;34m\u001B[0m\u001B[0;34m\u001B[0m\u001B[0m\n\u001B[0;32m--> 856\u001B[0;31m             (status_code, headers, stream, ext) = transport.request(\n\u001B[0m\u001B[1;32m    857\u001B[0m                 \u001B[0mrequest\u001B[0m\u001B[0;34m.\u001B[0m\u001B[0mmethod\u001B[0m\u001B[0;34m.\u001B[0m\u001B[0mencode\u001B[0m\u001B[0;34m(\u001B[0m\u001B[0;34m)\u001B[0m\u001B[0;34m,\u001B[0m\u001B[0;34m\u001B[0m\u001B[0;34m\u001B[0m\u001B[0m\n\u001B[1;32m    858\u001B[0m                 \u001B[0mrequest\u001B[0m\u001B[0;34m.\u001B[0m\u001B[0murl\u001B[0m\u001B[0;34m.\u001B[0m\u001B[0mraw\u001B[0m\u001B[0;34m,\u001B[0m\u001B[0;34m\u001B[0m\u001B[0;34m\u001B[0m\u001B[0m\n",
      "\u001B[0;32m~/.conda/envs/Coursework/lib/python3.9/contextlib.py\u001B[0m in \u001B[0;36m__exit__\u001B[0;34m(self, typ, value, traceback)\u001B[0m\n\u001B[1;32m    135\u001B[0m                 \u001B[0mvalue\u001B[0m \u001B[0;34m=\u001B[0m \u001B[0mtyp\u001B[0m\u001B[0;34m(\u001B[0m\u001B[0;34m)\u001B[0m\u001B[0;34m\u001B[0m\u001B[0;34m\u001B[0m\u001B[0m\n\u001B[1;32m    136\u001B[0m             \u001B[0;32mtry\u001B[0m\u001B[0;34m:\u001B[0m\u001B[0;34m\u001B[0m\u001B[0;34m\u001B[0m\u001B[0m\n\u001B[0;32m--> 137\u001B[0;31m                 \u001B[0mself\u001B[0m\u001B[0;34m.\u001B[0m\u001B[0mgen\u001B[0m\u001B[0;34m.\u001B[0m\u001B[0mthrow\u001B[0m\u001B[0;34m(\u001B[0m\u001B[0mtyp\u001B[0m\u001B[0;34m,\u001B[0m \u001B[0mvalue\u001B[0m\u001B[0;34m,\u001B[0m \u001B[0mtraceback\u001B[0m\u001B[0;34m)\u001B[0m\u001B[0;34m\u001B[0m\u001B[0;34m\u001B[0m\u001B[0m\n\u001B[0m\u001B[1;32m    138\u001B[0m             \u001B[0;32mexcept\u001B[0m \u001B[0mStopIteration\u001B[0m \u001B[0;32mas\u001B[0m \u001B[0mexc\u001B[0m\u001B[0;34m:\u001B[0m\u001B[0;34m\u001B[0m\u001B[0;34m\u001B[0m\u001B[0m\n\u001B[1;32m    139\u001B[0m                 \u001B[0;31m# Suppress StopIteration *unless* it's the same exception that\u001B[0m\u001B[0;34m\u001B[0m\u001B[0;34m\u001B[0m\u001B[0m\n",
      "\u001B[0;32m~/.conda/envs/Coursework/lib/python3.9/site-packages/httpx/_exceptions.py\u001B[0m in \u001B[0;36mmap_exceptions\u001B[0;34m(mapping, **kwargs)\u001B[0m\n\u001B[1;32m    341\u001B[0m \u001B[0;34m\u001B[0m\u001B[0m\n\u001B[1;32m    342\u001B[0m         \u001B[0mmessage\u001B[0m \u001B[0;34m=\u001B[0m \u001B[0mstr\u001B[0m\u001B[0;34m(\u001B[0m\u001B[0mexc\u001B[0m\u001B[0;34m)\u001B[0m\u001B[0;34m\u001B[0m\u001B[0;34m\u001B[0m\u001B[0m\n\u001B[0;32m--> 343\u001B[0;31m         \u001B[0;32mraise\u001B[0m \u001B[0mmapped_exc\u001B[0m\u001B[0;34m(\u001B[0m\u001B[0mmessage\u001B[0m\u001B[0;34m,\u001B[0m \u001B[0;34m**\u001B[0m\u001B[0mkwargs\u001B[0m\u001B[0;34m)\u001B[0m \u001B[0;32mfrom\u001B[0m \u001B[0mexc\u001B[0m  \u001B[0;31m# type: ignore\u001B[0m\u001B[0;34m\u001B[0m\u001B[0;34m\u001B[0m\u001B[0m\n\u001B[0m\u001B[1;32m    344\u001B[0m \u001B[0;34m\u001B[0m\u001B[0m\n\u001B[1;32m    345\u001B[0m \u001B[0;34m\u001B[0m\u001B[0m\n",
      "\u001B[0;31mReadTimeout\u001B[0m: The read operation timed out"
     ]
    }
   ],
   "source": [
    "latest_london_air_quality = httpx.get(\"https://api.erg.ic.ac.uk/AirQuality/Daily/MonitoringIndex/Latest/GroupName=London/Json\")"
   ]
  },
  {
   "cell_type": "code",
   "execution_count": null,
   "metadata": {
    "id": "OysdhJWrzwXV"
   },
   "outputs": [],
   "source": [
    "local_authority_air_quality = latest_london_air_quality.json()['DailyAirQualityIndex']['LocalAuthority']"
   ]
  },
  {
   "cell_type": "code",
   "execution_count": null,
   "metadata": {
    "id": "Fosc6YzLzwXV"
   },
   "outputs": [],
   "source": [
    "def parse_data_from_sites(result: dict, site: dict, species, local_authority: dict):\n",
    "    site_name = f\"{site['@SiteCode']}{species['@SpeciesCode']}\"\n",
    "    result[site_name] = dict(\n",
    "        SiteName=site['@SiteName'],\n",
    "        LocalAuthorityName=local_authority['@LocalAuthorityName'],\n",
    "        Latitude=site['@Latitude'],\n",
    "        Longitude=site['@Longitude'],\n",
    "        Species=str(dict(SpeciesCode=species['@SpeciesCode'],\n",
    "        SpeciesDescription=species['@SpeciesDescription'],\n",
    "        AirQualityIndex=species['@AirQualityIndex'],\n",
    "        AirQualityBand=species['@AirQualityBand']))\n",
    "    )\n",
    "    return result"
   ]
  },
  {
   "cell_type": "code",
   "execution_count": null,
   "metadata": {
    "id": "2f3ra5CyzwXV"
   },
   "outputs": [],
   "source": [
    "def parse_data_from_site(result, site, local_authority):\n",
    "    species = site['Species']\n",
    "    if isinstance(species, list):\n",
    "        for single_species in species:\n",
    "            result = parse_data_from_sites(result, site, single_species, local_authority)\n",
    "    elif isinstance(species, dict):\n",
    "        result = parse_data_from_sites(result, site, species, local_authority)\n",
    "    return result"
   ]
  },
  {
   "cell_type": "code",
   "execution_count": null,
   "metadata": {
    "id": "mFtgw40GzwXV",
    "outputId": "2ef8bcca-c261-4f13-8e06-615dc1063cf6"
   },
   "outputs": [
    {
     "ename": "NameError",
     "evalue": "name 'local_authority_air_quality' is not defined",
     "output_type": "error",
     "traceback": [
      "\u001B[0;31m---------------------------------------------------------------------------\u001B[0m",
      "\u001B[0;31mNameError\u001B[0m                                 Traceback (most recent call last)",
      "\u001B[0;32m/var/folders/fs/69yp8zfs375_m73wj1jhjw900000gn/T/ipykernel_1065/1799775241.py\u001B[0m in \u001B[0;36m<module>\u001B[0;34m\u001B[0m\n\u001B[1;32m      1\u001B[0m \u001B[0mresult_dict\u001B[0m \u001B[0;34m=\u001B[0m \u001B[0mdict\u001B[0m\u001B[0;34m(\u001B[0m\u001B[0;34m)\u001B[0m\u001B[0;34m\u001B[0m\u001B[0;34m\u001B[0m\u001B[0m\n\u001B[1;32m      2\u001B[0m \u001B[0;34m\u001B[0m\u001B[0m\n\u001B[0;32m----> 3\u001B[0;31m \u001B[0;32mfor\u001B[0m \u001B[0mlocal_authority_data\u001B[0m \u001B[0;32min\u001B[0m \u001B[0mlocal_authority_air_quality\u001B[0m\u001B[0;34m:\u001B[0m\u001B[0;34m\u001B[0m\u001B[0;34m\u001B[0m\u001B[0m\n\u001B[0m\u001B[1;32m      4\u001B[0m     \u001B[0;32mif\u001B[0m \u001B[0;34m'Site'\u001B[0m \u001B[0;32min\u001B[0m \u001B[0mlocal_authority_data\u001B[0m\u001B[0;34m:\u001B[0m\u001B[0;34m\u001B[0m\u001B[0;34m\u001B[0m\u001B[0m\n\u001B[1;32m      5\u001B[0m         \u001B[0msites_data\u001B[0m \u001B[0;34m=\u001B[0m \u001B[0mlocal_authority_data\u001B[0m\u001B[0;34m[\u001B[0m\u001B[0;34m'Site'\u001B[0m\u001B[0;34m]\u001B[0m\u001B[0;34m\u001B[0m\u001B[0;34m\u001B[0m\u001B[0m\n",
      "\u001B[0;31mNameError\u001B[0m: name 'local_authority_air_quality' is not defined"
     ]
    }
   ],
   "source": [
    "result_dict = dict()\n",
    "\n",
    "for local_authority_data in local_authority_air_quality:\n",
    "    if 'Site' in local_authority_data:\n",
    "        sites_data = local_authority_data['Site']\n",
    "        if isinstance(sites_data, list):\n",
    "            for site_data in sites_data:\n",
    "                parse_data_from_site(result_dict, site_data, local_authority_data)\n",
    "        elif isinstance(sites_data, dict):\n",
    "                parse_data_from_site(result_dict, sites_data, local_authority_data)"
   ]
  },
  {
   "cell_type": "code",
   "execution_count": null,
   "metadata": {
    "id": "TFU_c0OAzwXV"
   },
   "outputs": [],
   "source": [
    "air_quality_df = pd.DataFrame.from_dict(result_dict).T"
   ]
  },
  {
   "cell_type": "code",
   "execution_count": null,
   "metadata": {
    "id": "IzJYOVjMzwXV",
    "outputId": "dca73a56-c949-4919-b339-c63593e9423a"
   },
   "outputs": [
    {
     "ename": "KeyError",
     "evalue": "'SiteName'",
     "output_type": "error",
     "traceback": [
      "\u001B[0;31m---------------------------------------------------------------------------\u001B[0m",
      "\u001B[0;31mKeyError\u001B[0m                                  Traceback (most recent call last)",
      "\u001B[0;32m/var/folders/fs/69yp8zfs375_m73wj1jhjw900000gn/T/ipykernel_1065/637308686.py\u001B[0m in \u001B[0;36m<module>\u001B[0;34m\u001B[0m\n\u001B[0;32m----> 1\u001B[0;31m \u001B[0mair_quality_df\u001B[0m\u001B[0;34m[\u001B[0m\u001B[0;34m'Species'\u001B[0m\u001B[0;34m]\u001B[0m \u001B[0;34m=\u001B[0m \u001B[0mair_quality_df\u001B[0m\u001B[0;34m.\u001B[0m\u001B[0mgroupby\u001B[0m\u001B[0;34m(\u001B[0m\u001B[0;34m'SiteName'\u001B[0m\u001B[0;34m)\u001B[0m\u001B[0;34m[\u001B[0m\u001B[0;34m'Species'\u001B[0m\u001B[0;34m]\u001B[0m\u001B[0;34m.\u001B[0m\u001B[0mtransform\u001B[0m\u001B[0;34m(\u001B[0m\u001B[0;34m' '\u001B[0m\u001B[0;34m.\u001B[0m\u001B[0mjoin\u001B[0m\u001B[0;34m)\u001B[0m\u001B[0;34m\u001B[0m\u001B[0;34m\u001B[0m\u001B[0m\n\u001B[0m",
      "\u001B[0;32m~/.conda/envs/Coursework/lib/python3.9/site-packages/pandas/core/frame.py\u001B[0m in \u001B[0;36mgroupby\u001B[0;34m(self, by, axis, level, as_index, sort, group_keys, squeeze, observed, dropna)\u001B[0m\n\u001B[1;32m   7629\u001B[0m         \u001B[0;31m# error: Argument \"squeeze\" to \"DataFrameGroupBy\" has incompatible type\u001B[0m\u001B[0;34m\u001B[0m\u001B[0;34m\u001B[0m\u001B[0m\n\u001B[1;32m   7630\u001B[0m         \u001B[0;31m# \"Union[bool, NoDefault]\"; expected \"bool\"\u001B[0m\u001B[0;34m\u001B[0m\u001B[0;34m\u001B[0m\u001B[0m\n\u001B[0;32m-> 7631\u001B[0;31m         return DataFrameGroupBy(\n\u001B[0m\u001B[1;32m   7632\u001B[0m             \u001B[0mobj\u001B[0m\u001B[0;34m=\u001B[0m\u001B[0mself\u001B[0m\u001B[0;34m,\u001B[0m\u001B[0;34m\u001B[0m\u001B[0;34m\u001B[0m\u001B[0m\n\u001B[1;32m   7633\u001B[0m             \u001B[0mkeys\u001B[0m\u001B[0;34m=\u001B[0m\u001B[0mby\u001B[0m\u001B[0;34m,\u001B[0m\u001B[0;34m\u001B[0m\u001B[0;34m\u001B[0m\u001B[0m\n",
      "\u001B[0;32m~/.conda/envs/Coursework/lib/python3.9/site-packages/pandas/core/groupby/groupby.py\u001B[0m in \u001B[0;36m__init__\u001B[0;34m(self, obj, keys, axis, level, grouper, exclusions, selection, as_index, sort, group_keys, squeeze, observed, mutated, dropna)\u001B[0m\n\u001B[1;32m    887\u001B[0m             \u001B[0;32mfrom\u001B[0m \u001B[0mpandas\u001B[0m\u001B[0;34m.\u001B[0m\u001B[0mcore\u001B[0m\u001B[0;34m.\u001B[0m\u001B[0mgroupby\u001B[0m\u001B[0;34m.\u001B[0m\u001B[0mgrouper\u001B[0m \u001B[0;32mimport\u001B[0m \u001B[0mget_grouper\u001B[0m\u001B[0;34m\u001B[0m\u001B[0;34m\u001B[0m\u001B[0m\n\u001B[1;32m    888\u001B[0m \u001B[0;34m\u001B[0m\u001B[0m\n\u001B[0;32m--> 889\u001B[0;31m             grouper, exclusions, obj = get_grouper(\n\u001B[0m\u001B[1;32m    890\u001B[0m                 \u001B[0mobj\u001B[0m\u001B[0;34m,\u001B[0m\u001B[0;34m\u001B[0m\u001B[0;34m\u001B[0m\u001B[0m\n\u001B[1;32m    891\u001B[0m                 \u001B[0mkeys\u001B[0m\u001B[0;34m,\u001B[0m\u001B[0;34m\u001B[0m\u001B[0;34m\u001B[0m\u001B[0m\n",
      "\u001B[0;32m~/.conda/envs/Coursework/lib/python3.9/site-packages/pandas/core/groupby/grouper.py\u001B[0m in \u001B[0;36mget_grouper\u001B[0;34m(obj, key, axis, level, sort, observed, mutated, validate, dropna)\u001B[0m\n\u001B[1;32m    860\u001B[0m                 \u001B[0min_axis\u001B[0m\u001B[0;34m,\u001B[0m \u001B[0mlevel\u001B[0m\u001B[0;34m,\u001B[0m \u001B[0mgpr\u001B[0m \u001B[0;34m=\u001B[0m \u001B[0;32mFalse\u001B[0m\u001B[0;34m,\u001B[0m \u001B[0mgpr\u001B[0m\u001B[0;34m,\u001B[0m \u001B[0;32mNone\u001B[0m\u001B[0;34m\u001B[0m\u001B[0;34m\u001B[0m\u001B[0m\n\u001B[1;32m    861\u001B[0m             \u001B[0;32melse\u001B[0m\u001B[0;34m:\u001B[0m\u001B[0;34m\u001B[0m\u001B[0;34m\u001B[0m\u001B[0m\n\u001B[0;32m--> 862\u001B[0;31m                 \u001B[0;32mraise\u001B[0m \u001B[0mKeyError\u001B[0m\u001B[0;34m(\u001B[0m\u001B[0mgpr\u001B[0m\u001B[0;34m)\u001B[0m\u001B[0;34m\u001B[0m\u001B[0;34m\u001B[0m\u001B[0m\n\u001B[0m\u001B[1;32m    863\u001B[0m         \u001B[0;32melif\u001B[0m \u001B[0misinstance\u001B[0m\u001B[0;34m(\u001B[0m\u001B[0mgpr\u001B[0m\u001B[0;34m,\u001B[0m \u001B[0mGrouper\u001B[0m\u001B[0;34m)\u001B[0m \u001B[0;32mand\u001B[0m \u001B[0mgpr\u001B[0m\u001B[0;34m.\u001B[0m\u001B[0mkey\u001B[0m \u001B[0;32mis\u001B[0m \u001B[0;32mnot\u001B[0m \u001B[0;32mNone\u001B[0m\u001B[0;34m:\u001B[0m\u001B[0;34m\u001B[0m\u001B[0;34m\u001B[0m\u001B[0m\n\u001B[1;32m    864\u001B[0m             \u001B[0;31m# Add key to exclusions\u001B[0m\u001B[0;34m\u001B[0m\u001B[0;34m\u001B[0m\u001B[0m\n",
      "\u001B[0;31mKeyError\u001B[0m: 'SiteName'"
     ]
    }
   ],
   "source": [
    "air_quality_df['Species'] = air_quality_df.groupby('SiteName')['Species'].transform(' '.join)"
   ]
  },
  {
   "cell_type": "code",
   "execution_count": null,
   "metadata": {
    "id": "Zm3_4OwzzwXW",
    "outputId": "ad3f679d-2140-43fb-c84c-9b1e9f336a32"
   },
   "outputs": [
    {
     "ename": "NameError",
     "evalue": "name 'air_quality_df' is not defined",
     "output_type": "error",
     "traceback": [
      "\u001B[0;31m---------------------------------------------------------------------------\u001B[0m",
      "\u001B[0;31mNameError\u001B[0m                                 Traceback (most recent call last)",
      "\u001B[0;32m/var/folders/fs/69yp8zfs375_m73wj1jhjw900000gn/T/ipykernel_3761/1441427636.py\u001B[0m in \u001B[0;36m<module>\u001B[0;34m\u001B[0m\n\u001B[0;32m----> 1\u001B[0;31m \u001B[0mair_quality_df\u001B[0m\u001B[0;34m\u001B[0m\u001B[0;34m\u001B[0m\u001B[0m\n\u001B[0m",
      "\u001B[0;31mNameError\u001B[0m: name 'air_quality_df' is not defined"
     ]
    }
   ],
   "source": [
    "air_quality_df"
   ]
  },
  {
   "cell_type": "code",
   "execution_count": null,
   "metadata": {
    "id": "KrZeFhzkzwXW",
    "outputId": "69c04821-6e3b-426a-82ea-a2e00b7b23c9"
   },
   "outputs": [
    {
     "ename": "KeyError",
     "evalue": "'SiteName'",
     "output_type": "error",
     "traceback": [
      "\u001B[0;31m---------------------------------------------------------------------------\u001B[0m",
      "\u001B[0;31mKeyError\u001B[0m                                  Traceback (most recent call last)",
      "\u001B[0;32m/var/folders/fs/69yp8zfs375_m73wj1jhjw900000gn/T/ipykernel_1065/1441243449.py\u001B[0m in \u001B[0;36m<module>\u001B[0;34m\u001B[0m\n\u001B[0;32m----> 1\u001B[0;31m \u001B[0mair_quality_df\u001B[0m \u001B[0;34m=\u001B[0m \u001B[0mair_quality_df\u001B[0m\u001B[0;34m.\u001B[0m\u001B[0mgroupby\u001B[0m\u001B[0;34m(\u001B[0m\u001B[0;34m'SiteName'\u001B[0m\u001B[0;34m)\u001B[0m\u001B[0;34m.\u001B[0m\u001B[0mfirst\u001B[0m\u001B[0;34m(\u001B[0m\u001B[0;34m)\u001B[0m\u001B[0;34m\u001B[0m\u001B[0;34m\u001B[0m\u001B[0m\n\u001B[0m",
      "\u001B[0;32m~/.conda/envs/Coursework/lib/python3.9/site-packages/pandas/core/frame.py\u001B[0m in \u001B[0;36mgroupby\u001B[0;34m(self, by, axis, level, as_index, sort, group_keys, squeeze, observed, dropna)\u001B[0m\n\u001B[1;32m   7629\u001B[0m         \u001B[0;31m# error: Argument \"squeeze\" to \"DataFrameGroupBy\" has incompatible type\u001B[0m\u001B[0;34m\u001B[0m\u001B[0;34m\u001B[0m\u001B[0m\n\u001B[1;32m   7630\u001B[0m         \u001B[0;31m# \"Union[bool, NoDefault]\"; expected \"bool\"\u001B[0m\u001B[0;34m\u001B[0m\u001B[0;34m\u001B[0m\u001B[0m\n\u001B[0;32m-> 7631\u001B[0;31m         return DataFrameGroupBy(\n\u001B[0m\u001B[1;32m   7632\u001B[0m             \u001B[0mobj\u001B[0m\u001B[0;34m=\u001B[0m\u001B[0mself\u001B[0m\u001B[0;34m,\u001B[0m\u001B[0;34m\u001B[0m\u001B[0;34m\u001B[0m\u001B[0m\n\u001B[1;32m   7633\u001B[0m             \u001B[0mkeys\u001B[0m\u001B[0;34m=\u001B[0m\u001B[0mby\u001B[0m\u001B[0;34m,\u001B[0m\u001B[0;34m\u001B[0m\u001B[0;34m\u001B[0m\u001B[0m\n",
      "\u001B[0;32m~/.conda/envs/Coursework/lib/python3.9/site-packages/pandas/core/groupby/groupby.py\u001B[0m in \u001B[0;36m__init__\u001B[0;34m(self, obj, keys, axis, level, grouper, exclusions, selection, as_index, sort, group_keys, squeeze, observed, mutated, dropna)\u001B[0m\n\u001B[1;32m    887\u001B[0m             \u001B[0;32mfrom\u001B[0m \u001B[0mpandas\u001B[0m\u001B[0;34m.\u001B[0m\u001B[0mcore\u001B[0m\u001B[0;34m.\u001B[0m\u001B[0mgroupby\u001B[0m\u001B[0;34m.\u001B[0m\u001B[0mgrouper\u001B[0m \u001B[0;32mimport\u001B[0m \u001B[0mget_grouper\u001B[0m\u001B[0;34m\u001B[0m\u001B[0;34m\u001B[0m\u001B[0m\n\u001B[1;32m    888\u001B[0m \u001B[0;34m\u001B[0m\u001B[0m\n\u001B[0;32m--> 889\u001B[0;31m             grouper, exclusions, obj = get_grouper(\n\u001B[0m\u001B[1;32m    890\u001B[0m                 \u001B[0mobj\u001B[0m\u001B[0;34m,\u001B[0m\u001B[0;34m\u001B[0m\u001B[0;34m\u001B[0m\u001B[0m\n\u001B[1;32m    891\u001B[0m                 \u001B[0mkeys\u001B[0m\u001B[0;34m,\u001B[0m\u001B[0;34m\u001B[0m\u001B[0;34m\u001B[0m\u001B[0m\n",
      "\u001B[0;32m~/.conda/envs/Coursework/lib/python3.9/site-packages/pandas/core/groupby/grouper.py\u001B[0m in \u001B[0;36mget_grouper\u001B[0;34m(obj, key, axis, level, sort, observed, mutated, validate, dropna)\u001B[0m\n\u001B[1;32m    860\u001B[0m                 \u001B[0min_axis\u001B[0m\u001B[0;34m,\u001B[0m \u001B[0mlevel\u001B[0m\u001B[0;34m,\u001B[0m \u001B[0mgpr\u001B[0m \u001B[0;34m=\u001B[0m \u001B[0;32mFalse\u001B[0m\u001B[0;34m,\u001B[0m \u001B[0mgpr\u001B[0m\u001B[0;34m,\u001B[0m \u001B[0;32mNone\u001B[0m\u001B[0;34m\u001B[0m\u001B[0;34m\u001B[0m\u001B[0m\n\u001B[1;32m    861\u001B[0m             \u001B[0;32melse\u001B[0m\u001B[0;34m:\u001B[0m\u001B[0;34m\u001B[0m\u001B[0;34m\u001B[0m\u001B[0m\n\u001B[0;32m--> 862\u001B[0;31m                 \u001B[0;32mraise\u001B[0m \u001B[0mKeyError\u001B[0m\u001B[0;34m(\u001B[0m\u001B[0mgpr\u001B[0m\u001B[0;34m)\u001B[0m\u001B[0;34m\u001B[0m\u001B[0;34m\u001B[0m\u001B[0m\n\u001B[0m\u001B[1;32m    863\u001B[0m         \u001B[0;32melif\u001B[0m \u001B[0misinstance\u001B[0m\u001B[0;34m(\u001B[0m\u001B[0mgpr\u001B[0m\u001B[0;34m,\u001B[0m \u001B[0mGrouper\u001B[0m\u001B[0;34m)\u001B[0m \u001B[0;32mand\u001B[0m \u001B[0mgpr\u001B[0m\u001B[0;34m.\u001B[0m\u001B[0mkey\u001B[0m \u001B[0;32mis\u001B[0m \u001B[0;32mnot\u001B[0m \u001B[0;32mNone\u001B[0m\u001B[0;34m:\u001B[0m\u001B[0;34m\u001B[0m\u001B[0;34m\u001B[0m\u001B[0m\n\u001B[1;32m    864\u001B[0m             \u001B[0;31m# Add key to exclusions\u001B[0m\u001B[0;34m\u001B[0m\u001B[0;34m\u001B[0m\u001B[0m\n",
      "\u001B[0;31mKeyError\u001B[0m: 'SiteName'"
     ]
    }
   ],
   "source": [
    "air_quality_df = air_quality_df.groupby('SiteName').first()"
   ]
  },
  {
   "cell_type": "code",
   "execution_count": null,
   "metadata": {
    "id": "zGcrWib-zwXW",
    "outputId": "a0768fcb-de88-456d-84d1-ed3933dd07a9"
   },
   "outputs": [
    {
     "ename": "NameError",
     "evalue": "name 'air_quality_df' is not defined",
     "output_type": "error",
     "traceback": [
      "\u001B[0;31m---------------------------------------------------------------------------\u001B[0m",
      "\u001B[0;31mNameError\u001B[0m                                 Traceback (most recent call last)",
      "\u001B[0;32m/var/folders/fs/69yp8zfs375_m73wj1jhjw900000gn/T/ipykernel_3761/3076758801.py\u001B[0m in \u001B[0;36m<module>\u001B[0;34m\u001B[0m\n\u001B[0;32m----> 1\u001B[0;31m air_quality = gpd.GeoDataFrame(air_quality_df, crs=\"EPSG:4326\", \n\u001B[0m\u001B[1;32m      2\u001B[0m                               geometry=gpd.points_from_xy(air_quality_df['Longitude'], air_quality_df['Latitude']))\n",
      "\u001B[0;31mNameError\u001B[0m: name 'air_quality_df' is not defined"
     ]
    }
   ],
   "source": [
    "air_quality = gpd.GeoDataFrame(air_quality_df, crs=\"EPSG:4326\", \n",
    "                              geometry=gpd.points_from_xy(air_quality_df['Longitude'], air_quality_df['Latitude']))"
   ]
  },
  {
   "cell_type": "code",
   "execution_count": null,
   "metadata": {
    "id": "PoPelOHhzwXW",
    "outputId": "9601c5b9-2724-4835-ee14-7f28d396ff9e"
   },
   "outputs": [
    {
     "data": {
      "text/plain": [
       "\"{'SpeciesCode': 'NO2', 'SpeciesDescription': 'Nitrogen Dioxide', 'AirQualityIndex': '1', 'AirQualityBand': 'Low'} {'SpeciesCode': 'PM25', 'SpeciesDescription': 'PM2.5 Particulate', 'AirQualityIndex': '1', 'AirQualityBand': 'Low'}\""
      ]
     },
     "execution_count": 102,
     "metadata": {},
     "output_type": "execute_result"
    }
   ],
   "source": [
    "air_quality.tail()['Species'][0]"
   ]
  },
  {
   "cell_type": "code",
   "execution_count": null,
   "metadata": {
    "id": "IITH8XG3zwXW",
    "outputId": "17de561f-8dc0-4f40-a36f-9191493f4f8e"
   },
   "outputs": [
    {
     "ename": "NameError",
     "evalue": "name 'air_quality' is not defined",
     "output_type": "error",
     "traceback": [
      "\u001B[0;31m---------------------------------------------------------------------------\u001B[0m",
      "\u001B[0;31mNameError\u001B[0m                                 Traceback (most recent call last)",
      "\u001B[0;32m/var/folders/fs/69yp8zfs375_m73wj1jhjw900000gn/T/ipykernel_3761/1067166662.py\u001B[0m in \u001B[0;36m<module>\u001B[0;34m\u001B[0m\n\u001B[0;32m----> 1\u001B[0;31m \u001B[0mair_quality_map\u001B[0m \u001B[0;34m=\u001B[0m \u001B[0mKeplerGl\u001B[0m\u001B[0;34m(\u001B[0m\u001B[0mdata\u001B[0m\u001B[0;34m=\u001B[0m\u001B[0;34m{\u001B[0m\u001B[0;34m'air_quality'\u001B[0m\u001B[0;34m:\u001B[0m \u001B[0mair_quality\u001B[0m\u001B[0;34m}\u001B[0m\u001B[0;34m)\u001B[0m\u001B[0;34m\u001B[0m\u001B[0;34m\u001B[0m\u001B[0m\n\u001B[0m\u001B[1;32m      2\u001B[0m \u001B[0mair_quality_map\u001B[0m\u001B[0;34m\u001B[0m\u001B[0;34m\u001B[0m\u001B[0m\n",
      "\u001B[0;31mNameError\u001B[0m: name 'air_quality' is not defined"
     ]
    }
   ],
   "source": [
    "air_quality_map = KeplerGl(data={'air_quality': air_quality})\n",
    "air_quality_map"
   ]
  },
  {
   "cell_type": "markdown",
   "metadata": {
    "id": "o9sqA_Ks-IsX"
   },
   "source": [
    "# Map"
   ]
  }
 ],
 "metadata": {
  "colab": {
   "collapsed_sections": [
    "btixZKzR6IFc",
    "FgRmKN2_6Hpd"
   ],
   "name": "Comp_Sci_Coursework.ipynb",
   "provenance": []
  },
  "kernelspec": {
   "display_name": "Python 3 (ipykernel)",
   "language": "python",
   "name": "python3"
  },
  "language_info": {
   "codemirror_mode": {
    "name": "ipython",
    "version": 3
   },
   "file_extension": ".py",
   "mimetype": "text/x-python",
   "name": "python",
   "nbconvert_exporter": "python",
   "pygments_lexer": "ipython3",
   "version": "3.9.7"
  }
 },
 "nbformat": 4,
 "nbformat_minor": 1
}