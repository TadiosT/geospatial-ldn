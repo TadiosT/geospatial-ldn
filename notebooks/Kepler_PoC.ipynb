{
 "cells": [
  {
   "cell_type": "code",
   "execution_count": 1,
   "metadata": {
    "pycharm": {
     "is_executing": false
    }
   },
   "outputs": [],
   "source": [
    "import httpx\n",
    "import geopandas as gp\n",
    "from shapely.geometry import Point\n",
    "import pandas as pd"
   ]
  },
  {
   "cell_type": "markdown",
   "metadata": {},
   "source": [
    "## Stations"
   ]
  },
  {
   "cell_type": "code",
   "execution_count": 2,
   "metadata": {
    "pycharm": {
     "is_executing": false
    }
   },
   "outputs": [],
   "source": [
    "mode_meta_query = httpx.get(\"https://api.tfl.gov.uk/Line/Meta/Modes\")"
   ]
  },
  {
   "cell_type": "code",
   "execution_count": 3,
   "metadata": {
    "pycharm": {
     "is_executing": false
    },
    "scrolled": true
   },
   "outputs": [],
   "source": [
    "modes = [mode['modeName'] for mode in mode_meta_query.json() if mode['isScheduledService']]\n",
    "modes.remove('bus')\n",
    "modes.remove('coach')"
   ]
  },
  {
   "cell_type": "code",
   "execution_count": 4,
   "metadata": {
    "pycharm": {
     "is_executing": false
    }
   },
   "outputs": [],
   "source": [
    "stops = []\n",
    "for mode in modes:\n",
    "    mode_status_query = httpx.get(f'https://api.tfl.gov.uk/line/mode/{mode}/status')\n",
    "    lines = {line['id']: line['name'] for line in mode_status_query.json() if line['modeName']==mode}\n",
    "    for line_id, line_name in lines.items():\n",
    "        lines_info = httpx.get(f'https://api.tfl.gov.uk/line/{line_id}/stoppoints')\n",
    "        result = []\n",
    "        for line_info in lines_info.json():  \n",
    "            try:\n",
    "                result_ = dict(Name=line_info['commonName'], mode=mode, line=line_name, geometry=Point(line_info['lon'], line_info['lat'])) \n",
    "            except:\n",
    "                a = lines_info.json()    \n",
    "            result.append(result_)\n",
    "        stops.extend(result)    "
   ]
  },
  {
   "cell_type": "code",
   "execution_count": 8,
   "metadata": {},
   "outputs": [
    {
     "data": {
      "text/plain": [
       "{'statusCode': 429,\n",
       " 'message': 'Rate limit is exceeded. Try again in 48 seconds.'}"
      ]
     },
     "execution_count": 8,
     "metadata": {},
     "output_type": "execute_result"
    }
   ],
   "source": [
    "a"
   ]
  },
  {
   "cell_type": "code",
   "execution_count": 6,
   "metadata": {
    "pycharm": {
     "is_executing": false
    }
   },
   "outputs": [],
   "source": [
    "stations = gp.GeoDataFrame(stops, crs=\"EPSG:4326\", geometry='geometry')\n",
    "stations['line'] = stations.groupby('Name')['line'].transform(', '.join)\n",
    "stations = stations.drop_duplicates()"
   ]
  },
  {
   "cell_type": "code",
   "execution_count": 7,
   "metadata": {},
   "outputs": [
    {
     "data": {
      "text/html": [
       "<div>\n",
       "<style scoped>\n",
       "    .dataframe tbody tr th:only-of-type {\n",
       "        vertical-align: middle;\n",
       "    }\n",
       "\n",
       "    .dataframe tbody tr th {\n",
       "        vertical-align: top;\n",
       "    }\n",
       "\n",
       "    .dataframe thead th {\n",
       "        text-align: right;\n",
       "    }\n",
       "</style>\n",
       "<table border=\"1\" class=\"dataframe\">\n",
       "  <thead>\n",
       "    <tr style=\"text-align: right;\">\n",
       "      <th></th>\n",
       "      <th>Name</th>\n",
       "      <th>mode</th>\n",
       "      <th>line</th>\n",
       "      <th>geometry</th>\n",
       "    </tr>\n",
       "  </thead>\n",
       "  <tbody>\n",
       "    <tr>\n",
       "      <th>0</th>\n",
       "      <td>Emirates Greenwich Peninsula</td>\n",
       "      <td>cable-car</td>\n",
       "      <td>Emirates Air Line</td>\n",
       "      <td>POINT (0.00834 51.49957)</td>\n",
       "    </tr>\n",
       "    <tr>\n",
       "      <th>1</th>\n",
       "      <td>Emirates Royal Docks</td>\n",
       "      <td>cable-car</td>\n",
       "      <td>Emirates Air Line</td>\n",
       "      <td>POINT (0.01765 51.50773)</td>\n",
       "    </tr>\n",
       "    <tr>\n",
       "      <th>2</th>\n",
       "      <td>Abbey Road DLR Station</td>\n",
       "      <td>dlr</td>\n",
       "      <td>DLR</td>\n",
       "      <td>POINT (0.00374 51.53193)</td>\n",
       "    </tr>\n",
       "    <tr>\n",
       "      <th>3</th>\n",
       "      <td>All Saints DLR Station</td>\n",
       "      <td>dlr</td>\n",
       "      <td>DLR</td>\n",
       "      <td>POINT (-0.01314 51.51100)</td>\n",
       "    </tr>\n",
       "    <tr>\n",
       "      <th>4</th>\n",
       "      <td>Beckton DLR Station</td>\n",
       "      <td>dlr</td>\n",
       "      <td>DLR</td>\n",
       "      <td>POINT (0.06145 51.51436)</td>\n",
       "    </tr>\n",
       "    <tr>\n",
       "      <th>...</th>\n",
       "      <td>...</td>\n",
       "      <td>...</td>\n",
       "      <td>...</td>\n",
       "      <td>...</td>\n",
       "    </tr>\n",
       "    <tr>\n",
       "      <th>3766</th>\n",
       "      <td>Tower Hill Underground Station</td>\n",
       "      <td>tube</td>\n",
       "      <td>Circle</td>\n",
       "      <td>POINT (-0.07655 51.50997)</td>\n",
       "    </tr>\n",
       "    <tr>\n",
       "      <th>3767</th>\n",
       "      <td>Victoria Underground Station</td>\n",
       "      <td>tube</td>\n",
       "      <td>Circle</td>\n",
       "      <td>POINT (-0.14310 51.49636)</td>\n",
       "    </tr>\n",
       "    <tr>\n",
       "      <th>3768</th>\n",
       "      <td>Wood Lane Underground Station</td>\n",
       "      <td>tube</td>\n",
       "      <td>Circle</td>\n",
       "      <td>POINT (-0.22453 51.50967)</td>\n",
       "    </tr>\n",
       "    <tr>\n",
       "      <th>3769</th>\n",
       "      <td>Westminster Underground Station</td>\n",
       "      <td>tube</td>\n",
       "      <td>Circle</td>\n",
       "      <td>POINT (-0.12486 51.50132)</td>\n",
       "    </tr>\n",
       "    <tr>\n",
       "      <th>3770</th>\n",
       "      <td>Westbourne Park Underground Station</td>\n",
       "      <td>tube</td>\n",
       "      <td>Circle, Circle, Circle, Circle, Circle, Circle...</td>\n",
       "      <td>POINT (-0.20106 51.52111)</td>\n",
       "    </tr>\n",
       "  </tbody>\n",
       "</table>\n",
       "<p>2851 rows × 4 columns</p>\n",
       "</div>"
      ],
      "text/plain": [
       "                                     Name       mode  \\\n",
       "0            Emirates Greenwich Peninsula  cable-car   \n",
       "1                    Emirates Royal Docks  cable-car   \n",
       "2                  Abbey Road DLR Station        dlr   \n",
       "3                  All Saints DLR Station        dlr   \n",
       "4                     Beckton DLR Station        dlr   \n",
       "...                                   ...        ...   \n",
       "3766       Tower Hill Underground Station       tube   \n",
       "3767         Victoria Underground Station       tube   \n",
       "3768        Wood Lane Underground Station       tube   \n",
       "3769      Westminster Underground Station       tube   \n",
       "3770  Westbourne Park Underground Station       tube   \n",
       "\n",
       "                                                   line  \\\n",
       "0                                     Emirates Air Line   \n",
       "1                                     Emirates Air Line   \n",
       "2                                                   DLR   \n",
       "3                                                   DLR   \n",
       "4                                                   DLR   \n",
       "...                                                 ...   \n",
       "3766                                             Circle   \n",
       "3767                                             Circle   \n",
       "3768                                             Circle   \n",
       "3769                                             Circle   \n",
       "3770  Circle, Circle, Circle, Circle, Circle, Circle...   \n",
       "\n",
       "                       geometry  \n",
       "0      POINT (0.00834 51.49957)  \n",
       "1      POINT (0.01765 51.50773)  \n",
       "2      POINT (0.00374 51.53193)  \n",
       "3     POINT (-0.01314 51.51100)  \n",
       "4      POINT (0.06145 51.51436)  \n",
       "...                         ...  \n",
       "3766  POINT (-0.07655 51.50997)  \n",
       "3767  POINT (-0.14310 51.49636)  \n",
       "3768  POINT (-0.22453 51.50967)  \n",
       "3769  POINT (-0.12486 51.50132)  \n",
       "3770  POINT (-0.20106 51.52111)  \n",
       "\n",
       "[2851 rows x 4 columns]"
      ]
     },
     "execution_count": 7,
     "metadata": {},
     "output_type": "execute_result"
    }
   ],
   "source": [
    "stations"
   ]
  },
  {
   "cell_type": "markdown",
   "metadata": {},
   "source": [
    "## Air Quality"
   ]
  },
  {
   "cell_type": "code",
   "execution_count": 24,
   "metadata": {
    "scrolled": false
   },
   "outputs": [],
   "source": [
    "latest_london_air_quality = httpx.get(\"https://api.erg.ic.ac.uk/AirQuality/Daily/MonitoringIndex/Latest/GroupName=London/Json\", timeout=30)"
   ]
  },
  {
   "cell_type": "code",
   "execution_count": 25,
   "metadata": {},
   "outputs": [],
   "source": [
    "local_authority_air_quality = latest_london_air_quality.json()['DailyAirQualityIndex']['LocalAuthority']"
   ]
  },
  {
   "cell_type": "code",
   "execution_count": 26,
   "metadata": {},
   "outputs": [],
   "source": [
    "def parse_data_from_sites(result: dict, site: dict, species, local_authority: dict):\n",
    "    site_name = f\"{site['@SiteCode']}{species['@SpeciesCode']}\"\n",
    "    result[site_name] = dict(\n",
    "        SiteName=site['@SiteName'],\n",
    "        LocalAuthorityName=local_authority['@LocalAuthorityName'],\n",
    "        Latitude=site['@Latitude'],\n",
    "        Longitude=site['@Longitude'],\n",
    "        Species=str(dict(SpeciesCode=species['@SpeciesCode'],\n",
    "        SpeciesDescription=species['@SpeciesDescription'],\n",
    "        AirQualityIndex=species['@AirQualityIndex'],\n",
    "        AirQualityBand=species['@AirQualityBand']))\n",
    "    )\n",
    "    return result"
   ]
  },
  {
   "cell_type": "code",
   "execution_count": 27,
   "metadata": {},
   "outputs": [],
   "source": [
    "def parse_data_from_site(result, site, local_authority):\n",
    "    species = site['Species']\n",
    "    if isinstance(species, list):\n",
    "        for single_species in species:\n",
    "            result = parse_data_from_sites(result, site, single_species, local_authority)\n",
    "    elif isinstance(species, dict):\n",
    "        result = parse_data_from_sites(result, site, species, local_authority)\n",
    "    return result"
   ]
  },
  {
   "cell_type": "code",
   "execution_count": 28,
   "metadata": {},
   "outputs": [],
   "source": [
    "result_dict = dict()\n",
    "\n",
    "for local_authority_data in local_authority_air_quality:\n",
    "    if 'Site' in local_authority_data:\n",
    "        sites_data = local_authority_data['Site']\n",
    "        if isinstance(sites_data, list):\n",
    "            for site_data in sites_data:\n",
    "                parse_data_from_site(result_dict, site_data, local_authority_data)\n",
    "        elif isinstance(sites_data, dict):\n",
    "                parse_data_from_site(result_dict, sites_data, local_authority_data)"
   ]
  },
  {
   "cell_type": "code",
   "execution_count": 29,
   "metadata": {},
   "outputs": [],
   "source": [
    "air_quality_df = pd.DataFrame.from_dict(result_dict).T"
   ]
  },
  {
   "cell_type": "code",
   "execution_count": 30,
   "metadata": {},
   "outputs": [],
   "source": [
    "air_quality_df['Species'] = air_quality_df.groupby('SiteName')['Species'].transform(' '.join)\n"
   ]
  },
  {
   "cell_type": "code",
   "execution_count": 31,
   "metadata": {},
   "outputs": [
    {
     "data": {
      "text/html": [
       "<div>\n",
       "<style scoped>\n",
       "    .dataframe tbody tr th:only-of-type {\n",
       "        vertical-align: middle;\n",
       "    }\n",
       "\n",
       "    .dataframe tbody tr th {\n",
       "        vertical-align: top;\n",
       "    }\n",
       "\n",
       "    .dataframe thead th {\n",
       "        text-align: right;\n",
       "    }\n",
       "</style>\n",
       "<table border=\"1\" class=\"dataframe\">\n",
       "  <thead>\n",
       "    <tr style=\"text-align: right;\">\n",
       "      <th></th>\n",
       "      <th>SiteName</th>\n",
       "      <th>LocalAuthorityName</th>\n",
       "      <th>Latitude</th>\n",
       "      <th>Longitude</th>\n",
       "      <th>Species</th>\n",
       "    </tr>\n",
       "  </thead>\n",
       "  <tbody>\n",
       "    <tr>\n",
       "      <th>BG1NO2</th>\n",
       "      <td>Barking and Dagenham - Rush Green</td>\n",
       "      <td>Barking and Dagenham</td>\n",
       "      <td>51.563752</td>\n",
       "      <td>0.177891</td>\n",
       "      <td>{'SpeciesCode': 'NO2', 'SpeciesDescription': '...</td>\n",
       "    </tr>\n",
       "    <tr>\n",
       "      <th>BG1SO2</th>\n",
       "      <td>Barking and Dagenham - Rush Green</td>\n",
       "      <td>Barking and Dagenham</td>\n",
       "      <td>51.563752</td>\n",
       "      <td>0.177891</td>\n",
       "      <td>{'SpeciesCode': 'NO2', 'SpeciesDescription': '...</td>\n",
       "    </tr>\n",
       "    <tr>\n",
       "      <th>BQ7NO2</th>\n",
       "      <td>Bexley - Belvedere West</td>\n",
       "      <td>Bexley</td>\n",
       "      <td>51.4946486813055</td>\n",
       "      <td>0.137279111232178</td>\n",
       "      <td>{'SpeciesCode': 'NO2', 'SpeciesDescription': '...</td>\n",
       "    </tr>\n",
       "    <tr>\n",
       "      <th>BQ7O3</th>\n",
       "      <td>Bexley - Belvedere West</td>\n",
       "      <td>Bexley</td>\n",
       "      <td>51.4946486813055</td>\n",
       "      <td>0.137279111232178</td>\n",
       "      <td>{'SpeciesCode': 'NO2', 'SpeciesDescription': '...</td>\n",
       "    </tr>\n",
       "    <tr>\n",
       "      <th>BQ7PM10</th>\n",
       "      <td>Bexley - Belvedere West</td>\n",
       "      <td>Bexley</td>\n",
       "      <td>51.4946486813055</td>\n",
       "      <td>0.137279111232178</td>\n",
       "      <td>{'SpeciesCode': 'NO2', 'SpeciesDescription': '...</td>\n",
       "    </tr>\n",
       "    <tr>\n",
       "      <th>...</th>\n",
       "      <td>...</td>\n",
       "      <td>...</td>\n",
       "      <td>...</td>\n",
       "      <td>...</td>\n",
       "      <td>...</td>\n",
       "    </tr>\n",
       "    <tr>\n",
       "      <th>WM6PM10</th>\n",
       "      <td>Westminster - Oxford Street</td>\n",
       "      <td>Westminster</td>\n",
       "      <td>51.5139287404213</td>\n",
       "      <td>-0.152792701881935</td>\n",
       "      <td>{'SpeciesCode': 'NO2', 'SpeciesDescription': '...</td>\n",
       "    </tr>\n",
       "    <tr>\n",
       "      <th>WMBNO2</th>\n",
       "      <td>Westminster - Oxford Street East</td>\n",
       "      <td>Westminster</td>\n",
       "      <td>51.516066</td>\n",
       "      <td>-0.13516388</td>\n",
       "      <td>{'SpeciesCode': 'NO2', 'SpeciesDescription': '...</td>\n",
       "    </tr>\n",
       "    <tr>\n",
       "      <th>WMBPM10</th>\n",
       "      <td>Westminster - Oxford Street East</td>\n",
       "      <td>Westminster</td>\n",
       "      <td>51.516066</td>\n",
       "      <td>-0.13516388</td>\n",
       "      <td>{'SpeciesCode': 'NO2', 'SpeciesDescription': '...</td>\n",
       "    </tr>\n",
       "    <tr>\n",
       "      <th>WMCNO2</th>\n",
       "      <td>Westminster - Cavendish Square</td>\n",
       "      <td>Westminster</td>\n",
       "      <td>51.5168016452062</td>\n",
       "      <td>-0.145657269364411</td>\n",
       "      <td>{'SpeciesCode': 'NO2', 'SpeciesDescription': '...</td>\n",
       "    </tr>\n",
       "    <tr>\n",
       "      <th>WMCPM10</th>\n",
       "      <td>Westminster - Cavendish Square</td>\n",
       "      <td>Westminster</td>\n",
       "      <td>51.5168016452062</td>\n",
       "      <td>-0.145657269364411</td>\n",
       "      <td>{'SpeciesCode': 'NO2', 'SpeciesDescription': '...</td>\n",
       "    </tr>\n",
       "  </tbody>\n",
       "</table>\n",
       "<p>193 rows × 5 columns</p>\n",
       "</div>"
      ],
      "text/plain": [
       "                                  SiteName    LocalAuthorityName  \\\n",
       "BG1NO2   Barking and Dagenham - Rush Green  Barking and Dagenham   \n",
       "BG1SO2   Barking and Dagenham - Rush Green  Barking and Dagenham   \n",
       "BQ7NO2             Bexley - Belvedere West                Bexley   \n",
       "BQ7O3              Bexley - Belvedere West                Bexley   \n",
       "BQ7PM10            Bexley - Belvedere West                Bexley   \n",
       "...                                    ...                   ...   \n",
       "WM6PM10        Westminster - Oxford Street           Westminster   \n",
       "WMBNO2    Westminster - Oxford Street East           Westminster   \n",
       "WMBPM10   Westminster - Oxford Street East           Westminster   \n",
       "WMCNO2      Westminster - Cavendish Square           Westminster   \n",
       "WMCPM10     Westminster - Cavendish Square           Westminster   \n",
       "\n",
       "                 Latitude           Longitude  \\\n",
       "BG1NO2          51.563752            0.177891   \n",
       "BG1SO2          51.563752            0.177891   \n",
       "BQ7NO2   51.4946486813055   0.137279111232178   \n",
       "BQ7O3    51.4946486813055   0.137279111232178   \n",
       "BQ7PM10  51.4946486813055   0.137279111232178   \n",
       "...                   ...                 ...   \n",
       "WM6PM10  51.5139287404213  -0.152792701881935   \n",
       "WMBNO2          51.516066         -0.13516388   \n",
       "WMBPM10         51.516066         -0.13516388   \n",
       "WMCNO2   51.5168016452062  -0.145657269364411   \n",
       "WMCPM10  51.5168016452062  -0.145657269364411   \n",
       "\n",
       "                                                   Species  \n",
       "BG1NO2   {'SpeciesCode': 'NO2', 'SpeciesDescription': '...  \n",
       "BG1SO2   {'SpeciesCode': 'NO2', 'SpeciesDescription': '...  \n",
       "BQ7NO2   {'SpeciesCode': 'NO2', 'SpeciesDescription': '...  \n",
       "BQ7O3    {'SpeciesCode': 'NO2', 'SpeciesDescription': '...  \n",
       "BQ7PM10  {'SpeciesCode': 'NO2', 'SpeciesDescription': '...  \n",
       "...                                                    ...  \n",
       "WM6PM10  {'SpeciesCode': 'NO2', 'SpeciesDescription': '...  \n",
       "WMBNO2   {'SpeciesCode': 'NO2', 'SpeciesDescription': '...  \n",
       "WMBPM10  {'SpeciesCode': 'NO2', 'SpeciesDescription': '...  \n",
       "WMCNO2   {'SpeciesCode': 'NO2', 'SpeciesDescription': '...  \n",
       "WMCPM10  {'SpeciesCode': 'NO2', 'SpeciesDescription': '...  \n",
       "\n",
       "[193 rows x 5 columns]"
      ]
     },
     "execution_count": 31,
     "metadata": {},
     "output_type": "execute_result"
    }
   ],
   "source": [
    "air_quality_df"
   ]
  },
  {
   "cell_type": "code",
   "execution_count": 32,
   "metadata": {},
   "outputs": [],
   "source": [
    "air_quality_df = air_quality_df.groupby('SiteName').first()"
   ]
  },
  {
   "cell_type": "code",
   "execution_count": 33,
   "metadata": {},
   "outputs": [],
   "source": [
    "air_quality = gp.GeoDataFrame(air_quality_df, crs=\"EPSG:4326\", \n",
    "                              geometry=gp.points_from_xy(air_quality_df['Longitude'], air_quality_df['Latitude']))"
   ]
  },
  {
   "cell_type": "code",
   "execution_count": 34,
   "metadata": {},
   "outputs": [
    {
     "data": {
      "text/plain": [
       "\"{'SpeciesCode': 'NO2', 'SpeciesDescription': 'Nitrogen Dioxide', 'AirQualityIndex': '1', 'AirQualityBand': 'Low'}\""
      ]
     },
     "execution_count": 34,
     "metadata": {},
     "output_type": "execute_result"
    }
   ],
   "source": [
    "air_quality.tail()['Species'][0]"
   ]
  },
  {
   "cell_type": "markdown",
   "metadata": {},
   "source": [
    "## Map"
   ]
  },
  {
   "cell_type": "code",
   "execution_count": 35,
   "metadata": {
    "pycharm": {
     "is_executing": false
    }
   },
   "outputs": [
    {
     "name": "stdout",
     "output_type": "stream",
     "text": [
      "User Guide: https://docs.kepler.gl/docs/keplergl-jupyter\n"
     ]
    }
   ],
   "source": [
    "from keplergl import KeplerGl\n",
    "kepler_map = KeplerGl()"
   ]
  },
  {
   "cell_type": "code",
   "execution_count": 36,
   "metadata": {
    "pycharm": {
     "is_executing": false
    },
    "scrolled": true
   },
   "outputs": [],
   "source": [
    "kepler_map.add_data(data=stations, name='TfL Stations')"
   ]
  },
  {
   "cell_type": "code",
   "execution_count": 37,
   "metadata": {},
   "outputs": [],
   "source": [
    "kepler_map.add_data(data=air_quality, name='Air Quality')"
   ]
  },
  {
   "cell_type": "code",
   "execution_count": 38,
   "metadata": {
    "pycharm": {
     "is_executing": false
    }
   },
   "outputs": [],
   "source": [
    "config = {\n",
    "    'version': 'v1',\n",
    "    'config': {\n",
    "        'mapState': {\n",
    "            'latitude': 51.5064,\n",
    "            'longitude': -0.1,\n",
    "            'zoom': 9.32053899007826\n",
    "        }\n",
    "    }\n",
    "}"
   ]
  },
  {
   "cell_type": "code",
   "execution_count": 39,
   "metadata": {
    "pycharm": {
     "is_executing": false
    }
   },
   "outputs": [],
   "source": [
    "kepler_map.config = config"
   ]
  },
  {
   "cell_type": "code",
   "execution_count": 40,
   "metadata": {
    "pycharm": {
     "is_executing": false
    }
   },
   "outputs": [
    {
     "data": {
      "application/vnd.jupyter.widget-view+json": {
       "model_id": "4b6595c13b794388b0025b0bd07b57b6",
       "version_major": 2,
       "version_minor": 0
      },
      "text/plain": [
       "KeplerGl(config={'version': 'v1', 'config': {'mapState': {'latitude': 51.5064, 'longitude': -0.1, 'zoom': 9.32…"
      ]
     },
     "metadata": {},
     "output_type": "display_data"
    }
   ],
   "source": [
    "kepler_map"
   ]
  },
  {
   "cell_type": "code",
   "execution_count": null,
   "metadata": {
    "pycharm": {
     "is_executing": false
    }
   },
   "outputs": [],
   "source": []
  },
  {
   "cell_type": "code",
   "execution_count": null,
   "metadata": {
    "pycharm": {
     "is_executing": false
    }
   },
   "outputs": [],
   "source": []
  }
 ],
 "metadata": {
  "interpreter": {
   "hash": "3d597f4c481aa0f25dceb95d2a0067e73c0966dcbd003d741d821a7208527ecf"
  },
  "kernelspec": {
   "display_name": "Python 3 (ipykernel)",
   "language": "python",
   "name": "python3"
  },
  "language_info": {
   "codemirror_mode": {
    "name": "ipython",
    "version": 3
   },
   "file_extension": ".py",
   "mimetype": "text/x-python",
   "name": "python",
   "nbconvert_exporter": "python",
   "pygments_lexer": "ipython3",
   "version": "3.9.7"
  },
  "pycharm": {
   "stem_cell": {
    "cell_type": "raw",
    "metadata": {
     "collapsed": false
    },
    "source": []
   }
  }
 },
 "nbformat": 4,
 "nbformat_minor": 1
}
